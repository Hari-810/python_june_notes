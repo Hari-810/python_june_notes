{
 "cells": [
  {
   "cell_type": "markdown",
   "metadata": {},
   "source": [
    "# Threading"
   ]
  },
  {
   "cell_type": "markdown",
   "metadata": {},
   "source": [
    "\n",
    "A thread is an entity within a process that can be scheduled for execution. Also, it is the smallest unit of processing that can be performed in an OS (Operating System).\n",
    "\n",
    "Threads are used in cases where the execution of a task involves some waiting (such as reading from a file or making network requests) or performing tasks in parallel to utilize multiple CPU cores)"
   ]
  },
  {
   "cell_type": "markdown",
   "metadata": {},
   "source": [
    "### Thread Life Cycle in Python\n",
    "\n",
    "1. **New**: \n",
    "    - The thread is in this state when it's first created but hasn't started yet.\n",
    "    - You create a thread object using the `Thread` class constructor, providing the target function/method that the thread will execute.\n",
    "\n",
    "2. **Runnable/Ready**:\n",
    "    - After creating a thread object and calling its `start()` method, the thread becomes runnable.\n",
    "    - The thread scheduler selects the thread to run, and it enters the running state whenever the CPU becomes available.\n",
    "\n",
    "3. **Running**:\n",
    "    - The thread is actively executing its task.\n",
    "    - In Python, this typically means that the thread is executing the code inside its `run()` method.\n",
    "\n",
    "4. **Blocked/Waiting**:\n",
    "    - The thread can transition to a blocked/waiting state when it needs to wait for some event or resource.\n",
    "    - Common reasons for a thread to block include I/O operations (e.g., reading from a file, waiting for user input) or synchronization primitives (e.g., acquiring a lock).\n",
    "\n",
    "5. **Terminated**:\n",
    "    - The thread completes its task or encounters an error and exits.\n",
    "    - When a thread finishes execution, it enters the terminated state and cannot be started again.\n"
   ]
  },
  {
   "cell_type": "code",
   "execution_count": 2,
   "metadata": {},
   "outputs": [
    {
     "name": "stdout",
     "output_type": "stream",
     "text": [
      "Current executing Thread:  <_MainThread(MainThread, started 5536)>\n",
      "Name of the Thread  MainThread\n",
      "Identification Number:  5536\n"
     ]
    }
   ],
   "source": [
    "import threading\n",
    "\n",
    "print('Current executing Thread: ', threading.current_thread())\n",
    "\n",
    "print('Name of the Thread ', threading.current_thread().getName())\n",
    "\n",
    "print('Identification Number: ', threading.current_thread().ident)\n",
    "\n",
    "# current_thread() returns the current thread object\n",
    "# We can see the name of current thread object using getName() method"
   ]
  },
  {
   "cell_type": "code",
   "execution_count": 3,
   "metadata": {},
   "outputs": [
    {
     "name": "stdout",
     "output_type": "stream",
     "text": [
      "Current executing Thread:  MainThread\n",
      "Current executing Thread:  my_new_thread\n"
     ]
    }
   ],
   "source": [
    "from threading import *\n",
    "\n",
    "print('Current executing Thread: ', current_thread().getName())\n",
    "\n",
    "current_thread().setName('my_new_thread')\n",
    "\n",
    "print('Current executing Thread: ', current_thread().getName())\n"
   ]
  },
  {
   "cell_type": "markdown",
   "metadata": {},
   "source": [
    "<b>Threading elements </b>\n",
    "\n",
    "1. **Thread**: \n",
    "   - The `Thread` class is the primary interface for creating and managing threads in Python. You create a new thread by instantiating this class and providing a target function/method to execute.\n",
    "\n",
    "2. **start()**: \n",
    "   - The `start()` method of the `Thread` class is used to start the execution of a thread. After calling this method, the thread enters the runnable/ready state, and its `run()` method will be executed concurrently.\n",
    "\n",
    "3. **run()**: \n",
    "   - The `run()` method of the `Thread` class defines the behavior of the thread. You override this method in a subclass to define the code that the thread will execute.\n",
    "\n",
    "4. **join()**: \n",
    "   - The `join()` method of the `Thread` class is used to wait for a thread to complete its execution. Calling `join()` on a thread will block the calling thread until the target thread finishes execution.\n"
   ]
  },
  {
   "cell_type": "markdown",
   "metadata": {},
   "source": [
    "#  Inherit from the Thread class"
   ]
  },
  {
   "cell_type": "code",
   "execution_count": 1,
   "metadata": {},
   "outputs": [
    {
     "name": "stdout",
     "output_type": "stream",
     "text": [
      "Hello\n",
      "Hello\n",
      "Hello\n",
      "Hello\n",
      "Hello\n",
      "Hi\n",
      "Hi\n",
      "Hi\n",
      "Hi\n",
      "Hi\n"
     ]
    }
   ],
   "source": [
    "import time\n",
    "\n",
    "# Define a class Hello representing a task to be executed by a thread\n",
    "class Hello():\n",
    "    # Define a method run() which will be executed by the thread\n",
    "    def run(self):\n",
    "        # Perform the task (printing \"Hello\" five times)\n",
    "        for i in range(5):\n",
    "            print(\"Hello\")\n",
    "            time.sleep(1)\n",
    "# Create an instance of the Hello class\n",
    "t1 = Hello()\n",
    "# Execute the run() method of the Hello instance\n",
    "t1.run()\n",
    "\n",
    "\n",
    "\n",
    "# Define a class Hi representing another task to be executed by a thread\n",
    "class Hi():\n",
    "    # Define a method run() which will be executed by the thread\n",
    "    def run(self):\n",
    "        # Perform the task (printing \"Hi\" five times)\n",
    "        for i in range(5):\n",
    "            print(\"Hi\")\n",
    "            time.sleep(1)\n",
    "# Create an instance of the Hi class\n",
    "t2 = Hi()\n",
    "# Execute the run() method of the Hi instance\n",
    "t2.run()\n"
   ]
  },
  {
   "cell_type": "code",
   "execution_count": 2,
   "metadata": {},
   "outputs": [
    {
     "name": "stdout",
     "output_type": "stream",
     "text": [
      "Hello\n",
      "Hi\n",
      "Time taken:  0.00971674919128418\n"
     ]
    },
    {
     "name": "stdout",
     "output_type": "stream",
     "text": [
      "Hello\n",
      "Hi\n",
      "Hello\n",
      "Hi\n",
      "Hello\n",
      "Hi\n",
      "Hello\n",
      "Hi\n"
     ]
    }
   ],
   "source": [
    "from threading import Thread\n",
    "import time\n",
    "\n",
    "# Define a class Hello that inherits from the Thread class\n",
    "class Hello(Thread):\n",
    "    # Define a method run() which will be executed by the thread\n",
    "    def run(self):\n",
    "        # Perform the task (printing \"Hello\" with a delay)\n",
    "        for i in range(5):\n",
    "            print(\"Hello\")\n",
    "            time.sleep(1)  # Introduce a 1-second delay between each print statement\n",
    "          \n",
    "# Define a class Hi that inherits from the Thread class\n",
    "class Hi(Thread):\n",
    "    # Define a method run() which will be executed by the thread\n",
    "    def run(self):\n",
    "        # Perform the task (printing \"Hi\"  with a delay)\n",
    "        for i in range(5):\n",
    "            print(\"Hi\")\n",
    "            time.sleep(1)  # Introduce a 1-second delay between each print statement\n",
    "\n",
    "# Create instances of the Hello and Hi classes\n",
    "t1 = Hello()\n",
    "t2 = Hi()\n",
    "# Record the starting time\n",
    "begintime = time.time()\n",
    "# Start the Hello thread\n",
    "t1.start()       # t1 thread\n",
    "\n",
    "# Start the Hi thread\n",
    "t2.start()           # t2 thread\n",
    "\n",
    "# Record the ending time\n",
    "endtime = time.time()\n",
    "\n",
    "# Calculate and print the time taken for the threads to execute\n",
    "print('Time taken: ', endtime - begintime)     # main thread"
   ]
  },
  {
   "cell_type": "markdown",
   "metadata": {},
   "source": [
    "If you want to use a different method name instead of run() to define the behavior of your threads, you can certainly do. However, the convention is to use run() for the method that defines the thread's behavior."
   ]
  },
  {
   "cell_type": "code",
   "execution_count": 11,
   "metadata": {},
   "outputs": [
    {
     "name": "stdout",
     "output_type": "stream",
     "text": [
      "Hello\n",
      "Hi\n",
      "Done\n"
     ]
    },
    {
     "name": "stdout",
     "output_type": "stream",
     "text": [
      "HelloHi\n",
      "\n",
      "Hi\n",
      "Hello\n",
      "HelloHi\n",
      "\n",
      "Hi\n",
      "Hello\n"
     ]
    }
   ],
   "source": [
    "from threading import Thread\n",
    "import time\n",
    "\n",
    "# Define a class Hello that inherits from the Thread class\n",
    "class Hello(Thread):\n",
    "    # Define a custom method (e.g., execute()) which will be executed by the thread\n",
    "    def execute(self):\n",
    "        # Perform the task (printing \"Hello\" five times with a delay)\n",
    "        for i in range(5):\n",
    "            print(\"Hello\")\n",
    "            time.sleep(1)  # Introduce a 1-second delay between each print statement\n",
    "\n",
    "    # Override the run() method to call the custom execute() method\n",
    "    def run(self):\n",
    "        self.execute()\n",
    "          \n",
    "# Define a class Hi that inherits from the Thread class\n",
    "class Hi(Thread):\n",
    "    # Define a custom method (e.g., perform()) which will be executed by the thread\n",
    "    def perform(self):\n",
    "        # Perform the task (printing \"Hi\" five times with a delay)\n",
    "        for i in range(5):\n",
    "            print(\"Hi\")\n",
    "            time.sleep(1)  # Introduce a 1-second delay between each print statement\n",
    "\n",
    "    # Override the run() method to call the custom perform() method\n",
    "    def run(self):\n",
    "        self.perform()\n",
    "\n",
    "# Create instances of the Hello and Hi classes\n",
    "t1 = Hello()\n",
    "t2 = Hi()\n",
    "\n",
    "# Start the Hello thread\n",
    "t1.start()\n",
    "\n",
    "# Start the Hi thread\n",
    "t2.start()\n",
    "\n",
    "\n",
    "print(\"Done\")\n"
   ]
  },
  {
   "cell_type": "markdown",
   "metadata": {},
   "source": [
    "On the above result the behavior is incorrect. The \"Done\" message is printed before the threads t1 and t2 finish their execution. This is because the main thread, where the \"Done\" message is printed, doesn't wait for the threads to complete before continuing execution."
   ]
  },
  {
   "cell_type": "markdown",
   "metadata": {},
   "source": [
    "<b>join()</b>\n",
    "\n",
    "Thread class provides the join() method which allows one thread to wait until another thread completes its execution."
   ]
  },
  {
   "cell_type": "code",
   "execution_count": 3,
   "metadata": {},
   "outputs": [
    {
     "name": "stdout",
     "output_type": "stream",
     "text": [
      "Hello\n",
      "Hi\n",
      "Hello\n",
      "Hi\n",
      "Hello\n",
      "Hi\n",
      "Hello\n",
      "Hi\n",
      "Hello\n",
      "Hi\n",
      "Time taken:  5.214956045150757\n",
      "Bye\n"
     ]
    }
   ],
   "source": [
    "from time import sleep  # Import the sleep function from the time module\n",
    "from threading import Thread  # Import the Thread class from the threading module\n",
    "\n",
    "# Define a class Hello that inherits from the Thread class\n",
    "class Hello(Thread):\n",
    "\n",
    "    def m1(self):\n",
    "        for i in range(5):\n",
    "            print(\"Hello\")\n",
    "    # Define a method run() which will be executed by the thread\n",
    "    def run(self):\n",
    "       self.m1()\n",
    "# Define a class Hi that inherits from the Thread class\n",
    "class Hi(Thread):\n",
    "    # Define a method run() which will be executed by the thread\n",
    "    def run(self):\n",
    "        # Perform the task (printing \"Hi\" five times with a 1-second delay)\n",
    "        for i in range(5):\n",
    "            print(\"Hi\")\n",
    "            sleep(1)  # Introduce a 1-second delay between each print statement\n",
    "\n",
    "# Create instances of the Hello and Hi classes\n",
    "t1 = Hello()\n",
    "t2 = Hi()\n",
    "# Record the starting time\n",
    "begintime = time.time()\n",
    "# Start the Hello thread\n",
    "t1.start()\n",
    "\n",
    "# Introduce a small delay (0.2 seconds) to ensure t2 starts shortly after t1\n",
    "sleep(0.2)\n",
    "\n",
    "# Start the Hi thread\n",
    "t2.start()\n",
    "\n",
    "# Wait for both threads to finish execution before proceeding\n",
    "t1.join()\n",
    "t2.join()\n",
    "\n",
    "\n",
    "# Record the ending time\n",
    "endtime = time.time()\n",
    "# Calculate and print the time taken for the threads to execute\n",
    "print('Time taken: ', endtime - begintime)\n",
    "\n",
    "# Print \"Bye\" after both threads have finished executing\n",
    "print(\"Bye\")\n"
   ]
  },
  {
   "cell_type": "markdown",
   "metadata": {},
   "source": [
    "# Thread creation using threading."
   ]
  },
  {
   "cell_type": "code",
   "execution_count": 15,
   "metadata": {},
   "outputs": [
    {
     "name": "stdout",
     "output_type": "stream",
     "text": [
      "Main Thread: Starting...\n",
      "New Thread: 1\n",
      "Main Thread: 1\n",
      "New Thread: 2\n",
      "Main Thread: 2\n",
      "New Thread: 3\n",
      "New Thread: 4\n",
      "Main Thread: 3\n",
      "New Thread: 5\n",
      "New Thread: 6\n",
      "Main Thread: 4\n",
      "New Thread: 7\n",
      "New Thread: 8\n",
      "Main Thread: 5\n",
      "New Thread: 9\n",
      "New Thread: 10\n",
      "Main Thread: Finished.\n"
     ]
    }
   ],
   "source": [
    "import threading\n",
    "import time\n",
    "\n",
    "# Function to be executed by the new thread\n",
    "def print_numbers():\n",
    "    for i in range(1, 11):\n",
    "        print(\"New Thread:\", i)\n",
    "        time.sleep(1)  # Introduce a 1-second delay between each print\n",
    "\n",
    "# Main function executed by the main thread\n",
    "def main():\n",
    "    print(\"Main Thread: Starting...\")\n",
    "\n",
    "    # Create a new thread targeting the print_numbers function\n",
    "    new_thread = threading.Thread(target=print_numbers)\n",
    "    \n",
    "    # Start the new thread\n",
    "    new_thread.start()\n",
    "\n",
    "    # Continue executing the main thread\n",
    "    for i in range(1, 6):\n",
    "        print(\"Main Thread:\", i)\n",
    "        time.sleep(2)  # Introduce a 2-second delay between each print\n",
    "\n",
    "    print(\"Main Thread: Finished.\")\n",
    "\n",
    "# Entry point of the program\n",
    "if __name__ == \"__main__\":\n",
    "    main()\n"
   ]
  },
  {
   "cell_type": "code",
   "execution_count": 16,
   "metadata": {},
   "outputs": [
    {
     "name": "stdout",
     "output_type": "stream",
     "text": [
      "Main Thread: Starting...\n",
      "New Thread: 1\n",
      "New Thread: 2\n",
      "New Thread: 3\n",
      "New Thread: 4\n",
      "New Thread: 5\n",
      "New Thread: 6\n",
      "New Thread: 7\n",
      "New Thread: 8\n",
      "New Thread: 9\n",
      "New Thread: 10\n",
      "Main Thread: 1\n",
      "Main Thread: 2\n",
      "Main Thread: 3\n",
      "Main Thread: 4\n",
      "Main Thread: 5\n",
      "Main Thread: Finished.\n"
     ]
    }
   ],
   "source": [
    "# Without threading\n",
    "\n",
    "import time\n",
    "\n",
    "# Function to be executed\n",
    "def print_numbers():\n",
    "    for i in range(1, 11):\n",
    "        print(\"New Thread:\", i)\n",
    "        time.sleep(1)  # Introduce a 1-second delay between each print\n",
    "\n",
    "# Main function\n",
    "def main():\n",
    "    print(\"Main Thread: Starting...\")\n",
    "\n",
    "    # Call the function directly\n",
    "    print_numbers()\n",
    "\n",
    "    # Continue executing the main thread\n",
    "    for i in range(1, 6):\n",
    "        print(\"Main Thread:\", i)\n",
    "        time.sleep(2)  # Introduce a 2-second delay between each print\n",
    "\n",
    "    print(\"Main Thread: Finished.\")\n",
    "\n",
    "# Entry point of the program\n",
    "if __name__ == \"__main__\":\n",
    "    main()\n"
   ]
  },
  {
   "cell_type": "code",
   "execution_count": 18,
   "metadata": {},
   "outputs": [
    {
     "name": "stdout",
     "output_type": "stream",
     "text": [
      "Square:  1\n",
      "Double:  2\n",
      "Double: Square:  4\n",
      " 4\n",
      "Double: Square:  9\n",
      " 6\n",
      "Double: Square:  16\n",
      " 8\n",
      "Double: Square:  25\n",
      " 10\n",
      "Double:  12\n",
      "Square:  36\n",
      "Time taken:  6.067976951599121\n"
     ]
    }
   ],
   "source": [
    "from threading import *\n",
    "import time\n",
    "\n",
    "# Function to double each number in a list\n",
    "def double(num):\n",
    "    for n in num:\n",
    "        time.sleep(1)  # Introduce a 1-second delay for demonstration\n",
    "        print('Double: ', 2*n)\n",
    "\n",
    "# Function to square each number in a list\n",
    "def square(num):\n",
    "    for n in num:\n",
    "        time.sleep(1)  # Introduce a 1-second delay for demonstration\n",
    "        print('Square: ', n*n)\n",
    "\n",
    "# List of numbers\n",
    "num = [1, 2, 3, 4, 5, 6]\n",
    "\n",
    "# Record the starting time\n",
    "begintime = time.time()\n",
    "\n",
    "# Create a thread to execute the double() function\n",
    "t1 = Thread(target=double, args=(num,))\n",
    "\n",
    "# Create a thread to execute the square() function\n",
    "t2 = Thread(target=square, args=(num,))\n",
    "\n",
    "# Start both threads\n",
    "t1.start()\n",
    "t2.start()\n",
    "\n",
    "# Wait for both threads to finish execution\n",
    "t1.join()\n",
    "t2.join()\n",
    "\n",
    "# Record the ending time\n",
    "endtime = time.time()\n",
    "\n",
    "# Calculate and print the time taken for the threads to execute\n",
    "print('Time taken: ', endtime - begintime)\n"
   ]
  },
  {
   "cell_type": "code",
   "execution_count": 19,
   "metadata": {},
   "outputs": [
    {
     "name": "stdout",
     "output_type": "stream",
     "text": [
      "Double:  2\n",
      "Double:  4\n",
      "Double:  6\n",
      "Double:  8\n",
      "Double:  10\n",
      "Double:  12\n",
      "Square:  1\n",
      "Square:  4\n",
      "Square:  9\n",
      "Square:  16\n",
      "Square:  25\n",
      "Square:  36\n",
      "Time taken:  12.092526197433472\n"
     ]
    }
   ],
   "source": [
    "import time  # Import the time module\n",
    "\n",
    "# Function to double each number in a list\n",
    "def double(num):\n",
    "    for n in num:\n",
    "        time.sleep(1)  # Introduce a 1-second delay for demonstration\n",
    "        print('Double: ', 2*n)\n",
    "\n",
    "# Function to square each number in a list\n",
    "def square(num):\n",
    "    for n in num:\n",
    "        time.sleep(1)  # Introduce a 1-second delay for demonstration\n",
    "        print('Square: ', n*n)\n",
    "\n",
    "# List of numbers\n",
    "num = [1, 2, 3, 4, 5, 6]\n",
    "\n",
    "# Record the starting time\n",
    "begintime = time.time()\n",
    "\n",
    "# Call the double function\n",
    "double(num)\n",
    "\n",
    "# Call the square function\n",
    "square(num)\n",
    "\n",
    "# Record the ending time\n",
    "endtime = time.time()\n",
    "\n",
    "# Calculate and print the time taken for the functions to execute\n",
    "print('Time taken: ', endtime - begintime)\n"
   ]
  },
  {
   "cell_type": "markdown",
   "metadata": {},
   "source": [
    "note:\n",
    "\n",
    "use subclassing Thread when you need customized thread behavior, code reusability, or complex thread management. Use creating Thread objects directly for simple thread execution, ad hoc threading, or task-based threading scenarios"
   ]
  },
  {
   "cell_type": "markdown",
   "metadata": {},
   "source": []
  }
 ],
 "metadata": {
  "kernelspec": {
   "display_name": "Python 3.9.7 ('base')",
   "language": "python",
   "name": "python3"
  },
  "language_info": {
   "codemirror_mode": {
    "name": "ipython",
    "version": 3
   },
   "file_extension": ".py",
   "mimetype": "text/x-python",
   "name": "python",
   "nbconvert_exporter": "python",
   "pygments_lexer": "ipython3",
   "version": "3.11.3"
  },
  "orig_nbformat": 4,
  "vscode": {
   "interpreter": {
    "hash": "adbf8baac3fd83462ba4d3cf155237b9080954f140b6d8291bc95ec68b06c358"
   }
  }
 },
 "nbformat": 4,
 "nbformat_minor": 2
}
