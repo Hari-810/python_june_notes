{
 "cells": [
  {
   "cell_type": "code",
   "execution_count": 3,
   "metadata": {},
   "outputs": [
    {
     "name": "stdout",
     "output_type": "stream",
     "text": [
      "[1, 2, 4.6, -0.7, 'A', 'hello', True]\n",
      "<class 'list'>\n"
     ]
    }
   ],
   "source": [
    "# LIST\n",
    "# Non primitive\n",
    "\n",
    "l = [1, 2, 4.6, -0.7, \"A\", \"hello\", True]   # assign\n",
    "print(l)\n",
    "print(type(l))"
   ]
  },
  {
   "cell_type": "code",
   "execution_count": 4,
   "metadata": {},
   "outputs": [
    {
     "name": "stdout",
     "output_type": "stream",
     "text": [
      "[1]\n"
     ]
    }
   ],
   "source": [
    "l = []  # reassign\n",
    "l = list() # reassign\n",
    "\n",
    "l.append(1)\n",
    "print(l)"
   ]
  },
  {
   "cell_type": "code",
   "execution_count": 14,
   "metadata": {},
   "outputs": [
    {
     "name": "stdout",
     "output_type": "stream",
     "text": [
      "8\n",
      "[1, 2, 'HI']\n",
      "hi\n"
     ]
    }
   ],
   "source": [
    "# mutable\n",
    "\n",
    "l = [1, 2, 4.6, -0.7, \"A\", \"hello\", True, [1,2,\"HI\"]]\n",
    "print(len(l))\n",
    "print(l[7])   # a = [1, 2, 'HI']   l[7][2]\n",
    "print(l[7][2].lower())"
   ]
  },
  {
   "cell_type": "code",
   "execution_count": 20,
   "metadata": {},
   "outputs": [
    {
     "name": "stdout",
     "output_type": "stream",
     "text": [
      "(1, 2, 4.6, -0.7, 'A', 'hello', True, [1, 2], (192, 234))\n",
      "<class 'tuple'>\n",
      "1\n",
      "(-0.7, 'A', 'hello')\n"
     ]
    }
   ],
   "source": [
    "# Tuple\n",
    "\n",
    "t = (1, 2, 4.6, -0.7, \"A\", \"hello\", True,[1,2],(192,234))\n",
    "print(t)\n",
    "print(type(t))\n",
    "print(t[0])\n",
    "print(t[-6:6])"
   ]
  },
  {
   "cell_type": "code",
   "execution_count": null,
   "metadata": {},
   "outputs": [],
   "source": [
    "print(\"HI\")"
   ]
  }
 ],
 "metadata": {
  "kernelspec": {
   "display_name": "Python 3",
   "language": "python",
   "name": "python3"
  },
  "language_info": {
   "codemirror_mode": {
    "name": "ipython",
    "version": 3
   },
   "file_extension": ".py",
   "mimetype": "text/x-python",
   "name": "python",
   "nbconvert_exporter": "python",
   "pygments_lexer": "ipython3",
   "version": "3.11.3"
  }
 },
 "nbformat": 4,
 "nbformat_minor": 2
}
