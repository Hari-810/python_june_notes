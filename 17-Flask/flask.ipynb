{
 "cells": [
  {
   "cell_type": "markdown",
   "metadata": {},
   "source": [
    "ref : https://flask.palletsprojects.com/en/2.3.x/quickstart/\n"
   ]
  },
  {
   "cell_type": "markdown",
   "metadata": {},
   "source": [
    "What is Web Framework?\n",
    "\n",
    "Web Application Framework or Web Framework represents a collection of libraries and modules that enables a web application developer to write applications without having to bother about low-level details such as protocols, thread management etc."
   ]
  },
  {
   "cell_type": "markdown",
   "metadata": {},
   "source": [
    "What is Flask?\n",
    "\n",
    "Flask is a web application framework written in Python. Flask is based on the Werkzeug WSGI toolkit and Jinja2 template engine."
   ]
  },
  {
   "cell_type": "markdown",
   "metadata": {},
   "source": [
    "WSGI\n",
    "\n",
    "Web Server Gateway Interface (WSGI) has been adopted as a standard for Python web application development. WSGI is a specification for a universal interface between the web server and the web applications."
   ]
  },
  {
   "cell_type": "markdown",
   "metadata": {},
   "source": [
    "Werkzeug\n",
    "\n",
    "It is a WSGI toolkit, which implements requests, response objects, and other utility functions. This enables building a web framework on top of it. The Flask framework uses Werkzeug as one of its bases."
   ]
  },
  {
   "cell_type": "markdown",
   "metadata": {},
   "source": [
    "Jinja2\n",
    "\n",
    "Jinja2 is a popular templating engine for Python. A web templating system combines a template with a certain data source to render dynamic web pages.\n",
    "\n",
    "Flask is often referred to as a micro framework. It aims to keep the core of an application simple yet extensible."
   ]
  },
  {
   "cell_type": "code",
   "execution_count": null,
   "metadata": {},
   "outputs": [],
   "source": [
    "pip install Flask "
   ]
  },
  {
   "attachments": {},
   "cell_type": "markdown",
   "metadata": {},
   "source": [
    "\n",
    "Importing flask module in the project is mandatory. An object of Flask class is our WSGI application.\n",
    "\n",
    "Flask constructor takes the name of current module (__name__) as argument.\n",
    "\n",
    "The route() function of the Flask class is a decorator, which tells the application which URL should call the associated function.\n",
    "\n",
    "app.route(rule, options)\n",
    "The rule parameter represents URL binding with the function.\n",
    "\n",
    "The options is a list of parameters to be forwarded to the underlying Rule object."
   ]
  },
  {
   "cell_type": "markdown",
   "metadata": {},
   "source": [
    "Finally the run() method of Flask class runs the application on the local development server.\n",
    "\n",
    "app.run(host, port, debug, options)\n",
    "All parameters are optional"
   ]
  },
  {
   "cell_type": "markdown",
   "metadata": {},
   "source": [
    "host\n",
    "\n",
    "Hostname to listen on. Defaults to 127.0.0.1 (localhost). Set to ‘0.0.0.0’ to have server available externally\n",
    "\n",
    "\n",
    "port\n",
    "\n",
    "Defaults to 5000\n",
    "\n",
    "debug\n",
    "\n",
    "Defaults to false. If set to true, provides a debug information\n",
    "\n",
    "options\n",
    "\n",
    "To be forwarded to underlying Werkzeug server."
   ]
  },
  {
   "cell_type": "markdown",
   "metadata": {},
   "source": [
    "## Debug mode\n",
    "A Flask application is started by calling the run() method. However, while the application is under development, it should be restarted manually for each change in the code. To avoid this inconvenience, enable debug support. The server will then reload itself if the code changes. It will also provide a useful debugger to track the errors if any, in the application.\n",
    "\n",
    "The Debug mode is enabled by setting the debug property of the application object to True before running or passing the debug parameter to the run() method."
   ]
  },
  {
   "cell_type": "markdown",
   "metadata": {},
   "source": [
    "# Http protocol\n",
    "\n",
    "Http protocol is the foundation of data communication in world wide web. Different methods of data retrieval from specified URL are defined in this protocol.\n",
    "\n",
    "The following table summarizes different http methods −\n",
    "\n",
    "\n",
    "\t\n",
    "GET\n",
    "\n",
    "Sends data in unencrypted form to the server. Most common method.\n",
    "By default, the Flask route responds to the GET requests.\n",
    "\t\n",
    "HEAD\n",
    "\n",
    "Same as GET, but without response body\n",
    "\n",
    "POST\n",
    "\n",
    "Used to send HTML form data to server. Data received by POST method is not cached by server.\n",
    "\n",
    "\n",
    "\n",
    "PUT\n",
    "\n",
    "Replaces all current representations of the target resource with the uploaded content.\n",
    "\n",
    "DELETE\n",
    "\n",
    "Removes all current representations of the target resource given by a URL"
   ]
  }
 ],
 "metadata": {
  "kernelspec": {
   "display_name": "base",
   "language": "python",
   "name": "python3"
  },
  "language_info": {
   "codemirror_mode": {
    "name": "ipython",
    "version": 3
   },
   "file_extension": ".py",
   "mimetype": "text/x-python",
   "name": "python",
   "nbconvert_exporter": "python",
   "pygments_lexer": "ipython3",
   "version": "3.9.7"
  },
  "orig_nbformat": 4,
  "vscode": {
   "interpreter": {
    "hash": "adbf8baac3fd83462ba4d3cf155237b9080954f140b6d8291bc95ec68b06c358"
   }
  }
 },
 "nbformat": 4,
 "nbformat_minor": 2
}
