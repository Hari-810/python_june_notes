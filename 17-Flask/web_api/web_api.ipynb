{
 "cells": [
  {
   "cell_type": "markdown",
   "metadata": {
    "ExecuteTime": {
     "end_time": "2018-09-04T03:32:21.665406Z",
     "start_time": "2018-09-04T03:32:21.660911Z"
    }
   },
   "source": [
    "# **Application Programming Interface (API)**\n",
    "\n",
    "**API Definition**  \n",
    "> Application Program Interfaces, or APIs, are commonly used to retrieve data from remote websites.  \n",
    "> To use an API, you make a request to a remote web server, and retrieve the data you need.\n",
    "\n",
    "**Why use API?**\n",
    "> Quickly changing data. Eg - Stock Market Data.  \n",
    "> In case you want a small piece of a much larger dataset. Eg - Twitter.\n",
    "\n",
    "**Communication Protocols**\n",
    "> **FTP** - File Transfer Protocol  \n",
    "> **SFTP** - Secure File Transfer Protocol  \n",
    "> **SMTP** - Simple Mail Transfer Protocol  \n",
    "> **HTTP** - Hyper Text Transfer Protocol  \n",
    "> **HTTPS** - Secure HTTP  \n",
    "\n",
    "**HTTP Request Metods**\n",
    "> **POST** - `C`reate  \n",
    "> **GET** - `R`ead   \n",
    "> **PUT** - `U`pdate  \n",
    "> **DELETE** - `D`elete\n",
    "\n",
    "**API Request**\n",
    "> In order to get the data, we make a HTTP request to a webserver.  \n",
    "> The server then replies with our data.  \n",
    "> In Python, we'll use the **requests** module to do this.  \n",
    "> There are many different types of requests.   \n",
    "> The most commonly used one, a **GET request**, is used to retrieve data.  \n",
    "\n",
    "**Anatomy of a URL**  \n",
    "<img width=\"600\" height=\"400\" src='images/anatomy_url.PNG'>\n",
    "\n",
    "**How do you send a request to open Google home page?**  \n",
    "> **Step 1** - Open Browser  \n",
    "> **Step 2** - Type Google.com in the URL section  \n",
    "> **Step 3** - Hit `Enter`\n",
    "\n",
    "**How do you send a request to open Google home page in `Python`?**   \n",
    "```python\n",
    "# Code Syntax\n",
    "import requests\n",
    "URL = 'google.com'\n",
    "response = requests.get(URL)\n",
    "```\n",
    "\n",
    "**Response - Status Code**\n",
    "> **1xx** - Info  \n",
    "> **2xx** - Success  \n",
    "> **3xx** - Redirection  \n",
    "> **4xx** - Client Error  \n",
    "> **5xx** - Server Error"
   ]
  },
  {
   "cell_type": "markdown",
   "metadata": {},
   "source": [
    "## **Request and Response from Google Web Server**"
   ]
  },
  {
   "cell_type": "code",
   "execution_count": 3,
   "metadata": {},
   "outputs": [
    {
     "name": "stdout",
     "output_type": "stream",
     "text": [
      "Collecting requests\n",
      "  Downloading requests-2.31.0-py3-none-any.whl (62 kB)\n",
      "     -------------------------------------- 62.6/62.6 kB 662.5 kB/s eta 0:00:00\n",
      "Collecting charset-normalizer<4,>=2\n",
      "  Downloading charset_normalizer-3.3.2-cp311-cp311-win_amd64.whl (99 kB)\n",
      "     ---------------------------------------- 99.9/99.9 kB 5.6 MB/s eta 0:00:00\n",
      "Collecting idna<4,>=2.5\n",
      "  Downloading idna-3.6-py3-none-any.whl (61 kB)\n",
      "     -------------------------------------- 61.6/61.6 kB 546.0 kB/s eta 0:00:00\n",
      "Collecting urllib3<3,>=1.21.1\n",
      "  Downloading urllib3-2.2.1-py3-none-any.whl (121 kB)\n",
      "     -------------------------------------- 121.1/121.1 kB 3.6 MB/s eta 0:00:00\n",
      "Collecting certifi>=2017.4.17\n",
      "  Downloading certifi-2024.2.2-py3-none-any.whl (163 kB)\n",
      "     -------------------------------------- 163.8/163.8 kB 2.5 MB/s eta 0:00:00\n",
      "Installing collected packages: urllib3, idna, charset-normalizer, certifi, requests\n",
      "Successfully installed certifi-2024.2.2 charset-normalizer-3.3.2 idna-3.6 requests-2.31.0 urllib3-2.2.1\n"
     ]
    },
    {
     "name": "stderr",
     "output_type": "stream",
     "text": [
      "\n",
      "[notice] A new release of pip available: 22.3.1 -> 24.0\n",
      "[notice] To update, run: python.exe -m pip install --upgrade pip\n"
     ]
    }
   ],
   "source": [
    "# Install request lib\n",
    "# !pip install requests"
   ]
  },
  {
   "cell_type": "code",
   "execution_count": 4,
   "metadata": {
    "ExecuteTime": {
     "end_time": "2018-09-04T03:32:43.971470Z",
     "start_time": "2018-09-04T03:32:43.967795Z"
    }
   },
   "outputs": [],
   "source": [
    "# Importing the requests library\n",
    "\n",
    "import requests"
   ]
  },
  {
   "cell_type": "code",
   "execution_count": 5,
   "metadata": {
    "ExecuteTime": {
     "end_time": "2018-09-04T03:33:20.386628Z",
     "start_time": "2018-09-04T03:33:19.151218Z"
    }
   },
   "outputs": [],
   "source": [
    "# Make a \"get\" request to fetch search results on thataiguy\n",
    "\n",
    "response = requests.get(\"https://google.com/search?q=thataiguy\")"
   ]
  },
  {
   "cell_type": "code",
   "execution_count": 6,
   "metadata": {},
   "outputs": [
    {
     "name": "stdout",
     "output_type": "stream",
     "text": [
      "{'Content-Type': 'text/html; charset=ISO-8859-1', 'Date': 'Fri, 22 Mar 2024 10:33:55 GMT', 'Expires': '-1', 'Cache-Control': 'private, max-age=0', 'Content-Security-Policy': \"object-src 'none';base-uri 'self';script-src 'nonce-8FceEA2fBTyKHxRl4RMHIg' 'strict-dynamic' 'report-sample' 'unsafe-eval' 'unsafe-inline' https: http:;report-uri https://csp.withgoogle.com/csp/gws/xsrp\", 'P3P': 'CP=\"This is not a P3P policy! See g.co/p3phelp for more info.\"', 'Content-Encoding': 'gzip', 'Server': 'gws', 'X-XSS-Protection': '0', 'X-Frame-Options': 'SAMEORIGIN', 'Set-Cookie': '1P_JAR=2024-03-22-10; expires=Sun, 21-Apr-2024 10:33:55 GMT; path=/; domain=.google.com; Secure, AEC=Ae3NU9MXbnH6jhVmvDgCeW0z93azc8VLq0jxz4AhfB7DEEmm0gHp-_0G5w; expires=Wed, 18-Sep-2024 10:33:55 GMT; path=/; domain=.google.com; Secure; HttpOnly; SameSite=lax, NID=512=kG7n0VFqqT4Fx4_saK-eaCWvxPFoLEGxw8FTXcMEoB_WgpoWbU6KO_uI6zSsLURBkfID-324DNkzikH1zaYs9MGof36awTGXsSxTiezlGij1Zxaz9v7p845T6M6BYRs3HCYAGxaSHaa1VsGwaO2GdIRn8_FYGWOLEJzm8hyxQb4; expires=Sat, 21-Sep-2024 10:33:55 GMT; path=/; domain=.google.com; HttpOnly', 'Alt-Svc': 'h3=\":443\"; ma=2592000,h3-29=\":443\"; ma=2592000', 'Transfer-Encoding': 'chunked'}\n"
     ]
    }
   ],
   "source": [
    "# Print the response header\n",
    "\n",
    "print(response.headers)"
   ]
  },
  {
   "cell_type": "code",
   "execution_count": 7,
   "metadata": {},
   "outputs": [
    {
     "name": "stdout",
     "output_type": "stream",
     "text": [
      "https://www.google.com/search?q=thataiguy\n"
     ]
    }
   ],
   "source": [
    "# Check the response URL\n",
    "\n",
    "print(response.url)"
   ]
  },
  {
   "cell_type": "code",
   "execution_count": 8,
   "metadata": {},
   "outputs": [
    {
     "name": "stdout",
     "output_type": "stream",
     "text": [
      "200\n"
     ]
    }
   ],
   "source": [
    "# Check the status code of the response\n",
    "\n",
    "print(response.status_code)"
   ]
  },
  {
   "cell_type": "code",
   "execution_count": 9,
   "metadata": {},
   "outputs": [
    {
     "name": "stdout",
     "output_type": "stream",
     "text": [
      "ISO-8859-1\n"
     ]
    }
   ],
   "source": [
    "# Check the response encoding\n",
    "\n",
    "print(response.encoding)"
   ]
  },
  {
   "cell_type": "code",
   "execution_count": 10,
   "metadata": {},
   "outputs": [
    {
     "name": "stdout",
     "output_type": "stream",
     "text": [
      "text/html; charset=ISO-8859-1\n"
     ]
    }
   ],
   "source": [
    "# Check the response content type\n",
    "\n",
    "print(response.headers['Content-Type'])\n",
    "\n",
    "# Using this way, we can find the Date, Expires and other header properties as well"
   ]
  },
  {
   "cell_type": "code",
   "execution_count": 11,
   "metadata": {},
   "outputs": [
    {
     "name": "stdout",
     "output_type": "stream",
     "text": [
      "<!doctype html><html lang=\"en-IN\"><head><meta charset=\"UTF-8\"><meta content=\"/images/branding/google\n"
     ]
    }
   ],
   "source": [
    "# # Text Response Content\n",
    "# # This is useful if the response body contains text data\n",
    "\n",
    "print(response.text[0:100])\n",
    "\n"
   ]
  },
  {
   "cell_type": "code",
   "execution_count": 12,
   "metadata": {},
   "outputs": [
    {
     "name": "stdout",
     "output_type": "stream",
     "text": [
      "<!doctype html><html lang=\"en-IN\"><head><meta charset=\"UTF-8\"><meta content=\"/images/branding/googleg/1x/googleg_standard_color_128dp.png\" itemprop=\"image\"><title>thataiguy - Google Search</title><script nonce=\"8FceEA2fBTyKHxRl4RMHIg\">(function(){\n",
      "document.documentElement.addEventListener(\"submit\",function(b){var a;if(a=b.target){var c=a.getAttribute(\"data-submitfalse\");a=\"1\"===c||\"q\"===c&&!a.elements.q.value?!0:!1}else a=!1;a&&(b.preventDefault(),b.stopPropagation())},!0);document.documentElement.addEventListener(\"click\",function(b){var a;a:{for(a=b.target;a&&a!==document.documentElement;a=a.parentElement)if(\"A\"===a.tagName){a=\"1\"===a.getAttribute(\"data-nohref\");break a}a=!1}a&&b.preventDefault()},!0);}).call(this);(function(){var a=window.performance;window.start=Date.now();a:{var b=window;if(a){var c=a.timing;if(c){var d=c.navigationStart,f=c.responseStart;if(f>d&&f<=window.start){window.start=f;b.wsrt=f-d;break a}}a.now&&(b.wsrt=Math.floor(a.now()))}}window.google=window.google||{};var h=function(g){g&&g.target.setAttribute(\"data-iml\",String(Date.now()))};document.documentElement.addEventListener(\"load\",h,!0);google.rglh=function(){document.documentElement.removeEventListener(\"load\",h,!0)};}).call(this);(function(){window.google.erd={jsr:1,bv:1975,de:true};})();(function(){var sdo=false;var mei=10;\n",
      "var h=this||self;var k,l=null!=(k=h.mei)?k:1,n,p=null!=(n=h.sdo)?n:!0,q=0,r,t=google.erd,v=t.jsr;google.ml=function(a,b,d,m,e){e=void 0===e?2:e;b&&(r=a&&a.message);void 0===d&&(d={});d.cad=\"ple_\"+google.ple+\".aple_\"+google.aple;if(google.dl)return google.dl(a,e,d),null;b=d;if(0>v){window.console&&console.error(a,b);if(-2===v)throw a;b=!1}else b=!a||!a.message||\"Error loading script\"===a.message||q>=l&&!m?!1:!0;if(!b)return null;q++;d=d||{};b=encodeURIComponent;var c=\"/gen_204?atyp=i&ei=\"+b(google.kEI);google.kEXPI&&(c+=\"&jexpid=\"+b(google.kEXPI));c+=\"&srcpg=\"+b(google.sn)+\"&jsr=\"+b(t.jsr)+\"&bver=\"+\n",
      "b(t.bv);var f=a.lineNumber;void 0!==f&&(c+=\"&line=\"+f);var g=a.fileName;g&&(0<g.indexOf(\"-extension:/\")&&(e=3),c+=\"&script=\"+b(g),f&&g===window.location.href&&(f=document.documentElement.outerHTML.split(\"\\n\")[f],c+=\"&cad=\"+b(f?f.substring(0,300):\"No script found.\")));google.ple&&1===google.ple&&(e=2);c+=\"&jsel=\"+e;for(var u in d)c+=\"&\",c+=b(u),c+=\"=\",c+=b(d[u]);c=c+\"&emsg=\"+b(a.name+\": \"+a.message);c=c+\"&jsst=\"+b(a.stack||\"N/A\");12288<=c.length&&(c=c.substr(0,12288));a=c;m||google.log(0,\"\",a);return a};window.onerror=function(a,b,d,m,e){r!==a&&(a=e instanceof Error?e:Error(a),void 0===d||\"lineNumber\"in a||(a.lineNumber=d),void 0===b||\"fileName\"in a||(a.fileName=b),google.ml(a,!1,void 0,!1,\"SyntaxError\"===a.name||\"SyntaxError\"===a.message.substring(0,11)||-1!==a.message.indexOf(\"Script error\")?3:0));r=null;p&&q>=l&&(window.onerror=null)};})();(function(){var c=[],e=0;window.ping=function(b){-1==b.indexOf(\"&zx\")&&(b+=\"&zx=\"+Date.now());var a=new Image,d=e++;c[d]=a;a.onerror=a.onload=a.onabort=function(){delete c[d]};a.src=b};}).call(this);</script><style>a{color:#1a0dab;text-decoration:none;tap-highlight-color:rgba(0,0,0,.10)}a:visited{color:#4b11a8}a:hover{text-decoration:underline}img{border:0}html{font-family:arial,sans-serif;font-size:14px;line-height:20px;text-size-adjust:100%;color:#3c4043;word-wrap:break-word;background-color:#fff}.bRsWnc{background-color:#fff;border-top:1px solid #dadce0;height:39px;overflow:hidden}.N6RWV{height:51px;overflow-scrolling:touch;overflow-x:auto;overflow-y:hidden}.Uv67qb{box-pack:justify;font-size:12px;line-height:37px;justify-content:space-between;justify-content:space-between}.Uv67qb a,.Uv67qb span{color:#70757a;display:block;flex:none;padding:0 16px;text-align:center;text-transform:uppercase;}span.OXXup{border-bottom:2px solid #4285f4;color:#4285f4;font-weight:bold}a.eZt8xd:visited{color:#70757a}.FElbsf{border-left:1px solid rgba(0,0,0,.12)}header article{overflow:visible}.Pg70bf{height:39px;display:box;display:flex;display:flex;width:100%}.H0PQec{position:relative;flex:1}.sbc{display:flex;width:100%}.Pg70bf input{margin:2px 4px 2px 8px;}.x{width:26px;color:#70757a;font:27px/38px arial, sans-serif;line-height:40px;}#qdClwb{flex:0 0 auto;width:39px;height:39px;border-bottom:0;padding:0;border-top-right-radius:8px;background-color:#1a73e8;border:1px solid #1a73e8;background-image:url(data:image/gif;base64,R0lGODdhJAAjAPIHAODr/nCk+MPZ/FmV96zK+/7+/5K5+kqL9iwAAAAAJAAjAEADani63P4wykmbKcQRXDscQAEMXmmeaLQVLCukzyC09AjfeK7v/MAajACLhPMVAgwjsUcEiZa8xgAYrVqv2Kx2iwsIAAABknfBBAKrTE4IcMyot8ur8datqIbQfJdnAfo2WE6BV05wXIiJigkAOw==);}.sc{font-size:16px;position:absolute;top:39px;left:0;right:0;box-shadow:0 2px 5px rgba(0,0,0,.2);z-index:2;background-color:#fff}.sc>div{padding:10px 10px;padding-left:16px;padding-left:14px;border-top:1px solid #dfe1e5;}.scs{background-color:#fafafa;}.noHIxc{display:block;font-size:16px;padding:0 0 0 8px;flex:1;height:35px;outline:none;border:none;width:100%;-webkit-tap-highlight-color:rgba(0,0,0,0);overflow:hidden;}.sbc input[type=text]{background:none}.bz1lBb{background-color:#fff;border-radius:8px 8px 0 0;box-shadow:0 0 0 1px #dfe1e5;margin-top:24px;}.KP7LCb{border-radius:0 0 8px 8px;box-shadow:0px 1px 0px 1px #dfe1e5;margin-bottom:30px;overflow:hidden}html{background-color:#fff}body{margin:0 auto 0 156px;max-width:652px;min-width:652px;padding:0 8px}.cOl4Id{letter-spacing:-1px;text-align:center;font:22pt Futura, Arial, sans-serif;font-smoothing:antialiased;height:37px;padding:32px 28px 0 24px;position:absolute;left:0;top:0}.cOl4Id span{display:inline-block}.V6gwVd{color:#4285f4}.iWkuvd{color:#ea4335}.cDrQ7{color:#fcc934}.ntlR9{color:#34a853}.tJ3Myc{-webkit-transform:rotate(-20deg);position:relative;left:-1px;display:inline-block}footer{text-align:center;margin-top:18px}footer a,footer a:visited,.smiUbb{color:#70757a}.xeDNfc{margin:0 13px;display:inline-block}#EOlPnc{margin-top:36px}#EOlPnc>div{margin:20px}.Srfpq{color:#70757a}</style></head><body jsmodel=\"hspDDf \"><header id=\"hdr\"><script nonce=\"8FceEA2fBTyKHxRl4RMHIg\">(function(){\n",
      "var k=this||self,l=function(a){var b=typeof a;return\"object\"==b&&null!=a||\"function\"==b},m=function(a,b){function c(){}c.prototype=b.prototype;a.l=b.prototype;a.prototype=new c;a.prototype.constructor=a;a.s=function(d,e,f){for(var g=Array(arguments.length-2),h=2;h<arguments.length;h++)g[h-2]=arguments[h];return b.prototype[e].apply(d,g)}};var n=Array.prototype.indexOf?function(a,b){return Array.prototype.indexOf.call(a,b,void 0)}:function(a,b){if(\"string\"===typeof a)return\"string\"!==typeof b||1!=b.length?-1:a.indexOf(b,0);for(var c=0;c<a.length;c++)if(c in a&&a[c]===b)return c;return-1};var p=function(a){return\"string\"==typeof a.className?a.className:a.getAttribute&&a.getAttribute(\"class\")||\"\"},q=function(a,b){\"string\"==typeof a.className?a.className=b:a.setAttribute&&a.setAttribute(\"class\",b)},r=function(a,b){a.classList?b=a.classList.contains(b):(a=a.classList?a.classList:p(a).match(/\\S+/g)||[],b=0<=n(a,b));return b},v=function(){var a=t,b=u;a.classList?a.classList.remove(b):r(a,b)&&q(a,Array.prototype.filter.call(a.classList?a.classList:p(a).match(/\\S+/g)||[],function(c){return c!=\n",
      "b}).join(\" \"))};function w(){var a=k.navigator;return a&&(a=a.userAgent)?a:\"\"};var x=function(a){x[\" \"](a);return a};x[\" \"]=function(){};var y=-1!=w().indexOf(\"Gecko\")&&!(-1!=w().toLowerCase().indexOf(\"webkit\")&&-1==w().indexOf(\"Edge\"))&&!(-1!=w().indexOf(\"Trident\")||-1!=w().indexOf(\"MSIE\"))&&-1==w().indexOf(\"Edge\");var z=function(a,b){this.type=a;this.target=b};z.prototype.g=function(){};var A=function(){if(!k.addEventListener||!Object.defineProperty)return!1;var a=!1,b=Object.defineProperty({},\"passive\",{get:function(){a=!0}});try{var c=function(){};k.addEventListener(\"test\",c,b);k.removeEventListener(\"test\",c,b)}catch(d){}return a}();var C=function(a){z.call(this,a?a.type:\"\");this.relatedTarget=this.target=null;this.button=this.screenY=this.screenX=this.clientY=this.clientX=0;this.key=\"\";this.keyCode=0;this.metaKey=this.shiftKey=this.altKey=this.ctrlKey=!1;this.state=null;this.pointerId=0;this.pointerType=\"\";this.i=null;if(a){var b=this.type=a.type,c=a.changedTouches&&a.changedTouches.length?a.changedTouches[0]:null;this.target=a.target||a.srcElement;var d=a.relatedTarget;if(d){if(y){a:{try{x(d.nodeName);var e=!0;break a}catch(f){}e=\n",
      "!1}e||(d=null)}}else\"mouseover\"==b?d=a.fromElement:\"mouseout\"==b&&(d=a.toElement);this.relatedTarget=d;c?(this.clientX=void 0!==c.clientX?c.clientX:c.pageX,this.clientY=void 0!==c.clientY?c.clientY:c.pageY,this.screenX=c.screenX||0,this.screenY=c.screenY||0):(this.clientX=void 0!==a.clientX?a.clientX:a.pageX,this.clientY=void 0!==a.clientY?a.clientY:a.pageY,this.screenX=a.screenX||0,this.screenY=a.screenY||0);this.button=a.button;this.keyCode=a.keyCode||0;this.key=a.key||\"\";this.ctrlKey=a.ctrlKey;this.altKey=a.altKey;this.shiftKey=a.shiftKey;this.metaKey=a.metaKey;this.pointerId=a.pointerId||0;this.pointerType=\"string\"===typeof a.pointerType?a.pointerType:B[a.pointerType]||\"\";this.state=a.state;this.i=a;a.defaultPrevented&&C.l.g.call(this)}};m(C,z);var B={2:\"touch\",3:\"pen\",4:\"mouse\"};C.prototype.g=function(){C.l.g.call(this);var a=this.i;a.preventDefault?a.preventDefault():a.returnValue=!1};var D=\"closure_listenable_\"+(1E6*Math.random()|0);var E=0;var F=function(a,b,c,d,e){this.listener=a;this.proxy=null;this.src=b;this.type=c;this.capture=!!d;this.i=e;this.key=++E;this.g=this.j=!1},G=function(a){a.g=!0;a.listener=null;a.proxy=null;a.src=null;a.i=null};var H=function(a){this.src=a;this.g={};this.i=0};H.prototype.add=function(a,b,c,d,e){var f=a.toString();a=this.g[f];a||(a=this.g[f]=[],this.i++);var g;a:{for(g=0;g<a.length;++g){var h=a[g];if(!h.g&&h.listener==b&&h.capture==!!d&&h.i==e)break a}g=-1}-1<g?(b=a[g],c||(b.j=!1)):(b=new F(b,this.src,f,!!d,e),b.j=c,a.push(b));return b};var I=\"closure_lm_\"+(1E6*Math.random()|0),J={},K=0,M=function(a,b,c,d,e){if(d&&d.once)return L(a,b,c,d,e);if(Array.isArray(b)){for(var f=0;f<b.length;f++)M(a,b[f],c,d,e);return null}c=N(c);return a&&a[D]?a.g(b,c,l(d)?!!d.capture:!!d,e):O(a,b,c,!1,d,e)},O=function(a,b,c,d,e,f){if(!b)throw Error(\"a\");var g=l(e)?!!e.capture:!!e,h=P(a);h||(a[I]=h=new H(a));c=h.add(b,c,d,g,f);if(c.proxy)return c;d=Q();c.proxy=d;d.src=a;d.listener=c;if(a.addEventListener)A||(e=g),void 0===e&&(e=!1),a.addEventListener(b.toString(),d,e);else if(a.attachEvent)a.attachEvent(R(b.toString()),d);else if(a.addListener&&a.removeListener)a.addListener(d);else throw Error(\"b\");K++;return c},Q=function(){var a=S,b=function(c){return a.call(b.src,b.listener,c)};return b},L=function(a,b,c,d,e){if(Array.isArray(b)){for(var f=0;f<b.length;f++)L(a,b[f],c,d,e);return null}c=N(c);return a&&a[D]?a.i(b,c,l(d)?!!d.capture:!!d,e):O(a,b,c,!0,d,e)},T=function(a){if(\"number\"!==typeof a&&a&&!a.g){var b=a.src;if(b&&b[D])b.v(a);else{var c=a.type,d=a.proxy;b.removeEventListener?b.removeEventListener(c,d,a.capture):b.detachEvent?b.detachEvent(R(c),d):b.addListener&&b.removeListener&&b.removeListener(d);K--;if(c=P(b)){d=a.type;if(d in c.g){var e=c.g[d],f=n(e,a),g;(g=0<=f)&&Array.prototype.splice.call(e,f,1);g&&(G(a),0==c.g[d].length&&(delete c.g[d],c.i--))}0==c.i&&(c.src=null,b[I]=null)}else G(a)}}},R=function(a){return a in J?J[a]:J[a]=\"on\"+a},S=function(a,b){if(a.g)a=!0;else{b=new C(b,this);var c=a.listener,d=a.i||a.src;a.j&&T(a);a=c.call(d,b)}return a},P=function(a){a=a[I];return a instanceof H?a:null},U=\"__closure_events_fn_\"+(1E9*Math.random()>>>0),N=function(a){if(\"function\"===typeof a)return a;a[U]||(a[U]=function(b){return a.handleEvent(b)});return a[U]};var u,t=document.documentElement,V;function W(){T(V);V=L(t,\"mousedown\",function(){v();X()},{capture:!0})}function X(){T(V);V=M(t,\"keydown\",function(a){if(9===a.keyCode){a=t;var b=u;if(a.classList)a.classList.add(b);else if(!r(a,b)){var c=p(a);q(a,c+(0<c.length?\" \"+b:b))}W()}})};u=\"zAoYTe\";X();}).call(this);</script><div class=\"cOl4Id\"><a href=\"/?sa=X&amp;ved=0ahUKEwjRnIXj1YeFAxV1TWwGHYUSCMEQOwgC\"><span class=\"V6gwVd\">G</span><span class=\"iWkuvd\">o</span><span class=\"cDrQ7\">o</span><span class=\"V6gwVd\">g</span><span class=\"ntlR9\">l</span><span class=\"iWkuvd tJ3Myc\">e</span></a></div><div class=\"bz1lBb\"><form class=\"Pg70bf\" id=\"sf\"><input name=\"sca_esv\" value=\"d6727fb810734362\" type=\"hidden\"><input name=\"ie\" value=\"ISO-8859-1\" type=\"hidden\"><div class=\"H0PQec\"><div class=\"sbc esbc\"><input class=\"noHIxc\" value=\"thataiguy\" autocapitalize=\"none\" autocomplete=\"off\" name=\"q\" spellcheck=\"false\" type=\"text\"><input name=\"oq\" type=\"hidden\"><input name=\"aqs\" type=\"hidden\"><div class=\"x\">×</div><div class=\"sc\"></div></div></div><button id=\"qdClwb\" type=\"submit\"></button></form></div><noscript><meta content=\"0;url=/search?q=thataiguy&amp;sca_esv=d6727fb810734362&amp;ie=UTF-8&amp;gbv=1&amp;sei=k179ZZGHK_WaseMPhaWgiAw\" http-equiv=\"refresh\"><style>table,div,span,p{display:none}</style><div style=\"display:block\">Please click <a href=\"/search?q=thataiguy&amp;sca_esv=d6727fb810734362&amp;ie=UTF-8&amp;gbv=1&amp;sei=k179ZZGHK_WaseMPhaWgiAw\">here</a> if you are not redirected within a few seconds.</div></noscript></header><div id=\"main\"><div><div class=\"KP7LCb\"> <div class=\"bRsWnc\"> <div class=\"N6RWV\"> <div class=\"Pg70bf Uv67qb\"> <span class=\"OXXup\">All</span><a class=\"eZt8xd\" href=\"/search?q=thataiguy&amp;sca_esv=d6727fb810734362&amp;ie=UTF-8&amp;tbm=vid&amp;source=lnms&amp;sa=X&amp;ved=0ahUKEwjRnIXj1YeFAxV1TWwGHYUSCMEQ_AUIBigB\">Videos</a><a class=\"eZt8xd\" href=\"/search?q=thataiguy&amp;sca_esv=d6727fb810734362&amp;ie=UTF-8&amp;tbm=isch&amp;source=lnms&amp;sa=X&amp;ved=0ahUKEwjRnIXj1YeFAxV1TWwGHYUSCMEQ_AUIBygC\">Images</a><a class=\"eZt8xd\" href=\"/url?q=https://maps.google.com/maps%3Fq%3Dthataiguy%26um%3D1%26ie%3DUTF-8%26ved%3D1t:200713%26ictx%3D111&amp;opi=89978449&amp;sa=U&amp;ved=0ahUKEwjRnIXj1YeFAxV1TWwGHYUSCMEQiaAMCAgoAw&amp;usg=AOvVaw00chNBWW4_McgjJtTvHjeh\">Maps</a>  <a href=\"/search?q=thataiguy&amp;sca_esv=d6727fb810734362&amp;ie=UTF-8&amp;tbm=nws&amp;source=lnms&amp;sa=X&amp;ved=0ahUKEwjRnIXj1YeFAxV1TWwGHYUSCMEQ_AUICSgE\">News</a>  <a href=\"/url?q=/search%3Fq%3Dthataiguy%26sca_esv%3Dd6727fb810734362%26ie%3DUTF-8%26tbm%3Dshop%26source%3Dlnms%26ved%3D1t:200713%26ictx%3D111&amp;opi=89978449&amp;sa=U&amp;ved=0ahUKEwjRnIXj1YeFAxV1TWwGHYUSCMEQiaAMCAooBQ&amp;usg=AOvVaw0NXezna488UtmuCeZ2_AfT\">Shopping</a>  <a href=\"/search?q=thataiguy&amp;sca_esv=d6727fb810734362&amp;ie=UTF-8&amp;tbm=bks&amp;source=lnms&amp;sa=X&amp;ved=0ahUKEwjRnIXj1YeFAxV1TWwGHYUSCMEQ_AUICygG\">Books</a>  <div class=\"FElbsf\"><a href=\"/advanced_search\" style=\"white-space:nowrap\" id=\"st-toggle\" role=\"button\">Search tools</a></div> </div> </div> </div> </div><div class=\"Pg70bf wEsjbd Gx5Zad xpd EtOod pkphOe\" style=\"display:none\" id=\"st-card\"><style>.wEsjbd{height:44px;white-space:nowrap}.coPU8c{height:60px;overflow-scrolling:touch;overflow-x:auto;overflow-y:hidden}.Xj2aue{height:44px;overflow:hidden}.RnNGze{margin:11px 16px}.wEsjbd div,.wEsjbd a,.wEsjbd li{outline-width:0;outline:none}</style><div class=\"Xj2aue\"><div class=\"coPU8c\"><div class=\"RnNGze\"><style>.PA9J5{display:inline-block}.RXaOfd{display:inline-block;height:22px;position:relative;padding-top:0;padding-bottom:0;padding-right:16px;padding-left:0;line-height:22px;cursor:pointer;text-transform:uppercase;font-size:12px;color:#70757a}.sa1toc{background:#fff;display:none;position:absolute;border:1px solid #dadce0;box-shadow:0 2px 4px rgba(0,0,0,.3);margin:0;white-space:nowrap;z-index:103;line-height:17px;padding-top:5px;padding-bottom:5px;padding-left:0}.PA9J5:hover .sa1toc{display:block}.mGSy8d a:active,.RXaOfd:active{color:#4285f4}</style><div class=\"PA9J5\"><div class=\"RXaOfd\" role=\"button\" tabindex=\"0\"><style>.TWMOUc{display:inline-block;padding-right:14px;white-space:nowrap}.vQYuGf{font-weight:bold}.OmTIzf{border-color:#909090 transparent;border-style:solid;border-width:4px 4px 0 4px;width:0;height:0;margin-left:-10px;top:50%;margin-top:-2px;position:absolute}.RXaOfd:active .OmTIzf{border-color:#4285f4 transparent}</style><div class=\"TWMOUc\">Any time</div><span class=\"OmTIzf\"></span></div><ul class=\"sa1toc ozatM\"><style>.ozatM{font-size:12px;text-transform:uppercase}.ozatM .yNFsl,.ozatM li{list-style-type:none;list-style-position:outside;list-style-image:none}.yNFsl.SkUj4c,.yNFsl a{color:#70757a;text-decoration:none;padding:6px 44px 6px 14px;line-height:17px;display:block}.SkUj4c{background-image:url(//ssl.gstatic.com/ui/v1/menu/checkmark2.png);background-position:right center;background-repeat:no-repeat}.SkUj4c:active{background-color:#f8f9fa}</style><li class=\"yNFsl SkUj4c\">Any time</li><li class=\"yNFsl\"><a href=\"/search?q=thataiguy&amp;sca_esv=d6727fb810734362&amp;ie=UTF-8&amp;source=lnt&amp;tbs=qdr:h&amp;sa=X&amp;ved=0ahUKEwjRnIXj1YeFAxV1TWwGHYUSCMEQpwUIDQ\">Past hour</a></li><li class=\"yNFsl\"><a href=\"/search?q=thataiguy&amp;sca_esv=d6727fb810734362&amp;ie=UTF-8&amp;source=lnt&amp;tbs=qdr:d&amp;sa=X&amp;ved=0ahUKEwjRnIXj1YeFAxV1TWwGHYUSCMEQpwUIDg\">Past 24 hours</a></li><li class=\"yNFsl\"><a href=\"/search?q=thataiguy&amp;sca_esv=d6727fb810734362&amp;ie=UTF-8&amp;source=lnt&amp;tbs=qdr:w&amp;sa=X&amp;ved=0ahUKEwjRnIXj1YeFAxV1TWwGHYUSCMEQpwUIDw\">Past week</a></li><li class=\"yNFsl\"><a href=\"/search?q=thataiguy&amp;sca_esv=d6727fb810734362&amp;ie=UTF-8&amp;source=lnt&amp;tbs=qdr:m&amp;sa=X&amp;ved=0ahUKEwjRnIXj1YeFAxV1TWwGHYUSCMEQpwUIEA\">Past month</a></li><li class=\"yNFsl\"><a href=\"/search?q=thataiguy&amp;sca_esv=d6727fb810734362&amp;ie=UTF-8&amp;source=lnt&amp;tbs=qdr:y&amp;sa=X&amp;ved=0ahUKEwjRnIXj1YeFAxV1TWwGHYUSCMEQpwUIEQ\">Past year</a></li></ul></div><div class=\"PA9J5\"><div class=\"RXaOfd\" role=\"button\" tabindex=\"0\"><div class=\"TWMOUc\">All results</div><span class=\"OmTIzf\"></span></div><ul class=\"sa1toc ozatM\"><li class=\"yNFsl SkUj4c\">All results</li><li class=\"yNFsl\"><a href=\"/search?q=thataiguy&amp;sca_esv=d6727fb810734362&amp;ie=UTF-8&amp;source=lnt&amp;tbs=li:1&amp;sa=X&amp;ved=0ahUKEwjRnIXj1YeFAxV1TWwGHYUSCMEQpwUIEw\">Verbatim</a></li></ul></div></div></div></div><script nonce=\"8FceEA2fBTyKHxRl4RMHIg\">(function(){var a=document.getElementById(\"st-toggle\"),b=document.getElementById(\"st-card\");a&&b&&a.addEventListener(\"click\",function(c){b.style.display=b.style.display?\"\":\"none\";c.preventDefault()},!1);}).call(this);</script></div></div><style>.Gx5Zad{background-color:#fff;margin-bottom:30px;box-shadow:0 0 0 1px #dfe1e5;border-radius:8px}.pkphOe{font-size:14px;line-height:22px;}.EtOod>*:first-child{border-top-left-radius:8px;border-top-right-radius:8px}.EtOod>*:last-child{border-bottom-left-radius:8px;border-bottom-right-radius:8px}.EtOod.avPKgf>*:last-child{border-bottom-left-radius:4px}.EtOod>.qxDOhb>*:first-child{border-top-left-radius:8px;border-top-right-radius:8px}.EtOod>.qxDOhb>*:last-child{border-bottom-left-radius:8px;border-bottom-right-radius:8px}.fP1Qef{background:transparent !important;box-shadow:none !important;border:none !important}.Gx5Zad.fP1Qef{margin-top:-12px;margin-bottom:18px}.rl7ilb{display:block;clear:both}.egMi0{margin-bottom:-19px}.kCrYT{padding:12px 16px 12px}a.fdYsqf{color:#4b11a8}.sCuL3{position:absolute;width:100%;top:0;left:0;padding-top:1px;margin-bottom:-1px}.j039Wc{padding-top:28px;margin-bottom:-1px}.DnJfK{position:relative}.l97dzf{font-weight:400}.zBAuLc{line-height:normal;margin:0;padding:0}.BNeawe{white-space:pre-line;word-wrap:break-word}.vvjwJb{color:#1a0dab;font-size:20px;line-height:26px}a:visited .vvjwJb,.vvjwJb a:visited{color:#4b11a8}.vvjwJb.HrGdeb{color:#fff}a:visited .vvjwJb.HrGdeb,.vvjwJb.HrGdeb a:visited{color:rgba(255,255,255,.70)}.UPmit{font-size:14px;line-height:22px}.UPmit.HrGdeb{color:rgba(255,255,255,.70)}.UPmit.AP7Wnd{color:#202124}.lRVwie{text-overflow:ellipsis;white-space:nowrap;overflow:hidden}.Ap5OSd{padding-bottom:12px}.s3v9rd{font-size:14px;line-height:22px}.s3v9rd.HrGdeb{color:#fff}.s3v9rd.AP7Wnd{color:#202124}.mSx1Ee{padding-left:48px;margin:0}.v9i61e{padding-bottom:8px}.r0bn4c.tr0dw{color:rgba(255,255,255,.70)}.r0bn4c.rQMQod{color:#70757a}.rLshyf,.BmP5tf{padding-top:12px;padding-bottom:12px}.YOx3Ab{padding-left:16px;}.w1C3Le,.BmP5tf,.G5NbBd,.CS4w5b{padding-left:16px;padding-right:16px;}.G5NbBd{padding-bottom:12px}.CS4w5b{padding-top:12px}.nMymef{display:flex}.G5eFlf{flex:1;display:block}.nMymef span{text-align:center}.EYqSq{margin:6px 4px 9px 0;border-radius:100%;display:inline-block;height:10px;vertical-align:middle;width:10px}.dfB0uf{color:#3c4043;font-weight:bold}.IffyKc{word-wrap:break-word}</style><div></div><div><div class=\"Gx5Zad fP1Qef xpd EtOod pkphOe\"><div class=\"egMi0 kCrYT\"><a href=\"/url?q=https://www.youtube.com/%40ThatAIGuy&amp;sa=U&amp;ved=2ahUKEwjRnIXj1YeFAxV1TWwGHYUSCMEQFnoECAcQAg&amp;usg=AOvVaw2F9BOiW2ElZRVcPf-T6YrY\" data-ved=\"2ahUKEwjRnIXj1YeFAxV1TWwGHYUSCMEQFnoECAcQAg\"><div class=\"DnJfK\"><div class=\"j039Wc\"><h3 class=\"zBAuLc l97dzf\"><div class=\"BNeawe vvjwJb AP7Wnd\">ThatAIGuy - YouTube</div></h3></div><div class=\"sCuL3\"><div class=\"BNeawe UPmit AP7Wnd lRVwie\">www.youtube.com &#8250; @ThatAIGuy</div></div></div></a></div><div class=\"kCrYT\"><div><div class=\"BNeawe s3v9rd AP7Wnd\"><div><div><div class=\"BNeawe s3v9rd AP7Wnd\">This video will help you understand how to work with multiple developers on a single code base. In this video, you will completely get to know - 1.</div></div></div></div></div></div></div></div><div><div class=\"Gx5Zad fP1Qef xpd EtOod pkphOe\"><div class=\"egMi0 kCrYT\"><a href=\"/url?q=https://github.com/theAIGuysCode&amp;sa=U&amp;ved=2ahUKEwjRnIXj1YeFAxV1TWwGHYUSCMEQFnoECAkQAg&amp;usg=AOvVaw3eiSJ0xmJjLbgCEFV9xfr1\" data-ved=\"2ahUKEwjRnIXj1YeFAxV1TWwGHYUSCMEQFnoECAkQAg\"><div class=\"DnJfK\"><div class=\"j039Wc\"><h3 class=\"zBAuLc l97dzf\"><div class=\"BNeawe vvjwJb AP7Wnd\">The AI Guy theAIGuysCode - GitHub</div></h3></div><div class=\"sCuL3\"><div class=\"BNeawe UPmit AP7Wnd lRVwie\">github.com &#8250; theAIGuysCode</div></div></div></a></div><div class=\"kCrYT\"><div><div class=\"BNeawe s3v9rd AP7Wnd\"><div><div><div class=\"BNeawe s3v9rd AP7Wnd\">A Wide Range of Custom Functions for YOLOv4, YOLOv4-tiny, YOLOv3, and YOLOv3-tiny Implemented in TensorFlow, TFLite, and TensorRT. Python ...</div></div></div></div></div></div></div></div><div><div class=\"Gx5Zad fP1Qef xpd EtOod pkphOe\"><div class=\"egMi0 kCrYT\"><a href=\"/url?q=https://www.youtube.com/c/ThatAIGuy&amp;sa=U&amp;ved=2ahUKEwjRnIXj1YeFAxV1TWwGHYUSCMEQFnoECAgQAg&amp;usg=AOvVaw1tvlVPjKtreHj8h3S-DDl9\" data-ved=\"2ahUKEwjRnIXj1YeFAxV1TWwGHYUSCMEQFnoECAgQAg\"><div class=\"DnJfK\"><div class=\"j039Wc\"><h3 class=\"zBAuLc l97dzf\"><div class=\"BNeawe vvjwJb AP7Wnd\">ThatAIGuy - YouTube</div></h3></div><div class=\"sCuL3\"><div class=\"BNeawe UPmit AP7Wnd lRVwie\">www.youtube.com &#8250; ThatAIGuy</div></div></div></a></div><div class=\"kCrYT\"><div><div class=\"BNeawe s3v9rd AP7Wnd\"><div><div><div class=\"BNeawe s3v9rd AP7Wnd\">@ThatAIGuy&#8231;1.15K subscribers&#8231;1 video&#8231;. More about this channel. thataiguy.com. Subscribe. Home. Videos. Community. Search ...</div></div></div></div></div></div></div></div><div><div class=\"Gx5Zad fP1Qef xpd EtOod pkphOe\"><div class=\"egMi0 kCrYT\"><a href=\"/url?q=https://twitter.com/thataiguy%3Flang%3Den&amp;sa=U&amp;ved=2ahUKEwjRnIXj1YeFAxV1TWwGHYUSCMEQFnoECAAQAg&amp;usg=AOvVaw287RsCgo5XLO0dmBsjF5V6\" data-ved=\"2ahUKEwjRnIXj1YeFAxV1TWwGHYUSCMEQFnoECAAQAg\"><div class=\"DnJfK\"><div class=\"j039Wc\"><h3 class=\"zBAuLc l97dzf\"><div class=\"BNeawe vvjwJb AP7Wnd\">Official AI Guy (@ThatAIGuy) / X</div></h3></div><div class=\"sCuL3\"><div class=\"BNeawe UPmit AP7Wnd lRVwie\">twitter.com &#8250; thataiguy</div></div></div></a></div><div class=\"kCrYT\"><div><div class=\"BNeawe s3v9rd AP7Wnd\"><div><div><div class=\"BNeawe s3v9rd AP7Wnd\">Published Author, AI Researcher, Data Wrangler, Quantum Computing Technologist, C-level Executive, Venture Capital Adviser.</div></div></div></div></div></div></div></div><div><div class=\"Gx5Zad fP1Qef xpd EtOod pkphOe\"><div class=\"egMi0 kCrYT\"><a href=\"/url?q=https://www.pinterest.com/ThatAIGuy/&amp;sa=U&amp;ved=2ahUKEwjRnIXj1YeFAxV1TWwGHYUSCMEQFnoECAYQAg&amp;usg=AOvVaw19uWMiwV2ds-gZ6J3MmBZM\" data-ved=\"2ahUKEwjRnIXj1YeFAxV1TWwGHYUSCMEQFnoECAYQAg\"><div class=\"DnJfK\"><div class=\"j039Wc\"><h3 class=\"zBAuLc l97dzf\"><div class=\"BNeawe vvjwJb AP7Wnd\">That AIGuy (ThatAIGuy) - Profile - Pinterest</div></h3></div><div class=\"sCuL3\"><div class=\"BNeawe UPmit AP7Wnd lRVwie\">www.pinterest.com &#8250; ThatAIGuy</div></div></div></a></div><div class=\"kCrYT\"><div><div class=\"BNeawe s3v9rd AP7Wnd\"><div><div><div class=\"BNeawe s3v9rd AP7Wnd\">That AIGuy | I specialize in creating unique and eye-catching digital art; with the help of AI. My collection is a little eclectic but I hope to make things ...</div></div></div></div></div></div></div></div><div><div class=\"Gx5Zad fP1Qef xpd EtOod pkphOe\"><div class=\"egMi0 kCrYT\"><a href=\"/url?q=https://www.tiktok.com/%40thataiguy.tools%3Flang%3Den&amp;sa=U&amp;ved=2ahUKEwjRnIXj1YeFAxV1TWwGHYUSCMEQFnoECAEQAg&amp;usg=AOvVaw1_S9X5rKCfkSBP8f2CeA6E\" data-ved=\"2ahUKEwjRnIXj1YeFAxV1TWwGHYUSCMEQFnoECAEQAg\"><div class=\"DnJfK\"><div class=\"j039Wc\"><h3 class=\"zBAuLc l97dzf\"><div class=\"BNeawe vvjwJb AP7Wnd\">That AI Guy (@thataiguy.tools) - TikTok</div></h3></div><div class=\"sCuL3\"><div class=\"BNeawe UPmit AP7Wnd lRVwie\">www.tiktok.com &#8250; That AI Guy (@thataiguy.tools) | TikTok</div></div></div></a></div><div class=\"kCrYT\"><div><div class=\"BNeawe s3v9rd AP7Wnd\"><div><div><div class=\"BNeawe s3v9rd AP7Wnd\"><span class=\"r0bn4c rQMQod\">28 Oct 2022</span><span class=\"r0bn4c rQMQod\"> · </span>I share AI tools for faster and easier content creation https://bit.ly/3ReI1Ug · Motion Capture with AI. · FREE AI art website. · Did you know ...</div></div></div></div></div></div></div></div><div><div class=\"Gx5Zad fP1Qef xpd EtOod pkphOe\"><div class=\"egMi0 kCrYT\"><a href=\"/url?q=https://medium.com/%40Blockchain_CEO&amp;sa=U&amp;ved=2ahUKEwjRnIXj1YeFAxV1TWwGHYUSCMEQFnoECAQQAg&amp;usg=AOvVaw3WhOBjxmjt-8fG0ITeqPsH\" data-ved=\"2ahUKEwjRnIXj1YeFAxV1TWwGHYUSCMEQFnoECAQQAg\"><div class=\"DnJfK\"><div class=\"j039Wc\"><h3 class=\"zBAuLc l97dzf\"><div class=\"BNeawe vvjwJb AP7Wnd\">That AI Guy - Medium</div></h3></div><div class=\"sCuL3\"><div class=\"BNeawe UPmit AP7Wnd lRVwie\">medium.com &#8250; ...</div></div></div></a></div><div class=\"kCrYT\"><div><div class=\"BNeawe s3v9rd AP7Wnd\"><div><div><div class=\"BNeawe s3v9rd AP7Wnd\">As an advisor to technology startups and VC/Private Equity firms I come across many creative individuals and teams. Without exception, the founders and their ...</div></div></div></div></div></div></div></div><div><div class=\"Gx5Zad fP1Qef xpd EtOod pkphOe\"><div class=\"egMi0 kCrYT\"><a href=\"/url?q=https://in.linkedin.com/in/that-ai-guy-57905a2b8&amp;sa=U&amp;ved=2ahUKEwjRnIXj1YeFAxV1TWwGHYUSCMEQFnoECAIQAg&amp;usg=AOvVaw3iysSBd_3MvOVzP7I39Uns\" data-ved=\"2ahUKEwjRnIXj1YeFAxV1TWwGHYUSCMEQFnoECAIQAg\"><div class=\"DnJfK\"><div class=\"j039Wc\"><h3 class=\"zBAuLc l97dzf\"><div class=\"BNeawe vvjwJb AP7Wnd\">That AI guy - AI Intern - Freelance - LinkedIn</div></h3></div><div class=\"sCuL3\"><div class=\"BNeawe UPmit AP7Wnd lRVwie\">in.linkedin.com &#8250; ...</div></div></div></a></div><div class=\"kCrYT\"><div><div class=\"BNeawe s3v9rd AP7Wnd\"><div><div><div class=\"BNeawe s3v9rd AP7Wnd\">That AI guy · Exploring AI's · View mutual connections with That AI · Welcome back · Experience · Explore collaborative articles · View That AI's full profile.</div></div></div></div></div></div></div></div><div><div class=\"Gx5Zad fP1Qef xpd EtOod pkphOe\"><div class=\"egMi0 kCrYT\"><a href=\"/url?q=https://www.reddit.com/r/iitkgp/comments/1bbae8v/that_ai_guy_from_iitkgp_is_ruining_my_youtube/&amp;sa=U&amp;ved=2ahUKEwjRnIXj1YeFAxV1TWwGHYUSCMEQFnoECAUQAg&amp;usg=AOvVaw132QAEH5z6Uw_ZkV8Ovh60\" data-ved=\"2ahUKEwjRnIXj1YeFAxV1TWwGHYUSCMEQFnoECAUQAg\"><div class=\"DnJfK\"><div class=\"j039Wc\"><h3 class=\"zBAuLc l97dzf\"><div class=\"BNeawe vvjwJb AP7Wnd\">That AI guy from IITKGP is ruining my Youtube experience. - Reddit</div></h3></div><div class=\"sCuL3\"><div class=\"BNeawe UPmit AP7Wnd lRVwie\">www.reddit.com &#8250; iitkgp &#8250; comments &#8250; that_ai_guy_from_iitkgp_is_ruinin...</div></div></div></a></div><div class=\"kCrYT\"><div><div class=\"BNeawe s3v9rd AP7Wnd\"><div><div><div class=\"BNeawe s3v9rd AP7Wnd\"><span class=\"r0bn4c rQMQod\">10 Mar 2024</span><span class=\"r0bn4c rQMQod\"> · </span>Aditya Kachave. Reminds me of a saying which is very popular in IIT circles. &#8220;Most people grow up to be proud of the fact they were from IIT ...</div></div></div></div></div></div></div></div><div><div class=\"Gx5Zad fP1Qef xpd EtOod pkphOe\"><div class=\"egMi0 kCrYT\"><a href=\"/url?q=https://www.fiverr.com/thataiguy/make-100-high-quality-ai-images-of-anything-you-request&amp;sa=U&amp;ved=2ahUKEwjRnIXj1YeFAxV1TWwGHYUSCMEQFnoECAMQAg&amp;usg=AOvVaw0oo8sZPPdmVHpCJsWqi1ev\" data-ved=\"2ahUKEwjRnIXj1YeFAxV1TWwGHYUSCMEQFnoECAMQAg\"><div class=\"DnJfK\"><div class=\"j039Wc\"><h3 class=\"zBAuLc l97dzf\"><div class=\"BNeawe vvjwJb AP7Wnd\">Make 100 high quality ai images of anything you request by Thataiguy</div></h3></div><div class=\"sCuL3\"><div class=\"BNeawe UPmit AP7Wnd lRVwie\">www.fiverr.com &#8250; Graphics &amp; Design &#8250; Other</div></div></div></a></div><div class=\"kCrYT\"><div><div class=\"BNeawe s3v9rd AP7Wnd\"><div><div class=\"v9i61e\"><div class=\"BNeawe s3v9rd AP7Wnd\"><span class=\"r0bn4c rQMQod\">$5.00</span></div></div><div><div class=\"BNeawe s3v9rd AP7Wnd\">Fiverr freelancer will provide Other services and make 100 high quality ai images of anything you request within 1 day.</div></div></div></div></div></div></div></div><footer> <div>  <div class=\"Gx5Zad xpd EtOod pkphOe BmP5tf\"><div class=\"nMymef Va3FIb lVm3ye\"><a class=\"nBDE1b G5eFlf\" href=\"/search?q=thataiguy&amp;sca_esv=d6727fb810734362&amp;ie=UTF-8&amp;ei=k179ZZGHK_WaseMPhaWgiAw&amp;start=10&amp;sa=N\" aria-label=\"Next page\">Next &gt;</a></div></div> </div>  <div id=\"EOlPnc\"><div class=\"Srfpq\"><div><span class=\"EYqSq unknown_loc\"></span><span class=\"dfB0uf\">641004, Coimbatore, Tamil Nadu</span></div><span>From your IP address</span><span>&nbsp;-&nbsp;</span><a class=\"IffyKc\" href=\"/url?q=https://support.google.com/websearch%3Fp%3Dws_settings_location%26hl%3Den-IN&amp;opi=89978449&amp;sa=U&amp;ved=0ahUKEwjRnIXj1YeFAxV1TWwGHYUSCMEQty4IQA&amp;usg=AOvVaw0617KXxjdYw-UcmigB_xMx\" aria-label=\"Learn more about this location\" tabindex=\"0\">Learn more</a></div><div><a href=\"/url?q=https://accounts.google.com/ServiceLogin%3Fcontinue%3Dhttps://www.google.com/search%253Fq%253Dthataiguy%26hl%3Den&amp;opi=89978449&amp;sa=U&amp;ved=0ahUKEwjRnIXj1YeFAxV1TWwGHYUSCMEQxs8CCEE&amp;usg=AOvVaw1SnYWNoQLgUHH05-N7dd0z\">Sign in</a></div><div><a class=\"xeDNfc\" href=\"https://www.google.com/preferences?hl=en-IN&amp;fg=1&amp;sa=X&amp;ved=0ahUKEwjRnIXj1YeFAxV1TWwGHYUSCMEQ5fUCCEI\">Settings</a><a class=\"xeDNfc\" href=\"https://policies.google.com/privacy?hl=en-IN&amp;fg=1\">Privacy</a><a class=\"xeDNfc\" href=\"https://policies.google.com/terms?hl=en-IN&amp;fg=1\">Terms</a><a class=\"xeDNfc\" href=\"/setprefs?hl=en&amp;prev=https://www.google.com/search?q%3Dthataiguy%26pccc%3D1&amp;sig=0_oGDw9VZzkbL7Yn3Zw2l_7dfoQ0k%3D&amp;cs=2&amp;sa=X&amp;ved=0ahUKEwjRnIXj1YeFAxV1TWwGHYUSCMEQjcAJCEM\">Dark theme: Off</a></div></div> </footer><script nonce=\"8FceEA2fBTyKHxRl4RMHIg\">(function(){var hl='en-IN';(function(){\n",
      "var f=this||self,g=function(a){return a};var h,k=function(){if(void 0===h){var a=null,b=f.trustedTypes;if(b&&b.createPolicy){try{a=b.createPolicy(\"goog#html\",{createHTML:g,createScript:g,createScriptURL:g})}catch(c){f.console&&f.console.error(c.message)}h=a}else h=a}return h};var p=function(a,b){this.g=a===l&&b||\"\";this.i=m};p.prototype.toString=function(){return this.g};var q=function(a){return a instanceof p&&a.constructor===p&&a.i===m?a.g:\"type_error:Const\"},m={},l={};var r=function(a){this.g=a};r.prototype.toString=function(){return this.g+\"\"};var t=function(a){return a instanceof r&&a.constructor===r?a.g:\"type_error:TrustedResourceUrl\"},x=function(){var a={},b=q(new p(l,\"/complete/search\"));if(!u.test(b))throw Error(\"e`\"+b);var c=b.replace(v,function(e,d){if(!Object.prototype.hasOwnProperty.call(a,d))throw Error(\"f`\"+d+\"`\"+b+\"`\"+JSON.stringify(a));e=a[d];return e instanceof p?q(e):encodeURIComponent(String(e))});return w(c)},v=/%{(\\w+)}/g,u=RegExp(\"^((https:)?//[0-9a-z.:[\\\\]-]+/|/[^/\\\\\\\\]|[^:/\\\\\\\\%]+/|[^:/\\\\\\\\%]*[?#]|about:blank#)\",\"i\"),y=/^([^?#]*)(\\?[^#]*)?(#[\\s\\S]*)?/,z={},w=function(a){var b=k();a=b?b.createScriptURL(a):a;return new r(a,z)},A=function(a,b,c){if(null==c)return b;if(\"string\"===typeof c)return c?a+encodeURIComponent(c):\"\";for(var e in c)if(Object.prototype.hasOwnProperty.call(c,e)){var d=c[e];d=Array.isArray(d)?d:[d];for(var n=0;n<d.length;n++){var O=d[n];null!=O&&(b||(b=a),b+=(b.length>a.length?\"&\":\"\")+encodeURIComponent(e)+\"=\"+encodeURIComponent(String(O)))}}return b};var B={},C=function(a){this.g=a};C.prototype.toString=function(){return this.g.toString()};\n",
      "function D(a,b){if(1===a.nodeType){var c=a.tagName;if(\"SCRIPT\"===c||\"STYLE\"===c)throw Error(\"g\");}a.innerHTML=b instanceof C&&b.constructor===C?b.g:\"type_error:SafeHtml\"};function E(a){a=null===a?\"null\":void 0===a?\"undefined\":a;var b=k();a=b?b.createHTML(a):a;return new C(a,B)};var F=document.querySelector(\".l\"),G=document.querySelector(\"#sf\"),H=G.querySelector(\".sbc\"),I=G.querySelector(\"[type=text]\"),J=G.querySelector(\"[type=submit]\"),K=G.querySelector(\".sc\"),L=G.querySelector(\".x\"),M=I.value,N=[],P=-1,Q=M,R,S,T;M||(L&&(L.style.display=\"none\"),U(!1));function U(a){if(H.classList.contains(\"esbc\")){var b=H.classList.contains(\"chsbc\"),c=H.classList.contains(\"rtlsbc\");a&&(K.style.display=\"block\",b?(G.style.borderRadius=\"20px 20px 0 0\",K.style.borderBottom=\"1px solid #DFE1E5\",J.style.borderRadius=c?\"20px 0 0 0\":\"0 20px 0 0\"):H.style.borderRadius=c?\"0 8px 0 0\":\"8px 0 0 0\");a||(K.style.display=\"none\",b?(G.style.borderRadius=\"20px\",K.style.borderBottom=\"none\",J.style.borderRadius=c?\"20px 0 0 20px\":\"0 20px 20px 0\"):H.style.borderRadius=c?\"0 8px 8px 0\":\"8px 0 0 8px\")}}function V(){G.querySelector(\"[name=oq]\").value=Q;G.querySelector(\"[name=aqs]\").value=\"heirloom-srp.\"+(0<=P?P:\"\")+\".\"+(0<N.length?\"0l\"+N.length:\"\")}\n",
      "function W(){R=null;if(S){var a={client:\"heirloom-srp\",hl:hl,json:\"t\",callback:\"hS\",q:S};\"undefined\"!==typeof ds&&ds&&(a.ds=ds);var b=document;var c=\"SCRIPT\";\"application/xhtml+xml\"===b.contentType&&(c=c.toLowerCase());c=b.createElement(c);b=x();b=y.exec(t(b).toString());var e=b[3]||\"\";a=w(b[1]+A(\"?\",b[2]||\"\",a)+A(\"#\",e));c.src=t(a);var d,n;(d=(a=null==(n=(d=(c.ownerDocument&&c.ownerDocument.defaultView||window).document).querySelector)?void 0:n.call(d,\"script[nonce]\"))?a.nonce||a.getAttribute(\"nonce\")||\n",
      "\"\":\"\")&&c.setAttribute(\"nonce\",d);document.body.appendChild(c);S=null;R=setTimeout(W,500)}}function X(){for(;K.firstChild;)K.removeChild(K.firstChild);N=[];P=-1;U(!1)}function Y(){var a=K.querySelector(\".scs\");a&&(a.className=\"\");0<=P?(a=K.childNodes[P],a.className=\"scs\",M=a.textContent):M=Q;I.value=M}I.addEventListener(\"focus\",function(){F&&(F.style.display=\"none\")},!1);I.addEventListener(\"blur\",function(){X();F&&(F.style.display=\"\")},!1);I.addEventListener(\"keyup\",function(a){M=I.value;T=!1;13===a.which?V():27===a.which?(X(),F&&(F.style.display=\"\"),M=Q,I.value=M):40===a.which?(P++,P>=N.length&&(P=-1),Y()):38===a.which?(P--,-1>P&&(P=N.length-1),Y()):(a=M)?(L&&(L.style.display=\"\"),S=a,R||W(),Q=a):(L&&(L.style.display=\"none\"),U(!1),X(),Q=\"\",T=!0)},!1);J.addEventListener(\"click\",V,!1);L.addEventListener(\"click\",function(){I.value=\"\";L.style.display=\"none\";U(!1)},!1);H.addEventListener(\"click\",function(){I.focus()},!1);window.hS=function(a){if(!T){X();0===a[1].length&&U(!1);for(var b=0;b<a[1].length;b++){var c=a[1][b][0],e=document.createElement(\"div\");D(e,E(c));e.addEventListener(\"mousedown\",function(d){d.preventDefault();return!1},!1);c=c.replace(/<\\/?b>/g,\"\");e.addEventListener(\"click\",function(d){return function(){P=d;V();Y();X();G.submit()}}(b),!1);e.addEventListener(\"mouseover\",function(d){return function(){P!==d&&(P=d,Y())}}(b),!1);K.appendChild(e);U(!0);N.push(c)}}};}).call(this);})();(function(){function b(a){for(a=a.target||a.srcElement;a&&\"A\"!==a.nodeName;)a=a.parentElement;a&&(a.href||\"\").match(/\\/search.*[?&]tbm=isch/)&&(a.href+=\"&biw=\"+document.documentElement.clientWidth,a.href+=\"&bih=\"+document.documentElement.clientHeight)}document.addEventListener(\"click\",b,!1);document.addEventListener(\"touchStart\",b,!1);}).call(this);</script></div><!-- cctlcm 5 cctlcm --><textarea class=\"csi\" name=\"csi\" style=\"display:none\"></textarea><script nonce=\"8FceEA2fBTyKHxRl4RMHIg\">(function(){var e='k179ZZGHK_WaseMPhaWgiAw';var sn='web';var timl=false;(function(){function C(a){if(!a||D(a))return 0;if(!a.getBoundingClientRect)return 1;var c=function(d){return d.getBoundingClientRect()};if(E(a,c))return 0;var b;return K(a,c,null==(b=google.c)?void 0:b.cvb)}\n",
      "function E(a,c){var b;a:{for(b=a;b&&null!==b;b=b.parentElement)if(\"hidden\"===b.style.overflow||\"G-EXPANDABLE-CONTENT\"===b.tagName&&\"hidden\"===getComputedStyle(b).getPropertyValue(\"overflow\"))break a;b=null}if(!b)return!1;a=c(a);c=c(b);return a.bottom<c.top||a.top>=c.bottom||a.right<c.left||a.left>=c.right}\n",
      "function D(a){return\"none\"===a.style.display?!0:document.defaultView&&document.defaultView.getComputedStyle?(a=document.defaultView.getComputedStyle(a),!!a&&(\"hidden\"===a.visibility||\"0px\"===a.height&&\"0px\"===a.width)):!1}\n",
      "function K(a,c){var b=c(a);a=b.left+window.pageXOffset;c=b.top+window.pageYOffset;var d=b.width;b=b.height;var f=0;if(0>=b&&0>=d)return f;var q=window.innerHeight||document.documentElement.clientHeight;0>c+b?f=2:c>=q&&(f=4);if(0>a+d||a>=(window.innerWidth||document.documentElement.clientWidth))f|=8;f||(f=1,c+b>q&&(f|=4));return f};var L=e,M=sn,N=\"undefined\"===typeof de?!0:!1!==de,O=[];function P(a,c,b){a=\"/gen_204?atyp=csi&s=\"+M+\"&t=\"+a+(\"&lite=1&ei=\"+L+\"&conn=\"+(window.navigator&&window.navigator.connection?window.navigator.connection.type:-1)+c);c=\"&rt=\";for(var d in b)a+=\"\"+c+d+\".\"+b[d],c=\",\";return a}function Q(a){a={prt:a};window.wsrt&&(a.wsrt=window.wsrt);return a}function R(a){window.ping?window.ping(a):(new Image).src=a}\n",
      "(function(){for(var a=(new Date).getTime()-window.start,c=Q(a),b=0,d=0,f=0,q=document.getElementsByTagName(\"img\"),r=N?\"&biw=\"+window.innerWidth+\"&bih=\"+window.innerHeight:\"\",F=function(){r+=\"&ima=\"+f;c.aft=b;R(P(\"aft\",r,c))},y=0,S=function(g,t,u){var n=g.src;g.onload=function(){u&&n&&n===g.src||(d=(new Date).getTime()-window.start,t&&++y===f&&(b=d,F()),g.onload=null)}},T=0,h=void 0;h=q[T++];){var v=C(h),p=!!(v&1);p&&++f;var l=h.hasAttribute(\"data-ilite\"),w=h.hasAttribute(\"data-deferred\"),G=h.hasAttribute(\"data-src\")||\n",
      "h.hasAttribute(\"data-lzysrc\"),z=!w&&!l&&G;O.push([v,w||l,z,h.id,l&&G]);l=(v=h.complete&&!w&&!(p&&z))&&Number(h.getAttribute(\"data-iml\"))||0;v&&l?(p&&++y,l&&(h=l-window.start,p&&(b=Math.max(b,h)),d=Math.max(d,h))):S(h,p,w||z)}b||(b=a);d||(d=b);y===f&&F();google.rglh&&google.rglh();window.addEventListener(\"load\",function(){window.setTimeout(function(){c.ol=(new Date).getTime()-window.start;timl&&(c.iml=d);var g=window.performance&&window.performance.timing;g&&(c.rqst=g.responseEnd-g.requestStart,c.rspt=\n",
      "g.responseEnd-g.responseStart);for(var t=g=0,u=0,n=0,H=0,I=0,U=0,k;k=O[U++];){var m=k[0],A=k[1],J=k[2],x=k[3];k=k[4]||google.ldi&&x&&google.ldi[x];x=0==m;var V=m&8,B=m&1;m=!B&&m&4;B&&(A&&!k||++u,J&&++I);A&&(B&&k&&++g,m&&!k&&++t);x||V?J||++H:A||++n}r+=\"&ime=\"+u+\"&imel=\"+I+(\"&imex=\"+n+\"&imeh=\"+H)+(\"&imea=\"+g+\"&imeb=\"+t);R(P(\"all\",r,c))},0)},!1)})();}).call(this);})();(function(){window.google=window.google||{};window.google.ishk=[];function a(){return window.scrollY+window.document.documentElement.clientHeight>=Math.max(document.body.scrollHeight,document.body.offsetHeight)}function b(){a()&&0===window.google.ishk.length&&(window.google.bs=!0,window.removeEventListener(\"scroll\",b))}a()?window.google.bs=!0:(window.google.bs=!1,window.addEventListener(\"scroll\",b));}).call(this);</script><script nonce=\"8FceEA2fBTyKHxRl4RMHIg\">(function(){var e='k179ZZGHK_WaseMPhaWgiAw';(function(){var a=e;if(2===(window.performance&&window.performance.navigation&&window.performance.navigation.type)){var b=\"\",c=[],d=void 0!==window.google&&void 0!==window.google.kOPI&&0!==window.google.kOPI?window.google.kOPI:null;null!=d&&c.push([\"opi\",d.toString()]);for(var f=0;f<c.length;f++){if(0===f||0<f)b+=\"&\";b+=c[f][0]+\"=\"+c[f][1]}window.ping(\"/gen_204?ct=backbutton&ei=\"+a+b)};}).call(this);})();(function(){var b=[function(){google.tick&&google.tick(\"load\",\"dcl\")}];google.dclc=function(a){b.length?b.push(a):a()};function c(){for(var a=b.shift();a;)a(),a=b.shift()}window.addEventListener?(document.addEventListener(\"DOMContentLoaded\",c,!1),window.addEventListener(\"load\",c,!1)):window.attachEvent&&window.attachEvent(\"onload\",c);}).call(this);(function(){var b=function(a){var c=0;return function(){return c<a.length?{done:!1,value:a[c++]}:{done:!0}}};\n",
      "var e=this||self;var g,h;a:{for(var k=[\"CLOSURE_FLAGS\"],l=e,n=0;n<k.length;n++)if(l=l[k[n]],null==l){h=null;break a}h=l}var p=h&&h[610401301];g=null!=p?p:!1;var q,r=e.navigator;q=r?r.userAgentData||null:null;function t(a){return g?q?q.brands.some(function(c){return(c=c.brand)&&-1!=c.indexOf(a)}):!1:!1}function u(a){var c;a:{if(c=e.navigator)if(c=c.userAgent)break a;c=\"\"}return-1!=c.indexOf(a)};function v(){return g?!!q&&0<q.brands.length:!1}function w(){return u(\"Safari\")&&!(x()||(v()?0:u(\"Coast\"))||(v()?0:u(\"Opera\"))||(v()?0:u(\"Edge\"))||(v()?t(\"Microsoft Edge\"):u(\"Edg/\"))||(v()?t(\"Opera\"):u(\"OPR\"))||u(\"Firefox\")||u(\"FxiOS\")||u(\"Silk\")||u(\"Android\"))}function x(){return v()?t(\"Chromium\"):(u(\"Chrome\")||u(\"CriOS\"))&&!(v()?0:u(\"Edge\"))||u(\"Silk\")}function y(){return u(\"Android\")&&!(x()||u(\"Firefox\")||u(\"FxiOS\")||(v()?0:u(\"Opera\"))||u(\"Silk\"))};var z=v()?!1:u(\"Trident\")||u(\"MSIE\");y();x();w();Object.freeze(new function(){});Object.freeze(new function(){});var A=!z&&!w(),D=function(a){if(/-[a-z]/.test(\"ved\"))return null;if(A&&a.dataset){if(y()&&!(\"ved\"in a.dataset))return null;a=a.dataset.ved;return void 0===a?null:a}return a.getAttribute(\"data-\"+\"ved\".replace(/([A-Z])/g,\"-$1\").toLowerCase())};var E=[],F=null;function G(a){a=a.target;var c=performance.now(),f=[],H=f.concat,d=E;if(!(d instanceof Array)){var m=\"undefined\"!=typeof Symbol&&Symbol.iterator&&d[Symbol.iterator];if(m)d=m.call(d);else if(\"number\"==typeof d.length)d={next:b(d)};else throw Error(\"a`\"+String(d));for(var B=[];!(m=d.next()).done;)B.push(m.value);d=B}E=H.call(f,d,[c]);if(a&&a instanceof HTMLElement)if(a===F){if(c=4<=E.length)c=5>(E[E.length-1]-E[E.length-4])/1E3;if(c){c=google.getEI(a);a.hasAttribute(\"data-ved\")?f=a?D(a)||\"\":\"\":f=(f=\n",
      "a.closest(\"[data-ved]\"))?D(f)||\"\":\"\";f=f||\"\";if(a.hasAttribute(\"jsname\"))a=a.getAttribute(\"jsname\");else{var C;a=null==(C=a.closest(\"[jsname]\"))?void 0:C.getAttribute(\"jsname\")}google.log(\"rcm\",\"&ei=\"+c+\"&ved=\"+f+\"&jsname=\"+(a||\"\"))}}else F=a,E=[c]}window.document.addEventListener(\"DOMContentLoaded\",function(){document.body.addEventListener(\"click\",G)});}).call(this);var w=function(a){var b=0;return function(){return b<a.length?{done:!1,value:a[b++]}:{done:!0}}};window.jsl=window.jsl||{};window.jsl.dh=function(a,b,m){try{var h=document.getElementById(a),e;if(!h&&(null==(e=google.stvsc)?0:e.dds)){e=[];var f=e.concat,c=google.stvsc.dds;if(c instanceof Array)var n=c;else{var p=\"undefined\"!=typeof Symbol&&Symbol.iterator&&c[Symbol.iterator];if(p)var g=p.call(c);else if(\"number\"==typeof c.length)g={next:w(c)};else throw Error(String(c)+\" is not an iterable or ArrayLike\");c=g;var q;for(g=[];!(q=c.next()).done;)g.push(q.value);n=g}var r=f.call(e,n);for(f=0;f<r.length&&!(h=r[f].getElementById(a));f++);}if(h)h.innerHTML=b,m&&m();else{var d={id:a,script:String(!!m),milestone:String(google.jslm||0)};google.jsla&&(d.async=google.jsla);var t=a.indexOf(\"_\"),k=0<t?a.substring(0,t):\"\",u=document.createElement(\"div\");u.innerHTML=b;var l=u.children[0];if(l&&(d.tag=l.tagName,d[\"class\"]=String(l.className||null),d.name=String(l.getAttribute(\"jsname\")),k)){a=[];var v=document.querySelectorAll('[id^=\"'+k+'_\"]');for(b=0;b<v.length;++b)a.push(v[b].id);d.ids=a.join(\",\")}google.ml(Error(k?\"Missing ID with prefix \"+\n",
      "k:\"Missing ID\"),!1,d)}}catch(x){google.ml(x,!0,{\"jsl.dh\":!0})}};(function(){var x=false;google.jslm=x?2:1;})();(function(){(function(){google.csct={};google.csct.ps='AOvVaw3Qao98OHPDxUyfLvI6mt6h\\x26ust\\x3d1711190035796856';})();})();(function(){(function(){google.csct.rd=true;})();})();(function(){(function(){google.csct.rl=true;})();})();if (!google.stvsc){google.drty && google.drty(undefined,true);}\n",
      "</script></body></html>\n"
     ]
    }
   ],
   "source": [
    "# # Try the following.\n",
    "# print(response.text)"
   ]
  },
  {
   "cell_type": "code",
   "execution_count": 14,
   "metadata": {},
   "outputs": [
    {
     "name": "stdout",
     "output_type": "stream",
     "text": [
      "b'<!doctype html><html lang=\"en-IN\"><head><meta charset=\"UTF-8\"><meta content=\"/images/branding/google'\n",
      "b'<!doctype html><html lang=\"en-IN\"><head><meta charset=\"UTF-8\"><meta content=\"/images/branding/googleg/1x/googleg_standard_color_128dp.png\" itemprop=\"image\"><title>thataiguy - Google Search</title><script nonce=\"8FceEA2fBTyKHxRl4RMHIg\">(function(){\\ndocument.documentElement.addEventListener(\"submit\",function(b){var a;if(a=b.target){var c=a.getAttribute(\"data-submitfalse\");a=\"1\"===c||\"q\"===c&&!a.elements.q.value?!0:!1}else a=!1;a&&(b.preventDefault(),b.stopPropagation())},!0);document.documentElement.addEventListener(\"click\",function(b){var a;a:{for(a=b.target;a&&a!==document.documentElement;a=a.parentElement)if(\"A\"===a.tagName){a=\"1\"===a.getAttribute(\"data-nohref\");break a}a=!1}a&&b.preventDefault()},!0);}).call(this);(function(){var a=window.performance;window.start=Date.now();a:{var b=window;if(a){var c=a.timing;if(c){var d=c.navigationStart,f=c.responseStart;if(f>d&&f<=window.start){window.start=f;b.wsrt=f-d;break a}}a.now&&(b.wsrt=Math.floor(a.now()))}}window.google=window.google||{};var h=function(g){g&&g.target.setAttribute(\"data-iml\",String(Date.now()))};document.documentElement.addEventListener(\"load\",h,!0);google.rglh=function(){document.documentElement.removeEventListener(\"load\",h,!0)};}).call(this);(function(){window.google.erd={jsr:1,bv:1975,de:true};})();(function(){var sdo=false;var mei=10;\\nvar h=this||self;var k,l=null!=(k=h.mei)?k:1,n,p=null!=(n=h.sdo)?n:!0,q=0,r,t=google.erd,v=t.jsr;google.ml=function(a,b,d,m,e){e=void 0===e?2:e;b&&(r=a&&a.message);void 0===d&&(d={});d.cad=\"ple_\"+google.ple+\".aple_\"+google.aple;if(google.dl)return google.dl(a,e,d),null;b=d;if(0>v){window.console&&console.error(a,b);if(-2===v)throw a;b=!1}else b=!a||!a.message||\"Error loading script\"===a.message||q>=l&&!m?!1:!0;if(!b)return null;q++;d=d||{};b=encodeURIComponent;var c=\"/gen_204?atyp=i&ei=\"+b(google.kEI);google.kEXPI&&(c+=\"&jexpid=\"+b(google.kEXPI));c+=\"&srcpg=\"+b(google.sn)+\"&jsr=\"+b(t.jsr)+\"&bver=\"+\\nb(t.bv);var f=a.lineNumber;void 0!==f&&(c+=\"&line=\"+f);var g=a.fileName;g&&(0<g.indexOf(\"-extension:/\")&&(e=3),c+=\"&script=\"+b(g),f&&g===window.location.href&&(f=document.documentElement.outerHTML.split(\"\\\\n\")[f],c+=\"&cad=\"+b(f?f.substring(0,300):\"No script found.\")));google.ple&&1===google.ple&&(e=2);c+=\"&jsel=\"+e;for(var u in d)c+=\"&\",c+=b(u),c+=\"=\",c+=b(d[u]);c=c+\"&emsg=\"+b(a.name+\": \"+a.message);c=c+\"&jsst=\"+b(a.stack||\"N/A\");12288<=c.length&&(c=c.substr(0,12288));a=c;m||google.log(0,\"\",a);return a};window.onerror=function(a,b,d,m,e){r!==a&&(a=e instanceof Error?e:Error(a),void 0===d||\"lineNumber\"in a||(a.lineNumber=d),void 0===b||\"fileName\"in a||(a.fileName=b),google.ml(a,!1,void 0,!1,\"SyntaxError\"===a.name||\"SyntaxError\"===a.message.substring(0,11)||-1!==a.message.indexOf(\"Script error\")?3:0));r=null;p&&q>=l&&(window.onerror=null)};})();(function(){var c=[],e=0;window.ping=function(b){-1==b.indexOf(\"&zx\")&&(b+=\"&zx=\"+Date.now());var a=new Image,d=e++;c[d]=a;a.onerror=a.onload=a.onabort=function(){delete c[d]};a.src=b};}).call(this);</script><style>a{color:#1a0dab;text-decoration:none;tap-highlight-color:rgba(0,0,0,.10)}a:visited{color:#4b11a8}a:hover{text-decoration:underline}img{border:0}html{font-family:arial,sans-serif;font-size:14px;line-height:20px;text-size-adjust:100%;color:#3c4043;word-wrap:break-word;background-color:#fff}.bRsWnc{background-color:#fff;border-top:1px solid #dadce0;height:39px;overflow:hidden}.N6RWV{height:51px;overflow-scrolling:touch;overflow-x:auto;overflow-y:hidden}.Uv67qb{box-pack:justify;font-size:12px;line-height:37px;justify-content:space-between;justify-content:space-between}.Uv67qb a,.Uv67qb span{color:#70757a;display:block;flex:none;padding:0 16px;text-align:center;text-transform:uppercase;}span.OXXup{border-bottom:2px solid #4285f4;color:#4285f4;font-weight:bold}a.eZt8xd:visited{color:#70757a}.FElbsf{border-left:1px solid rgba(0,0,0,.12)}header article{overflow:visible}.Pg70bf{height:39px;display:box;display:flex;display:flex;width:100%}.H0PQec{position:relative;flex:1}.sbc{display:flex;width:100%}.Pg70bf input{margin:2px 4px 2px 8px;}.x{width:26px;color:#70757a;font:27px/38px arial, sans-serif;line-height:40px;}#qdClwb{flex:0 0 auto;width:39px;height:39px;border-bottom:0;padding:0;border-top-right-radius:8px;background-color:#1a73e8;border:1px solid #1a73e8;background-image:url(data:image/gif;base64,R0lGODdhJAAjAPIHAODr/nCk+MPZ/FmV96zK+/7+/5K5+kqL9iwAAAAAJAAjAEADani63P4wykmbKcQRXDscQAEMXmmeaLQVLCukzyC09AjfeK7v/MAajACLhPMVAgwjsUcEiZa8xgAYrVqv2Kx2iwsIAAABknfBBAKrTE4IcMyot8ur8datqIbQfJdnAfo2WE6BV05wXIiJigkAOw==);}.sc{font-size:16px;position:absolute;top:39px;left:0;right:0;box-shadow:0 2px 5px rgba(0,0,0,.2);z-index:2;background-color:#fff}.sc>div{padding:10px 10px;padding-left:16px;padding-left:14px;border-top:1px solid #dfe1e5;}.scs{background-color:#fafafa;}.noHIxc{display:block;font-size:16px;padding:0 0 0 8px;flex:1;height:35px;outline:none;border:none;width:100%;-webkit-tap-highlight-color:rgba(0,0,0,0);overflow:hidden;}.sbc input[type=text]{background:none}.bz1lBb{background-color:#fff;border-radius:8px 8px 0 0;box-shadow:0 0 0 1px #dfe1e5;margin-top:24px;}.KP7LCb{border-radius:0 0 8px 8px;box-shadow:0px 1px 0px 1px #dfe1e5;margin-bottom:30px;overflow:hidden}html{background-color:#fff}body{margin:0 auto 0 156px;max-width:652px;min-width:652px;padding:0 8px}.cOl4Id{letter-spacing:-1px;text-align:center;font:22pt Futura, Arial, sans-serif;font-smoothing:antialiased;height:37px;padding:32px 28px 0 24px;position:absolute;left:0;top:0}.cOl4Id span{display:inline-block}.V6gwVd{color:#4285f4}.iWkuvd{color:#ea4335}.cDrQ7{color:#fcc934}.ntlR9{color:#34a853}.tJ3Myc{-webkit-transform:rotate(-20deg);position:relative;left:-1px;display:inline-block}footer{text-align:center;margin-top:18px}footer a,footer a:visited,.smiUbb{color:#70757a}.xeDNfc{margin:0 13px;display:inline-block}#EOlPnc{margin-top:36px}#EOlPnc>div{margin:20px}.Srfpq{color:#70757a}</style></head><body jsmodel=\"hspDDf \"><header id=\"hdr\"><script nonce=\"8FceEA2fBTyKHxRl4RMHIg\">(function(){\\nvar k=this||self,l=function(a){var b=typeof a;return\"object\"==b&&null!=a||\"function\"==b},m=function(a,b){function c(){}c.prototype=b.prototype;a.l=b.prototype;a.prototype=new c;a.prototype.constructor=a;a.s=function(d,e,f){for(var g=Array(arguments.length-2),h=2;h<arguments.length;h++)g[h-2]=arguments[h];return b.prototype[e].apply(d,g)}};var n=Array.prototype.indexOf?function(a,b){return Array.prototype.indexOf.call(a,b,void 0)}:function(a,b){if(\"string\"===typeof a)return\"string\"!==typeof b||1!=b.length?-1:a.indexOf(b,0);for(var c=0;c<a.length;c++)if(c in a&&a[c]===b)return c;return-1};var p=function(a){return\"string\"==typeof a.className?a.className:a.getAttribute&&a.getAttribute(\"class\")||\"\"},q=function(a,b){\"string\"==typeof a.className?a.className=b:a.setAttribute&&a.setAttribute(\"class\",b)},r=function(a,b){a.classList?b=a.classList.contains(b):(a=a.classList?a.classList:p(a).match(/\\\\S+/g)||[],b=0<=n(a,b));return b},v=function(){var a=t,b=u;a.classList?a.classList.remove(b):r(a,b)&&q(a,Array.prototype.filter.call(a.classList?a.classList:p(a).match(/\\\\S+/g)||[],function(c){return c!=\\nb}).join(\" \"))};function w(){var a=k.navigator;return a&&(a=a.userAgent)?a:\"\"};var x=function(a){x[\" \"](a);return a};x[\" \"]=function(){};var y=-1!=w().indexOf(\"Gecko\")&&!(-1!=w().toLowerCase().indexOf(\"webkit\")&&-1==w().indexOf(\"Edge\"))&&!(-1!=w().indexOf(\"Trident\")||-1!=w().indexOf(\"MSIE\"))&&-1==w().indexOf(\"Edge\");var z=function(a,b){this.type=a;this.target=b};z.prototype.g=function(){};var A=function(){if(!k.addEventListener||!Object.defineProperty)return!1;var a=!1,b=Object.defineProperty({},\"passive\",{get:function(){a=!0}});try{var c=function(){};k.addEventListener(\"test\",c,b);k.removeEventListener(\"test\",c,b)}catch(d){}return a}();var C=function(a){z.call(this,a?a.type:\"\");this.relatedTarget=this.target=null;this.button=this.screenY=this.screenX=this.clientY=this.clientX=0;this.key=\"\";this.keyCode=0;this.metaKey=this.shiftKey=this.altKey=this.ctrlKey=!1;this.state=null;this.pointerId=0;this.pointerType=\"\";this.i=null;if(a){var b=this.type=a.type,c=a.changedTouches&&a.changedTouches.length?a.changedTouches[0]:null;this.target=a.target||a.srcElement;var d=a.relatedTarget;if(d){if(y){a:{try{x(d.nodeName);var e=!0;break a}catch(f){}e=\\n!1}e||(d=null)}}else\"mouseover\"==b?d=a.fromElement:\"mouseout\"==b&&(d=a.toElement);this.relatedTarget=d;c?(this.clientX=void 0!==c.clientX?c.clientX:c.pageX,this.clientY=void 0!==c.clientY?c.clientY:c.pageY,this.screenX=c.screenX||0,this.screenY=c.screenY||0):(this.clientX=void 0!==a.clientX?a.clientX:a.pageX,this.clientY=void 0!==a.clientY?a.clientY:a.pageY,this.screenX=a.screenX||0,this.screenY=a.screenY||0);this.button=a.button;this.keyCode=a.keyCode||0;this.key=a.key||\"\";this.ctrlKey=a.ctrlKey;this.altKey=a.altKey;this.shiftKey=a.shiftKey;this.metaKey=a.metaKey;this.pointerId=a.pointerId||0;this.pointerType=\"string\"===typeof a.pointerType?a.pointerType:B[a.pointerType]||\"\";this.state=a.state;this.i=a;a.defaultPrevented&&C.l.g.call(this)}};m(C,z);var B={2:\"touch\",3:\"pen\",4:\"mouse\"};C.prototype.g=function(){C.l.g.call(this);var a=this.i;a.preventDefault?a.preventDefault():a.returnValue=!1};var D=\"closure_listenable_\"+(1E6*Math.random()|0);var E=0;var F=function(a,b,c,d,e){this.listener=a;this.proxy=null;this.src=b;this.type=c;this.capture=!!d;this.i=e;this.key=++E;this.g=this.j=!1},G=function(a){a.g=!0;a.listener=null;a.proxy=null;a.src=null;a.i=null};var H=function(a){this.src=a;this.g={};this.i=0};H.prototype.add=function(a,b,c,d,e){var f=a.toString();a=this.g[f];a||(a=this.g[f]=[],this.i++);var g;a:{for(g=0;g<a.length;++g){var h=a[g];if(!h.g&&h.listener==b&&h.capture==!!d&&h.i==e)break a}g=-1}-1<g?(b=a[g],c||(b.j=!1)):(b=new F(b,this.src,f,!!d,e),b.j=c,a.push(b));return b};var I=\"closure_lm_\"+(1E6*Math.random()|0),J={},K=0,M=function(a,b,c,d,e){if(d&&d.once)return L(a,b,c,d,e);if(Array.isArray(b)){for(var f=0;f<b.length;f++)M(a,b[f],c,d,e);return null}c=N(c);return a&&a[D]?a.g(b,c,l(d)?!!d.capture:!!d,e):O(a,b,c,!1,d,e)},O=function(a,b,c,d,e,f){if(!b)throw Error(\"a\");var g=l(e)?!!e.capture:!!e,h=P(a);h||(a[I]=h=new H(a));c=h.add(b,c,d,g,f);if(c.proxy)return c;d=Q();c.proxy=d;d.src=a;d.listener=c;if(a.addEventListener)A||(e=g),void 0===e&&(e=!1),a.addEventListener(b.toString(),d,e);else if(a.attachEvent)a.attachEvent(R(b.toString()),d);else if(a.addListener&&a.removeListener)a.addListener(d);else throw Error(\"b\");K++;return c},Q=function(){var a=S,b=function(c){return a.call(b.src,b.listener,c)};return b},L=function(a,b,c,d,e){if(Array.isArray(b)){for(var f=0;f<b.length;f++)L(a,b[f],c,d,e);return null}c=N(c);return a&&a[D]?a.i(b,c,l(d)?!!d.capture:!!d,e):O(a,b,c,!0,d,e)},T=function(a){if(\"number\"!==typeof a&&a&&!a.g){var b=a.src;if(b&&b[D])b.v(a);else{var c=a.type,d=a.proxy;b.removeEventListener?b.removeEventListener(c,d,a.capture):b.detachEvent?b.detachEvent(R(c),d):b.addListener&&b.removeListener&&b.removeListener(d);K--;if(c=P(b)){d=a.type;if(d in c.g){var e=c.g[d],f=n(e,a),g;(g=0<=f)&&Array.prototype.splice.call(e,f,1);g&&(G(a),0==c.g[d].length&&(delete c.g[d],c.i--))}0==c.i&&(c.src=null,b[I]=null)}else G(a)}}},R=function(a){return a in J?J[a]:J[a]=\"on\"+a},S=function(a,b){if(a.g)a=!0;else{b=new C(b,this);var c=a.listener,d=a.i||a.src;a.j&&T(a);a=c.call(d,b)}return a},P=function(a){a=a[I];return a instanceof H?a:null},U=\"__closure_events_fn_\"+(1E9*Math.random()>>>0),N=function(a){if(\"function\"===typeof a)return a;a[U]||(a[U]=function(b){return a.handleEvent(b)});return a[U]};var u,t=document.documentElement,V;function W(){T(V);V=L(t,\"mousedown\",function(){v();X()},{capture:!0})}function X(){T(V);V=M(t,\"keydown\",function(a){if(9===a.keyCode){a=t;var b=u;if(a.classList)a.classList.add(b);else if(!r(a,b)){var c=p(a);q(a,c+(0<c.length?\" \"+b:b))}W()}})};u=\"zAoYTe\";X();}).call(this);</script><div class=\"cOl4Id\"><a href=\"/?sa=X&amp;ved=0ahUKEwjRnIXj1YeFAxV1TWwGHYUSCMEQOwgC\"><span class=\"V6gwVd\">G</span><span class=\"iWkuvd\">o</span><span class=\"cDrQ7\">o</span><span class=\"V6gwVd\">g</span><span class=\"ntlR9\">l</span><span class=\"iWkuvd tJ3Myc\">e</span></a></div><div class=\"bz1lBb\"><form class=\"Pg70bf\" id=\"sf\"><input name=\"sca_esv\" value=\"d6727fb810734362\" type=\"hidden\"><input name=\"ie\" value=\"ISO-8859-1\" type=\"hidden\"><div class=\"H0PQec\"><div class=\"sbc esbc\"><input class=\"noHIxc\" value=\"thataiguy\" autocapitalize=\"none\" autocomplete=\"off\" name=\"q\" spellcheck=\"false\" type=\"text\"><input name=\"oq\" type=\"hidden\"><input name=\"aqs\" type=\"hidden\"><div class=\"x\">\\xd7</div><div class=\"sc\"></div></div></div><button id=\"qdClwb\" type=\"submit\"></button></form></div><noscript><meta content=\"0;url=/search?q=thataiguy&amp;sca_esv=d6727fb810734362&amp;ie=UTF-8&amp;gbv=1&amp;sei=k179ZZGHK_WaseMPhaWgiAw\" http-equiv=\"refresh\"><style>table,div,span,p{display:none}</style><div style=\"display:block\">Please click <a href=\"/search?q=thataiguy&amp;sca_esv=d6727fb810734362&amp;ie=UTF-8&amp;gbv=1&amp;sei=k179ZZGHK_WaseMPhaWgiAw\">here</a> if you are not redirected within a few seconds.</div></noscript></header><div id=\"main\"><div><div class=\"KP7LCb\"> <div class=\"bRsWnc\"> <div class=\"N6RWV\"> <div class=\"Pg70bf Uv67qb\"> <span class=\"OXXup\">All</span><a class=\"eZt8xd\" href=\"/search?q=thataiguy&amp;sca_esv=d6727fb810734362&amp;ie=UTF-8&amp;tbm=vid&amp;source=lnms&amp;sa=X&amp;ved=0ahUKEwjRnIXj1YeFAxV1TWwGHYUSCMEQ_AUIBigB\">Videos</a><a class=\"eZt8xd\" href=\"/search?q=thataiguy&amp;sca_esv=d6727fb810734362&amp;ie=UTF-8&amp;tbm=isch&amp;source=lnms&amp;sa=X&amp;ved=0ahUKEwjRnIXj1YeFAxV1TWwGHYUSCMEQ_AUIBygC\">Images</a><a class=\"eZt8xd\" href=\"/url?q=https://maps.google.com/maps%3Fq%3Dthataiguy%26um%3D1%26ie%3DUTF-8%26ved%3D1t:200713%26ictx%3D111&amp;opi=89978449&amp;sa=U&amp;ved=0ahUKEwjRnIXj1YeFAxV1TWwGHYUSCMEQiaAMCAgoAw&amp;usg=AOvVaw00chNBWW4_McgjJtTvHjeh\">Maps</a>  <a href=\"/search?q=thataiguy&amp;sca_esv=d6727fb810734362&amp;ie=UTF-8&amp;tbm=nws&amp;source=lnms&amp;sa=X&amp;ved=0ahUKEwjRnIXj1YeFAxV1TWwGHYUSCMEQ_AUICSgE\">News</a>  <a href=\"/url?q=/search%3Fq%3Dthataiguy%26sca_esv%3Dd6727fb810734362%26ie%3DUTF-8%26tbm%3Dshop%26source%3Dlnms%26ved%3D1t:200713%26ictx%3D111&amp;opi=89978449&amp;sa=U&amp;ved=0ahUKEwjRnIXj1YeFAxV1TWwGHYUSCMEQiaAMCAooBQ&amp;usg=AOvVaw0NXezna488UtmuCeZ2_AfT\">Shopping</a>  <a href=\"/search?q=thataiguy&amp;sca_esv=d6727fb810734362&amp;ie=UTF-8&amp;tbm=bks&amp;source=lnms&amp;sa=X&amp;ved=0ahUKEwjRnIXj1YeFAxV1TWwGHYUSCMEQ_AUICygG\">Books</a>  <div class=\"FElbsf\"><a href=\"/advanced_search\" style=\"white-space:nowrap\" id=\"st-toggle\" role=\"button\">Search tools</a></div> </div> </div> </div> </div><div class=\"Pg70bf wEsjbd Gx5Zad xpd EtOod pkphOe\" style=\"display:none\" id=\"st-card\"><style>.wEsjbd{height:44px;white-space:nowrap}.coPU8c{height:60px;overflow-scrolling:touch;overflow-x:auto;overflow-y:hidden}.Xj2aue{height:44px;overflow:hidden}.RnNGze{margin:11px 16px}.wEsjbd div,.wEsjbd a,.wEsjbd li{outline-width:0;outline:none}</style><div class=\"Xj2aue\"><div class=\"coPU8c\"><div class=\"RnNGze\"><style>.PA9J5{display:inline-block}.RXaOfd{display:inline-block;height:22px;position:relative;padding-top:0;padding-bottom:0;padding-right:16px;padding-left:0;line-height:22px;cursor:pointer;text-transform:uppercase;font-size:12px;color:#70757a}.sa1toc{background:#fff;display:none;position:absolute;border:1px solid #dadce0;box-shadow:0 2px 4px rgba(0,0,0,.3);margin:0;white-space:nowrap;z-index:103;line-height:17px;padding-top:5px;padding-bottom:5px;padding-left:0}.PA9J5:hover .sa1toc{display:block}.mGSy8d a:active,.RXaOfd:active{color:#4285f4}</style><div class=\"PA9J5\"><div class=\"RXaOfd\" role=\"button\" tabindex=\"0\"><style>.TWMOUc{display:inline-block;padding-right:14px;white-space:nowrap}.vQYuGf{font-weight:bold}.OmTIzf{border-color:#909090 transparent;border-style:solid;border-width:4px 4px 0 4px;width:0;height:0;margin-left:-10px;top:50%;margin-top:-2px;position:absolute}.RXaOfd:active .OmTIzf{border-color:#4285f4 transparent}</style><div class=\"TWMOUc\">Any time</div><span class=\"OmTIzf\"></span></div><ul class=\"sa1toc ozatM\"><style>.ozatM{font-size:12px;text-transform:uppercase}.ozatM .yNFsl,.ozatM li{list-style-type:none;list-style-position:outside;list-style-image:none}.yNFsl.SkUj4c,.yNFsl a{color:#70757a;text-decoration:none;padding:6px 44px 6px 14px;line-height:17px;display:block}.SkUj4c{background-image:url(//ssl.gstatic.com/ui/v1/menu/checkmark2.png);background-position:right center;background-repeat:no-repeat}.SkUj4c:active{background-color:#f8f9fa}</style><li class=\"yNFsl SkUj4c\">Any time</li><li class=\"yNFsl\"><a href=\"/search?q=thataiguy&amp;sca_esv=d6727fb810734362&amp;ie=UTF-8&amp;source=lnt&amp;tbs=qdr:h&amp;sa=X&amp;ved=0ahUKEwjRnIXj1YeFAxV1TWwGHYUSCMEQpwUIDQ\">Past hour</a></li><li class=\"yNFsl\"><a href=\"/search?q=thataiguy&amp;sca_esv=d6727fb810734362&amp;ie=UTF-8&amp;source=lnt&amp;tbs=qdr:d&amp;sa=X&amp;ved=0ahUKEwjRnIXj1YeFAxV1TWwGHYUSCMEQpwUIDg\">Past 24 hours</a></li><li class=\"yNFsl\"><a href=\"/search?q=thataiguy&amp;sca_esv=d6727fb810734362&amp;ie=UTF-8&amp;source=lnt&amp;tbs=qdr:w&amp;sa=X&amp;ved=0ahUKEwjRnIXj1YeFAxV1TWwGHYUSCMEQpwUIDw\">Past week</a></li><li class=\"yNFsl\"><a href=\"/search?q=thataiguy&amp;sca_esv=d6727fb810734362&amp;ie=UTF-8&amp;source=lnt&amp;tbs=qdr:m&amp;sa=X&amp;ved=0ahUKEwjRnIXj1YeFAxV1TWwGHYUSCMEQpwUIEA\">Past month</a></li><li class=\"yNFsl\"><a href=\"/search?q=thataiguy&amp;sca_esv=d6727fb810734362&amp;ie=UTF-8&amp;source=lnt&amp;tbs=qdr:y&amp;sa=X&amp;ved=0ahUKEwjRnIXj1YeFAxV1TWwGHYUSCMEQpwUIEQ\">Past year</a></li></ul></div><div class=\"PA9J5\"><div class=\"RXaOfd\" role=\"button\" tabindex=\"0\"><div class=\"TWMOUc\">All results</div><span class=\"OmTIzf\"></span></div><ul class=\"sa1toc ozatM\"><li class=\"yNFsl SkUj4c\">All results</li><li class=\"yNFsl\"><a href=\"/search?q=thataiguy&amp;sca_esv=d6727fb810734362&amp;ie=UTF-8&amp;source=lnt&amp;tbs=li:1&amp;sa=X&amp;ved=0ahUKEwjRnIXj1YeFAxV1TWwGHYUSCMEQpwUIEw\">Verbatim</a></li></ul></div></div></div></div><script nonce=\"8FceEA2fBTyKHxRl4RMHIg\">(function(){var a=document.getElementById(\"st-toggle\"),b=document.getElementById(\"st-card\");a&&b&&a.addEventListener(\"click\",function(c){b.style.display=b.style.display?\"\":\"none\";c.preventDefault()},!1);}).call(this);</script></div></div><style>.Gx5Zad{background-color:#fff;margin-bottom:30px;box-shadow:0 0 0 1px #dfe1e5;border-radius:8px}.pkphOe{font-size:14px;line-height:22px;}.EtOod>*:first-child{border-top-left-radius:8px;border-top-right-radius:8px}.EtOod>*:last-child{border-bottom-left-radius:8px;border-bottom-right-radius:8px}.EtOod.avPKgf>*:last-child{border-bottom-left-radius:4px}.EtOod>.qxDOhb>*:first-child{border-top-left-radius:8px;border-top-right-radius:8px}.EtOod>.qxDOhb>*:last-child{border-bottom-left-radius:8px;border-bottom-right-radius:8px}.fP1Qef{background:transparent !important;box-shadow:none !important;border:none !important}.Gx5Zad.fP1Qef{margin-top:-12px;margin-bottom:18px}.rl7ilb{display:block;clear:both}.egMi0{margin-bottom:-19px}.kCrYT{padding:12px 16px 12px}a.fdYsqf{color:#4b11a8}.sCuL3{position:absolute;width:100%;top:0;left:0;padding-top:1px;margin-bottom:-1px}.j039Wc{padding-top:28px;margin-bottom:-1px}.DnJfK{position:relative}.l97dzf{font-weight:400}.zBAuLc{line-height:normal;margin:0;padding:0}.BNeawe{white-space:pre-line;word-wrap:break-word}.vvjwJb{color:#1a0dab;font-size:20px;line-height:26px}a:visited .vvjwJb,.vvjwJb a:visited{color:#4b11a8}.vvjwJb.HrGdeb{color:#fff}a:visited .vvjwJb.HrGdeb,.vvjwJb.HrGdeb a:visited{color:rgba(255,255,255,.70)}.UPmit{font-size:14px;line-height:22px}.UPmit.HrGdeb{color:rgba(255,255,255,.70)}.UPmit.AP7Wnd{color:#202124}.lRVwie{text-overflow:ellipsis;white-space:nowrap;overflow:hidden}.Ap5OSd{padding-bottom:12px}.s3v9rd{font-size:14px;line-height:22px}.s3v9rd.HrGdeb{color:#fff}.s3v9rd.AP7Wnd{color:#202124}.mSx1Ee{padding-left:48px;margin:0}.v9i61e{padding-bottom:8px}.r0bn4c.tr0dw{color:rgba(255,255,255,.70)}.r0bn4c.rQMQod{color:#70757a}.rLshyf,.BmP5tf{padding-top:12px;padding-bottom:12px}.YOx3Ab{padding-left:16px;}.w1C3Le,.BmP5tf,.G5NbBd,.CS4w5b{padding-left:16px;padding-right:16px;}.G5NbBd{padding-bottom:12px}.CS4w5b{padding-top:12px}.nMymef{display:flex}.G5eFlf{flex:1;display:block}.nMymef span{text-align:center}.EYqSq{margin:6px 4px 9px 0;border-radius:100%;display:inline-block;height:10px;vertical-align:middle;width:10px}.dfB0uf{color:#3c4043;font-weight:bold}.IffyKc{word-wrap:break-word}</style><div></div><div><div class=\"Gx5Zad fP1Qef xpd EtOod pkphOe\"><div class=\"egMi0 kCrYT\"><a href=\"/url?q=https://www.youtube.com/%40ThatAIGuy&amp;sa=U&amp;ved=2ahUKEwjRnIXj1YeFAxV1TWwGHYUSCMEQFnoECAcQAg&amp;usg=AOvVaw2F9BOiW2ElZRVcPf-T6YrY\" data-ved=\"2ahUKEwjRnIXj1YeFAxV1TWwGHYUSCMEQFnoECAcQAg\"><div class=\"DnJfK\"><div class=\"j039Wc\"><h3 class=\"zBAuLc l97dzf\"><div class=\"BNeawe vvjwJb AP7Wnd\">ThatAIGuy - YouTube</div></h3></div><div class=\"sCuL3\"><div class=\"BNeawe UPmit AP7Wnd lRVwie\">www.youtube.com &#8250; @ThatAIGuy</div></div></div></a></div><div class=\"kCrYT\"><div><div class=\"BNeawe s3v9rd AP7Wnd\"><div><div><div class=\"BNeawe s3v9rd AP7Wnd\">This video will help you understand how to work with multiple developers on a single code base. In this video, you will completely get to know - 1.</div></div></div></div></div></div></div></div><div><div class=\"Gx5Zad fP1Qef xpd EtOod pkphOe\"><div class=\"egMi0 kCrYT\"><a href=\"/url?q=https://github.com/theAIGuysCode&amp;sa=U&amp;ved=2ahUKEwjRnIXj1YeFAxV1TWwGHYUSCMEQFnoECAkQAg&amp;usg=AOvVaw3eiSJ0xmJjLbgCEFV9xfr1\" data-ved=\"2ahUKEwjRnIXj1YeFAxV1TWwGHYUSCMEQFnoECAkQAg\"><div class=\"DnJfK\"><div class=\"j039Wc\"><h3 class=\"zBAuLc l97dzf\"><div class=\"BNeawe vvjwJb AP7Wnd\">The AI Guy theAIGuysCode - GitHub</div></h3></div><div class=\"sCuL3\"><div class=\"BNeawe UPmit AP7Wnd lRVwie\">github.com &#8250; theAIGuysCode</div></div></div></a></div><div class=\"kCrYT\"><div><div class=\"BNeawe s3v9rd AP7Wnd\"><div><div><div class=\"BNeawe s3v9rd AP7Wnd\">A Wide Range of Custom Functions for YOLOv4, YOLOv4-tiny, YOLOv3, and YOLOv3-tiny Implemented in TensorFlow, TFLite, and TensorRT. Python\\xa0...</div></div></div></div></div></div></div></div><div><div class=\"Gx5Zad fP1Qef xpd EtOod pkphOe\"><div class=\"egMi0 kCrYT\"><a href=\"/url?q=https://www.youtube.com/c/ThatAIGuy&amp;sa=U&amp;ved=2ahUKEwjRnIXj1YeFAxV1TWwGHYUSCMEQFnoECAgQAg&amp;usg=AOvVaw1tvlVPjKtreHj8h3S-DDl9\" data-ved=\"2ahUKEwjRnIXj1YeFAxV1TWwGHYUSCMEQFnoECAgQAg\"><div class=\"DnJfK\"><div class=\"j039Wc\"><h3 class=\"zBAuLc l97dzf\"><div class=\"BNeawe vvjwJb AP7Wnd\">ThatAIGuy - YouTube</div></h3></div><div class=\"sCuL3\"><div class=\"BNeawe UPmit AP7Wnd lRVwie\">www.youtube.com &#8250; ThatAIGuy</div></div></div></a></div><div class=\"kCrYT\"><div><div class=\"BNeawe s3v9rd AP7Wnd\"><div><div><div class=\"BNeawe s3v9rd AP7Wnd\">@ThatAIGuy&#8231;1.15K subscribers&#8231;1 video&#8231;. More about this channel. thataiguy.com. Subscribe. Home. Videos. Community. Search\\xa0...</div></div></div></div></div></div></div></div><div><div class=\"Gx5Zad fP1Qef xpd EtOod pkphOe\"><div class=\"egMi0 kCrYT\"><a href=\"/url?q=https://twitter.com/thataiguy%3Flang%3Den&amp;sa=U&amp;ved=2ahUKEwjRnIXj1YeFAxV1TWwGHYUSCMEQFnoECAAQAg&amp;usg=AOvVaw287RsCgo5XLO0dmBsjF5V6\" data-ved=\"2ahUKEwjRnIXj1YeFAxV1TWwGHYUSCMEQFnoECAAQAg\"><div class=\"DnJfK\"><div class=\"j039Wc\"><h3 class=\"zBAuLc l97dzf\"><div class=\"BNeawe vvjwJb AP7Wnd\">Official AI Guy (@ThatAIGuy) / X</div></h3></div><div class=\"sCuL3\"><div class=\"BNeawe UPmit AP7Wnd lRVwie\">twitter.com &#8250; thataiguy</div></div></div></a></div><div class=\"kCrYT\"><div><div class=\"BNeawe s3v9rd AP7Wnd\"><div><div><div class=\"BNeawe s3v9rd AP7Wnd\">Published Author, AI Researcher, Data Wrangler, Quantum Computing Technologist, C-level Executive, Venture Capital Adviser.</div></div></div></div></div></div></div></div><div><div class=\"Gx5Zad fP1Qef xpd EtOod pkphOe\"><div class=\"egMi0 kCrYT\"><a href=\"/url?q=https://www.pinterest.com/ThatAIGuy/&amp;sa=U&amp;ved=2ahUKEwjRnIXj1YeFAxV1TWwGHYUSCMEQFnoECAYQAg&amp;usg=AOvVaw19uWMiwV2ds-gZ6J3MmBZM\" data-ved=\"2ahUKEwjRnIXj1YeFAxV1TWwGHYUSCMEQFnoECAYQAg\"><div class=\"DnJfK\"><div class=\"j039Wc\"><h3 class=\"zBAuLc l97dzf\"><div class=\"BNeawe vvjwJb AP7Wnd\">That AIGuy (ThatAIGuy) - Profile - Pinterest</div></h3></div><div class=\"sCuL3\"><div class=\"BNeawe UPmit AP7Wnd lRVwie\">www.pinterest.com &#8250; ThatAIGuy</div></div></div></a></div><div class=\"kCrYT\"><div><div class=\"BNeawe s3v9rd AP7Wnd\"><div><div><div class=\"BNeawe s3v9rd AP7Wnd\">That AIGuy | I specialize in creating unique and eye-catching digital art; with the help of AI. My collection is a little eclectic but I hope to make things\\xa0...</div></div></div></div></div></div></div></div><div><div class=\"Gx5Zad fP1Qef xpd EtOod pkphOe\"><div class=\"egMi0 kCrYT\"><a href=\"/url?q=https://www.tiktok.com/%40thataiguy.tools%3Flang%3Den&amp;sa=U&amp;ved=2ahUKEwjRnIXj1YeFAxV1TWwGHYUSCMEQFnoECAEQAg&amp;usg=AOvVaw1_S9X5rKCfkSBP8f2CeA6E\" data-ved=\"2ahUKEwjRnIXj1YeFAxV1TWwGHYUSCMEQFnoECAEQAg\"><div class=\"DnJfK\"><div class=\"j039Wc\"><h3 class=\"zBAuLc l97dzf\"><div class=\"BNeawe vvjwJb AP7Wnd\">That AI Guy (@thataiguy.tools) - TikTok</div></h3></div><div class=\"sCuL3\"><div class=\"BNeawe UPmit AP7Wnd lRVwie\">www.tiktok.com &#8250; That AI Guy (@thataiguy.tools) | TikTok</div></div></div></a></div><div class=\"kCrYT\"><div><div class=\"BNeawe s3v9rd AP7Wnd\"><div><div><div class=\"BNeawe s3v9rd AP7Wnd\"><span class=\"r0bn4c rQMQod\">28 Oct 2022</span><span class=\"r0bn4c rQMQod\"> \\xb7 </span>I share AI tools for faster and easier content creation https://bit.ly/3ReI1Ug \\xb7 Motion Capture with AI. \\xb7 FREE AI art website. \\xb7 Did you know\\xa0...</div></div></div></div></div></div></div></div><div><div class=\"Gx5Zad fP1Qef xpd EtOod pkphOe\"><div class=\"egMi0 kCrYT\"><a href=\"/url?q=https://medium.com/%40Blockchain_CEO&amp;sa=U&amp;ved=2ahUKEwjRnIXj1YeFAxV1TWwGHYUSCMEQFnoECAQQAg&amp;usg=AOvVaw3WhOBjxmjt-8fG0ITeqPsH\" data-ved=\"2ahUKEwjRnIXj1YeFAxV1TWwGHYUSCMEQFnoECAQQAg\"><div class=\"DnJfK\"><div class=\"j039Wc\"><h3 class=\"zBAuLc l97dzf\"><div class=\"BNeawe vvjwJb AP7Wnd\">That AI Guy - Medium</div></h3></div><div class=\"sCuL3\"><div class=\"BNeawe UPmit AP7Wnd lRVwie\">medium.com &#8250; ...</div></div></div></a></div><div class=\"kCrYT\"><div><div class=\"BNeawe s3v9rd AP7Wnd\"><div><div><div class=\"BNeawe s3v9rd AP7Wnd\">As an advisor to technology startups and VC/Private Equity firms I come across many creative individuals and teams. Without exception, the founders and their\\xa0...</div></div></div></div></div></div></div></div><div><div class=\"Gx5Zad fP1Qef xpd EtOod pkphOe\"><div class=\"egMi0 kCrYT\"><a href=\"/url?q=https://in.linkedin.com/in/that-ai-guy-57905a2b8&amp;sa=U&amp;ved=2ahUKEwjRnIXj1YeFAxV1TWwGHYUSCMEQFnoECAIQAg&amp;usg=AOvVaw3iysSBd_3MvOVzP7I39Uns\" data-ved=\"2ahUKEwjRnIXj1YeFAxV1TWwGHYUSCMEQFnoECAIQAg\"><div class=\"DnJfK\"><div class=\"j039Wc\"><h3 class=\"zBAuLc l97dzf\"><div class=\"BNeawe vvjwJb AP7Wnd\">That AI guy - AI Intern - Freelance - LinkedIn</div></h3></div><div class=\"sCuL3\"><div class=\"BNeawe UPmit AP7Wnd lRVwie\">in.linkedin.com &#8250; ...</div></div></div></a></div><div class=\"kCrYT\"><div><div class=\"BNeawe s3v9rd AP7Wnd\"><div><div><div class=\"BNeawe s3v9rd AP7Wnd\">That AI guy \\xb7 Exploring AI\\'s \\xb7 View mutual connections with That AI \\xb7 Welcome back \\xb7 Experience \\xb7 Explore collaborative articles \\xb7 View That AI\\'s full profile.</div></div></div></div></div></div></div></div><div><div class=\"Gx5Zad fP1Qef xpd EtOod pkphOe\"><div class=\"egMi0 kCrYT\"><a href=\"/url?q=https://www.reddit.com/r/iitkgp/comments/1bbae8v/that_ai_guy_from_iitkgp_is_ruining_my_youtube/&amp;sa=U&amp;ved=2ahUKEwjRnIXj1YeFAxV1TWwGHYUSCMEQFnoECAUQAg&amp;usg=AOvVaw132QAEH5z6Uw_ZkV8Ovh60\" data-ved=\"2ahUKEwjRnIXj1YeFAxV1TWwGHYUSCMEQFnoECAUQAg\"><div class=\"DnJfK\"><div class=\"j039Wc\"><h3 class=\"zBAuLc l97dzf\"><div class=\"BNeawe vvjwJb AP7Wnd\">That AI guy from IITKGP is ruining my Youtube experience. - Reddit</div></h3></div><div class=\"sCuL3\"><div class=\"BNeawe UPmit AP7Wnd lRVwie\">www.reddit.com &#8250; iitkgp &#8250; comments &#8250; that_ai_guy_from_iitkgp_is_ruinin...</div></div></div></a></div><div class=\"kCrYT\"><div><div class=\"BNeawe s3v9rd AP7Wnd\"><div><div><div class=\"BNeawe s3v9rd AP7Wnd\"><span class=\"r0bn4c rQMQod\">10 Mar 2024</span><span class=\"r0bn4c rQMQod\"> \\xb7 </span>Aditya Kachave. Reminds me of a saying which is very popular in IIT circles. &#8220;Most people grow up to be proud of the fact they were from IIT\\xa0...</div></div></div></div></div></div></div></div><div><div class=\"Gx5Zad fP1Qef xpd EtOod pkphOe\"><div class=\"egMi0 kCrYT\"><a href=\"/url?q=https://www.fiverr.com/thataiguy/make-100-high-quality-ai-images-of-anything-you-request&amp;sa=U&amp;ved=2ahUKEwjRnIXj1YeFAxV1TWwGHYUSCMEQFnoECAMQAg&amp;usg=AOvVaw0oo8sZPPdmVHpCJsWqi1ev\" data-ved=\"2ahUKEwjRnIXj1YeFAxV1TWwGHYUSCMEQFnoECAMQAg\"><div class=\"DnJfK\"><div class=\"j039Wc\"><h3 class=\"zBAuLc l97dzf\"><div class=\"BNeawe vvjwJb AP7Wnd\">Make 100 high quality ai images of anything you request by Thataiguy</div></h3></div><div class=\"sCuL3\"><div class=\"BNeawe UPmit AP7Wnd lRVwie\">www.fiverr.com &#8250; Graphics &amp; Design &#8250; Other</div></div></div></a></div><div class=\"kCrYT\"><div><div class=\"BNeawe s3v9rd AP7Wnd\"><div><div class=\"v9i61e\"><div class=\"BNeawe s3v9rd AP7Wnd\"><span class=\"r0bn4c rQMQod\">$5.00</span></div></div><div><div class=\"BNeawe s3v9rd AP7Wnd\">Fiverr freelancer will provide Other services and make 100 high quality ai images of anything you request within 1 day.</div></div></div></div></div></div></div></div><footer> <div>  <div class=\"Gx5Zad xpd EtOod pkphOe BmP5tf\"><div class=\"nMymef Va3FIb lVm3ye\"><a class=\"nBDE1b G5eFlf\" href=\"/search?q=thataiguy&amp;sca_esv=d6727fb810734362&amp;ie=UTF-8&amp;ei=k179ZZGHK_WaseMPhaWgiAw&amp;start=10&amp;sa=N\" aria-label=\"Next page\">Next &gt;</a></div></div> </div>  <div id=\"EOlPnc\"><div class=\"Srfpq\"><div><span class=\"EYqSq unknown_loc\"></span><span class=\"dfB0uf\">641004, Coimbatore, Tamil Nadu</span></div><span>From your IP address</span><span>&nbsp;-&nbsp;</span><a class=\"IffyKc\" href=\"/url?q=https://support.google.com/websearch%3Fp%3Dws_settings_location%26hl%3Den-IN&amp;opi=89978449&amp;sa=U&amp;ved=0ahUKEwjRnIXj1YeFAxV1TWwGHYUSCMEQty4IQA&amp;usg=AOvVaw0617KXxjdYw-UcmigB_xMx\" aria-label=\"Learn more about this location\" tabindex=\"0\">Learn more</a></div><div><a href=\"/url?q=https://accounts.google.com/ServiceLogin%3Fcontinue%3Dhttps://www.google.com/search%253Fq%253Dthataiguy%26hl%3Den&amp;opi=89978449&amp;sa=U&amp;ved=0ahUKEwjRnIXj1YeFAxV1TWwGHYUSCMEQxs8CCEE&amp;usg=AOvVaw1SnYWNoQLgUHH05-N7dd0z\">Sign in</a></div><div><a class=\"xeDNfc\" href=\"https://www.google.com/preferences?hl=en-IN&amp;fg=1&amp;sa=X&amp;ved=0ahUKEwjRnIXj1YeFAxV1TWwGHYUSCMEQ5fUCCEI\">Settings</a><a class=\"xeDNfc\" href=\"https://policies.google.com/privacy?hl=en-IN&amp;fg=1\">Privacy</a><a class=\"xeDNfc\" href=\"https://policies.google.com/terms?hl=en-IN&amp;fg=1\">Terms</a><a class=\"xeDNfc\" href=\"/setprefs?hl=en&amp;prev=https://www.google.com/search?q%3Dthataiguy%26pccc%3D1&amp;sig=0_oGDw9VZzkbL7Yn3Zw2l_7dfoQ0k%3D&amp;cs=2&amp;sa=X&amp;ved=0ahUKEwjRnIXj1YeFAxV1TWwGHYUSCMEQjcAJCEM\">Dark theme: Off</a></div></div> </footer><script nonce=\"8FceEA2fBTyKHxRl4RMHIg\">(function(){var hl=\\'en-IN\\';(function(){\\nvar f=this||self,g=function(a){return a};var h,k=function(){if(void 0===h){var a=null,b=f.trustedTypes;if(b&&b.createPolicy){try{a=b.createPolicy(\"goog#html\",{createHTML:g,createScript:g,createScriptURL:g})}catch(c){f.console&&f.console.error(c.message)}h=a}else h=a}return h};var p=function(a,b){this.g=a===l&&b||\"\";this.i=m};p.prototype.toString=function(){return this.g};var q=function(a){return a instanceof p&&a.constructor===p&&a.i===m?a.g:\"type_error:Const\"},m={},l={};var r=function(a){this.g=a};r.prototype.toString=function(){return this.g+\"\"};var t=function(a){return a instanceof r&&a.constructor===r?a.g:\"type_error:TrustedResourceUrl\"},x=function(){var a={},b=q(new p(l,\"/complete/search\"));if(!u.test(b))throw Error(\"e`\"+b);var c=b.replace(v,function(e,d){if(!Object.prototype.hasOwnProperty.call(a,d))throw Error(\"f`\"+d+\"`\"+b+\"`\"+JSON.stringify(a));e=a[d];return e instanceof p?q(e):encodeURIComponent(String(e))});return w(c)},v=/%{(\\\\w+)}/g,u=RegExp(\"^((https:)?//[0-9a-z.:[\\\\\\\\]-]+/|/[^/\\\\\\\\\\\\\\\\]|[^:/\\\\\\\\\\\\\\\\%]+/|[^:/\\\\\\\\\\\\\\\\%]*[?#]|about:blank#)\",\"i\"),y=/^([^?#]*)(\\\\?[^#]*)?(#[\\\\s\\\\S]*)?/,z={},w=function(a){var b=k();a=b?b.createScriptURL(a):a;return new r(a,z)},A=function(a,b,c){if(null==c)return b;if(\"string\"===typeof c)return c?a+encodeURIComponent(c):\"\";for(var e in c)if(Object.prototype.hasOwnProperty.call(c,e)){var d=c[e];d=Array.isArray(d)?d:[d];for(var n=0;n<d.length;n++){var O=d[n];null!=O&&(b||(b=a),b+=(b.length>a.length?\"&\":\"\")+encodeURIComponent(e)+\"=\"+encodeURIComponent(String(O)))}}return b};var B={},C=function(a){this.g=a};C.prototype.toString=function(){return this.g.toString()};\\nfunction D(a,b){if(1===a.nodeType){var c=a.tagName;if(\"SCRIPT\"===c||\"STYLE\"===c)throw Error(\"g\");}a.innerHTML=b instanceof C&&b.constructor===C?b.g:\"type_error:SafeHtml\"};function E(a){a=null===a?\"null\":void 0===a?\"undefined\":a;var b=k();a=b?b.createHTML(a):a;return new C(a,B)};var F=document.querySelector(\".l\"),G=document.querySelector(\"#sf\"),H=G.querySelector(\".sbc\"),I=G.querySelector(\"[type=text]\"),J=G.querySelector(\"[type=submit]\"),K=G.querySelector(\".sc\"),L=G.querySelector(\".x\"),M=I.value,N=[],P=-1,Q=M,R,S,T;M||(L&&(L.style.display=\"none\"),U(!1));function U(a){if(H.classList.contains(\"esbc\")){var b=H.classList.contains(\"chsbc\"),c=H.classList.contains(\"rtlsbc\");a&&(K.style.display=\"block\",b?(G.style.borderRadius=\"20px 20px 0 0\",K.style.borderBottom=\"1px solid #DFE1E5\",J.style.borderRadius=c?\"20px 0 0 0\":\"0 20px 0 0\"):H.style.borderRadius=c?\"0 8px 0 0\":\"8px 0 0 0\");a||(K.style.display=\"none\",b?(G.style.borderRadius=\"20px\",K.style.borderBottom=\"none\",J.style.borderRadius=c?\"20px 0 0 20px\":\"0 20px 20px 0\"):H.style.borderRadius=c?\"0 8px 8px 0\":\"8px 0 0 8px\")}}function V(){G.querySelector(\"[name=oq]\").value=Q;G.querySelector(\"[name=aqs]\").value=\"heirloom-srp.\"+(0<=P?P:\"\")+\".\"+(0<N.length?\"0l\"+N.length:\"\")}\\nfunction W(){R=null;if(S){var a={client:\"heirloom-srp\",hl:hl,json:\"t\",callback:\"hS\",q:S};\"undefined\"!==typeof ds&&ds&&(a.ds=ds);var b=document;var c=\"SCRIPT\";\"application/xhtml+xml\"===b.contentType&&(c=c.toLowerCase());c=b.createElement(c);b=x();b=y.exec(t(b).toString());var e=b[3]||\"\";a=w(b[1]+A(\"?\",b[2]||\"\",a)+A(\"#\",e));c.src=t(a);var d,n;(d=(a=null==(n=(d=(c.ownerDocument&&c.ownerDocument.defaultView||window).document).querySelector)?void 0:n.call(d,\"script[nonce]\"))?a.nonce||a.getAttribute(\"nonce\")||\\n\"\":\"\")&&c.setAttribute(\"nonce\",d);document.body.appendChild(c);S=null;R=setTimeout(W,500)}}function X(){for(;K.firstChild;)K.removeChild(K.firstChild);N=[];P=-1;U(!1)}function Y(){var a=K.querySelector(\".scs\");a&&(a.className=\"\");0<=P?(a=K.childNodes[P],a.className=\"scs\",M=a.textContent):M=Q;I.value=M}I.addEventListener(\"focus\",function(){F&&(F.style.display=\"none\")},!1);I.addEventListener(\"blur\",function(){X();F&&(F.style.display=\"\")},!1);I.addEventListener(\"keyup\",function(a){M=I.value;T=!1;13===a.which?V():27===a.which?(X(),F&&(F.style.display=\"\"),M=Q,I.value=M):40===a.which?(P++,P>=N.length&&(P=-1),Y()):38===a.which?(P--,-1>P&&(P=N.length-1),Y()):(a=M)?(L&&(L.style.display=\"\"),S=a,R||W(),Q=a):(L&&(L.style.display=\"none\"),U(!1),X(),Q=\"\",T=!0)},!1);J.addEventListener(\"click\",V,!1);L.addEventListener(\"click\",function(){I.value=\"\";L.style.display=\"none\";U(!1)},!1);H.addEventListener(\"click\",function(){I.focus()},!1);window.hS=function(a){if(!T){X();0===a[1].length&&U(!1);for(var b=0;b<a[1].length;b++){var c=a[1][b][0],e=document.createElement(\"div\");D(e,E(c));e.addEventListener(\"mousedown\",function(d){d.preventDefault();return!1},!1);c=c.replace(/<\\\\/?b>/g,\"\");e.addEventListener(\"click\",function(d){return function(){P=d;V();Y();X();G.submit()}}(b),!1);e.addEventListener(\"mouseover\",function(d){return function(){P!==d&&(P=d,Y())}}(b),!1);K.appendChild(e);U(!0);N.push(c)}}};}).call(this);})();(function(){function b(a){for(a=a.target||a.srcElement;a&&\"A\"!==a.nodeName;)a=a.parentElement;a&&(a.href||\"\").match(/\\\\/search.*[?&]tbm=isch/)&&(a.href+=\"&biw=\"+document.documentElement.clientWidth,a.href+=\"&bih=\"+document.documentElement.clientHeight)}document.addEventListener(\"click\",b,!1);document.addEventListener(\"touchStart\",b,!1);}).call(this);</script></div><!-- cctlcm 5 cctlcm --><textarea class=\"csi\" name=\"csi\" style=\"display:none\"></textarea><script nonce=\"8FceEA2fBTyKHxRl4RMHIg\">(function(){var e=\\'k179ZZGHK_WaseMPhaWgiAw\\';var sn=\\'web\\';var timl=false;(function(){function C(a){if(!a||D(a))return 0;if(!a.getBoundingClientRect)return 1;var c=function(d){return d.getBoundingClientRect()};if(E(a,c))return 0;var b;return K(a,c,null==(b=google.c)?void 0:b.cvb)}\\nfunction E(a,c){var b;a:{for(b=a;b&&null!==b;b=b.parentElement)if(\"hidden\"===b.style.overflow||\"G-EXPANDABLE-CONTENT\"===b.tagName&&\"hidden\"===getComputedStyle(b).getPropertyValue(\"overflow\"))break a;b=null}if(!b)return!1;a=c(a);c=c(b);return a.bottom<c.top||a.top>=c.bottom||a.right<c.left||a.left>=c.right}\\nfunction D(a){return\"none\"===a.style.display?!0:document.defaultView&&document.defaultView.getComputedStyle?(a=document.defaultView.getComputedStyle(a),!!a&&(\"hidden\"===a.visibility||\"0px\"===a.height&&\"0px\"===a.width)):!1}\\nfunction K(a,c){var b=c(a);a=b.left+window.pageXOffset;c=b.top+window.pageYOffset;var d=b.width;b=b.height;var f=0;if(0>=b&&0>=d)return f;var q=window.innerHeight||document.documentElement.clientHeight;0>c+b?f=2:c>=q&&(f=4);if(0>a+d||a>=(window.innerWidth||document.documentElement.clientWidth))f|=8;f||(f=1,c+b>q&&(f|=4));return f};var L=e,M=sn,N=\"undefined\"===typeof de?!0:!1!==de,O=[];function P(a,c,b){a=\"/gen_204?atyp=csi&s=\"+M+\"&t=\"+a+(\"&lite=1&ei=\"+L+\"&conn=\"+(window.navigator&&window.navigator.connection?window.navigator.connection.type:-1)+c);c=\"&rt=\";for(var d in b)a+=\"\"+c+d+\".\"+b[d],c=\",\";return a}function Q(a){a={prt:a};window.wsrt&&(a.wsrt=window.wsrt);return a}function R(a){window.ping?window.ping(a):(new Image).src=a}\\n(function(){for(var a=(new Date).getTime()-window.start,c=Q(a),b=0,d=0,f=0,q=document.getElementsByTagName(\"img\"),r=N?\"&biw=\"+window.innerWidth+\"&bih=\"+window.innerHeight:\"\",F=function(){r+=\"&ima=\"+f;c.aft=b;R(P(\"aft\",r,c))},y=0,S=function(g,t,u){var n=g.src;g.onload=function(){u&&n&&n===g.src||(d=(new Date).getTime()-window.start,t&&++y===f&&(b=d,F()),g.onload=null)}},T=0,h=void 0;h=q[T++];){var v=C(h),p=!!(v&1);p&&++f;var l=h.hasAttribute(\"data-ilite\"),w=h.hasAttribute(\"data-deferred\"),G=h.hasAttribute(\"data-src\")||\\nh.hasAttribute(\"data-lzysrc\"),z=!w&&!l&&G;O.push([v,w||l,z,h.id,l&&G]);l=(v=h.complete&&!w&&!(p&&z))&&Number(h.getAttribute(\"data-iml\"))||0;v&&l?(p&&++y,l&&(h=l-window.start,p&&(b=Math.max(b,h)),d=Math.max(d,h))):S(h,p,w||z)}b||(b=a);d||(d=b);y===f&&F();google.rglh&&google.rglh();window.addEventListener(\"load\",function(){window.setTimeout(function(){c.ol=(new Date).getTime()-window.start;timl&&(c.iml=d);var g=window.performance&&window.performance.timing;g&&(c.rqst=g.responseEnd-g.requestStart,c.rspt=\\ng.responseEnd-g.responseStart);for(var t=g=0,u=0,n=0,H=0,I=0,U=0,k;k=O[U++];){var m=k[0],A=k[1],J=k[2],x=k[3];k=k[4]||google.ldi&&x&&google.ldi[x];x=0==m;var V=m&8,B=m&1;m=!B&&m&4;B&&(A&&!k||++u,J&&++I);A&&(B&&k&&++g,m&&!k&&++t);x||V?J||++H:A||++n}r+=\"&ime=\"+u+\"&imel=\"+I+(\"&imex=\"+n+\"&imeh=\"+H)+(\"&imea=\"+g+\"&imeb=\"+t);R(P(\"all\",r,c))},0)},!1)})();}).call(this);})();(function(){window.google=window.google||{};window.google.ishk=[];function a(){return window.scrollY+window.document.documentElement.clientHeight>=Math.max(document.body.scrollHeight,document.body.offsetHeight)}function b(){a()&&0===window.google.ishk.length&&(window.google.bs=!0,window.removeEventListener(\"scroll\",b))}a()?window.google.bs=!0:(window.google.bs=!1,window.addEventListener(\"scroll\",b));}).call(this);</script><script nonce=\"8FceEA2fBTyKHxRl4RMHIg\">(function(){var e=\\'k179ZZGHK_WaseMPhaWgiAw\\';(function(){var a=e;if(2===(window.performance&&window.performance.navigation&&window.performance.navigation.type)){var b=\"\",c=[],d=void 0!==window.google&&void 0!==window.google.kOPI&&0!==window.google.kOPI?window.google.kOPI:null;null!=d&&c.push([\"opi\",d.toString()]);for(var f=0;f<c.length;f++){if(0===f||0<f)b+=\"&\";b+=c[f][0]+\"=\"+c[f][1]}window.ping(\"/gen_204?ct=backbutton&ei=\"+a+b)};}).call(this);})();(function(){var b=[function(){google.tick&&google.tick(\"load\",\"dcl\")}];google.dclc=function(a){b.length?b.push(a):a()};function c(){for(var a=b.shift();a;)a(),a=b.shift()}window.addEventListener?(document.addEventListener(\"DOMContentLoaded\",c,!1),window.addEventListener(\"load\",c,!1)):window.attachEvent&&window.attachEvent(\"onload\",c);}).call(this);(function(){var b=function(a){var c=0;return function(){return c<a.length?{done:!1,value:a[c++]}:{done:!0}}};\\nvar e=this||self;var g,h;a:{for(var k=[\"CLOSURE_FLAGS\"],l=e,n=0;n<k.length;n++)if(l=l[k[n]],null==l){h=null;break a}h=l}var p=h&&h[610401301];g=null!=p?p:!1;var q,r=e.navigator;q=r?r.userAgentData||null:null;function t(a){return g?q?q.brands.some(function(c){return(c=c.brand)&&-1!=c.indexOf(a)}):!1:!1}function u(a){var c;a:{if(c=e.navigator)if(c=c.userAgent)break a;c=\"\"}return-1!=c.indexOf(a)};function v(){return g?!!q&&0<q.brands.length:!1}function w(){return u(\"Safari\")&&!(x()||(v()?0:u(\"Coast\"))||(v()?0:u(\"Opera\"))||(v()?0:u(\"Edge\"))||(v()?t(\"Microsoft Edge\"):u(\"Edg/\"))||(v()?t(\"Opera\"):u(\"OPR\"))||u(\"Firefox\")||u(\"FxiOS\")||u(\"Silk\")||u(\"Android\"))}function x(){return v()?t(\"Chromium\"):(u(\"Chrome\")||u(\"CriOS\"))&&!(v()?0:u(\"Edge\"))||u(\"Silk\")}function y(){return u(\"Android\")&&!(x()||u(\"Firefox\")||u(\"FxiOS\")||(v()?0:u(\"Opera\"))||u(\"Silk\"))};var z=v()?!1:u(\"Trident\")||u(\"MSIE\");y();x();w();Object.freeze(new function(){});Object.freeze(new function(){});var A=!z&&!w(),D=function(a){if(/-[a-z]/.test(\"ved\"))return null;if(A&&a.dataset){if(y()&&!(\"ved\"in a.dataset))return null;a=a.dataset.ved;return void 0===a?null:a}return a.getAttribute(\"data-\"+\"ved\".replace(/([A-Z])/g,\"-$1\").toLowerCase())};var E=[],F=null;function G(a){a=a.target;var c=performance.now(),f=[],H=f.concat,d=E;if(!(d instanceof Array)){var m=\"undefined\"!=typeof Symbol&&Symbol.iterator&&d[Symbol.iterator];if(m)d=m.call(d);else if(\"number\"==typeof d.length)d={next:b(d)};else throw Error(\"a`\"+String(d));for(var B=[];!(m=d.next()).done;)B.push(m.value);d=B}E=H.call(f,d,[c]);if(a&&a instanceof HTMLElement)if(a===F){if(c=4<=E.length)c=5>(E[E.length-1]-E[E.length-4])/1E3;if(c){c=google.getEI(a);a.hasAttribute(\"data-ved\")?f=a?D(a)||\"\":\"\":f=(f=\\na.closest(\"[data-ved]\"))?D(f)||\"\":\"\";f=f||\"\";if(a.hasAttribute(\"jsname\"))a=a.getAttribute(\"jsname\");else{var C;a=null==(C=a.closest(\"[jsname]\"))?void 0:C.getAttribute(\"jsname\")}google.log(\"rcm\",\"&ei=\"+c+\"&ved=\"+f+\"&jsname=\"+(a||\"\"))}}else F=a,E=[c]}window.document.addEventListener(\"DOMContentLoaded\",function(){document.body.addEventListener(\"click\",G)});}).call(this);var w=function(a){var b=0;return function(){return b<a.length?{done:!1,value:a[b++]}:{done:!0}}};window.jsl=window.jsl||{};window.jsl.dh=function(a,b,m){try{var h=document.getElementById(a),e;if(!h&&(null==(e=google.stvsc)?0:e.dds)){e=[];var f=e.concat,c=google.stvsc.dds;if(c instanceof Array)var n=c;else{var p=\"undefined\"!=typeof Symbol&&Symbol.iterator&&c[Symbol.iterator];if(p)var g=p.call(c);else if(\"number\"==typeof c.length)g={next:w(c)};else throw Error(String(c)+\" is not an iterable or ArrayLike\");c=g;var q;for(g=[];!(q=c.next()).done;)g.push(q.value);n=g}var r=f.call(e,n);for(f=0;f<r.length&&!(h=r[f].getElementById(a));f++);}if(h)h.innerHTML=b,m&&m();else{var d={id:a,script:String(!!m),milestone:String(google.jslm||0)};google.jsla&&(d.async=google.jsla);var t=a.indexOf(\"_\"),k=0<t?a.substring(0,t):\"\",u=document.createElement(\"div\");u.innerHTML=b;var l=u.children[0];if(l&&(d.tag=l.tagName,d[\"class\"]=String(l.className||null),d.name=String(l.getAttribute(\"jsname\")),k)){a=[];var v=document.querySelectorAll(\\'[id^=\"\\'+k+\\'_\"]\\');for(b=0;b<v.length;++b)a.push(v[b].id);d.ids=a.join(\",\")}google.ml(Error(k?\"Missing ID with prefix \"+\\nk:\"Missing ID\"),!1,d)}}catch(x){google.ml(x,!0,{\"jsl.dh\":!0})}};(function(){var x=false;google.jslm=x?2:1;})();(function(){(function(){google.csct={};google.csct.ps=\\'AOvVaw3Qao98OHPDxUyfLvI6mt6h\\\\x26ust\\\\x3d1711190035796856\\';})();})();(function(){(function(){google.csct.rd=true;})();})();(function(){(function(){google.csct.rl=true;})();})();if (!google.stvsc){google.drty && google.drty(undefined,true);}\\n</script></body></html>'\n"
     ]
    }
   ],
   "source": [
    "# # Binary Response Content\n",
    "# # This is useful if the response body contains non-text data\n",
    "\n",
    "print(response.content[:100])\n",
    "\n",
    "# # Try the following.\n",
    "# print(response.content)"
   ]
  },
  {
   "cell_type": "code",
   "execution_count": 15,
   "metadata": {},
   "outputs": [
    {
     "ename": "JSONDecodeError",
     "evalue": "Expecting value: line 1 column 1 (char 0)",
     "output_type": "error",
     "traceback": [
      "\u001b[1;31m---------------------------------------------------------------------------\u001b[0m",
      "\u001b[1;31mJSONDecodeError\u001b[0m                           Traceback (most recent call last)",
      "File \u001b[1;32mc:\\Users\\HariharanSivakumar\\AppData\\Local\\Programs\\Python\\Python311\\Lib\\site-packages\\requests\\models.py:971\u001b[0m, in \u001b[0;36mResponse.json\u001b[1;34m(self, **kwargs)\u001b[0m\n\u001b[0;32m    970\u001b[0m \u001b[38;5;28;01mtry\u001b[39;00m:\n\u001b[1;32m--> 971\u001b[0m     \u001b[38;5;28;01mreturn\u001b[39;00m \u001b[43mcomplexjson\u001b[49m\u001b[38;5;241;43m.\u001b[39;49m\u001b[43mloads\u001b[49m\u001b[43m(\u001b[49m\u001b[38;5;28;43mself\u001b[39;49m\u001b[38;5;241;43m.\u001b[39;49m\u001b[43mtext\u001b[49m\u001b[43m,\u001b[49m\u001b[43m \u001b[49m\u001b[38;5;241;43m*\u001b[39;49m\u001b[38;5;241;43m*\u001b[39;49m\u001b[43mkwargs\u001b[49m\u001b[43m)\u001b[49m\n\u001b[0;32m    972\u001b[0m \u001b[38;5;28;01mexcept\u001b[39;00m JSONDecodeError \u001b[38;5;28;01mas\u001b[39;00m e:\n\u001b[0;32m    973\u001b[0m     \u001b[38;5;66;03m# Catch JSON-related errors and raise as requests.JSONDecodeError\u001b[39;00m\n\u001b[0;32m    974\u001b[0m     \u001b[38;5;66;03m# This aliases json.JSONDecodeError and simplejson.JSONDecodeError\u001b[39;00m\n",
      "File \u001b[1;32mc:\\Users\\HariharanSivakumar\\AppData\\Local\\Programs\\Python\\Python311\\Lib\\json\\__init__.py:346\u001b[0m, in \u001b[0;36mloads\u001b[1;34m(s, cls, object_hook, parse_float, parse_int, parse_constant, object_pairs_hook, **kw)\u001b[0m\n\u001b[0;32m    343\u001b[0m \u001b[38;5;28;01mif\u001b[39;00m (\u001b[38;5;28mcls\u001b[39m \u001b[38;5;129;01mis\u001b[39;00m \u001b[38;5;28;01mNone\u001b[39;00m \u001b[38;5;129;01mand\u001b[39;00m object_hook \u001b[38;5;129;01mis\u001b[39;00m \u001b[38;5;28;01mNone\u001b[39;00m \u001b[38;5;129;01mand\u001b[39;00m\n\u001b[0;32m    344\u001b[0m         parse_int \u001b[38;5;129;01mis\u001b[39;00m \u001b[38;5;28;01mNone\u001b[39;00m \u001b[38;5;129;01mand\u001b[39;00m parse_float \u001b[38;5;129;01mis\u001b[39;00m \u001b[38;5;28;01mNone\u001b[39;00m \u001b[38;5;129;01mand\u001b[39;00m\n\u001b[0;32m    345\u001b[0m         parse_constant \u001b[38;5;129;01mis\u001b[39;00m \u001b[38;5;28;01mNone\u001b[39;00m \u001b[38;5;129;01mand\u001b[39;00m object_pairs_hook \u001b[38;5;129;01mis\u001b[39;00m \u001b[38;5;28;01mNone\u001b[39;00m \u001b[38;5;129;01mand\u001b[39;00m \u001b[38;5;129;01mnot\u001b[39;00m kw):\n\u001b[1;32m--> 346\u001b[0m     \u001b[38;5;28;01mreturn\u001b[39;00m \u001b[43m_default_decoder\u001b[49m\u001b[38;5;241;43m.\u001b[39;49m\u001b[43mdecode\u001b[49m\u001b[43m(\u001b[49m\u001b[43ms\u001b[49m\u001b[43m)\u001b[49m\n\u001b[0;32m    347\u001b[0m \u001b[38;5;28;01mif\u001b[39;00m \u001b[38;5;28mcls\u001b[39m \u001b[38;5;129;01mis\u001b[39;00m \u001b[38;5;28;01mNone\u001b[39;00m:\n",
      "File \u001b[1;32mc:\\Users\\HariharanSivakumar\\AppData\\Local\\Programs\\Python\\Python311\\Lib\\json\\decoder.py:337\u001b[0m, in \u001b[0;36mJSONDecoder.decode\u001b[1;34m(self, s, _w)\u001b[0m\n\u001b[0;32m    333\u001b[0m \u001b[38;5;250m\u001b[39m\u001b[38;5;124;03m\"\"\"Return the Python representation of ``s`` (a ``str`` instance\u001b[39;00m\n\u001b[0;32m    334\u001b[0m \u001b[38;5;124;03mcontaining a JSON document).\u001b[39;00m\n\u001b[0;32m    335\u001b[0m \n\u001b[0;32m    336\u001b[0m \u001b[38;5;124;03m\"\"\"\u001b[39;00m\n\u001b[1;32m--> 337\u001b[0m obj, end \u001b[38;5;241m=\u001b[39m \u001b[38;5;28;43mself\u001b[39;49m\u001b[38;5;241;43m.\u001b[39;49m\u001b[43mraw_decode\u001b[49m\u001b[43m(\u001b[49m\u001b[43ms\u001b[49m\u001b[43m,\u001b[49m\u001b[43m \u001b[49m\u001b[43midx\u001b[49m\u001b[38;5;241;43m=\u001b[39;49m\u001b[43m_w\u001b[49m\u001b[43m(\u001b[49m\u001b[43ms\u001b[49m\u001b[43m,\u001b[49m\u001b[43m \u001b[49m\u001b[38;5;241;43m0\u001b[39;49m\u001b[43m)\u001b[49m\u001b[38;5;241;43m.\u001b[39;49m\u001b[43mend\u001b[49m\u001b[43m(\u001b[49m\u001b[43m)\u001b[49m\u001b[43m)\u001b[49m\n\u001b[0;32m    338\u001b[0m end \u001b[38;5;241m=\u001b[39m _w(s, end)\u001b[38;5;241m.\u001b[39mend()\n",
      "File \u001b[1;32mc:\\Users\\HariharanSivakumar\\AppData\\Local\\Programs\\Python\\Python311\\Lib\\json\\decoder.py:355\u001b[0m, in \u001b[0;36mJSONDecoder.raw_decode\u001b[1;34m(self, s, idx)\u001b[0m\n\u001b[0;32m    354\u001b[0m \u001b[38;5;28;01mexcept\u001b[39;00m \u001b[38;5;167;01mStopIteration\u001b[39;00m \u001b[38;5;28;01mas\u001b[39;00m err:\n\u001b[1;32m--> 355\u001b[0m     \u001b[38;5;28;01mraise\u001b[39;00m JSONDecodeError(\u001b[38;5;124m\"\u001b[39m\u001b[38;5;124mExpecting value\u001b[39m\u001b[38;5;124m\"\u001b[39m, s, err\u001b[38;5;241m.\u001b[39mvalue) \u001b[38;5;28;01mfrom\u001b[39;00m \u001b[38;5;28;01mNone\u001b[39;00m\n\u001b[0;32m    356\u001b[0m \u001b[38;5;28;01mreturn\u001b[39;00m obj, end\n",
      "\u001b[1;31mJSONDecodeError\u001b[0m: Expecting value: line 1 column 1 (char 0)",
      "\nDuring handling of the above exception, another exception occurred:\n",
      "\u001b[1;31mJSONDecodeError\u001b[0m                           Traceback (most recent call last)",
      "Cell \u001b[1;32mIn[15], line 4\u001b[0m\n\u001b[0;32m      1\u001b[0m \u001b[38;5;66;03m# # JSON Response Content\u001b[39;00m\n\u001b[0;32m      2\u001b[0m \u001b[38;5;66;03m# # This is useful if the response body contains JSON data\u001b[39;00m\n\u001b[1;32m----> 4\u001b[0m \u001b[43mresponse\u001b[49m\u001b[38;5;241;43m.\u001b[39;49m\u001b[43mjson\u001b[49m\u001b[43m(\u001b[49m\u001b[43m)\u001b[49m\n\u001b[0;32m      6\u001b[0m \u001b[38;5;66;03m# # Generates Error: Why?\u001b[39;00m\n",
      "File \u001b[1;32mc:\\Users\\HariharanSivakumar\\AppData\\Local\\Programs\\Python\\Python311\\Lib\\site-packages\\requests\\models.py:975\u001b[0m, in \u001b[0;36mResponse.json\u001b[1;34m(self, **kwargs)\u001b[0m\n\u001b[0;32m    971\u001b[0m     \u001b[38;5;28;01mreturn\u001b[39;00m complexjson\u001b[38;5;241m.\u001b[39mloads(\u001b[38;5;28mself\u001b[39m\u001b[38;5;241m.\u001b[39mtext, \u001b[38;5;241m*\u001b[39m\u001b[38;5;241m*\u001b[39mkwargs)\n\u001b[0;32m    972\u001b[0m \u001b[38;5;28;01mexcept\u001b[39;00m JSONDecodeError \u001b[38;5;28;01mas\u001b[39;00m e:\n\u001b[0;32m    973\u001b[0m     \u001b[38;5;66;03m# Catch JSON-related errors and raise as requests.JSONDecodeError\u001b[39;00m\n\u001b[0;32m    974\u001b[0m     \u001b[38;5;66;03m# This aliases json.JSONDecodeError and simplejson.JSONDecodeError\u001b[39;00m\n\u001b[1;32m--> 975\u001b[0m     \u001b[38;5;28;01mraise\u001b[39;00m RequestsJSONDecodeError(e\u001b[38;5;241m.\u001b[39mmsg, e\u001b[38;5;241m.\u001b[39mdoc, e\u001b[38;5;241m.\u001b[39mpos)\n",
      "\u001b[1;31mJSONDecodeError\u001b[0m: Expecting value: line 1 column 1 (char 0)"
     ]
    }
   ],
   "source": [
    "# # JSON Response Content\n",
    "# # This is useful if the response body contains JSON data\n",
    "\n",
    "response.json()\n",
    "\n",
    "# # Generates Error: Why?"
   ]
  },
  {
   "cell_type": "markdown",
   "metadata": {},
   "source": [
    "## **Status Code**\n",
    "\n",
    "Here are some codes that are relevant to GET requests:\n",
    "\n",
    "> **200** - everything went okay, and the result has been returned (if any).  \n",
    "> **301** - the server is redirecting you to a different endpoint. This can happen when a company switches domain names, or an endpoint name is changed.  \n",
    "> **401** - the server thinks you're not authenticated. This happens when you don't send the right credentials to access an API (we'll talk about authentication in a later post).  \n",
    "> **400** - the server thinks you made a bad request. This can happen when you don't send along the right data, among other things.  \n",
    "> **403** - the resource you're trying to access is forbidden -- you don't have the right permissions to see it.  \n",
    "> **404** - the resource you tried to access wasn't found on the server.\n",
    "\n",
    "**Remember**\n",
    "\n",
    "> **1xx** - Information  \n",
    "> **2xx** - Success  \n",
    "> **3xx** - Redirection  \n",
    "> **4xx** - Client Error  \n",
    "> **5xx** - Server Error  "
   ]
  },
  {
   "cell_type": "code",
   "execution_count": 17,
   "metadata": {},
   "outputs": [
    {
     "name": "stdout",
     "output_type": "stream",
     "text": [
      "404\n"
     ]
    }
   ],
   "source": [
    "# Try the endpoint that doesnot exist\n",
    "\n",
    "response = requests.get(\"https://google.com/abcd\")\n",
    "\n",
    "print(response.status_code)"
   ]
  },
  {
   "cell_type": "code",
   "execution_count": 18,
   "metadata": {},
   "outputs": [
    {
     "name": "stdout",
     "output_type": "stream",
     "text": [
      "200\n"
     ]
    }
   ],
   "source": [
    "# Lets now try again with a endpoint that exists\n",
    "\n",
    "response = requests.get(\"https://google.com/search\")\n",
    "\n",
    "print(response.status_code)"
   ]
  },
  {
   "cell_type": "markdown",
   "metadata": {},
   "source": [
    "## **Query Parameters**"
   ]
  },
  {
   "cell_type": "code",
   "execution_count": 19,
   "metadata": {},
   "outputs": [
    {
     "name": "stdout",
     "output_type": "stream",
     "text": [
      "200\n"
     ]
    }
   ],
   "source": [
    "import requests\n",
    "\n",
    "# Request without query parameter\n",
    "response = requests.get(\"https://google.com/search\")\n",
    "\n",
    "print(response.status_code)"
   ]
  },
  {
   "cell_type": "code",
   "execution_count": 20,
   "metadata": {},
   "outputs": [
    {
     "name": "stdout",
     "output_type": "stream",
     "text": [
      "200\n"
     ]
    }
   ],
   "source": [
    "parameters = {\"q\": \"python\"}\n",
    "\n",
    "# Request with query parameter\n",
    "response = requests.get(\"https://google.com/search\", params=parameters)\n",
    "\n",
    "print(response.status_code)"
   ]
  },
  {
   "cell_type": "markdown",
   "metadata": {},
   "source": [
    "## **Request and Response from International Space Station API**\n",
    "\n",
    "**Demonstrating an example with OpenNotify API**  \n",
    "In order to demonstrate, we will be using OpenNotify's API. OpenNotify has several API endpoints.  \n",
    "**OpenNotify API Documentation -** http://open-notify.org/Open-Notify-API/\n",
    "\n",
    "**API Endpoint**\n",
    "> An API endpoint is a digital location where an API receives requests about a specific resource on its server. \n",
    "\n",
    "**`/iss-now.json` endpoint**\n",
    "> The first endpoint we'll look at on OpenNotify is the iss-now.json endpoint.  \n",
    "> This endpoint gets the current latitude and longitude of the International Space Station.   \n",
    "> As you can see, retrieving this data isn't a great fit for a dataset, because it involves some calculation on the server, and changes quickly."
   ]
  },
  {
   "cell_type": "code",
   "execution_count": 19,
   "metadata": {
    "ExecuteTime": {
     "end_time": "2018-09-04T03:32:43.971470Z",
     "start_time": "2018-09-04T03:32:43.967795Z"
    }
   },
   "outputs": [],
   "source": [
    "# Import \"requests\" library\n",
    "\n",
    "import requests"
   ]
  },
  {
   "cell_type": "code",
   "execution_count": 20,
   "metadata": {
    "ExecuteTime": {
     "end_time": "2018-09-04T03:33:20.386628Z",
     "start_time": "2018-09-04T03:33:19.151218Z"
    }
   },
   "outputs": [],
   "source": [
    "# Make a get request to get the latest position of \n",
    "# the international space station from the opennotify api.\n",
    "\n",
    "response = requests.get(\"http://api.open-notify.org/iss-now.json\")"
   ]
  },
  {
   "cell_type": "code",
   "execution_count": 21,
   "metadata": {},
   "outputs": [
    {
     "name": "stdout",
     "output_type": "stream",
     "text": [
      "{'Server': 'nginx/1.10.3', 'Date': 'Wed, 29 Nov 2023 09:13:18 GMT', 'Content-Type': 'application/json', 'Content-Length': '112', 'Connection': 'keep-alive', 'access-control-allow-origin': '*'}\n"
     ]
    }
   ],
   "source": [
    "print(response.headers)"
   ]
  },
  {
   "cell_type": "code",
   "execution_count": 22,
   "metadata": {},
   "outputs": [
    {
     "name": "stdout",
     "output_type": "stream",
     "text": [
      "application/json\n"
     ]
    }
   ],
   "source": [
    "# Check the response content type\n",
    "\n",
    "print(response.headers['Content-Type'])"
   ]
  },
  {
   "cell_type": "code",
   "execution_count": 23,
   "metadata": {},
   "outputs": [
    {
     "name": "stdout",
     "output_type": "stream",
     "text": [
      "http://api.open-notify.org/iss-now.json\n"
     ]
    }
   ],
   "source": [
    "# Check the response URL\n",
    "\n",
    "print(response.url)"
   ]
  },
  {
   "cell_type": "code",
   "execution_count": 24,
   "metadata": {},
   "outputs": [
    {
     "name": "stdout",
     "output_type": "stream",
     "text": [
      "200\n"
     ]
    }
   ],
   "source": [
    "# Check the status code of the response\n",
    "\n",
    "print(response.status_code)"
   ]
  },
  {
   "cell_type": "code",
   "execution_count": 25,
   "metadata": {},
   "outputs": [
    {
     "name": "stdout",
     "output_type": "stream",
     "text": [
      "utf-8\n"
     ]
    }
   ],
   "source": [
    "# Check the response encoding\n",
    "\n",
    "print(response.encoding)"
   ]
  },
  {
   "cell_type": "code",
   "execution_count": 29,
   "metadata": {},
   "outputs": [
    {
     "name": "stdout",
     "output_type": "stream",
     "text": [
      "{\"timestamp\": 1701249198, \"iss_position\": {\"latitude\": \"10.5448\", \"longitude\": \"32.4625\"}, \"message\": \"success\"}\n"
     ]
    }
   ],
   "source": [
    "# Text Response Content\n",
    "# This is useful if the response body contains text data\n",
    "\n",
    "print(response.text)"
   ]
  },
  {
   "cell_type": "code",
   "execution_count": 30,
   "metadata": {},
   "outputs": [
    {
     "name": "stdout",
     "output_type": "stream",
     "text": [
      "b'{\"timestamp\": 1701249198, \"iss_position\": {\"latitude\": \"10.5448\", \"longitude\": \"32.4625\"}, \"message\": \"success\"}'\n"
     ]
    }
   ],
   "source": [
    "# Binary Response Content\n",
    "# This is useful if the response body contains non-text data\n",
    "\n",
    "print(response.content)"
   ]
  },
  {
   "cell_type": "code",
   "execution_count": 31,
   "metadata": {},
   "outputs": [
    {
     "name": "stdout",
     "output_type": "stream",
     "text": [
      "{'timestamp': 1701249198, 'iss_position': {'latitude': '10.5448', 'longitude': '32.4625'}, 'message': 'success'}\n"
     ]
    }
   ],
   "source": [
    "# JSON Response Content\n",
    "# This is useful if the response body contains JSON data\n",
    "\n",
    "print(response.json())"
   ]
  },
  {
   "cell_type": "markdown",
   "metadata": {},
   "source": [
    "## Are there people in Space Right Now ?\n",
    "\n",
    "**`/astros.json` endpoint**\n",
    "> This API returns the current number of people in space.  \n",
    "> When known it also returns the names and spacecraft those people are on.   "
   ]
  },
  {
   "cell_type": "code",
   "execution_count": 32,
   "metadata": {
    "ExecuteTime": {
     "end_time": "2018-09-04T03:33:37.345919Z",
     "start_time": "2018-09-04T03:33:36.305704Z"
    }
   },
   "outputs": [
    {
     "name": "stdout",
     "output_type": "stream",
     "text": [
      "application/json\n"
     ]
    }
   ],
   "source": [
    "response = requests.get(\"http://api.open-notify.org/astros.json\")\n",
    "\n",
    "print(response.headers[\"Content-Type\"])"
   ]
  },
  {
   "cell_type": "code",
   "execution_count": 33,
   "metadata": {
    "ExecuteTime": {
     "end_time": "2018-09-04T03:33:39.276426Z",
     "start_time": "2018-09-04T03:33:39.271722Z"
    }
   },
   "outputs": [
    {
     "name": "stdout",
     "output_type": "stream",
     "text": [
      "{'Server': 'nginx/1.10.3', 'Date': 'Wed, 29 Nov 2023 09:13:46 GMT', 'Content-Type': 'application/json', 'Content-Length': '360', 'Connection': 'keep-alive', 'access-control-allow-origin': '*'}\n"
     ]
    }
   ],
   "source": [
    "print(response.headers)"
   ]
  },
  {
   "cell_type": "code",
   "execution_count": 34,
   "metadata": {
    "ExecuteTime": {
     "end_time": "2018-09-04T03:33:37.345919Z",
     "start_time": "2018-09-04T03:33:36.305704Z"
    }
   },
   "outputs": [
    {
     "name": "stdout",
     "output_type": "stream",
     "text": [
      "<class 'dict'>\n"
     ]
    }
   ],
   "source": [
    "# Get the response data as a python object. Verify that it's a dictionary.\n",
    "data = response.json()\n",
    "\n",
    "print(type(data))"
   ]
  },
  {
   "cell_type": "code",
   "execution_count": 35,
   "metadata": {
    "ExecuteTime": {
     "end_time": "2018-09-03T14:13:18.358948Z",
     "start_time": "2018-09-03T14:13:18.351933Z"
    }
   },
   "outputs": [
    {
     "name": "stdout",
     "output_type": "stream",
     "text": [
      "{'message': 'success', 'people': [{'name': 'Jasmin Moghbeli', 'craft': 'ISS'}, {'name': 'Andreas Mogensen', 'craft': 'ISS'}, {'name': 'Satoshi Furukawa', 'craft': 'ISS'}, {'name': 'Konstantin Borisov', 'craft': 'ISS'}, {'name': 'Oleg Kononenko', 'craft': 'ISS'}, {'name': 'Nikolai Chub', 'craft': 'ISS'}, {'name': \"Loral O'Hara\", 'craft': 'ISS'}], 'number': 7}\n"
     ]
    }
   ],
   "source": [
    "print(data)"
   ]
  },
  {
   "cell_type": "markdown",
   "metadata": {},
   "source": [
    "## Finding the Number and Names of Astronauts in Space"
   ]
  },
  {
   "cell_type": "code",
   "execution_count": 36,
   "metadata": {},
   "outputs": [
    {
     "data": {
      "text/plain": [
       "dict_keys(['message', 'people', 'number'])"
      ]
     },
     "execution_count": 36,
     "metadata": {},
     "output_type": "execute_result"
    }
   ],
   "source": [
    "data.keys()"
   ]
  },
  {
   "cell_type": "code",
   "execution_count": 37,
   "metadata": {},
   "outputs": [
    {
     "name": "stdout",
     "output_type": "stream",
     "text": [
      "7\n"
     ]
    }
   ],
   "source": [
    "# How many people are currently is space?\n",
    "print(data[\"number\"])"
   ]
  },
  {
   "cell_type": "code",
   "execution_count": 38,
   "metadata": {},
   "outputs": [
    {
     "name": "stdout",
     "output_type": "stream",
     "text": [
      "[{'name': 'Jasmin Moghbeli', 'craft': 'ISS'}, {'name': 'Andreas Mogensen', 'craft': 'ISS'}, {'name': 'Satoshi Furukawa', 'craft': 'ISS'}, {'name': 'Konstantin Borisov', 'craft': 'ISS'}, {'name': 'Oleg Kononenko', 'craft': 'ISS'}, {'name': 'Nikolai Chub', 'craft': 'ISS'}, {'name': \"Loral O'Hara\", 'craft': 'ISS'}]\n"
     ]
    }
   ],
   "source": [
    "# Who are these people?\n",
    "print(data[\"people\"])"
   ]
  },
  {
   "cell_type": "code",
   "execution_count": 39,
   "metadata": {},
   "outputs": [
    {
     "name": "stdout",
     "output_type": "stream",
     "text": [
      "Jasmin Moghbeli\n",
      "Andreas Mogensen\n",
      "Satoshi Furukawa\n",
      "Konstantin Borisov\n",
      "Oleg Kononenko\n",
      "Nikolai Chub\n",
      "Loral O'Hara\n"
     ]
    }
   ],
   "source": [
    "people_in_space = data[\"people\"]\n",
    "\n",
    "for astronaut in people_in_space:\n",
    "    print(astronaut['name'])"
   ]
  },
  {
   "cell_type": "markdown",
   "metadata": {},
   "source": [
    "## Converting the JSON data from API to DataFrame\n",
    "\n",
    "**Purpose**  \n",
    "Many APIs return data in JSON format, and the data might be nested. We must know how to convert JSON into a DataFrame that can be easily analyzed.\n",
    "\n",
    "**Steps**  \n",
    "1. Use the `requests` library to make HTTP requests to the API endpoint and retrieve the data. The API key, if required, needs to be included in the request headers.\n",
    "2. Once you have the data, you can push it in a `pandas` DataFrame to analyze and process it."
   ]
  },
  {
   "cell_type": "code",
   "execution_count": 40,
   "metadata": {},
   "outputs": [],
   "source": [
    "import requests\n",
    "import pandas as pd"
   ]
  },
  {
   "cell_type": "markdown",
   "metadata": {},
   "source": [
    "#### **Way 1**"
   ]
  },
  {
   "cell_type": "code",
   "execution_count": 33,
   "metadata": {},
   "outputs": [
    {
     "data": {
      "text/html": [
       "<div>\n",
       "<style scoped>\n",
       "    .dataframe tbody tr th:only-of-type {\n",
       "        vertical-align: middle;\n",
       "    }\n",
       "\n",
       "    .dataframe tbody tr th {\n",
       "        vertical-align: top;\n",
       "    }\n",
       "\n",
       "    .dataframe thead th {\n",
       "        text-align: right;\n",
       "    }\n",
       "</style>\n",
       "<table border=\"1\" class=\"dataframe\">\n",
       "  <thead>\n",
       "    <tr style=\"text-align: right;\">\n",
       "      <th></th>\n",
       "      <th>message</th>\n",
       "      <th>people</th>\n",
       "      <th>number</th>\n",
       "    </tr>\n",
       "  </thead>\n",
       "  <tbody>\n",
       "    <tr>\n",
       "      <th>0</th>\n",
       "      <td>success</td>\n",
       "      <td>{'name': 'Jasmin Moghbeli', 'craft': 'ISS'}</td>\n",
       "      <td>7</td>\n",
       "    </tr>\n",
       "    <tr>\n",
       "      <th>1</th>\n",
       "      <td>success</td>\n",
       "      <td>{'name': 'Andreas Mogensen', 'craft': 'ISS'}</td>\n",
       "      <td>7</td>\n",
       "    </tr>\n",
       "    <tr>\n",
       "      <th>2</th>\n",
       "      <td>success</td>\n",
       "      <td>{'name': 'Satoshi Furukawa', 'craft': 'ISS'}</td>\n",
       "      <td>7</td>\n",
       "    </tr>\n",
       "    <tr>\n",
       "      <th>3</th>\n",
       "      <td>success</td>\n",
       "      <td>{'name': 'Konstantin Borisov', 'craft': 'ISS'}</td>\n",
       "      <td>7</td>\n",
       "    </tr>\n",
       "    <tr>\n",
       "      <th>4</th>\n",
       "      <td>success</td>\n",
       "      <td>{'name': 'Oleg Kononenko', 'craft': 'ISS'}</td>\n",
       "      <td>7</td>\n",
       "    </tr>\n",
       "    <tr>\n",
       "      <th>5</th>\n",
       "      <td>success</td>\n",
       "      <td>{'name': 'Nikolai Chub', 'craft': 'ISS'}</td>\n",
       "      <td>7</td>\n",
       "    </tr>\n",
       "    <tr>\n",
       "      <th>6</th>\n",
       "      <td>success</td>\n",
       "      <td>{'name': 'Loral O'Hara', 'craft': 'ISS'}</td>\n",
       "      <td>7</td>\n",
       "    </tr>\n",
       "  </tbody>\n",
       "</table>\n",
       "</div>"
      ],
      "text/plain": [
       "   message                                          people  number\n",
       "0  success     {'name': 'Jasmin Moghbeli', 'craft': 'ISS'}       7\n",
       "1  success    {'name': 'Andreas Mogensen', 'craft': 'ISS'}       7\n",
       "2  success    {'name': 'Satoshi Furukawa', 'craft': 'ISS'}       7\n",
       "3  success  {'name': 'Konstantin Borisov', 'craft': 'ISS'}       7\n",
       "4  success      {'name': 'Oleg Kononenko', 'craft': 'ISS'}       7\n",
       "5  success        {'name': 'Nikolai Chub', 'craft': 'ISS'}       7\n",
       "6  success        {'name': 'Loral O'Hara', 'craft': 'ISS'}       7"
      ]
     },
     "execution_count": 33,
     "metadata": {},
     "output_type": "execute_result"
    }
   ],
   "source": [
    "# Way 1\n",
    "\n",
    "# Using \"requests\" library make a HTTP request to \"/astros.json\" endpoint\n",
    "response = requests.get(\"http://api.open-notify.org/astros.json\")\n",
    "\n",
    "# Retrieve the data from the \"response\"\n",
    "data = response.json()\n",
    "\n",
    "# Push data to dataframe\n",
    "df = pd.DataFrame(data)\n",
    "\n",
    "df"
   ]
  },
  {
   "cell_type": "code",
   "execution_count": 35,
   "metadata": {},
   "outputs": [
    {
     "data": {
      "text/html": [
       "<div>\n",
       "<style scoped>\n",
       "    .dataframe tbody tr th:only-of-type {\n",
       "        vertical-align: middle;\n",
       "    }\n",
       "\n",
       "    .dataframe tbody tr th {\n",
       "        vertical-align: top;\n",
       "    }\n",
       "\n",
       "    .dataframe thead th {\n",
       "        text-align: right;\n",
       "    }\n",
       "</style>\n",
       "<table border=\"1\" class=\"dataframe\">\n",
       "  <thead>\n",
       "    <tr style=\"text-align: right;\">\n",
       "      <th></th>\n",
       "      <th>name</th>\n",
       "      <th>craft</th>\n",
       "    </tr>\n",
       "  </thead>\n",
       "  <tbody>\n",
       "    <tr>\n",
       "      <th>0</th>\n",
       "      <td>Jasmin Moghbeli</td>\n",
       "      <td>ISS</td>\n",
       "    </tr>\n",
       "    <tr>\n",
       "      <th>1</th>\n",
       "      <td>Andreas Mogensen</td>\n",
       "      <td>ISS</td>\n",
       "    </tr>\n",
       "    <tr>\n",
       "      <th>2</th>\n",
       "      <td>Satoshi Furukawa</td>\n",
       "      <td>ISS</td>\n",
       "    </tr>\n",
       "    <tr>\n",
       "      <th>3</th>\n",
       "      <td>Konstantin Borisov</td>\n",
       "      <td>ISS</td>\n",
       "    </tr>\n",
       "    <tr>\n",
       "      <th>4</th>\n",
       "      <td>Oleg Kononenko</td>\n",
       "      <td>ISS</td>\n",
       "    </tr>\n",
       "    <tr>\n",
       "      <th>5</th>\n",
       "      <td>Nikolai Chub</td>\n",
       "      <td>ISS</td>\n",
       "    </tr>\n",
       "    <tr>\n",
       "      <th>6</th>\n",
       "      <td>Loral O'Hara</td>\n",
       "      <td>ISS</td>\n",
       "    </tr>\n",
       "  </tbody>\n",
       "</table>\n",
       "</div>"
      ],
      "text/plain": [
       "                 name craft\n",
       "0     Jasmin Moghbeli   ISS\n",
       "1    Andreas Mogensen   ISS\n",
       "2    Satoshi Furukawa   ISS\n",
       "3  Konstantin Borisov   ISS\n",
       "4      Oleg Kononenko   ISS\n",
       "5        Nikolai Chub   ISS\n",
       "6        Loral O'Hara   ISS"
      ]
     },
     "execution_count": 35,
     "metadata": {},
     "output_type": "execute_result"
    }
   ],
   "source": [
    "# We don't need message and number column. We want two columns with Person Name and Craft. \n",
    "# Fixing way 1\n",
    "\n",
    "astronauts = pd.DataFrame(data['people'])\n",
    "\n",
    "astronauts"
   ]
  },
  {
   "cell_type": "markdown",
   "metadata": {},
   "source": [
    "#### **Way 2 - Using pd.json_normalize()**\n",
    "\n",
    "The json_normalize function in Pandas is used to normalize semi-structured JSON data into a flat table. It is particularly useful when dealing with nested JSON structures, where certain fields might contain nested dictionaries or lists."
   ]
  },
  {
   "cell_type": "code",
   "execution_count": 47,
   "metadata": {},
   "outputs": [
    {
     "data": {
      "text/html": [
       "<div>\n",
       "<style scoped>\n",
       "    .dataframe tbody tr th:only-of-type {\n",
       "        vertical-align: middle;\n",
       "    }\n",
       "\n",
       "    .dataframe tbody tr th {\n",
       "        vertical-align: top;\n",
       "    }\n",
       "\n",
       "    .dataframe thead th {\n",
       "        text-align: right;\n",
       "    }\n",
       "</style>\n",
       "<table border=\"1\" class=\"dataframe\">\n",
       "  <thead>\n",
       "    <tr style=\"text-align: right;\">\n",
       "      <th></th>\n",
       "      <th>message</th>\n",
       "      <th>people</th>\n",
       "      <th>number</th>\n",
       "    </tr>\n",
       "  </thead>\n",
       "  <tbody>\n",
       "    <tr>\n",
       "      <th>0</th>\n",
       "      <td>success</td>\n",
       "      <td>[{'name': 'Jasmin Moghbeli', 'craft': 'ISS'}, ...</td>\n",
       "      <td>7</td>\n",
       "    </tr>\n",
       "  </tbody>\n",
       "</table>\n",
       "</div>"
      ],
      "text/plain": [
       "   message                                             people  number\n",
       "0  success  [{'name': 'Jasmin Moghbeli', 'craft': 'ISS'}, ...       7"
      ]
     },
     "execution_count": 47,
     "metadata": {},
     "output_type": "execute_result"
    }
   ],
   "source": [
    "# Way 2\n",
    "\n",
    "# Using \"requests\" library make a HTTP request to \"/astros.json\" endpoint\n",
    "response = requests.get(\"http://api.open-notify.org/astros.json\")\n",
    "\n",
    "# Retrieve the data from the \"response\"\n",
    "data = response.json()\n",
    "\n",
    "# Use \"json_normalize()\" to normalize JSON data into flat table\n",
    "df = pd.json_normalize(data)\n",
    "\n",
    "df"
   ]
  },
  {
   "cell_type": "code",
   "execution_count": 48,
   "metadata": {},
   "outputs": [
    {
     "data": {
      "text/html": [
       "<div>\n",
       "<style scoped>\n",
       "    .dataframe tbody tr th:only-of-type {\n",
       "        vertical-align: middle;\n",
       "    }\n",
       "\n",
       "    .dataframe tbody tr th {\n",
       "        vertical-align: top;\n",
       "    }\n",
       "\n",
       "    .dataframe thead th {\n",
       "        text-align: right;\n",
       "    }\n",
       "</style>\n",
       "<table border=\"1\" class=\"dataframe\">\n",
       "  <thead>\n",
       "    <tr style=\"text-align: right;\">\n",
       "      <th></th>\n",
       "      <th>name</th>\n",
       "      <th>craft</th>\n",
       "    </tr>\n",
       "  </thead>\n",
       "  <tbody>\n",
       "    <tr>\n",
       "      <th>0</th>\n",
       "      <td>Jasmin Moghbeli</td>\n",
       "      <td>ISS</td>\n",
       "    </tr>\n",
       "    <tr>\n",
       "      <th>1</th>\n",
       "      <td>Andreas Mogensen</td>\n",
       "      <td>ISS</td>\n",
       "    </tr>\n",
       "    <tr>\n",
       "      <th>2</th>\n",
       "      <td>Satoshi Furukawa</td>\n",
       "      <td>ISS</td>\n",
       "    </tr>\n",
       "    <tr>\n",
       "      <th>3</th>\n",
       "      <td>Konstantin Borisov</td>\n",
       "      <td>ISS</td>\n",
       "    </tr>\n",
       "    <tr>\n",
       "      <th>4</th>\n",
       "      <td>Oleg Kononenko</td>\n",
       "      <td>ISS</td>\n",
       "    </tr>\n",
       "    <tr>\n",
       "      <th>5</th>\n",
       "      <td>Nikolai Chub</td>\n",
       "      <td>ISS</td>\n",
       "    </tr>\n",
       "    <tr>\n",
       "      <th>6</th>\n",
       "      <td>Loral O'Hara</td>\n",
       "      <td>ISS</td>\n",
       "    </tr>\n",
       "  </tbody>\n",
       "</table>\n",
       "</div>"
      ],
      "text/plain": [
       "                 name craft\n",
       "0     Jasmin Moghbeli   ISS\n",
       "1    Andreas Mogensen   ISS\n",
       "2    Satoshi Furukawa   ISS\n",
       "3  Konstantin Borisov   ISS\n",
       "4      Oleg Kononenko   ISS\n",
       "5        Nikolai Chub   ISS\n",
       "6        Loral O'Hara   ISS"
      ]
     },
     "execution_count": 48,
     "metadata": {},
     "output_type": "execute_result"
    }
   ],
   "source": [
    "# # This is not the expected outcome\n",
    "# # Fixing way 2\n",
    "\n",
    "# Using \"requests\" library make a HTTP request to \"/astros.json\" endpoint\n",
    "response = requests.get(\"http://api.open-notify.org/astros.json\")\n",
    "\n",
    "# Retrieve the data from the \"response\"\n",
    "data = response.json()\n",
    "\n",
    "# Convert JSON data to DataFrame\n",
    "astronauts = pd.json_normalize(data, record_path=['people'])\n",
    "\n",
    "astronauts"
   ]
  },
  {
   "cell_type": "markdown",
   "metadata": {},
   "source": [
    "#### **Way 3**"
   ]
  },
  {
   "cell_type": "code",
   "execution_count": 45,
   "metadata": {},
   "outputs": [
    {
     "data": {
      "text/html": [
       "<div>\n",
       "<style scoped>\n",
       "    .dataframe tbody tr th:only-of-type {\n",
       "        vertical-align: middle;\n",
       "    }\n",
       "\n",
       "    .dataframe tbody tr th {\n",
       "        vertical-align: top;\n",
       "    }\n",
       "\n",
       "    .dataframe thead th {\n",
       "        text-align: right;\n",
       "    }\n",
       "</style>\n",
       "<table border=\"1\" class=\"dataframe\">\n",
       "  <thead>\n",
       "    <tr style=\"text-align: right;\">\n",
       "      <th></th>\n",
       "      <th>message</th>\n",
       "      <th>people</th>\n",
       "      <th>number</th>\n",
       "    </tr>\n",
       "  </thead>\n",
       "  <tbody>\n",
       "    <tr>\n",
       "      <th>0</th>\n",
       "      <td>success</td>\n",
       "      <td>{'name': 'Jasmin Moghbeli', 'craft': 'ISS'}</td>\n",
       "      <td>7</td>\n",
       "    </tr>\n",
       "    <tr>\n",
       "      <th>1</th>\n",
       "      <td>success</td>\n",
       "      <td>{'name': 'Andreas Mogensen', 'craft': 'ISS'}</td>\n",
       "      <td>7</td>\n",
       "    </tr>\n",
       "    <tr>\n",
       "      <th>2</th>\n",
       "      <td>success</td>\n",
       "      <td>{'name': 'Satoshi Furukawa', 'craft': 'ISS'}</td>\n",
       "      <td>7</td>\n",
       "    </tr>\n",
       "    <tr>\n",
       "      <th>3</th>\n",
       "      <td>success</td>\n",
       "      <td>{'name': 'Konstantin Borisov', 'craft': 'ISS'}</td>\n",
       "      <td>7</td>\n",
       "    </tr>\n",
       "    <tr>\n",
       "      <th>4</th>\n",
       "      <td>success</td>\n",
       "      <td>{'name': 'Oleg Kononenko', 'craft': 'ISS'}</td>\n",
       "      <td>7</td>\n",
       "    </tr>\n",
       "    <tr>\n",
       "      <th>5</th>\n",
       "      <td>success</td>\n",
       "      <td>{'name': 'Nikolai Chub', 'craft': 'ISS'}</td>\n",
       "      <td>7</td>\n",
       "    </tr>\n",
       "    <tr>\n",
       "      <th>6</th>\n",
       "      <td>success</td>\n",
       "      <td>{'name': 'Loral O'Hara', 'craft': 'ISS'}</td>\n",
       "      <td>7</td>\n",
       "    </tr>\n",
       "  </tbody>\n",
       "</table>\n",
       "</div>"
      ],
      "text/plain": [
       "   message                                          people  number\n",
       "0  success     {'name': 'Jasmin Moghbeli', 'craft': 'ISS'}       7\n",
       "1  success    {'name': 'Andreas Mogensen', 'craft': 'ISS'}       7\n",
       "2  success    {'name': 'Satoshi Furukawa', 'craft': 'ISS'}       7\n",
       "3  success  {'name': 'Konstantin Borisov', 'craft': 'ISS'}       7\n",
       "4  success      {'name': 'Oleg Kononenko', 'craft': 'ISS'}       7\n",
       "5  success        {'name': 'Nikolai Chub', 'craft': 'ISS'}       7\n",
       "6  success        {'name': 'Loral O'Hara', 'craft': 'ISS'}       7"
      ]
     },
     "execution_count": 45,
     "metadata": {},
     "output_type": "execute_result"
    }
   ],
   "source": [
    "# Way 3\n",
    "\n",
    "df = pd.read_json(\"http://api.open-notify.org/astros.json\")\n",
    "\n",
    "df"
   ]
  },
  {
   "cell_type": "code",
   "execution_count": 46,
   "metadata": {},
   "outputs": [
    {
     "data": {
      "text/html": [
       "<div>\n",
       "<style scoped>\n",
       "    .dataframe tbody tr th:only-of-type {\n",
       "        vertical-align: middle;\n",
       "    }\n",
       "\n",
       "    .dataframe tbody tr th {\n",
       "        vertical-align: top;\n",
       "    }\n",
       "\n",
       "    .dataframe thead th {\n",
       "        text-align: right;\n",
       "    }\n",
       "</style>\n",
       "<table border=\"1\" class=\"dataframe\">\n",
       "  <thead>\n",
       "    <tr style=\"text-align: right;\">\n",
       "      <th></th>\n",
       "      <th>name</th>\n",
       "      <th>craft</th>\n",
       "    </tr>\n",
       "  </thead>\n",
       "  <tbody>\n",
       "    <tr>\n",
       "      <th>0</th>\n",
       "      <td>Jasmin Moghbeli</td>\n",
       "      <td>ISS</td>\n",
       "    </tr>\n",
       "    <tr>\n",
       "      <th>1</th>\n",
       "      <td>Andreas Mogensen</td>\n",
       "      <td>ISS</td>\n",
       "    </tr>\n",
       "    <tr>\n",
       "      <th>2</th>\n",
       "      <td>Satoshi Furukawa</td>\n",
       "      <td>ISS</td>\n",
       "    </tr>\n",
       "    <tr>\n",
       "      <th>3</th>\n",
       "      <td>Konstantin Borisov</td>\n",
       "      <td>ISS</td>\n",
       "    </tr>\n",
       "    <tr>\n",
       "      <th>4</th>\n",
       "      <td>Oleg Kononenko</td>\n",
       "      <td>ISS</td>\n",
       "    </tr>\n",
       "    <tr>\n",
       "      <th>5</th>\n",
       "      <td>Nikolai Chub</td>\n",
       "      <td>ISS</td>\n",
       "    </tr>\n",
       "    <tr>\n",
       "      <th>6</th>\n",
       "      <td>Loral O'Hara</td>\n",
       "      <td>ISS</td>\n",
       "    </tr>\n",
       "  </tbody>\n",
       "</table>\n",
       "</div>"
      ],
      "text/plain": [
       "                 name craft\n",
       "0     Jasmin Moghbeli   ISS\n",
       "1    Andreas Mogensen   ISS\n",
       "2    Satoshi Furukawa   ISS\n",
       "3  Konstantin Borisov   ISS\n",
       "4      Oleg Kononenko   ISS\n",
       "5        Nikolai Chub   ISS\n",
       "6        Loral O'Hara   ISS"
      ]
     },
     "execution_count": 46,
     "metadata": {},
     "output_type": "execute_result"
    }
   ],
   "source": [
    "# We don't need message and number column. We want two columns with Person Name and Craft. \n",
    "# Fixing way 3\n",
    "\n",
    "# Convert JSON data to DataFrame\n",
    "astronauts = pd.json_normalize(df['people'])\n",
    "\n",
    "astronauts"
   ]
  },
  {
   "cell_type": "markdown",
   "metadata": {},
   "source": [
    "## **Working with JSON** \n",
    "- Converting Python Objects to JSON and vice versa using **dumps() and loads()**\n",
    "- Saving the data to JSON files and vice versa using **dump() and load()**\n",
    "\n",
    "\n",
    "### **dumps() and loads()**\n",
    "We can convert lists, tuples and dictionaries to JSON strings, and convert JSON strings to lists and dictionaries.\n",
    "\n",
    "The json module has two main methods for doing this:\n",
    "> **json.dumps(PYTHON_OBJECT) -** Takes in a Python object, and converts it to a JSON string.  \n",
    "> **json.loads(JSON_STRING) -** Takes a JSON string, and converts it to a Python object."
   ]
  },
  {
   "cell_type": "code",
   "execution_count": 44,
   "metadata": {
    "ExecuteTime": {
     "end_time": "2018-09-04T03:33:33.902009Z",
     "start_time": "2018-09-04T03:33:33.894499Z"
    }
   },
   "outputs": [],
   "source": [
    "# Import the json library\n",
    "\n",
    "import json"
   ]
  },
  {
   "cell_type": "markdown",
   "metadata": {},
   "source": [
    "#### **dumps() & loads() on Python List**"
   ]
  },
  {
   "cell_type": "code",
   "execution_count": 45,
   "metadata": {
    "ExecuteTime": {
     "end_time": "2018-09-04T03:33:33.902009Z",
     "start_time": "2018-09-04T03:33:33.894499Z"
    }
   },
   "outputs": [
    {
     "name": "stdout",
     "output_type": "stream",
     "text": [
      "<class 'list'>\n",
      "['Shaktiman', 'Krish', 'Flying Jatt', 'Bhavesh Joshi']\n"
     ]
    }
   ],
   "source": [
    "# Make a list of Indian Superheros\n",
    "sup_hero = ['Shaktiman', 'Krish', 'Flying Jatt', 'Bhavesh Joshi']\n",
    "\n",
    "# Checking the type of \"sup_hero\"\n",
    "print(type(sup_hero)) \n",
    "\n",
    "print(sup_hero)"
   ]
  },
  {
   "cell_type": "code",
   "execution_count": 46,
   "metadata": {
    "ExecuteTime": {
     "end_time": "2018-09-04T03:33:33.902009Z",
     "start_time": "2018-09-04T03:33:33.894499Z"
    }
   },
   "outputs": [
    {
     "name": "stdout",
     "output_type": "stream",
     "text": [
      "<class 'str'>\n",
      "[\"Shaktiman\", \"Krish\", \"Flying Jatt\", \"Bhavesh Joshi\"]\n"
     ]
    }
   ],
   "source": [
    "# Use json.dumps() to convert \"sup_hero\" to a string\n",
    "sup_hero_str = json.dumps(sup_hero)\n",
    "\n",
    "# Checking the type of \"sup_hero_str\"\n",
    "print(type(sup_hero_str))\n",
    "\n",
    "print(sup_hero_str)"
   ]
  },
  {
   "cell_type": "code",
   "execution_count": 47,
   "metadata": {},
   "outputs": [
    {
     "name": "stdout",
     "output_type": "stream",
     "text": [
      "<class 'list'>\n",
      "['Shaktiman', 'Krish', 'Flying Jatt', 'Bhavesh Joshi']\n"
     ]
    }
   ],
   "source": [
    "# Convert best_food_chains_string back into a list\n",
    "sup_hero_lst = json.loads(sup_hero_str)\n",
    "\n",
    "print(type(sup_hero_lst))\n",
    "\n",
    "print(sup_hero_lst)"
   ]
  },
  {
   "cell_type": "markdown",
   "metadata": {},
   "source": [
    "#### **dumps() & loads() on Python Dictionary**"
   ]
  },
  {
   "cell_type": "code",
   "execution_count": 48,
   "metadata": {
    "ExecuteTime": {
     "end_time": "2018-09-04T03:33:33.902009Z",
     "start_time": "2018-09-04T03:33:33.894499Z"
    }
   },
   "outputs": [
    {
     "name": "stdout",
     "output_type": "stream",
     "text": [
      "<class 'dict'>\n",
      "{'Subway': 24722, 'McDonalds': 14098, 'Starbucks': 10821, 'Pizza Hut': 7600}\n"
     ]
    }
   ],
   "source": [
    "# Make a dictionary\n",
    "fast_food_franchise = {\n",
    "    \"Subway\": 24722,\n",
    "    \"McDonalds\": 14098,\n",
    "    \"Starbucks\": 10821,\n",
    "    \"Pizza Hut\": 7600\n",
    "}\n",
    "\n",
    "print(type(fast_food_franchise))\n",
    "\n",
    "print(fast_food_franchise)"
   ]
  },
  {
   "cell_type": "code",
   "execution_count": 49,
   "metadata": {},
   "outputs": [
    {
     "name": "stdout",
     "output_type": "stream",
     "text": [
      "<class 'str'>\n",
      "{\"Subway\": 24722, \"McDonalds\": 14098, \"Starbucks\": 10821, \"Pizza Hut\": 7600}\n"
     ]
    }
   ],
   "source": [
    "# We can also dump a dictionary to a string and load it.\n",
    "fast_food_franchise_str = json.dumps(fast_food_franchise)\n",
    "\n",
    "print(type(fast_food_franchise_str))\n",
    "\n",
    "print(fast_food_franchise_str)"
   ]
  },
  {
   "cell_type": "code",
   "execution_count": 51,
   "metadata": {},
   "outputs": [
    {
     "name": "stdout",
     "output_type": "stream",
     "text": [
      "<class 'dict'>\n",
      "{'Subway': 24722, 'McDonalds': 14098, 'Starbucks': 10821, 'Pizza Hut': 7600}\n"
     ]
    }
   ],
   "source": [
    "fast_food_franchise_lst = json.loads(fast_food_franchise_str)\n",
    "\n",
    "print(type(fast_food_franchise_lst))\n",
    "\n",
    "print(fast_food_franchise_lst)"
   ]
  },
  {
   "cell_type": "markdown",
   "metadata": {},
   "source": [
    "#### **dumps() & loads() on Python Tuple**"
   ]
  },
  {
   "cell_type": "code",
   "execution_count": 58,
   "metadata": {},
   "outputs": [
    {
     "name": "stdout",
     "output_type": "stream",
     "text": [
      "<class 'tuple'>\n",
      "('Kanav', 'Bansal', 'Data Science')\n"
     ]
    }
   ],
   "source": [
    "tup = ('Kanav', \"Bansal\", \"Data Science\")\n",
    "\n",
    "print(type(tup))\n",
    "\n",
    "print(tup)"
   ]
  },
  {
   "cell_type": "code",
   "execution_count": 59,
   "metadata": {},
   "outputs": [
    {
     "name": "stdout",
     "output_type": "stream",
     "text": [
      "<class 'str'>\n",
      "[\"Kanav\", \"Bansal\", \"Data Science\"]\n"
     ]
    }
   ],
   "source": [
    "tup_str = json.dumps(tup)\n",
    "\n",
    "print(type(tup_str))\n",
    "\n",
    "print(tup_str)"
   ]
  },
  {
   "cell_type": "code",
   "execution_count": 61,
   "metadata": {},
   "outputs": [
    {
     "name": "stdout",
     "output_type": "stream",
     "text": [
      "<class 'list'>\n",
      "['Kanav', 'Bansal', 'Data Science']\n"
     ]
    }
   ],
   "source": [
    "tup_lst = json.loads(tup_str)\n",
    "\n",
    "print(type(tup_lst))\n",
    "\n",
    "print(tup_lst)\n",
    "# Remeber loads() function converts JSON string to Python String, List or Dictionary"
   ]
  },
  {
   "cell_type": "markdown",
   "metadata": {},
   "source": [
    "### **dump() and load()**\n",
    "\n",
    "We can create and read JSON files.\n",
    "\n",
    "The json module has two main methods for doing this:\n",
    "> **json.dump(data, file_object) -** This helps in writing data into a JSON file format.  \n",
    "> **json.load(file_object) -** This helps to read a JSON file."
   ]
  },
  {
   "cell_type": "code",
   "execution_count": 62,
   "metadata": {},
   "outputs": [
    {
     "name": "stdout",
     "output_type": "stream",
     "text": [
      "{'Subway': 24722, 'McDonalds': 14098, 'Starbucks': 10821, 'Pizza Hut': 7600}\n",
      "<class 'dict'>\n"
     ]
    }
   ],
   "source": [
    "print(fast_food_franchise)\n",
    "\n",
    "print(type(fast_food_franchise))"
   ]
  },
  {
   "cell_type": "code",
   "execution_count": 63,
   "metadata": {},
   "outputs": [],
   "source": [
    "file_name = 'data/fast_food.json'\n",
    "\n",
    "with open(file_name, 'w') as f:\n",
    "    json.dump(fast_food_franchise, f)"
   ]
  },
  {
   "cell_type": "code",
   "execution_count": 64,
   "metadata": {},
   "outputs": [
    {
     "name": "stdout",
     "output_type": "stream",
     "text": [
      "['Shaktiman', 'Krish', 'Flying Jatt', 'Bhavesh Joshi']\n",
      "<class 'list'>\n"
     ]
    }
   ],
   "source": [
    "print(sup_hero)\n",
    "\n",
    "print(type(sup_hero))"
   ]
  },
  {
   "cell_type": "code",
   "execution_count": 65,
   "metadata": {},
   "outputs": [],
   "source": [
    "file_name = 'data/sup_hero.json'\n",
    "\n",
    "with open(file_name, 'w') as f:\n",
    "    json.dump(sup_hero, f)"
   ]
  },
  {
   "cell_type": "code",
   "execution_count": 66,
   "metadata": {},
   "outputs": [
    {
     "name": "stdout",
     "output_type": "stream",
     "text": [
      "['Shaktiman', 'Krish', 'Flying Jatt', 'Bhavesh Joshi']\n",
      "<class 'list'>\n"
     ]
    }
   ],
   "source": [
    "file_name = 'data/sup_hero.json'\n",
    "\n",
    "with open(file_name, 'r') as f:\n",
    "    data = json.load(f)\n",
    "    \n",
    "print(data)\n",
    "print(type(data))"
   ]
  },
  {
   "cell_type": "markdown",
   "metadata": {},
   "source": [
    "## **Popular API Documentations**\n",
    "\n",
    "**fakestoreapi**  \n",
    "> https://fakestoreapi.com/docs  \n",
    "> fakeStoreApi can be used with any type of shopping project that needs products, carts, and users in JSON format. You can use examples below to check how fakeStoreApi works and feel free to enjoy it in your awesome projects! \n",
    "\n",
    "**coingecko**  \n",
    "> https://www.coingecko.com/en/api/documentation  \n",
    "> CoinGecko was founded in 2014 with the mission to democratize the access of crypto data and empower users with actionable insights. "
   ]
  },
  {
   "cell_type": "markdown",
   "metadata": {},
   "source": [
    "## **Extracting Crypto Data using Coingecko API**\n",
    "\n",
    "**ROOT_URL = \"https://api.coingecko.com/api/v3\"**\n",
    "\n",
    "**API End Points**\n",
    "> **Ping** - `/ping`  \n",
    "> **Coin List** - `/coin/list`  \n",
    "> **Coin Market** - `/coins/markets`  \n",
    "> **Coin History** - `/coins/{id}/history`  \n",
    "> **Coin Market Chart** - `coins/{id}/market_chart`  "
   ]
  },
  {
   "cell_type": "markdown",
   "metadata": {},
   "source": [
    "### **Endpoint - `/ping`**"
   ]
  },
  {
   "cell_type": "code",
   "execution_count": 67,
   "metadata": {},
   "outputs": [
    {
     "data": {
      "text/plain": [
       "200"
      ]
     },
     "execution_count": 67,
     "metadata": {},
     "output_type": "execute_result"
    }
   ],
   "source": [
    "import requests\n",
    "\n",
    "ROOT_URL = \"https://api.coingecko.com/api/v3\"\n",
    "endpoint = \"/ping\"\n",
    "\n",
    "res = requests.get(ROOT_URL + endpoint)\n",
    "\n",
    "res.status_code"
   ]
  },
  {
   "cell_type": "code",
   "execution_count": 68,
   "metadata": {
    "scrolled": true
   },
   "outputs": [
    {
     "data": {
      "text/plain": [
       "{'Date': 'Wed, 29 Nov 2023 09:42:59 GMT', 'Content-Type': 'application/json; charset=utf-8', 'Transfer-Encoding': 'chunked', 'Connection': 'keep-alive', 'X-Frame-Options': 'SAMEORIGIN', 'X-XSS-Protection': '0', 'X-Content-Type-Options': 'nosniff', 'X-Download-Options': 'noopen', 'X-Permitted-Cross-Domain-Policies': 'none', 'Referrer-Policy': 'strict-origin-when-cross-origin', 'Access-Control-Allow-Origin': '*', 'Access-Control-Allow-Methods': 'POST, PUT, DELETE, GET, OPTIONS', 'Access-Control-Request-Method': '*', 'Access-Control-Allow-Headers': 'Origin, X-Requested-With, Content-Type, Accept, Authorization', 'Access-Control-Expose-Headers': 'link, per-page, total', 'Vary': 'Accept-Encoding, Origin', 'Content-Encoding': 'gzip', 'ETag': 'W/\"166aff44678203974a27914c182f2f81\"', 'Cache-Control': 'max-age=0, private, must-revalidate', 'X-Request-Id': '2cfdcf1b-2160-4387-9a05-4a993a146ab6', 'X-Runtime': '0.002496', 'Alternate-Protocol': '443:npn-spdy/2', 'Strict-Transport-Security': 'max-age=15724800; includeSubdomains', 'CF-Cache-Status': 'MISS', 'Set-Cookie': '__cf_bm=hYmb16ifnhDlJs233iHQ8.XtUrqPyFr_bhTaFG1yHLM-1701250979-0-AcvfpfV/bsuALK8hoE5q5PQcSoe6P6YUlyeU/AWAIGBiCJ2aUracFIk/8+8RFz/gKbePmv+XoujWPLy9GFx97NE=; path=/; expires=Wed, 29-Nov-23 10:12:59 GMT; domain=.api.coingecko.com; HttpOnly; Secure; SameSite=None', 'Server': 'cloudflare', 'CF-RAY': '82d9e75e99292e8b-HYD'}"
      ]
     },
     "execution_count": 68,
     "metadata": {},
     "output_type": "execute_result"
    }
   ],
   "source": [
    "res.headers"
   ]
  },
  {
   "cell_type": "code",
   "execution_count": 69,
   "metadata": {},
   "outputs": [
    {
     "data": {
      "text/plain": [
       "'application/json; charset=utf-8'"
      ]
     },
     "execution_count": 69,
     "metadata": {},
     "output_type": "execute_result"
    }
   ],
   "source": [
    "res.headers['Content-Type']"
   ]
  },
  {
   "cell_type": "code",
   "execution_count": 70,
   "metadata": {},
   "outputs": [
    {
     "data": {
      "text/plain": [
       "'{\"gecko_says\":\"(V3) To the Moon!\"}'"
      ]
     },
     "execution_count": 70,
     "metadata": {},
     "output_type": "execute_result"
    }
   ],
   "source": [
    "res.text"
   ]
  },
  {
   "cell_type": "markdown",
   "metadata": {},
   "source": [
    "### **Endpoint - `/coin/list`**\n",
    "Use this to obtain all the coins' id in order to make API calls"
   ]
  },
  {
   "cell_type": "code",
   "execution_count": 78,
   "metadata": {},
   "outputs": [
    {
     "data": {
      "text/plain": [
       "[{'id': '01coin', 'symbol': 'zoc', 'name': '01coin'},\n",
       " {'id': '0chain', 'symbol': 'zcn', 'name': 'Zus'},\n",
       " {'id': '0-knowledge-network', 'symbol': '0kn', 'name': '0 Knowledge Network'},\n",
       " {'id': '0-mee', 'symbol': 'ome', 'name': 'O-MEE'},\n",
       " {'id': '0vix-protocol', 'symbol': 'vix', 'name': '0VIX Protocol'}]"
      ]
     },
     "execution_count": 78,
     "metadata": {},
     "output_type": "execute_result"
    }
   ],
   "source": [
    "import requests\n",
    "\n",
    "ROOT_URL = \"https://api.coingecko.com/api/v3\"\n",
    "endpoint = \"/coins/list\"\n",
    "\n",
    "res = requests.get(ROOT_URL + endpoint)\n",
    "\n",
    "res.json()[:5]"
   ]
  },
  {
   "cell_type": "code",
   "execution_count": 79,
   "metadata": {},
   "outputs": [
    {
     "name": "stdout",
     "output_type": "stream",
     "text": [
      "<class 'list'>\n"
     ]
    }
   ],
   "source": [
    "data = res.json()\n",
    "\n",
    "print(type(data))"
   ]
  },
  {
   "cell_type": "code",
   "execution_count": 80,
   "metadata": {},
   "outputs": [
    {
     "data": {
      "text/html": [
       "<div>\n",
       "<style scoped>\n",
       "    .dataframe tbody tr th:only-of-type {\n",
       "        vertical-align: middle;\n",
       "    }\n",
       "\n",
       "    .dataframe tbody tr th {\n",
       "        vertical-align: top;\n",
       "    }\n",
       "\n",
       "    .dataframe thead th {\n",
       "        text-align: right;\n",
       "    }\n",
       "</style>\n",
       "<table border=\"1\" class=\"dataframe\">\n",
       "  <thead>\n",
       "    <tr style=\"text-align: right;\">\n",
       "      <th></th>\n",
       "      <th>id</th>\n",
       "      <th>symbol</th>\n",
       "      <th>name</th>\n",
       "    </tr>\n",
       "  </thead>\n",
       "  <tbody>\n",
       "    <tr>\n",
       "      <th>0</th>\n",
       "      <td>01coin</td>\n",
       "      <td>zoc</td>\n",
       "      <td>01coin</td>\n",
       "    </tr>\n",
       "    <tr>\n",
       "      <th>1</th>\n",
       "      <td>0chain</td>\n",
       "      <td>zcn</td>\n",
       "      <td>Zus</td>\n",
       "    </tr>\n",
       "    <tr>\n",
       "      <th>2</th>\n",
       "      <td>0-knowledge-network</td>\n",
       "      <td>0kn</td>\n",
       "      <td>0 Knowledge Network</td>\n",
       "    </tr>\n",
       "    <tr>\n",
       "      <th>3</th>\n",
       "      <td>0-mee</td>\n",
       "      <td>ome</td>\n",
       "      <td>O-MEE</td>\n",
       "    </tr>\n",
       "    <tr>\n",
       "      <th>4</th>\n",
       "      <td>0vix-protocol</td>\n",
       "      <td>vix</td>\n",
       "      <td>0VIX Protocol</td>\n",
       "    </tr>\n",
       "  </tbody>\n",
       "</table>\n",
       "</div>"
      ],
      "text/plain": [
       "                    id symbol                 name\n",
       "0               01coin    zoc               01coin\n",
       "1               0chain    zcn                  Zus\n",
       "2  0-knowledge-network    0kn  0 Knowledge Network\n",
       "3                0-mee    ome                O-MEE\n",
       "4        0vix-protocol    vix        0VIX Protocol"
      ]
     },
     "execution_count": 80,
     "metadata": {},
     "output_type": "execute_result"
    }
   ],
   "source": [
    "import pandas as pd\n",
    "\n",
    "df = pd.read_json(ROOT_URL + endpoint)\n",
    "\n",
    "df.head()"
   ]
  },
  {
   "cell_type": "code",
   "execution_count": 81,
   "metadata": {},
   "outputs": [
    {
     "data": {
      "text/plain": [
       "(11150, 3)"
      ]
     },
     "execution_count": 81,
     "metadata": {},
     "output_type": "execute_result"
    }
   ],
   "source": [
    "df.shape"
   ]
  },
  {
   "cell_type": "code",
   "execution_count": 82,
   "metadata": {},
   "outputs": [
    {
     "data": {
      "text/html": [
       "<div>\n",
       "<style scoped>\n",
       "    .dataframe tbody tr th:only-of-type {\n",
       "        vertical-align: middle;\n",
       "    }\n",
       "\n",
       "    .dataframe tbody tr th {\n",
       "        vertical-align: top;\n",
       "    }\n",
       "\n",
       "    .dataframe thead th {\n",
       "        text-align: right;\n",
       "    }\n",
       "</style>\n",
       "<table border=\"1\" class=\"dataframe\">\n",
       "  <thead>\n",
       "    <tr style=\"text-align: right;\">\n",
       "      <th></th>\n",
       "      <th>id</th>\n",
       "      <th>symbol</th>\n",
       "      <th>name</th>\n",
       "    </tr>\n",
       "  </thead>\n",
       "  <tbody>\n",
       "    <tr>\n",
       "      <th>1263</th>\n",
       "      <td>binance-peg-dogecoin</td>\n",
       "      <td>doge</td>\n",
       "      <td>Binance-Peg Dogecoin</td>\n",
       "    </tr>\n",
       "    <tr>\n",
       "      <th>1314</th>\n",
       "      <td>bitcoin</td>\n",
       "      <td>btc</td>\n",
       "      <td>Bitcoin</td>\n",
       "    </tr>\n",
       "    <tr>\n",
       "      <th>1641</th>\n",
       "      <td>bridged-binance-peg-ethereum-opbnb</td>\n",
       "      <td>eth</td>\n",
       "      <td>Bridged Binance-Peg Ethereum (opBNB)</td>\n",
       "    </tr>\n",
       "    <tr>\n",
       "      <th>1695</th>\n",
       "      <td>bridged-wrapped-ether-starkgate</td>\n",
       "      <td>eth</td>\n",
       "      <td>Bridged Ether (StarkGate)</td>\n",
       "    </tr>\n",
       "    <tr>\n",
       "      <th>2995</th>\n",
       "      <td>dogecoin</td>\n",
       "      <td>doge</td>\n",
       "      <td>Dogecoin</td>\n",
       "    </tr>\n",
       "    <tr>\n",
       "      <th>3022</th>\n",
       "      <td>doge-on-pulsechain</td>\n",
       "      <td>doge</td>\n",
       "      <td>Doge on Pulsechain</td>\n",
       "    </tr>\n",
       "    <tr>\n",
       "      <th>3466</th>\n",
       "      <td>ethereum</td>\n",
       "      <td>eth</td>\n",
       "      <td>Ethereum</td>\n",
       "    </tr>\n",
       "    <tr>\n",
       "      <th>3480</th>\n",
       "      <td>ethereum-wormhole</td>\n",
       "      <td>eth</td>\n",
       "      <td>Ethereum (Wormhole)</td>\n",
       "    </tr>\n",
       "  </tbody>\n",
       "</table>\n",
       "</div>"
      ],
      "text/plain": [
       "                                      id symbol  \\\n",
       "1263                binance-peg-dogecoin   doge   \n",
       "1314                             bitcoin    btc   \n",
       "1641  bridged-binance-peg-ethereum-opbnb    eth   \n",
       "1695     bridged-wrapped-ether-starkgate    eth   \n",
       "2995                            dogecoin   doge   \n",
       "3022                  doge-on-pulsechain   doge   \n",
       "3466                            ethereum    eth   \n",
       "3480                   ethereum-wormhole    eth   \n",
       "\n",
       "                                      name  \n",
       "1263                  Binance-Peg Dogecoin  \n",
       "1314                               Bitcoin  \n",
       "1641  Bridged Binance-Peg Ethereum (opBNB)  \n",
       "1695             Bridged Ether (StarkGate)  \n",
       "2995                              Dogecoin  \n",
       "3022                    Doge on Pulsechain  \n",
       "3466                              Ethereum  \n",
       "3480                   Ethereum (Wormhole)  "
      ]
     },
     "execution_count": 82,
     "metadata": {},
     "output_type": "execute_result"
    }
   ],
   "source": [
    "df.loc[ (df.symbol == 'btc') | (df.symbol == 'eth') | (df.symbol == 'doge') ]"
   ]
  },
  {
   "cell_type": "markdown",
   "metadata": {},
   "source": [
    "### **Endpoint - `/coins/markets`**\n",
    "Use this to obtain all the coins market data (price, market cap, volume)"
   ]
  },
  {
   "cell_type": "code",
   "execution_count": 83,
   "metadata": {},
   "outputs": [
    {
     "data": {
      "text/plain": [
       "200"
      ]
     },
     "execution_count": 83,
     "metadata": {},
     "output_type": "execute_result"
    }
   ],
   "source": [
    "import requests\n",
    "\n",
    "ROOT_URL = \"https://api.coingecko.com/api/v3\"\n",
    "endpoint = \"/coins/markets\"\n",
    "\n",
    "payload = {'vs_currency': 'usd', 'ids': 'bitcoin, dogecoin, ethereum'}\n",
    "\n",
    "res = requests.get(ROOT_URL + endpoint, params=payload)\n",
    "\n",
    "res.status_code"
   ]
  },
  {
   "cell_type": "code",
   "execution_count": 84,
   "metadata": {
    "scrolled": true
   },
   "outputs": [
    {
     "data": {
      "text/plain": [
       "[{'id': 'bitcoin',\n",
       "  'symbol': 'btc',\n",
       "  'name': 'Bitcoin',\n",
       "  'image': 'https://assets.coingecko.com/coins/images/1/large/bitcoin.png?1696501400',\n",
       "  'current_price': 38211,\n",
       "  'market_cap': 747831582140,\n",
       "  'market_cap_rank': 1,\n",
       "  'fully_diluted_valuation': 803047318461,\n",
       "  'total_volume': 21708790322,\n",
       "  'high_24h': 38351,\n",
       "  'low_24h': 37009,\n",
       "  'price_change_24h': 1093.41,\n",
       "  'price_change_percentage_24h': 2.94575,\n",
       "  'market_cap_change_24h': 22522029977,\n",
       "  'market_cap_change_percentage_24h': 3.10516,\n",
       "  'circulating_supply': 19556087.0,\n",
       "  'total_supply': 21000000.0,\n",
       "  'max_supply': 21000000.0,\n",
       "  'ath': 69045,\n",
       "  'ath_change_percentage': -44.61138,\n",
       "  'ath_date': '2021-11-10T14:24:11.849Z',\n",
       "  'atl': 67.81,\n",
       "  'atl_change_percentage': 56298.04128,\n",
       "  'atl_date': '2013-07-06T00:00:00.000Z',\n",
       "  'roi': None,\n",
       "  'last_updated': '2023-11-29T09:44:59.143Z'},\n",
       " {'id': 'ethereum',\n",
       "  'symbol': 'eth',\n",
       "  'name': 'Ethereum',\n",
       "  'image': 'https://assets.coingecko.com/coins/images/279/large/ethereum.png?1696501628',\n",
       "  'current_price': 2067.15,\n",
       "  'market_cap': 248755184776,\n",
       "  'market_cap_rank': 2,\n",
       "  'fully_diluted_valuation': 248755184776,\n",
       "  'total_volume': 16271509088,\n",
       "  'high_24h': 2076.14,\n",
       "  'low_24h': 2013.81,\n",
       "  'price_change_24h': 47.84,\n",
       "  'price_change_percentage_24h': 2.3689,\n",
       "  'market_cap_change_24h': 6050263144,\n",
       "  'market_cap_change_percentage_24h': 2.49285,\n",
       "  'circulating_supply': 120239567.48433,\n",
       "  'total_supply': 120239567.48433,\n",
       "  'max_supply': None,\n",
       "  'ath': 4878.26,\n",
       "  'ath_change_percentage': -57.5858,\n",
       "  'ath_date': '2021-11-10T14:24:19.604Z',\n",
       "  'atl': 0.432979,\n",
       "  'atl_change_percentage': 477769.79756,\n",
       "  'atl_date': '2015-10-20T00:00:00.000Z',\n",
       "  'roi': {'times': 71.30987070504497,\n",
       "   'currency': 'btc',\n",
       "   'percentage': 7130.987070504498},\n",
       "  'last_updated': '2023-11-29T09:44:53.942Z'},\n",
       " {'id': 'dogecoin',\n",
       "  'symbol': 'doge',\n",
       "  'name': 'Dogecoin',\n",
       "  'image': 'https://assets.coingecko.com/coins/images/5/large/dogecoin.png?1696501409',\n",
       "  'current_price': 0.080588,\n",
       "  'market_cap': 11459539420,\n",
       "  'market_cap_rank': 10,\n",
       "  'fully_diluted_valuation': 11459406288,\n",
       "  'total_volume': 847316169,\n",
       "  'high_24h': 0.081197,\n",
       "  'low_24h': 0.077216,\n",
       "  'price_change_24h': 0.00317619,\n",
       "  'price_change_percentage_24h': 4.103,\n",
       "  'market_cap_change_24h': 475259562,\n",
       "  'market_cap_change_percentage_24h': 4.32672,\n",
       "  'circulating_supply': 142026716383.705,\n",
       "  'total_supply': 142025066383.705,\n",
       "  'max_supply': None,\n",
       "  'ath': 0.731578,\n",
       "  'ath_change_percentage': -88.97087,\n",
       "  'ath_date': '2021-05-08T05:08:23.458Z',\n",
       "  'atl': 8.69e-05,\n",
       "  'atl_change_percentage': 92746.05788,\n",
       "  'atl_date': '2015-05-06T00:00:00.000Z',\n",
       "  'roi': None,\n",
       "  'last_updated': '2023-11-29T09:44:54.919Z'}]"
      ]
     },
     "execution_count": 84,
     "metadata": {},
     "output_type": "execute_result"
    }
   ],
   "source": [
    "res.json()"
   ]
  },
  {
   "cell_type": "code",
   "execution_count": 91,
   "metadata": {},
   "outputs": [
    {
     "data": {
      "text/html": [
       "<div>\n",
       "<style scoped>\n",
       "    .dataframe tbody tr th:only-of-type {\n",
       "        vertical-align: middle;\n",
       "    }\n",
       "\n",
       "    .dataframe tbody tr th {\n",
       "        vertical-align: top;\n",
       "    }\n",
       "\n",
       "    .dataframe thead th {\n",
       "        text-align: right;\n",
       "    }\n",
       "</style>\n",
       "<table border=\"1\" class=\"dataframe\">\n",
       "  <thead>\n",
       "    <tr style=\"text-align: right;\">\n",
       "      <th></th>\n",
       "      <th>id</th>\n",
       "      <th>symbol</th>\n",
       "      <th>name</th>\n",
       "      <th>image</th>\n",
       "      <th>current_price</th>\n",
       "      <th>market_cap</th>\n",
       "      <th>market_cap_rank</th>\n",
       "      <th>fully_diluted_valuation</th>\n",
       "      <th>total_volume</th>\n",
       "      <th>high_24h</th>\n",
       "      <th>...</th>\n",
       "      <th>ath_change_percentage</th>\n",
       "      <th>ath_date</th>\n",
       "      <th>atl</th>\n",
       "      <th>atl_change_percentage</th>\n",
       "      <th>atl_date</th>\n",
       "      <th>roi</th>\n",
       "      <th>last_updated</th>\n",
       "      <th>roi.times</th>\n",
       "      <th>roi.currency</th>\n",
       "      <th>roi.percentage</th>\n",
       "    </tr>\n",
       "  </thead>\n",
       "  <tbody>\n",
       "    <tr>\n",
       "      <th>0</th>\n",
       "      <td>bitcoin</td>\n",
       "      <td>btc</td>\n",
       "      <td>Bitcoin</td>\n",
       "      <td>https://assets.coingecko.com/coins/images/1/la...</td>\n",
       "      <td>38211.000000</td>\n",
       "      <td>747831582140</td>\n",
       "      <td>1</td>\n",
       "      <td>803047318461</td>\n",
       "      <td>21708790322</td>\n",
       "      <td>38351.000000</td>\n",
       "      <td>...</td>\n",
       "      <td>-44.61138</td>\n",
       "      <td>2021-11-10T14:24:11.849Z</td>\n",
       "      <td>67.810000</td>\n",
       "      <td>56298.04128</td>\n",
       "      <td>2013-07-06T00:00:00.000Z</td>\n",
       "      <td>NaN</td>\n",
       "      <td>2023-11-29T09:44:59.143Z</td>\n",
       "      <td>NaN</td>\n",
       "      <td>NaN</td>\n",
       "      <td>NaN</td>\n",
       "    </tr>\n",
       "    <tr>\n",
       "      <th>1</th>\n",
       "      <td>ethereum</td>\n",
       "      <td>eth</td>\n",
       "      <td>Ethereum</td>\n",
       "      <td>https://assets.coingecko.com/coins/images/279/...</td>\n",
       "      <td>2067.150000</td>\n",
       "      <td>248755184776</td>\n",
       "      <td>2</td>\n",
       "      <td>248755184776</td>\n",
       "      <td>16271509088</td>\n",
       "      <td>2076.140000</td>\n",
       "      <td>...</td>\n",
       "      <td>-57.58580</td>\n",
       "      <td>2021-11-10T14:24:19.604Z</td>\n",
       "      <td>0.432979</td>\n",
       "      <td>477769.79756</td>\n",
       "      <td>2015-10-20T00:00:00.000Z</td>\n",
       "      <td>NaN</td>\n",
       "      <td>2023-11-29T09:44:53.942Z</td>\n",
       "      <td>71.309871</td>\n",
       "      <td>btc</td>\n",
       "      <td>7130.987071</td>\n",
       "    </tr>\n",
       "    <tr>\n",
       "      <th>2</th>\n",
       "      <td>dogecoin</td>\n",
       "      <td>doge</td>\n",
       "      <td>Dogecoin</td>\n",
       "      <td>https://assets.coingecko.com/coins/images/5/la...</td>\n",
       "      <td>0.080588</td>\n",
       "      <td>11459539420</td>\n",
       "      <td>10</td>\n",
       "      <td>11459406288</td>\n",
       "      <td>847316169</td>\n",
       "      <td>0.081197</td>\n",
       "      <td>...</td>\n",
       "      <td>-88.97087</td>\n",
       "      <td>2021-05-08T05:08:23.458Z</td>\n",
       "      <td>0.000087</td>\n",
       "      <td>92746.05788</td>\n",
       "      <td>2015-05-06T00:00:00.000Z</td>\n",
       "      <td>NaN</td>\n",
       "      <td>2023-11-29T09:44:54.919Z</td>\n",
       "      <td>NaN</td>\n",
       "      <td>NaN</td>\n",
       "      <td>NaN</td>\n",
       "    </tr>\n",
       "  </tbody>\n",
       "</table>\n",
       "<p>3 rows × 29 columns</p>\n",
       "</div>"
      ],
      "text/plain": [
       "         id symbol      name  \\\n",
       "0   bitcoin    btc   Bitcoin   \n",
       "1  ethereum    eth  Ethereum   \n",
       "2  dogecoin   doge  Dogecoin   \n",
       "\n",
       "                                               image  current_price  \\\n",
       "0  https://assets.coingecko.com/coins/images/1/la...   38211.000000   \n",
       "1  https://assets.coingecko.com/coins/images/279/...    2067.150000   \n",
       "2  https://assets.coingecko.com/coins/images/5/la...       0.080588   \n",
       "\n",
       "     market_cap  market_cap_rank  fully_diluted_valuation  total_volume  \\\n",
       "0  747831582140                1             803047318461   21708790322   \n",
       "1  248755184776                2             248755184776   16271509088   \n",
       "2   11459539420               10              11459406288     847316169   \n",
       "\n",
       "       high_24h  ...  ath_change_percentage                  ath_date  \\\n",
       "0  38351.000000  ...              -44.61138  2021-11-10T14:24:11.849Z   \n",
       "1   2076.140000  ...              -57.58580  2021-11-10T14:24:19.604Z   \n",
       "2      0.081197  ...              -88.97087  2021-05-08T05:08:23.458Z   \n",
       "\n",
       "         atl  atl_change_percentage                  atl_date  roi  \\\n",
       "0  67.810000            56298.04128  2013-07-06T00:00:00.000Z  NaN   \n",
       "1   0.432979           477769.79756  2015-10-20T00:00:00.000Z  NaN   \n",
       "2   0.000087            92746.05788  2015-05-06T00:00:00.000Z  NaN   \n",
       "\n",
       "               last_updated  roi.times  roi.currency  roi.percentage  \n",
       "0  2023-11-29T09:44:59.143Z        NaN           NaN             NaN  \n",
       "1  2023-11-29T09:44:53.942Z  71.309871           btc     7130.987071  \n",
       "2  2023-11-29T09:44:54.919Z        NaN           NaN             NaN  \n",
       "\n",
       "[3 rows x 29 columns]"
      ]
     },
     "execution_count": 91,
     "metadata": {},
     "output_type": "execute_result"
    }
   ],
   "source": [
    "import pandas as pd\n",
    "\n",
    "df = pd.json_normalize(res.json())\n",
    "\n",
    "df.head()"
   ]
  },
  {
   "cell_type": "markdown",
   "metadata": {},
   "source": [
    "### **Endpoint - `/coins/{id}/history`**\n",
    "Get historical data (name, price, market, stats) at a given date for a coin"
   ]
  },
  {
   "cell_type": "code",
   "execution_count": 101,
   "metadata": {},
   "outputs": [
    {
     "name": "stdout",
     "output_type": "stream",
     "text": [
      "Today's date: 29-11-2023\n"
     ]
    }
   ],
   "source": [
    "from datetime import date\n",
    "\n",
    "today = date.today().strftime(\"%d-%m-%Y\")\n",
    "\n",
    "print(\"Today's date:\", today)"
   ]
  },
  {
   "cell_type": "code",
   "execution_count": 115,
   "metadata": {},
   "outputs": [
    {
     "data": {
      "text/plain": [
       "200"
      ]
     },
     "execution_count": 115,
     "metadata": {},
     "output_type": "execute_result"
    }
   ],
   "source": [
    "import requests\n",
    "\n",
    "uid = \"bitcoin\"\n",
    "\n",
    "ROOT_URL = \"https://api.coingecko.com/api/v3\"\n",
    "endpoint = f\"/coins/{uid}/history\"\n",
    "payload = {'date': today}\n",
    "\n",
    "res = requests.get(ROOT_URL + endpoint, params=payload)\n",
    "\n",
    "res.status_code"
   ]
  },
  {
   "cell_type": "code",
   "execution_count": 120,
   "metadata": {},
   "outputs": [
    {
     "name": "stdout",
     "output_type": "stream",
     "text": [
      "{'id': 'bitcoin', 'symbol': 'btc', 'name': 'Bitcoin', 'localization': {'en': 'Bitcoin', 'de': 'Bitcoin', 'es': 'Bitcoin', 'fr': 'Bitcoin', 'it': 'Bitcoin', 'pl': 'Bitcoin', 'ro': 'Bitcoin', 'hu': 'Bitcoin', 'nl': 'Bitcoin', 'pt': 'Bitcoin', 'sv': 'Bitcoin', 'vi': 'Bitcoin', 'tr': 'Bitcoin', 'ru': 'Биткоин', 'ja': 'ビットコイン', 'zh': '比特币', 'zh-tw': '比特幣', 'ko': '비트코인', 'ar': 'بيتكوين', 'th': 'บิตคอยน์', 'id': 'Bitcoin', 'cs': 'Bitcoin', 'da': 'Bitcoin', 'el': 'Bitcoin', 'hi': 'Bitcoin', 'no': 'Bitcoin', 'sk': 'Bitcoin', 'uk': 'Bitcoin', 'he': 'Bitcoin', 'fi': 'Bitcoin', 'bg': 'Bitcoin', 'hr': 'Bitcoin', 'lt': 'Bitcoin', 'sl': 'Bitcoin'}, 'image': {'thumb': 'https://assets.coingecko.com/coins/images/1/thumb/bitcoin.png?1696501400', 'small': 'https://assets.coingecko.com/coins/images/1/small/bitcoin.png?1696501400'}, 'market_data': {'current_price': {'aed': 138824.93164715782, 'ars': 13590875.375203328, 'aud': 56799.787569809756, 'bch': 169.4958115430225, 'bdt': 4164657.9422907243, 'bhd': 14245.659246388388, 'bmd': 37802.23604377473, 'bnb': 164.69361654481813, 'brl': 184142.25221643565, 'btc': 1.0, 'cad': 51291.963975995684, 'chf': 33163.901681203504, 'clp': 32871509.588490177, 'cny': 267405.45732645324, 'czk': 833180.1835228162, 'dkk': 256151.73165622173, 'dot': 7179.161430979812, 'eos': 55819.37556721214, 'eth': 18.45329501369106, 'eur': 34360.68267211343, 'gbp': 29743.78217737911, 'hkd': 294660.4914916543, 'huf': 12966166.963014709, 'idr': 580343707.9676332, 'ils': 139250.20680265102, 'inr': 3152035.4963610363, 'jpy': 5562195.809864306, 'krw': 48708234.70817213, 'kwd': 11653.748932046963, 'lkr': 12447744.79197403, 'ltc': 542.0672619894015, 'mmk': 79329006.57185428, 'mxn': 647839.6004237933, 'myr': 176649.8490325592, 'ngn': 30222887.71699782, 'nok': 401113.8941273225, 'nzd': 61518.18706832155, 'php': 2096890.033348182, 'pkr': 10801043.893607533, 'pln': 148462.83853993486, 'rub': 3359862.2859438593, 'sar': 141783.2968377078, 'sek': 389997.3527716942, 'sgd': 50284.53438542915, 'thb': 1310225.501277228, 'try': 1093372.9364098834, 'twd': 1184457.4619595886, 'uah': 1373989.783804568, 'usd': 37802.23604377473, 'vef': 3785.1378950631643, 'vnd': 916306897.1198113, 'xag': 1507.6268877860248, 'xau': 18.49814618566066, 'xdr': 28382.296844026445, 'xlm': 320263.9819240584, 'xrp': 61868.84976766581, 'yfi': 4.464236906103941, 'zar': 702777.5900662106, 'bits': 999988.159524261, 'link': 2605.741902014696, 'sats': 99998815.9524261}, 'market_cap': {'aed': 2713231289055.4175, 'ars': 265624412289194.2, 'aud': 1110016285325.0703, 'bch': 3312922972.7878137, 'bdt': 81395179548555.17, 'bhd': 278420943139.8177, 'bmd': 738816928726.5587, 'bnb': 3218821368.062354, 'brl': 3598851141519.9336, 'btc': 19555725.0, 'cad': 1002344061400.1772, 'chf': 648076172357.2906, 'clp': 642449502951382.6, 'cny': 5228755167983.591, 'czk': 16282564647125.998, 'dkk': 5005466221699.212, 'dot': 140370608970.04904, 'eos': 1091341454160.2136, 'eth': 360784399.1514299, 'eur': 671443474179.0555, 'gbp': 581267912760.2633, 'hkd': 5758857053161.826, 'huf': 253401056350694.22, 'idr': 11342391371503000, 'ils': 2721542979503.5894, 'inr': 61604217855310.15, 'jpy': 108680709032605.56, 'krw': 951956832563789.8, 'kwd': 227768393323.25308, 'lkr': 243282026124820.1, 'ltc': 10605604648.124107, 'mmk': 1550427147390880, 'mxn': 12661475116051.395, 'myr': 3452491507939.2104, 'ngn': 590684134516882.6, 'nok': 7838322314952.466, 'nzd': 1201939887597.23, 'php': 40982175036462.2, 'pkr': 211098466960395.75, 'pln': 2900927729798.394, 'rub': 65666039759413.35, 'sar': 2771050363080.6235, 'sek': 7621555644514.877, 'sgd': 982833383946.3655, 'thb': 25616814665503.72, 'try': 21368876650067.992, 'twd': 23149350827789.164, 'uah': 26853620801601.504, 'usd': 738816928726.5587, 'vef': 73977739073.39024, 'vnd': 17908545058474334, 'xag': 29459586216.042797, 'xau': 361503123.22590554, 'xdr': 554711138257.1877, 'xlm': 6264467046846.318, 'xrp': 1208951938465.6562, 'yfi': 87448439.33918354, 'zar': 13738208437554.256, 'bits': 19546758844927.99, 'link': 50865419830.56483, 'sats': 1954675884492798.8}, 'total_volume': {'aed': 72403338962.70471, 'ars': 7088242327334.646, 'aud': 29623600196.53396, 'bch': 88399558.71254647, 'bdt': 2172053226186.9766, 'bhd': 7429741062.5418, 'bmd': 19715537240.688644, 'bnb': 85895001.72775565, 'brl': 96038325006.84262, 'btc': 521538.0322084143, 'cad': 26751026705.028355, 'chf': 17296440821.25611, 'clp': 17143945418970.992, 'cny': 139463767333.18307, 'czk': 434540298553.39764, 'dkk': 133594451896.6302, 'dot': 3744250059.321743, 'eos': 29112271995.576527, 'eth': 9624209.124416424, 'eur': 17920615014.759106, 'gbp': 15512697304.942091, 'hkd': 153678472528.34717, 'huf': 6762429273556.193, 'idr': 302674899272775.7, 'ils': 72625138756.66286, 'inr': 1643925855087.4111, 'jpy': 2900931005837.713, 'krw': 25403497671543.543, 'kwd': 6077945251.633978, 'lkr': 6492049193189.642, 'ltc': 282712040.5876131, 'mmk': 41373583867449.266, 'mxn': 337876991016.02545, 'myr': 92130705525.73798, 'ngn': 15762572023930.531, 'nok': 209198628045.89798, 'nzd': 32084454123.842194, 'php': 1093620850740.9979, 'pkr': 5633221878095.762, 'pln': 77429933475.44194, 'rub': 1752316713365.9565, 'sar': 73946257191.62387, 'sek': 203400860293.99176, 'sgd': 26225607637.564034, 'thb': 683340520762.2662, 'try': 570242321665.5214, 'twd': 617746928362.4946, 'uah': 716596412962.3413, 'usd': 19715537240.688644, 'vef': 1974116743.910154, 'vnd': 477894554521742.94, 'xag': 786294070.456284, 'xau': 9647600.993358547, 'xdr': 14802622515.68141, 'xlm': 167031824656.1721, 'xrp': 32267340223.48551, 'yfi': 2328296.89946458, 'zar': 366529581287.91797, 'bits': 521538032208.4143, 'link': 1359009595.3398979, 'sats': 52153803220841.43}}, 'community_data': {'facebook_likes': None, 'twitter_followers': None, 'reddit_average_posts_48h': 0.0, 'reddit_average_comments_48h': 0.0, 'reddit_subscribers': None, 'reddit_accounts_active_48h': None}, 'developer_data': {'forks': None, 'stars': None, 'subscribers': None, 'total_issues': None, 'closed_issues': None, 'pull_requests_merged': None, 'pull_request_contributors': None, 'code_additions_deletions_4_weeks': {'additions': None, 'deletions': None}, 'commit_count_4_weeks': None}, 'public_interest_stats': {'alexa_rank': None, 'bing_matches': None}}\n"
     ]
    }
   ],
   "source": [
    "data = res.json()\n",
    "\n",
    "print(data)"
   ]
  },
  {
   "cell_type": "code",
   "execution_count": 121,
   "metadata": {},
   "outputs": [
    {
     "data": {
      "text/html": [
       "<div>\n",
       "<style scoped>\n",
       "    .dataframe tbody tr th:only-of-type {\n",
       "        vertical-align: middle;\n",
       "    }\n",
       "\n",
       "    .dataframe tbody tr th {\n",
       "        vertical-align: top;\n",
       "    }\n",
       "\n",
       "    .dataframe thead th {\n",
       "        text-align: right;\n",
       "    }\n",
       "</style>\n",
       "<table border=\"1\" class=\"dataframe\">\n",
       "  <thead>\n",
       "    <tr style=\"text-align: right;\">\n",
       "      <th></th>\n",
       "      <th>id</th>\n",
       "      <th>symbol</th>\n",
       "      <th>name</th>\n",
       "      <th>localization</th>\n",
       "      <th>image</th>\n",
       "      <th>market_data</th>\n",
       "      <th>community_data</th>\n",
       "      <th>developer_data</th>\n",
       "      <th>public_interest_stats</th>\n",
       "    </tr>\n",
       "  </thead>\n",
       "  <tbody>\n",
       "    <tr>\n",
       "      <th>en</th>\n",
       "      <td>bitcoin</td>\n",
       "      <td>btc</td>\n",
       "      <td>Bitcoin</td>\n",
       "      <td>Bitcoin</td>\n",
       "      <td>NaN</td>\n",
       "      <td>NaN</td>\n",
       "      <td>NaN</td>\n",
       "      <td>NaN</td>\n",
       "      <td>NaN</td>\n",
       "    </tr>\n",
       "    <tr>\n",
       "      <th>de</th>\n",
       "      <td>bitcoin</td>\n",
       "      <td>btc</td>\n",
       "      <td>Bitcoin</td>\n",
       "      <td>Bitcoin</td>\n",
       "      <td>NaN</td>\n",
       "      <td>NaN</td>\n",
       "      <td>NaN</td>\n",
       "      <td>NaN</td>\n",
       "      <td>NaN</td>\n",
       "    </tr>\n",
       "    <tr>\n",
       "      <th>es</th>\n",
       "      <td>bitcoin</td>\n",
       "      <td>btc</td>\n",
       "      <td>Bitcoin</td>\n",
       "      <td>Bitcoin</td>\n",
       "      <td>NaN</td>\n",
       "      <td>NaN</td>\n",
       "      <td>NaN</td>\n",
       "      <td>NaN</td>\n",
       "      <td>NaN</td>\n",
       "    </tr>\n",
       "    <tr>\n",
       "      <th>fr</th>\n",
       "      <td>bitcoin</td>\n",
       "      <td>btc</td>\n",
       "      <td>Bitcoin</td>\n",
       "      <td>Bitcoin</td>\n",
       "      <td>NaN</td>\n",
       "      <td>NaN</td>\n",
       "      <td>NaN</td>\n",
       "      <td>NaN</td>\n",
       "      <td>NaN</td>\n",
       "    </tr>\n",
       "    <tr>\n",
       "      <th>it</th>\n",
       "      <td>bitcoin</td>\n",
       "      <td>btc</td>\n",
       "      <td>Bitcoin</td>\n",
       "      <td>Bitcoin</td>\n",
       "      <td>NaN</td>\n",
       "      <td>NaN</td>\n",
       "      <td>NaN</td>\n",
       "      <td>NaN</td>\n",
       "      <td>NaN</td>\n",
       "    </tr>\n",
       "  </tbody>\n",
       "</table>\n",
       "</div>"
      ],
      "text/plain": [
       "         id symbol     name localization image market_data  community_data  \\\n",
       "en  bitcoin    btc  Bitcoin      Bitcoin   NaN         NaN             NaN   \n",
       "de  bitcoin    btc  Bitcoin      Bitcoin   NaN         NaN             NaN   \n",
       "es  bitcoin    btc  Bitcoin      Bitcoin   NaN         NaN             NaN   \n",
       "fr  bitcoin    btc  Bitcoin      Bitcoin   NaN         NaN             NaN   \n",
       "it  bitcoin    btc  Bitcoin      Bitcoin   NaN         NaN             NaN   \n",
       "\n",
       "   developer_data  public_interest_stats  \n",
       "en            NaN                    NaN  \n",
       "de            NaN                    NaN  \n",
       "es            NaN                    NaN  \n",
       "fr            NaN                    NaN  \n",
       "it            NaN                    NaN  "
      ]
     },
     "execution_count": 121,
     "metadata": {},
     "output_type": "execute_result"
    }
   ],
   "source": [
    "# Storing the data in a DataFrame\n",
    "\n",
    "URL = f'https://api.coingecko.com/api/v3/coins/bitcoin/history?date={today}'\n",
    "\n",
    "df = pd.read_json(URL)\n",
    "\n",
    "df.head()"
   ]
  },
  {
   "cell_type": "code",
   "execution_count": 122,
   "metadata": {},
   "outputs": [
    {
     "data": {
      "text/plain": [
       "(56, 9)"
      ]
     },
     "execution_count": 122,
     "metadata": {},
     "output_type": "execute_result"
    }
   ],
   "source": [
    "df.shape"
   ]
  },
  {
   "cell_type": "markdown",
   "metadata": {},
   "source": [
    "**This is not a output expected from running this query. Let's try and fix this.** "
   ]
  },
  {
   "cell_type": "code",
   "execution_count": 123,
   "metadata": {},
   "outputs": [],
   "source": [
    "# Saving the data in a JSON file\n",
    "\n",
    "file_name = f'data/bitcoin_history_{today}.json'\n",
    "\n",
    "with open(file_name, 'w') as f:\n",
    "    json.dump(data, f)"
   ]
  },
  {
   "cell_type": "code",
   "execution_count": 124,
   "metadata": {},
   "outputs": [
    {
     "data": {
      "text/plain": [
       "dict_keys(['id', 'symbol', 'name', 'localization', 'image', 'market_data', 'community_data', 'developer_data', 'public_interest_stats'])"
      ]
     },
     "execution_count": 124,
     "metadata": {},
     "output_type": "execute_result"
    }
   ],
   "source": [
    "## Look at the json and try to see that you need \"market_data\" containing current_price, market_cap and total_volume\n",
    "\n",
    "data.keys()"
   ]
  },
  {
   "cell_type": "code",
   "execution_count": 125,
   "metadata": {},
   "outputs": [
    {
     "name": "stdout",
     "output_type": "stream",
     "text": [
      "{'current_price': {'aed': 138824.93164715782, 'ars': 13590875.375203328, 'aud': 56799.787569809756, 'bch': 169.4958115430225, 'bdt': 4164657.9422907243, 'bhd': 14245.659246388388, 'bmd': 37802.23604377473, 'bnb': 164.69361654481813, 'brl': 184142.25221643565, 'btc': 1.0, 'cad': 51291.963975995684, 'chf': 33163.901681203504, 'clp': 32871509.588490177, 'cny': 267405.45732645324, 'czk': 833180.1835228162, 'dkk': 256151.73165622173, 'dot': 7179.161430979812, 'eos': 55819.37556721214, 'eth': 18.45329501369106, 'eur': 34360.68267211343, 'gbp': 29743.78217737911, 'hkd': 294660.4914916543, 'huf': 12966166.963014709, 'idr': 580343707.9676332, 'ils': 139250.20680265102, 'inr': 3152035.4963610363, 'jpy': 5562195.809864306, 'krw': 48708234.70817213, 'kwd': 11653.748932046963, 'lkr': 12447744.79197403, 'ltc': 542.0672619894015, 'mmk': 79329006.57185428, 'mxn': 647839.6004237933, 'myr': 176649.8490325592, 'ngn': 30222887.71699782, 'nok': 401113.8941273225, 'nzd': 61518.18706832155, 'php': 2096890.033348182, 'pkr': 10801043.893607533, 'pln': 148462.83853993486, 'rub': 3359862.2859438593, 'sar': 141783.2968377078, 'sek': 389997.3527716942, 'sgd': 50284.53438542915, 'thb': 1310225.501277228, 'try': 1093372.9364098834, 'twd': 1184457.4619595886, 'uah': 1373989.783804568, 'usd': 37802.23604377473, 'vef': 3785.1378950631643, 'vnd': 916306897.1198113, 'xag': 1507.6268877860248, 'xau': 18.49814618566066, 'xdr': 28382.296844026445, 'xlm': 320263.9819240584, 'xrp': 61868.84976766581, 'yfi': 4.464236906103941, 'zar': 702777.5900662106, 'bits': 999988.159524261, 'link': 2605.741902014696, 'sats': 99998815.9524261}, 'market_cap': {'aed': 2713231289055.4175, 'ars': 265624412289194.2, 'aud': 1110016285325.0703, 'bch': 3312922972.7878137, 'bdt': 81395179548555.17, 'bhd': 278420943139.8177, 'bmd': 738816928726.5587, 'bnb': 3218821368.062354, 'brl': 3598851141519.9336, 'btc': 19555725.0, 'cad': 1002344061400.1772, 'chf': 648076172357.2906, 'clp': 642449502951382.6, 'cny': 5228755167983.591, 'czk': 16282564647125.998, 'dkk': 5005466221699.212, 'dot': 140370608970.04904, 'eos': 1091341454160.2136, 'eth': 360784399.1514299, 'eur': 671443474179.0555, 'gbp': 581267912760.2633, 'hkd': 5758857053161.826, 'huf': 253401056350694.22, 'idr': 11342391371503000, 'ils': 2721542979503.5894, 'inr': 61604217855310.15, 'jpy': 108680709032605.56, 'krw': 951956832563789.8, 'kwd': 227768393323.25308, 'lkr': 243282026124820.1, 'ltc': 10605604648.124107, 'mmk': 1550427147390880, 'mxn': 12661475116051.395, 'myr': 3452491507939.2104, 'ngn': 590684134516882.6, 'nok': 7838322314952.466, 'nzd': 1201939887597.23, 'php': 40982175036462.2, 'pkr': 211098466960395.75, 'pln': 2900927729798.394, 'rub': 65666039759413.35, 'sar': 2771050363080.6235, 'sek': 7621555644514.877, 'sgd': 982833383946.3655, 'thb': 25616814665503.72, 'try': 21368876650067.992, 'twd': 23149350827789.164, 'uah': 26853620801601.504, 'usd': 738816928726.5587, 'vef': 73977739073.39024, 'vnd': 17908545058474334, 'xag': 29459586216.042797, 'xau': 361503123.22590554, 'xdr': 554711138257.1877, 'xlm': 6264467046846.318, 'xrp': 1208951938465.6562, 'yfi': 87448439.33918354, 'zar': 13738208437554.256, 'bits': 19546758844927.99, 'link': 50865419830.56483, 'sats': 1954675884492798.8}, 'total_volume': {'aed': 72403338962.70471, 'ars': 7088242327334.646, 'aud': 29623600196.53396, 'bch': 88399558.71254647, 'bdt': 2172053226186.9766, 'bhd': 7429741062.5418, 'bmd': 19715537240.688644, 'bnb': 85895001.72775565, 'brl': 96038325006.84262, 'btc': 521538.0322084143, 'cad': 26751026705.028355, 'chf': 17296440821.25611, 'clp': 17143945418970.992, 'cny': 139463767333.18307, 'czk': 434540298553.39764, 'dkk': 133594451896.6302, 'dot': 3744250059.321743, 'eos': 29112271995.576527, 'eth': 9624209.124416424, 'eur': 17920615014.759106, 'gbp': 15512697304.942091, 'hkd': 153678472528.34717, 'huf': 6762429273556.193, 'idr': 302674899272775.7, 'ils': 72625138756.66286, 'inr': 1643925855087.4111, 'jpy': 2900931005837.713, 'krw': 25403497671543.543, 'kwd': 6077945251.633978, 'lkr': 6492049193189.642, 'ltc': 282712040.5876131, 'mmk': 41373583867449.266, 'mxn': 337876991016.02545, 'myr': 92130705525.73798, 'ngn': 15762572023930.531, 'nok': 209198628045.89798, 'nzd': 32084454123.842194, 'php': 1093620850740.9979, 'pkr': 5633221878095.762, 'pln': 77429933475.44194, 'rub': 1752316713365.9565, 'sar': 73946257191.62387, 'sek': 203400860293.99176, 'sgd': 26225607637.564034, 'thb': 683340520762.2662, 'try': 570242321665.5214, 'twd': 617746928362.4946, 'uah': 716596412962.3413, 'usd': 19715537240.688644, 'vef': 1974116743.910154, 'vnd': 477894554521742.94, 'xag': 786294070.456284, 'xau': 9647600.993358547, 'xdr': 14802622515.68141, 'xlm': 167031824656.1721, 'xrp': 32267340223.48551, 'yfi': 2328296.89946458, 'zar': 366529581287.91797, 'bits': 521538032208.4143, 'link': 1359009595.3398979, 'sats': 52153803220841.43}}\n"
     ]
    }
   ],
   "source": [
    "market_data = data['market_data']\n",
    "\n",
    "print(market_data)"
   ]
  },
  {
   "cell_type": "code",
   "execution_count": 126,
   "metadata": {
    "scrolled": true
   },
   "outputs": [
    {
     "data": {
      "text/html": [
       "<div>\n",
       "<style scoped>\n",
       "    .dataframe tbody tr th:only-of-type {\n",
       "        vertical-align: middle;\n",
       "    }\n",
       "\n",
       "    .dataframe tbody tr th {\n",
       "        vertical-align: top;\n",
       "    }\n",
       "\n",
       "    .dataframe thead th {\n",
       "        text-align: right;\n",
       "    }\n",
       "</style>\n",
       "<table border=\"1\" class=\"dataframe\">\n",
       "  <thead>\n",
       "    <tr style=\"text-align: right;\">\n",
       "      <th></th>\n",
       "      <th>current_price</th>\n",
       "      <th>market_cap</th>\n",
       "      <th>total_volume</th>\n",
       "    </tr>\n",
       "  </thead>\n",
       "  <tbody>\n",
       "    <tr>\n",
       "      <th>aed</th>\n",
       "      <td>1.388249e+05</td>\n",
       "      <td>2.713231e+12</td>\n",
       "      <td>7.240334e+10</td>\n",
       "    </tr>\n",
       "    <tr>\n",
       "      <th>ars</th>\n",
       "      <td>1.359088e+07</td>\n",
       "      <td>2.656244e+14</td>\n",
       "      <td>7.088242e+12</td>\n",
       "    </tr>\n",
       "    <tr>\n",
       "      <th>aud</th>\n",
       "      <td>5.679979e+04</td>\n",
       "      <td>1.110016e+12</td>\n",
       "      <td>2.962360e+10</td>\n",
       "    </tr>\n",
       "    <tr>\n",
       "      <th>bch</th>\n",
       "      <td>1.694958e+02</td>\n",
       "      <td>3.312923e+09</td>\n",
       "      <td>8.839956e+07</td>\n",
       "    </tr>\n",
       "    <tr>\n",
       "      <th>bdt</th>\n",
       "      <td>4.164658e+06</td>\n",
       "      <td>8.139518e+13</td>\n",
       "      <td>2.172053e+12</td>\n",
       "    </tr>\n",
       "  </tbody>\n",
       "</table>\n",
       "</div>"
      ],
      "text/plain": [
       "     current_price    market_cap  total_volume\n",
       "aed   1.388249e+05  2.713231e+12  7.240334e+10\n",
       "ars   1.359088e+07  2.656244e+14  7.088242e+12\n",
       "aud   5.679979e+04  1.110016e+12  2.962360e+10\n",
       "bch   1.694958e+02  3.312923e+09  8.839956e+07\n",
       "bdt   4.164658e+06  8.139518e+13  2.172053e+12"
      ]
     },
     "execution_count": 126,
     "metadata": {},
     "output_type": "execute_result"
    }
   ],
   "source": [
    "df = pd.DataFrame(market_data)\n",
    "\n",
    "df.head()"
   ]
  },
  {
   "cell_type": "code",
   "execution_count": 127,
   "metadata": {},
   "outputs": [
    {
     "data": {
      "text/plain": [
       "(61, 3)"
      ]
     },
     "execution_count": 127,
     "metadata": {},
     "output_type": "execute_result"
    }
   ],
   "source": [
    "df.shape"
   ]
  },
  {
   "cell_type": "code",
   "execution_count": 129,
   "metadata": {},
   "outputs": [
    {
     "data": {
      "text/html": [
       "<div>\n",
       "<style scoped>\n",
       "    .dataframe tbody tr th:only-of-type {\n",
       "        vertical-align: middle;\n",
       "    }\n",
       "\n",
       "    .dataframe tbody tr th {\n",
       "        vertical-align: top;\n",
       "    }\n",
       "\n",
       "    .dataframe thead th {\n",
       "        text-align: right;\n",
       "    }\n",
       "</style>\n",
       "<table border=\"1\" class=\"dataframe\">\n",
       "  <thead>\n",
       "    <tr style=\"text-align: right;\">\n",
       "      <th></th>\n",
       "      <th>symbol</th>\n",
       "      <th>current_price</th>\n",
       "      <th>market_cap</th>\n",
       "      <th>total_volume</th>\n",
       "    </tr>\n",
       "  </thead>\n",
       "  <tbody>\n",
       "    <tr>\n",
       "      <th>0</th>\n",
       "      <td>aed</td>\n",
       "      <td>1.388249e+05</td>\n",
       "      <td>2.713231e+12</td>\n",
       "      <td>7.240334e+10</td>\n",
       "    </tr>\n",
       "    <tr>\n",
       "      <th>1</th>\n",
       "      <td>ars</td>\n",
       "      <td>1.359088e+07</td>\n",
       "      <td>2.656244e+14</td>\n",
       "      <td>7.088242e+12</td>\n",
       "    </tr>\n",
       "    <tr>\n",
       "      <th>2</th>\n",
       "      <td>aud</td>\n",
       "      <td>5.679979e+04</td>\n",
       "      <td>1.110016e+12</td>\n",
       "      <td>2.962360e+10</td>\n",
       "    </tr>\n",
       "    <tr>\n",
       "      <th>3</th>\n",
       "      <td>bch</td>\n",
       "      <td>1.694958e+02</td>\n",
       "      <td>3.312923e+09</td>\n",
       "      <td>8.839956e+07</td>\n",
       "    </tr>\n",
       "    <tr>\n",
       "      <th>4</th>\n",
       "      <td>bdt</td>\n",
       "      <td>4.164658e+06</td>\n",
       "      <td>8.139518e+13</td>\n",
       "      <td>2.172053e+12</td>\n",
       "    </tr>\n",
       "    <tr>\n",
       "      <th>...</th>\n",
       "      <td>...</td>\n",
       "      <td>...</td>\n",
       "      <td>...</td>\n",
       "      <td>...</td>\n",
       "    </tr>\n",
       "    <tr>\n",
       "      <th>56</th>\n",
       "      <td>yfi</td>\n",
       "      <td>4.464237e+00</td>\n",
       "      <td>8.744844e+07</td>\n",
       "      <td>2.328297e+06</td>\n",
       "    </tr>\n",
       "    <tr>\n",
       "      <th>57</th>\n",
       "      <td>zar</td>\n",
       "      <td>7.027776e+05</td>\n",
       "      <td>1.373821e+13</td>\n",
       "      <td>3.665296e+11</td>\n",
       "    </tr>\n",
       "    <tr>\n",
       "      <th>58</th>\n",
       "      <td>bits</td>\n",
       "      <td>9.999882e+05</td>\n",
       "      <td>1.954676e+13</td>\n",
       "      <td>5.215380e+11</td>\n",
       "    </tr>\n",
       "    <tr>\n",
       "      <th>59</th>\n",
       "      <td>link</td>\n",
       "      <td>2.605742e+03</td>\n",
       "      <td>5.086542e+10</td>\n",
       "      <td>1.359010e+09</td>\n",
       "    </tr>\n",
       "    <tr>\n",
       "      <th>60</th>\n",
       "      <td>sats</td>\n",
       "      <td>9.999882e+07</td>\n",
       "      <td>1.954676e+15</td>\n",
       "      <td>5.215380e+13</td>\n",
       "    </tr>\n",
       "  </tbody>\n",
       "</table>\n",
       "<p>61 rows × 4 columns</p>\n",
       "</div>"
      ],
      "text/plain": [
       "   symbol  current_price    market_cap  total_volume\n",
       "0     aed   1.388249e+05  2.713231e+12  7.240334e+10\n",
       "1     ars   1.359088e+07  2.656244e+14  7.088242e+12\n",
       "2     aud   5.679979e+04  1.110016e+12  2.962360e+10\n",
       "3     bch   1.694958e+02  3.312923e+09  8.839956e+07\n",
       "4     bdt   4.164658e+06  8.139518e+13  2.172053e+12\n",
       "..    ...            ...           ...           ...\n",
       "56    yfi   4.464237e+00  8.744844e+07  2.328297e+06\n",
       "57    zar   7.027776e+05  1.373821e+13  3.665296e+11\n",
       "58   bits   9.999882e+05  1.954676e+13  5.215380e+11\n",
       "59   link   2.605742e+03  5.086542e+10  1.359010e+09\n",
       "60   sats   9.999882e+07  1.954676e+15  5.215380e+13\n",
       "\n",
       "[61 rows x 4 columns]"
      ]
     },
     "execution_count": 129,
     "metadata": {},
     "output_type": "execute_result"
    }
   ],
   "source": [
    "df.reset_index(names=\"symbol\")"
   ]
  },
  {
   "cell_type": "markdown",
   "metadata": {},
   "source": [
    "### **Endpoint - `coins/{id}/market_chart`**\n",
    "Get historical market data include price, market cap, and 24h volume (granularity auto)\n",
    "\n",
    "- Data granularity is automatic (cannot be adjusted)\n",
    "- 1 day from current time = 5 minute interval data\n",
    "- 1 - 90 days from current time = hourly data\n",
    "- Above 90 days from current time = daily data (00:00 UTC)"
   ]
  },
  {
   "cell_type": "code",
   "execution_count": 130,
   "metadata": {},
   "outputs": [
    {
     "data": {
      "text/plain": [
       "200"
      ]
     },
     "execution_count": 130,
     "metadata": {},
     "output_type": "execute_result"
    }
   ],
   "source": [
    "import requests\n",
    "\n",
    "uid = \"bitcoin\"\n",
    "\n",
    "ROOT_URL = \"https://api.coingecko.com/api/v3\"\n",
    "endpoint = f\"/coins/{uid}/market_chart\"\n",
    "payload = {'vs_currency' : 'usd', 'days' : '1'}\n",
    "\n",
    "res = requests.get(ROOT_URL + endpoint, params=payload)\n",
    "\n",
    "res.status_code"
   ]
  },
  {
   "cell_type": "code",
   "execution_count": 134,
   "metadata": {},
   "outputs": [
    {
     "name": "stdout",
     "output_type": "stream",
     "text": [
      "{'prices': [[1701166520838, 37035.48846243298], [1701166797375, 37075.29581490049], [1701167105745, 37082.837240588706], [1701167427498, 37009.015703796285], [1701167716570, 37059.99099605156], [1701168060495, 37068.269163940626], [1701168317457, 37075.86579976039], [1701168658883, 37039.04878763506], [1701168894386, 37045.34014702563], [1701169214217, 37089.56810257802], [1701169505454, 37097.56908507261], [1701169808656, 37084.83274999467], [1701170110696, 37113.481467923746], [1701170400141, 37132.85791656357], [1701170721207, 37189.966779104994], [1701171060646, 37179.91933083843], [1701171323383, 37243.21799385789], [1701171602613, 37170.017235401065], [1701171911213, 37185.300747243535], [1701172219035, 37199.795190040466], [1701172510191, 37226.8290786621], [1701172795752, 37252.98078174806], [1701173092481, 37258.41057566368], [1701173400046, 37231.60477636279], [1701173731680, 37206.1310586252], [1701174081264, 37186.71357640221], [1701174308875, 37183.01218726654], [1701174610148, 37226.66352183825], [1701174917480, 37256.005926542], [1701175225490, 37264.29466554781], [1701175517254, 37271.99962092563], [1701175834837, 37222.72084826378], [1701176101731, 37198.39977907306], [1701176417512, 37206.318066066924], [1701176729785, 37176.83052216338], [1701177039052, 37156.03130875568], [1701177329165, 37175.033248889304], [1701177626394, 37191.77429010652], [1701177905840, 37174.66379613621], [1701178214200, 37261.47036391053], [1701178506735, 37327.525594397055], [1701178805477, 37296.77915995432], [1701179125052, 37303.20237957695], [1701179413348, 37316.52676991585], [1701179698965, 37336.822479033035], [1701180023161, 37433.766836494455], [1701180309277, 37392.39225196649], [1701180639103, 37389.55296668114], [1701180927195, 37387.289690379796], [1701181227350, 37360.20066119235], [1701181527134, 37378.22089082436], [1701181814152, 37435.341391842485], [1701182103866, 37396.06750892186], [1701182412548, 37416.162475246274], [1701182701135, 37431.314744792435], [1701183001098, 37430.827654839195], [1701183321609, 37425.210722313335], [1701183599317, 37394.07643077547], [1701183900683, 37399.349636863895], [1701184221483, 37437.87147564132], [1701184542390, 37414.34252842101], [1701184797520, 37431.3344833061], [1701185107900, 37463.23819872831], [1701185428549, 37429.453226084064], [1701185719455, 37331.69665576495], [1701186053715, 37319.38706506482], [1701186322590, 37513.15839996969], [1701186648190, 37490.82063019501], [1701186926925, 37498.44306463815], [1701187265983, 37551.95101167001], [1701187534830, 37581.12896989806], [1701187835049, 37656.87998052411], [1701188121960, 37598.14799815933], [1701188441071, 37670.56108723121], [1701188720039, 37622.523005330724], [1701189022463, 37597.41500601148], [1701189317969, 37689.21587806464], [1701189615204, 37713.412448408315], [1701189945342, 37778.089903585416], [1701190253075, 37847.9722117803], [1701190553043, 37913.65188183311], [1701190840675, 37861.731990081025], [1701191105979, 37947.692096896535], [1701191425981, 37794.843792432235], [1701191713114, 37915.48736263533], [1701192023626, 37948.1224644595], [1701192309563, 38148.4761666481], [1701192613449, 38101.6332509345], [1701192916202, 38130.162459814994], [1701193248846, 38134.93538543553], [1701193527896, 38219.89403699005], [1701193814928, 38246.6035761104], [1701194136693, 38170.41938875429], [1701194464757, 38207.4879089428], [1701194762901, 38059.224292965555], [1701195010507, 38067.57740140255], [1701195361484, 38122.53223445706], [1701195606589, 38120.77127832684], [1701195931976, 38119.04908923495], [1701196200388, 38119.025492996], [1701196500112, 38082.83727437835], [1701196820024, 38061.034259673484], [1701197098173, 38127.51077761819], [1701197418992, 38102.22655509994], [1701197718102, 37882.95861243113], [1701198064911, 38028.624156199294], [1701198354009, 38107.95991567454], [1701198694917, 38006.48252843267], [1701198952840, 38113.315737780475], [1701199274096, 38064.38697414793], [1701199564386, 38055.82499753733], [1701199893858, 38091.69327981942], [1701200165180, 38081.86203364255], [1701200393002, 38093.19633182102], [1701200701976, 38350.51848204315], [1701200990937, 38184.7526573095], [1701201325122, 38261.22764442761], [1701201696749, 38124.46785576648], [1701201933126, 38134.524135721964], [1701202245181, 38070.35402712003], [1701202511646, 38197.67787553766], [1701202798165, 38226.68354053206], [1701203096642, 38148.55145758413], [1701203400323, 38097.90872896024], [1701203698115, 38106.63918822386], [1701204064671, 38164.19719432143], [1701204333374, 38178.098381657226], [1701204599602, 38221.47544219856], [1701204906381, 38247.067863730925], [1701205215129, 38283.11682242528], [1701205502610, 38172.855880024596], [1701205812536, 38152.05155376034], [1701206110798, 38154.06985956733], [1701206452054, 38144.63262795665], [1701206718103, 38138.120386643444], [1701207056107, 38104.87488773975], [1701207312595, 38092.97762187427], [1701207664335, 38069.31407287678], [1701207899328, 38021.404200430916], [1701208198630, 38003.56628955487], [1701208517310, 37961.1614417206], [1701208826333, 37986.86179095247], [1701209116863, 37936.71194624162], [1701209435387, 38003.31150441127], [1701209739116, 38029.83883739299], [1701210050429, 38056.70058625295], [1701210307883, 37957.53656316075], [1701210618248, 37972.90192180476], [1701210903047, 37981.32151001592], [1701211222229, 37977.121509842174], [1701211500393, 37993.18388835254], [1701211810028, 37964.9644100175], [1701212106237, 37823.821220234415], [1701212428357, 37847.94968682901], [1701212735362, 37840.84713169288], [1701213036635, 37874.66846068007], [1701213335488, 37926.15778839326], [1701213671997, 37896.38909344837], [1701213928908, 37873.331812219665], [1701214269739, 37866.899111255145], [1701214550323, 37842.67197994237], [1701214848008, 37737.360066715155], [1701215149388, 37803.309664026536], [1701215449577, 37778.18729251391], [1701215705063, 37802.23604377473], [1701216003205, 37843.46006125882], [1701216303762, 37799.26131029845], [1701216604359, 37696.42817406068], [1701216904405, 37707.78857301145], [1701217205765, 37734.56386688112], [1701217502756, 37778.608210719336], [1701217804477, 37771.37240140918], [1701218100133, 37819.165018056156], [1701218398556, 37873.17528636316], [1701218700210, 37901.000891776006], [1701218999278, 37885.77143054811], [1701219298317, 37896.495876000896], [1701219622592, 37924.900777888855], [1701219908413, 38058.92492905566], [1701220206713, 38010.011961286815], [1701220506440, 38071.20394510655], [1701220807731, 38016.022345009835], [1701221102760, 38031.657195128], [1701221404976, 38042.29852113492], [1701221513312, 38059.64491600236], [1701221709852, 38056.13576526029], [1701222007011, 37989.84136792035], [1701222315125, 38030.42607871267], [1701222625209, 38007.675128828974], [1701222915351, 37987.832929890916], [1701223213590, 37963.24457231813], [1701223507201, 37936.01830012139], [1701223817282, 37918.68362232894], [1701224116952, 37990.51135742778], [1701224417504, 37989.47739904006], [1701224716002, 37914.26030266363], [1701225014714, 37929.67889330992], [1701225314553, 37874.86994657803], [1701225613745, 37864.9128806638], [1701225924618, 37877.69289749973], [1701226275011, 37893.47199462185], [1701226540300, 37919.148111568866], [1701226920699, 37942.01030780579], [1701227157171, 37966.72797305147], [1701227447120, 37973.52116275185], [1701227744134, 38007.089338187565], [1701228073166, 37987.74725732027], [1701228351024, 37979.33911128615], [1701228695754, 37981.08423202015], [1701228942635, 37985.81184853055], [1701229200226, 37980.23823223714], [1701229511541, 37930.006702083], [1701229829308, 37917.76636675312], [1701230128239, 37927.545827586], [1701230426861, 37952.83945309689], [1701230740834, 37955.753123638155], [1701231034121, 37927.07492480009], [1701231363472, 37935.47128157664], [1701231704140, 37904.964427827596], [1701231971307, 37898.53528061774], [1701232228931, 37892.51185459306], [1701232539298, 37904.90387776303], [1701232836975, 37901.57995842999], [1701233117313, 37908.82719606704], [1701233426635, 37908.678114881564], [1701233712080, 37918.65956045931], [1701234024054, 37970.54442913396], [1701234306930, 37988.41286994122], [1701234669527, 37993.97353179395], [1701234909796, 37987.808956976856], [1701235201472, 37968.14665829734], [1701235495766, 37950.18244721721], [1701235796819, 37945.6495305406], [1701236095351, 37944.2205742788], [1701236406238, 37923.06648201583], [1701236714875, 37960.70801728345], [1701237024843, 37971.97849650515], [1701237301926, 38016.71960938207], [1701237600125, 38025.97341221481], [1701237899223, 38053.951384459186], [1701238213383, 38018.494300281396], [1701238501620, 38043.781357114196], [1701238810943, 38012.12677953351], [1701239121710, 38025.74689524493], [1701239424830, 38033.52133793584], [1701239715566, 38092.451922981236], [1701240002213, 38094.923270598636], [1701240300676, 38124.41649909065], [1701240604464, 38104.98127280786], [1701240915066, 38241.31885641977], [1701241207232, 38189.71043871588], [1701241525480, 38192.720722221864], [1701241801647, 38181.16120246523], [1701242100699, 38107.83251510998], [1701242421892, 38109.2018119825], [1701242706732, 38101.521796208304], [1701243006451, 38168.14054525148], [1701243305452, 38090.21864309078], [1701243603624, 38087.418504269976], [1701243894532, 38085.86485397892], [1701244211748, 38128.79952350584], [1701244510713, 38180.80133415089], [1701244808624, 38102.40254429801], [1701245109833, 38154.04969689481], [1701245397311, 38167.863767365205], [1701245711060, 38171.986664372605], [1701246007578, 38120.44510938575], [1701246303939, 38137.60044137436], [1701246612274, 38161.73208035959], [1701246920627, 38141.771632800956], [1701247199171, 38123.90058175873], [1701247495916, 38241.75737829281], [1701247816313, 38246.516353526575], [1701248107863, 38324.21798772258], [1701248396434, 38329.03761090173], [1701248694924, 38304.54473477258], [1701249004026, 38284.476427544265], [1701249304287, 38255.620933703576], [1701249612462, 38326.444004735444], [1701249891308, 38272.653572613584], [1701250240992, 38233.32429384064], [1701250520392, 38209.92055826026], [1701250798466, 38242.947810728656], [1701251099143, 38211.45100427343], [1701251412276, 38271.311164096966], [1701251713164, 38200.47594533367], [1701252007533, 38308.56019539666], [1701252318449, 38190.50505178061], [1701252617324, 38214.77410403715], [1701252875000, 38274.29588484593]], 'market_caps': [[1701166520838, 724383501668.2338], [1701166797375, 724383501668.2338], [1701167105745, 725316451989.9222], [1701167427498, 725316451989.9222], [1701167716570, 723718444827.7673], [1701168060495, 724617189429.65], [1701168317457, 724617189429.65], [1701168658883, 724299806750.9268], [1701168894386, 724299806750.9268], [1701169214217, 724299806750.9268], [1701169505454, 725179672725.9711], [1701169808656, 725179672725.9711], [1701170110696, 725207166337.7662], [1701170400141, 725207166337.7662], [1701170721207, 726694757347.8186], [1701171060646, 726771589282.8448], [1701171323383, 726771589282.8448], [1701171602613, 726771589282.8448], [1701171911213, 726888480870.5745], [1701172219035, 726888480870.5745], [1701172510191, 727437465105.7953], [1701172795752, 727437465105.7953], [1701173092481, 728765263403.9027], [1701173400046, 728765263403.9027], [1701173731680, 728027302308.3733], [1701174081264, 727034835836.8892], [1701174308875, 727034835836.8892], [1701174610148, 727034835836.8892], [1701174917480, 727976559587.3357], [1701175225490, 728844482623.0989], [1701175517254, 728844482623.0989], [1701175834837, 727900058540.6605], [1701176101731, 727900058540.6605], [1701176417512, 727900058540.6605], [1701176729785, 727585781566.3752], [1701177039052, 726593111699.7292], [1701177329165, 726593111699.7292], [1701177626394, 727295597131.6085], [1701177905840, 727295597131.6085], [1701178214200, 727295597131.6085], [1701178506735, 728661207047.9122], [1701178805477, 728661207047.9122], [1701179125052, 729293392168.3213], [1701179413348, 729293392168.3213], [1701179698965, 729721643972.4465], [1701180023161, 729721643972.4465], [1701180309277, 732022792428.2064], [1701180639103, 731169997390.4512], [1701180927195, 731169997390.4512], [1701181227350, 731169997390.4512], [1701181527134, 730591799999.8478], [1701181814152, 730591799999.8478], [1701182103866, 731947857707.4651], [1701182412548, 731947857707.4651], [1701182701135, 731790848782.5906], [1701183001098, 731790848782.5906], [1701183321609, 731974088136.6364], [1701183599317, 731974088136.6364], [1701183900683, 731256391354.5986], [1701184221483, 731256391354.5986], [1701184542390, 732112551854.7562], [1701184797520, 732112551854.7562], [1701185107900, 732346857010.9375], [1701185428549, 732346857010.9375], [1701185719455, 731945775768.2808], [1701186053715, 729757072697.4459], [1701186322590, 729757072697.4459], [1701186648190, 733112329034.2262], [1701186926925, 733112329034.2262], [1701187265983, 733747829942.422], [1701187534830, 733747829942.422], [1701187835049, 733747829942.422], [1701188121960, 736396744075.7004], [1701188441071, 736668171558.8689], [1701188720039, 736668171558.8689], [1701189022463, 736668171558.8689], [1701189317969, 735227611862.2211], [1701189615204, 735227611862.2211], [1701189945342, 737507674184.1201], [1701190253075, 740125825203.2213], [1701190553043, 740125825203.2213], [1701190840675, 740388203930.138], [1701191105979, 740388203930.138], [1701191425981, 740388203930.138], [1701191713114, 739121318174.3947], [1701192023626, 739121318174.3947], [1701192309563, 742094243216.8805], [1701192613449, 742094243216.8805], [1701192916202, 745109933554.4695], [1701193248846, 745750924423.1979], [1701193527896, 745750924423.1979], [1701193814928, 745750924423.1979], [1701194136693, 747854639950.5402], [1701194464757, 747854639950.5402], [1701194762901, 747458211844.3889], [1701195010507, 747458211844.3889], [1701195361484, 744439381469.7712], [1701195606589, 744439381469.7712], [1701195931976, 745371655952.3257], [1701196200388, 745371655952.3257], [1701196500112, 745483434659.4072], [1701196820024, 745483434659.4072], [1701197098173, 744329663437.4763], [1701197418992, 744329663437.4763], [1701197718102, 745110255039.5009], [1701198064911, 745110255039.5009], [1701198354009, 744357134506.7515], [1701198694917, 743357151060.0823], [1701198952840, 743357151060.0823], [1701199274096, 743357151060.0823], [1701199564386, 744370329503.7557], [1701199893858, 744854633993.7599], [1701200165180, 744854633993.7599], [1701200393002, 744854633993.7599], [1701200701976, 744888563170.1052], [1701200990937, 744888563170.1052], [1701201325122, 745434334834.0841], [1701201696749, 746413217062.9066], [1701201933126, 746413217062.9066], [1701202245181, 744459947633.8986], [1701202511646, 744459947633.8986], [1701202798165, 744459947633.8986], [1701203096642, 746808192068.4427], [1701203400323, 746808192068.4427], [1701203698115, 745023268878.7393], [1701204064671, 746252209002.1832], [1701204333374, 746252209002.1832], [1701204599602, 746252209002.1832], [1701204906381, 747491534669.8774], [1701205215129, 747491534669.8774], [1701205502610, 748719578839.87], [1701205812536, 748719578839.87], [1701206110798, 746090542173.7467], [1701206452054, 745922381462.3961], [1701206718103, 745922381462.3961], [1701207056107, 745165321612.976], [1701207312595, 745165321612.976], [1701207664335, 744911363967.963], [1701207899328, 744911363967.963], [1701208198630, 744911363967.963], [1701208517310, 743192304289.5461], [1701208826333, 743192304289.5461], [1701209116863, 742859179463.0425], [1701209435387, 742859179463.0425], [1701209739116, 743181092763.6349], [1701210050429, 744207243662.1709], [1701210307883, 744207243662.1709], [1701210618248, 744207243662.1709], [1701210903047, 742581897905.9465], [1701211222229, 742581897905.9465], [1701211500393, 742665801571.9152], [1701211810028, 742452968575.9263], [1701212106237, 742452968575.9263], [1701212428357, 741008473771.0082], [1701212735362, 741008473771.0082], [1701213036635, 740487571805.5934], [1701213335488, 740487571805.5934], [1701213671997, 741163623692.4388], [1701213928908, 741163623692.4388], [1701214269739, 740722427240.8776], [1701214550323, 740722427240.8776], [1701214848008, 737972359582.8585], [1701215149388, 737972359582.8585], [1701215449577, 738816928726.5587], [1701215705063, 738816928726.5587], [1701216003205, 738816928726.5587], [1701216303762, 740100480208.6777], [1701216604359, 740100480208.6777], [1701216904405, 737129719965.6246], [1701217205765, 737129719965.6246], [1701217502756, 737816482027.6039], [1701217804477, 737816482027.6039], [1701218100133, 738643929704.5713], [1701218398556, 740637628015.966], [1701218700210, 740637628015.966], [1701218999278, 740637628015.966], [1701219298317, 740879641993.8813], [1701219622592, 740879641993.8813], [1701219908413, 741649157814.0853], [1701220206713, 741649157814.0853], [1701220506440, 743351318993.3536], [1701220807731, 743351318993.3536], [1701221102760, 743378013401.1516], [1701221404976, 743378013401.1516], [1701221513312, 743877518591.0593], [1701221709852, 744479561524.8499], [1701222007011, 744479561524.8499], [1701222315125, 742924408593.3942], [1701222625209, 742924408593.3942], [1701222915351, 743007977787.0801], [1701223213590, 743007977787.0801], [1701223507201, 742392801370.0033], [1701223817282, 742392801370.0033], [1701224116952, 741562569347.9666], [1701224417504, 741562569347.9666], [1701224716002, 742915050620.1237], [1701225014714, 742915050620.1237], [1701225314553, 741723208947.2158], [1701225613745, 740464684814.6302], [1701225924618, 740464684814.6302], [1701226275011, 740523268907.7195], [1701226540300, 740523268907.7195], [1701226920699, 742342672340.0299], [1701227157171, 742342672340.0299], [1701227447120, 742604446737.5585], [1701227744134, 742604446737.5585], [1701228073166, 743167282920.2542], [1701228351024, 743167282920.2542], [1701228695754, 742622357272.8186], [1701228942635, 742622357272.8186], [1701229200226, 742622357272.8186], [1701229511541, 742671569624.9247], [1701229829308, 741555279992.5107], [1701230128239, 741555279992.5107], [1701230426861, 741555279992.5107], [1701230740834, 742196445507.0627], [1701231034121, 742196445507.0627], [1701231363472, 741677649631.3611], [1701231704140, 741538814458.9075], [1701231971307, 741538814458.9075], [1701232228931, 741538814458.9075], [1701232539298, 741106342135.5553], [1701232836975, 741235921417.7161], [1701233117313, 741235921417.7161], [1701233426635, 741337598081.9281], [1701233712080, 741337598081.9281], [1701234024054, 741337598081.9281], [1701234306930, 742548583305.6753], [1701234669527, 742548583305.6753], [1701234909796, 743047618993.4135], [1701235201472, 743047618993.4135], [1701235495766, 742499375975.0538], [1701235796819, 742499375975.0538], [1701236095351, 742097221702.9095], [1701236406238, 742097221702.9095], [1701236714875, 741667952053.0973], [1701237024843, 741667952053.0973], [1701237301926, 742578112878.7299], [1701237600125, 742578112878.7299], [1701237899223, 744017086436.1644], [1701238213383, 744017086436.1644], [1701238501620, 743462891581.6156], [1701238810943, 743462891581.6156], [1701239121710, 743348716769.3182], [1701239424830, 743783277050.0239], [1701239715566, 743783277050.0239], [1701240002213, 744986717047.847], [1701240300676, 744986717047.847], [1701240604464, 744986717047.847], [1701240915066, 745264819693.9081], [1701241207232, 745264819693.9081], [1701241525480, 746864927244.4777], [1701241801647, 746709063512.1267], [1701242100699, 746709063512.1267], [1701242421892, 746709063512.1267], [1701242706732, 745264007945.5515], [1701243006451, 745264007945.5515], [1701243305452, 746408461859.067], [1701243603624, 744875048155.8079], [1701243894532, 744875048155.8079], [1701244211748, 744875048155.8079], [1701244510713, 745657306072.1417], [1701244808624, 745361845520.2588], [1701245109833, 745361845520.2588], [1701245397311, 745361845520.2588], [1701245711060, 746478190961.7283], [1701246007578, 746478190961.7283], [1701246303939, 745465373811.1881], [1701246612274, 745465373811.1881], [1701246920627, 746293401644.8492], [1701247199171, 746293401644.8492], [1701247495916, 745724362691.8397], [1701247816313, 745724362691.8397], [1701248107863, 747951015614.4814], [1701248396434, 747951015614.4814], [1701248694924, 750238197827.7289], [1701249004026, 750238197827.7289], [1701249304287, 748702009098.03], [1701249612462, 748702009098.03], [1701249891308, 749426863209.48], [1701250240992, 747667072794.56], [1701250520392, 747667072794.56], [1701250798466, 747667072794.56], [1701251099143, 747831582140.4347], [1701251412276, 747831582140.4347], [1701251713164, 748720178262.0339], [1701252007533, 748720178262.0339], [1701252318449, 749322044082.7133], [1701252617324, 749322044082.7133], [1701252875000, 747333964465.492]], 'total_volumes': [[1701166520838, 16121648295.912514], [1701166797375, 19017084047.93305], [1701167105745, 15279110068.254183], [1701167427498, 19128754199.500477], [1701167716570, 19040770670.2812], [1701168060495, 13750295078.66321], [1701168317457, 16756016924.679651], [1701168658883, 18663628396.87989], [1701168894386, 18093188803.875034], [1701169214217, 17221786708.568928], [1701169505454, 13651361431.641378], [1701169808656, 15790713898.02502], [1701170110696, 17283760995.42674], [1701170400141, 16787676297.733866], [1701170721207, 18234411785.24894], [1701171060646, 16345799546.984106], [1701171323383, 18306916527.654125], [1701171602613, 15832837502.700335], [1701171911213, 15153013097.520329], [1701172219035, 17495639433.487625], [1701172510191, 14404413134.352495], [1701172795752, 17115135684.694439], [1701173092481, 17084534254.660381], [1701173400046, 17485382627.03831], [1701173731680, 15814252681.94328], [1701174081264, 16021183784.161795], [1701174308875, 16678446852.054579], [1701174610148, 17677243591.917282], [1701174917480, 15996414407.693617], [1701175225490, 16917536295.249989], [1701175517254, 17239654114.929214], [1701175834837, 17533647897.99554], [1701176101731, 16843527250.839094], [1701176417512, 15382589598.751991], [1701176729785, 17457781948.099705], [1701177039052, 13704000201.984833], [1701177329165, 17398910431.269978], [1701177626394, 17250709329.404716], [1701177905840, 13379549650.824968], [1701178214200, 17215206366.251953], [1701178506735, 16994061897.2534], [1701178805477, 14844090284.320011], [1701179125052, 13989972862.342537], [1701179413348, 17218591830.241867], [1701179698965, 12118884761.19134], [1701180023161, 15907849680.1461], [1701180309277, 14383980428.00155], [1701180639103, 16174826739.15784], [1701180927195, 16853700391.943398], [1701181227350, 16965066528.491291], [1701181527134, 16760401921.800995], [1701181814152, 17046957542.083868], [1701182103866, 16938310416.161692], [1701182412548, 15714349762.731918], [1701182701135, 14503399006.659513], [1701183001098, 9039636969.821539], [1701183321609, 13826508822.288824], [1701183599317, 16954010595.099627], [1701183900683, 14183154752.118685], [1701184221483, 15928761526.328577], [1701184542390, 16645999622.843504], [1701184797520, 14956040097.117203], [1701185107900, 15776225607.016922], [1701185428549, 11452322362.051146], [1701185719455, 16514312664.959057], [1701186053715, 16624406834.314165], [1701186322590, 16766897231.815096], [1701186648190, 14276229901.16881], [1701186926925, 14441631903.449255], [1701187265983, 15139704331.826443], [1701187534830, 15140227877.582996], [1701187835049, 16066328606.397732], [1701188121960, 16739616795.869186], [1701188441071, 17000876635.97931], [1701188720039, 16896582910.074514], [1701189022463, 14393494072.946083], [1701189317969, 16303522130.391487], [1701189615204, 15723837906.335657], [1701189945342, 15337180239.623552], [1701190253075, 17205641309.531494], [1701190553043, 17317647386.0584], [1701190840675, 16953274629.300539], [1701191105979, 17432062495.521534], [1701191425981, 17729720793.587093], [1701191713114, 17558125159.843704], [1701192023626, 15445405552.28437], [1701192309563, 16486177326.20045], [1701192613449, 17966848965.063244], [1701192916202, 18011796992.69349], [1701193248846, 17398782843.574726], [1701193527896, 18886099264.06084], [1701193814928, 18611139825.722126], [1701194136693, 15742858170.096203], [1701194464757, 18619332028.150764], [1701194762901, 19019273786.13309], [1701195010507, 17228109829.618065], [1701195361484, 16432773457.450008], [1701195606589, 12783470373.33273], [1701195931976, 17380181418.821186], [1701196200388, 15764932402.843512], [1701196500112, 17401576476.096092], [1701196820024, 19366438594.60086], [1701197098173, 19482771244.785965], [1701197418992, 19004187181.31433], [1701197718102, 18875486810.01951], [1701198064911, 19941126742.878582], [1701198354009, 18592116483.33614], [1701198694917, 20105910367.996014], [1701198952840, 20106318146.385883], [1701199274096, 20237995701.241016], [1701199564386, 19999481751.154636], [1701199893858, 4150030014.4160542], [1701200165180, 11588699171.315222], [1701200393002, 18959604559.2983], [1701200701976, 20996279041.462692], [1701200990937, 19078149361.888153], [1701201325122, 19236483315.71666], [1701201696749, 19303687741.287193], [1701201933126, 18752606278.57272], [1701202245181, 21310339899.69898], [1701202511646, 21416416553.041756], [1701202798165, 21145484392.809826], [1701203096642, 21135163586.863342], [1701203400323, 21444584525.604294], [1701203698115, 21312533508.848694], [1701204064671, 13622853476.014479], [1701204333374, 17977948416.48616], [1701204599602, 19714944291.217316], [1701204906381, 20987471722.521076], [1701205215129, 21906508872.509094], [1701205502610, 21618470683.658417], [1701205812536, 21679393264.856358], [1701206110798, 21623624582.62055], [1701206452054, 18812963552.292187], [1701206718103, 21131414127.85265], [1701207056107, 21404614995.38834], [1701207312595, 20754072279.81293], [1701207664335, 17164070665.351889], [1701207899328, 21696241366.867146], [1701208198630, 18370770090.51578], [1701208517310, 21803584653.72575], [1701208826333, 21131764495.48381], [1701209116863, 21790563781.195614], [1701209435387, 21679852327.627907], [1701209739116, 21679649342.566124], [1701210050429, 19773307349.760628], [1701210307883, 21856382497.16561], [1701210618248, 21873716913.30303], [1701210903047, 17592969913.648426], [1701211222229, 21837721175.46054], [1701211500393, 22033225316.50575], [1701211810028, 17608573235.781765], [1701212106237, 22304913909.12025], [1701212428357, 22213720177.509537], [1701212735362, 21226025900.534695], [1701213036635, 21129114460.127113], [1701213335488, 19467781420.15925], [1701213671997, 20386529139.696804], [1701213928908, 19561365274.477444], [1701214269739, 22218033525.537987], [1701214550323, 22133946265.339626], [1701214848008, 22462821432.74834], [1701215149388, 22252211691.844547], [1701215449577, 20141838901.845016], [1701215705063, 19715537240.688644], [1701216003205, 22447645694.137634], [1701216303762, 22431199810.788536], [1701216604359, 22604481224.05664], [1701216904405, 17130046312.540167], [1701217205765, 19171220919.306572], [1701217502756, 22527664717.79796], [1701217804477, 20135936219.4202], [1701218100133, 22371312295.777378], [1701218398556, 22349946893.125565], [1701218700210, 22186240569.938942], [1701218999278, 20886561214.471775], [1701219298317, 17163404291.934488], [1701219622592, 16729338930.725658], [1701219908413, 22860352150.492596], [1701220206713, 22215299360.202377], [1701220506440, 21886725623.738533], [1701220807731, 21979485455.37805], [1701221102760, 22601549335.341423], [1701221404976, 19904552942.78168], [1701221513312, 22008244359.339256], [1701221709852, 22853793035.815132], [1701222007011, 22634981125.246838], [1701222315125, 22898652247.643555], [1701222625209, 22873547521.33912], [1701222915351, 22919338279.62129], [1701223213590, 22731056350.56037], [1701223507201, 21232005806.550285], [1701223817282, 22877477009.44663], [1701224116952, 22645324774.42435], [1701224417504, 19885042395.873936], [1701224716002, 23058140498.23402], [1701225014714, 18589926821.521538], [1701225314553, 23066952547.329166], [1701225613745, 22652171299.391838], [1701225924618, 23026196988.489952], [1701226275011, 23130515715.38974], [1701226540300, 20320228338.280437], [1701226920699, 21282791730.49694], [1701227157171, 22277657630.98602], [1701227447120, 17961277772.299076], [1701227744134, 22937710859.17571], [1701228073166, 22878211437.4189], [1701228351024, 23209466950.789513], [1701228695754, 21924969552.550537], [1701228942635, 20085876802.83102], [1701229200226, 15053399933.113966], [1701229511541, 19606842826.53032], [1701229829308, 22462930771.973373], [1701230128239, 22411913978.902332], [1701230426861, 21278632481.40332], [1701230740834, 20105152871.295322], [1701231034121, 22687316716.231266], [1701231363472, 22267927738.05257], [1701231704140, 23280071418.40345], [1701231971307, 23184248303.729794], [1701232228931, 22825633459.2645], [1701232539298, 23016262692.0543], [1701232836975, 22610742733.24008], [1701233117313, 23266903227.913284], [1701233426635, 23239743927.588367], [1701233712080, 21088550180.82765], [1701234024054, 23274637296.967106], [1701234306930, 23164658054.59926], [1701234669527, 16733836378.093681], [1701234909796, 19700561967.204285], [1701235201472, 22306208634.79735], [1701235495766, 22458965268.19865], [1701235796819, 22945489607.63666], [1701236095351, 21642089450.52498], [1701236406238, 22803340444.59225], [1701236714875, 22891285634.3307], [1701237024843, 19948035480.45741], [1701237301926, 23084914234.07227], [1701237600125, 18856165177.00134], [1701237899223, 18209890282.97875], [1701238213383, 21460347106.380947], [1701238501620, 22168093464.128674], [1701238810943, 22147522923.625237], [1701239121710, 22180877234.555916], [1701239424830, 21828512316.794426], [1701239715566, 22914930324.34804], [1701240002213, 21913155097.205524], [1701240300676, 18717993633.085976], [1701240604464, 22383414649.326916], [1701240915066, 23306948493.314606], [1701241207232, 21847350226.494038], [1701241525480, 20692623992.457623], [1701241801647, 15658755028.447842], [1701242100699, 23329234858.21693], [1701242421892, 20321121544.72058], [1701242706732, 20192132245.65727], [1701243006451, 19419649993.9888], [1701243305452, 23237587500.275913], [1701243603624, 22894959878.767704], [1701243894532, 16548374139.531887], [1701244211748, 23517868049.044456], [1701244510713, 23332482003.17326], [1701244808624, 23335640479.197945], [1701245109833, 23423987923.88273], [1701245397311, 20628283800.689995], [1701245711060, 21267451396.259583], [1701246007578, 23341585341.70775], [1701246303939, 20058786079.139072], [1701246612274, 22634489563.45233], [1701246920627, 22499002323.622326], [1701247199171, 23130226736.294132], [1701247495916, 23743449424.242203], [1701247816313, 18345886480.27219], [1701248107863, 23434561705.52888], [1701248396434, 18099821435.210365], [1701248694924, 13564816554.300474], [1701249004026, 21700808062.71332], [1701249304287, 21865922593.39547], [1701249612462, 23989903803.825924], [1701249891308, 23903239714.660595], [1701250240992, 23721643913.942726], [1701250520392, 23852992079.452408], [1701250798466, 23954702048.703163], [1701251099143, 21708790322.464287], [1701251412276, 14408661032.295504], [1701251713164, 24144058478.797707], [1701252007533, 24198909196.464725], [1701252318449, 24673350175.788116], [1701252617324, 23024895520.36034], [1701252875000, 24717402849.629787]]}\n"
     ]
    }
   ],
   "source": [
    "print(res.json())"
   ]
  },
  {
   "cell_type": "code",
   "execution_count": 135,
   "metadata": {},
   "outputs": [
    {
     "data": {
      "text/plain": [
       "dict_keys(['prices', 'market_caps', 'total_volumes'])"
      ]
     },
     "execution_count": 135,
     "metadata": {},
     "output_type": "execute_result"
    }
   ],
   "source": [
    "data = res.json()\n",
    "\n",
    "data.keys()"
   ]
  },
  {
   "cell_type": "code",
   "execution_count": 136,
   "metadata": {},
   "outputs": [
    {
     "data": {
      "text/plain": [
       "[[1701166520838, 37035.48846243298],\n",
       " [1701166797375, 37075.29581490049],\n",
       " [1701167105745, 37082.837240588706],\n",
       " [1701167427498, 37009.015703796285],\n",
       " [1701167716570, 37059.99099605156]]"
      ]
     },
     "execution_count": 136,
     "metadata": {},
     "output_type": "execute_result"
    }
   ],
   "source": [
    "data['prices'][:5]"
   ]
  },
  {
   "cell_type": "code",
   "execution_count": 137,
   "metadata": {},
   "outputs": [
    {
     "data": {
      "text/plain": [
       "[[1701166520838, 724383501668.2338],\n",
       " [1701166797375, 724383501668.2338],\n",
       " [1701167105745, 725316451989.9222],\n",
       " [1701167427498, 725316451989.9222],\n",
       " [1701167716570, 723718444827.7673]]"
      ]
     },
     "execution_count": 137,
     "metadata": {},
     "output_type": "execute_result"
    }
   ],
   "source": [
    "data['market_caps'][:5]"
   ]
  },
  {
   "cell_type": "code",
   "execution_count": 138,
   "metadata": {},
   "outputs": [
    {
     "data": {
      "text/html": [
       "<div>\n",
       "<style scoped>\n",
       "    .dataframe tbody tr th:only-of-type {\n",
       "        vertical-align: middle;\n",
       "    }\n",
       "\n",
       "    .dataframe tbody tr th {\n",
       "        vertical-align: top;\n",
       "    }\n",
       "\n",
       "    .dataframe thead th {\n",
       "        text-align: right;\n",
       "    }\n",
       "</style>\n",
       "<table border=\"1\" class=\"dataframe\">\n",
       "  <thead>\n",
       "    <tr style=\"text-align: right;\">\n",
       "      <th></th>\n",
       "      <th>prices</th>\n",
       "      <th>market_caps</th>\n",
       "      <th>total_volumes</th>\n",
       "    </tr>\n",
       "  </thead>\n",
       "  <tbody>\n",
       "    <tr>\n",
       "      <th>0</th>\n",
       "      <td>[1701166520838, 37035.48846243298]</td>\n",
       "      <td>[1701166520838, 724383501668.2338]</td>\n",
       "      <td>[1701166520838, 16121648295.912514]</td>\n",
       "    </tr>\n",
       "    <tr>\n",
       "      <th>1</th>\n",
       "      <td>[1701166797375, 37075.29581490049]</td>\n",
       "      <td>[1701166797375, 724383501668.2338]</td>\n",
       "      <td>[1701166797375, 19017084047.93305]</td>\n",
       "    </tr>\n",
       "    <tr>\n",
       "      <th>2</th>\n",
       "      <td>[1701167105745, 37082.837240588706]</td>\n",
       "      <td>[1701167105745, 725316451989.9222]</td>\n",
       "      <td>[1701167105745, 15279110068.254183]</td>\n",
       "    </tr>\n",
       "    <tr>\n",
       "      <th>3</th>\n",
       "      <td>[1701167427498, 37009.015703796285]</td>\n",
       "      <td>[1701167427498, 725316451989.9222]</td>\n",
       "      <td>[1701167427498, 19128754199.500477]</td>\n",
       "    </tr>\n",
       "    <tr>\n",
       "      <th>4</th>\n",
       "      <td>[1701167716570, 37059.99099605156]</td>\n",
       "      <td>[1701167716570, 723718444827.7673]</td>\n",
       "      <td>[1701167716570, 19040770670.2812]</td>\n",
       "    </tr>\n",
       "  </tbody>\n",
       "</table>\n",
       "</div>"
      ],
      "text/plain": [
       "                                prices                         market_caps  \\\n",
       "0   [1701166520838, 37035.48846243298]  [1701166520838, 724383501668.2338]   \n",
       "1   [1701166797375, 37075.29581490049]  [1701166797375, 724383501668.2338]   \n",
       "2  [1701167105745, 37082.837240588706]  [1701167105745, 725316451989.9222]   \n",
       "3  [1701167427498, 37009.015703796285]  [1701167427498, 725316451989.9222]   \n",
       "4   [1701167716570, 37059.99099605156]  [1701167716570, 723718444827.7673]   \n",
       "\n",
       "                         total_volumes  \n",
       "0  [1701166520838, 16121648295.912514]  \n",
       "1   [1701166797375, 19017084047.93305]  \n",
       "2  [1701167105745, 15279110068.254183]  \n",
       "3  [1701167427498, 19128754199.500477]  \n",
       "4    [1701167716570, 19040770670.2812]  "
      ]
     },
     "execution_count": 138,
     "metadata": {},
     "output_type": "execute_result"
    }
   ],
   "source": [
    "df = pd.DataFrame(data)\n",
    "\n",
    "df.head()"
   ]
  },
  {
   "cell_type": "code",
   "execution_count": 139,
   "metadata": {},
   "outputs": [
    {
     "data": {
      "text/plain": [
       "0      1701166520838\n",
       "1      1701166797375\n",
       "2      1701167105745\n",
       "3      1701167427498\n",
       "4      1701167716570\n",
       "           ...      \n",
       "285    1701251713164\n",
       "286    1701252007533\n",
       "287    1701252318449\n",
       "288    1701252617324\n",
       "289    1701252875000\n",
       "Name: prices, Length: 290, dtype: int64"
      ]
     },
     "execution_count": 139,
     "metadata": {},
     "output_type": "execute_result"
    }
   ],
   "source": [
    "df['prices'].str[0]"
   ]
  },
  {
   "cell_type": "code",
   "execution_count": 140,
   "metadata": {},
   "outputs": [
    {
     "data": {
      "text/html": [
       "<div>\n",
       "<style scoped>\n",
       "    .dataframe tbody tr th:only-of-type {\n",
       "        vertical-align: middle;\n",
       "    }\n",
       "\n",
       "    .dataframe tbody tr th {\n",
       "        vertical-align: top;\n",
       "    }\n",
       "\n",
       "    .dataframe thead th {\n",
       "        text-align: right;\n",
       "    }\n",
       "</style>\n",
       "<table border=\"1\" class=\"dataframe\">\n",
       "  <thead>\n",
       "    <tr style=\"text-align: right;\">\n",
       "      <th></th>\n",
       "      <th>prices</th>\n",
       "      <th>market_caps</th>\n",
       "      <th>total_volumes</th>\n",
       "      <th>timestamp</th>\n",
       "    </tr>\n",
       "  </thead>\n",
       "  <tbody>\n",
       "    <tr>\n",
       "      <th>0</th>\n",
       "      <td>[1701166520838, 37035.48846243298]</td>\n",
       "      <td>[1701166520838, 724383501668.2338]</td>\n",
       "      <td>[1701166520838, 16121648295.912514]</td>\n",
       "      <td>1701166520838</td>\n",
       "    </tr>\n",
       "    <tr>\n",
       "      <th>1</th>\n",
       "      <td>[1701166797375, 37075.29581490049]</td>\n",
       "      <td>[1701166797375, 724383501668.2338]</td>\n",
       "      <td>[1701166797375, 19017084047.93305]</td>\n",
       "      <td>1701166797375</td>\n",
       "    </tr>\n",
       "    <tr>\n",
       "      <th>2</th>\n",
       "      <td>[1701167105745, 37082.837240588706]</td>\n",
       "      <td>[1701167105745, 725316451989.9222]</td>\n",
       "      <td>[1701167105745, 15279110068.254183]</td>\n",
       "      <td>1701167105745</td>\n",
       "    </tr>\n",
       "    <tr>\n",
       "      <th>3</th>\n",
       "      <td>[1701167427498, 37009.015703796285]</td>\n",
       "      <td>[1701167427498, 725316451989.9222]</td>\n",
       "      <td>[1701167427498, 19128754199.500477]</td>\n",
       "      <td>1701167427498</td>\n",
       "    </tr>\n",
       "    <tr>\n",
       "      <th>4</th>\n",
       "      <td>[1701167716570, 37059.99099605156]</td>\n",
       "      <td>[1701167716570, 723718444827.7673]</td>\n",
       "      <td>[1701167716570, 19040770670.2812]</td>\n",
       "      <td>1701167716570</td>\n",
       "    </tr>\n",
       "  </tbody>\n",
       "</table>\n",
       "</div>"
      ],
      "text/plain": [
       "                                prices                         market_caps  \\\n",
       "0   [1701166520838, 37035.48846243298]  [1701166520838, 724383501668.2338]   \n",
       "1   [1701166797375, 37075.29581490049]  [1701166797375, 724383501668.2338]   \n",
       "2  [1701167105745, 37082.837240588706]  [1701167105745, 725316451989.9222]   \n",
       "3  [1701167427498, 37009.015703796285]  [1701167427498, 725316451989.9222]   \n",
       "4   [1701167716570, 37059.99099605156]  [1701167716570, 723718444827.7673]   \n",
       "\n",
       "                         total_volumes      timestamp  \n",
       "0  [1701166520838, 16121648295.912514]  1701166520838  \n",
       "1   [1701166797375, 19017084047.93305]  1701166797375  \n",
       "2  [1701167105745, 15279110068.254183]  1701167105745  \n",
       "3  [1701167427498, 19128754199.500477]  1701167427498  \n",
       "4    [1701167716570, 19040770670.2812]  1701167716570  "
      ]
     },
     "execution_count": 140,
     "metadata": {},
     "output_type": "execute_result"
    }
   ],
   "source": [
    "df['timestamp'] = df['prices'].str[0]\n",
    "\n",
    "df.head()"
   ]
  },
  {
   "cell_type": "code",
   "execution_count": 141,
   "metadata": {},
   "outputs": [],
   "source": [
    "df['prices'] = df['prices'].str[1]\n",
    "\n",
    "df['market_caps'] = df['market_caps'].str[1]\n",
    "\n",
    "df['total_volumes'] = df['total_volumes'].str[1]"
   ]
  },
  {
   "cell_type": "code",
   "execution_count": 142,
   "metadata": {},
   "outputs": [
    {
     "data": {
      "text/html": [
       "<div>\n",
       "<style scoped>\n",
       "    .dataframe tbody tr th:only-of-type {\n",
       "        vertical-align: middle;\n",
       "    }\n",
       "\n",
       "    .dataframe tbody tr th {\n",
       "        vertical-align: top;\n",
       "    }\n",
       "\n",
       "    .dataframe thead th {\n",
       "        text-align: right;\n",
       "    }\n",
       "</style>\n",
       "<table border=\"1\" class=\"dataframe\">\n",
       "  <thead>\n",
       "    <tr style=\"text-align: right;\">\n",
       "      <th></th>\n",
       "      <th>prices</th>\n",
       "      <th>market_caps</th>\n",
       "      <th>total_volumes</th>\n",
       "      <th>timestamp</th>\n",
       "    </tr>\n",
       "  </thead>\n",
       "  <tbody>\n",
       "    <tr>\n",
       "      <th>0</th>\n",
       "      <td>37035.488462</td>\n",
       "      <td>7.243835e+11</td>\n",
       "      <td>1.612165e+10</td>\n",
       "      <td>1701166520838</td>\n",
       "    </tr>\n",
       "    <tr>\n",
       "      <th>1</th>\n",
       "      <td>37075.295815</td>\n",
       "      <td>7.243835e+11</td>\n",
       "      <td>1.901708e+10</td>\n",
       "      <td>1701166797375</td>\n",
       "    </tr>\n",
       "    <tr>\n",
       "      <th>2</th>\n",
       "      <td>37082.837241</td>\n",
       "      <td>7.253165e+11</td>\n",
       "      <td>1.527911e+10</td>\n",
       "      <td>1701167105745</td>\n",
       "    </tr>\n",
       "    <tr>\n",
       "      <th>3</th>\n",
       "      <td>37009.015704</td>\n",
       "      <td>7.253165e+11</td>\n",
       "      <td>1.912875e+10</td>\n",
       "      <td>1701167427498</td>\n",
       "    </tr>\n",
       "    <tr>\n",
       "      <th>4</th>\n",
       "      <td>37059.990996</td>\n",
       "      <td>7.237184e+11</td>\n",
       "      <td>1.904077e+10</td>\n",
       "      <td>1701167716570</td>\n",
       "    </tr>\n",
       "  </tbody>\n",
       "</table>\n",
       "</div>"
      ],
      "text/plain": [
       "         prices   market_caps  total_volumes      timestamp\n",
       "0  37035.488462  7.243835e+11   1.612165e+10  1701166520838\n",
       "1  37075.295815  7.243835e+11   1.901708e+10  1701166797375\n",
       "2  37082.837241  7.253165e+11   1.527911e+10  1701167105745\n",
       "3  37009.015704  7.253165e+11   1.912875e+10  1701167427498\n",
       "4  37059.990996  7.237184e+11   1.904077e+10  1701167716570"
      ]
     },
     "execution_count": 142,
     "metadata": {},
     "output_type": "execute_result"
    }
   ],
   "source": [
    "df.head()"
   ]
  },
  {
   "cell_type": "code",
   "execution_count": 143,
   "metadata": {},
   "outputs": [
    {
     "data": {
      "text/html": [
       "<div>\n",
       "<style scoped>\n",
       "    .dataframe tbody tr th:only-of-type {\n",
       "        vertical-align: middle;\n",
       "    }\n",
       "\n",
       "    .dataframe tbody tr th {\n",
       "        vertical-align: top;\n",
       "    }\n",
       "\n",
       "    .dataframe thead th {\n",
       "        text-align: right;\n",
       "    }\n",
       "</style>\n",
       "<table border=\"1\" class=\"dataframe\">\n",
       "  <thead>\n",
       "    <tr style=\"text-align: right;\">\n",
       "      <th></th>\n",
       "      <th>timestamp</th>\n",
       "      <th>prices</th>\n",
       "      <th>market_caps</th>\n",
       "      <th>total_volumes</th>\n",
       "    </tr>\n",
       "  </thead>\n",
       "  <tbody>\n",
       "    <tr>\n",
       "      <th>0</th>\n",
       "      <td>1701166520838</td>\n",
       "      <td>37035.488462</td>\n",
       "      <td>7.243835e+11</td>\n",
       "      <td>1.612165e+10</td>\n",
       "    </tr>\n",
       "    <tr>\n",
       "      <th>1</th>\n",
       "      <td>1701166797375</td>\n",
       "      <td>37075.295815</td>\n",
       "      <td>7.243835e+11</td>\n",
       "      <td>1.901708e+10</td>\n",
       "    </tr>\n",
       "    <tr>\n",
       "      <th>2</th>\n",
       "      <td>1701167105745</td>\n",
       "      <td>37082.837241</td>\n",
       "      <td>7.253165e+11</td>\n",
       "      <td>1.527911e+10</td>\n",
       "    </tr>\n",
       "    <tr>\n",
       "      <th>3</th>\n",
       "      <td>1701167427498</td>\n",
       "      <td>37009.015704</td>\n",
       "      <td>7.253165e+11</td>\n",
       "      <td>1.912875e+10</td>\n",
       "    </tr>\n",
       "    <tr>\n",
       "      <th>4</th>\n",
       "      <td>1701167716570</td>\n",
       "      <td>37059.990996</td>\n",
       "      <td>7.237184e+11</td>\n",
       "      <td>1.904077e+10</td>\n",
       "    </tr>\n",
       "  </tbody>\n",
       "</table>\n",
       "</div>"
      ],
      "text/plain": [
       "       timestamp        prices   market_caps  total_volumes\n",
       "0  1701166520838  37035.488462  7.243835e+11   1.612165e+10\n",
       "1  1701166797375  37075.295815  7.243835e+11   1.901708e+10\n",
       "2  1701167105745  37082.837241  7.253165e+11   1.527911e+10\n",
       "3  1701167427498  37009.015704  7.253165e+11   1.912875e+10\n",
       "4  1701167716570  37059.990996  7.237184e+11   1.904077e+10"
      ]
     },
     "execution_count": 143,
     "metadata": {},
     "output_type": "execute_result"
    }
   ],
   "source": [
    "df = df[['timestamp', 'prices', 'market_caps', 'total_volumes']]\n",
    "\n",
    "df.head()"
   ]
  },
  {
   "cell_type": "code",
   "execution_count": 144,
   "metadata": {},
   "outputs": [
    {
     "data": {
      "text/html": [
       "<div>\n",
       "<style scoped>\n",
       "    .dataframe tbody tr th:only-of-type {\n",
       "        vertical-align: middle;\n",
       "    }\n",
       "\n",
       "    .dataframe tbody tr th {\n",
       "        vertical-align: top;\n",
       "    }\n",
       "\n",
       "    .dataframe thead th {\n",
       "        text-align: right;\n",
       "    }\n",
       "</style>\n",
       "<table border=\"1\" class=\"dataframe\">\n",
       "  <thead>\n",
       "    <tr style=\"text-align: right;\">\n",
       "      <th></th>\n",
       "      <th>timestamp</th>\n",
       "      <th>prices</th>\n",
       "      <th>market_caps</th>\n",
       "      <th>total_volumes</th>\n",
       "    </tr>\n",
       "  </thead>\n",
       "  <tbody>\n",
       "    <tr>\n",
       "      <th>count</th>\n",
       "      <td>2.900000e+02</td>\n",
       "      <td>290.000000</td>\n",
       "      <td>2.900000e+02</td>\n",
       "      <td>2.900000e+02</td>\n",
       "    </tr>\n",
       "    <tr>\n",
       "      <th>mean</th>\n",
       "      <td>1.701210e+12</td>\n",
       "      <td>37839.394662</td>\n",
       "      <td>7.398175e+11</td>\n",
       "      <td>1.941963e+10</td>\n",
       "    </tr>\n",
       "    <tr>\n",
       "      <th>std</th>\n",
       "      <td>2.503471e+07</td>\n",
       "      <td>357.502846</td>\n",
       "      <td>7.056773e+09</td>\n",
       "      <td>3.220481e+09</td>\n",
       "    </tr>\n",
       "    <tr>\n",
       "      <th>min</th>\n",
       "      <td>1.701167e+12</td>\n",
       "      <td>37009.015704</td>\n",
       "      <td>7.237184e+11</td>\n",
       "      <td>4.150030e+09</td>\n",
       "    </tr>\n",
       "    <tr>\n",
       "      <th>25%</th>\n",
       "      <td>1.701188e+12</td>\n",
       "      <td>37604.241750</td>\n",
       "      <td>7.352276e+11</td>\n",
       "      <td>1.699577e+10</td>\n",
       "    </tr>\n",
       "    <tr>\n",
       "      <th>50%</th>\n",
       "      <td>1.701210e+12</td>\n",
       "      <td>37960.934730</td>\n",
       "      <td>7.424229e+11</td>\n",
       "      <td>1.982917e+10</td>\n",
       "    </tr>\n",
       "    <tr>\n",
       "      <th>75%</th>\n",
       "      <td>1.701231e+12</td>\n",
       "      <td>38102.358547</td>\n",
       "      <td>7.449679e+11</td>\n",
       "      <td>2.224367e+10</td>\n",
       "    </tr>\n",
       "    <tr>\n",
       "      <th>max</th>\n",
       "      <td>1.701253e+12</td>\n",
       "      <td>38350.518482</td>\n",
       "      <td>7.502382e+11</td>\n",
       "      <td>2.471740e+10</td>\n",
       "    </tr>\n",
       "  </tbody>\n",
       "</table>\n",
       "</div>"
      ],
      "text/plain": [
       "          timestamp        prices   market_caps  total_volumes\n",
       "count  2.900000e+02    290.000000  2.900000e+02   2.900000e+02\n",
       "mean   1.701210e+12  37839.394662  7.398175e+11   1.941963e+10\n",
       "std    2.503471e+07    357.502846  7.056773e+09   3.220481e+09\n",
       "min    1.701167e+12  37009.015704  7.237184e+11   4.150030e+09\n",
       "25%    1.701188e+12  37604.241750  7.352276e+11   1.699577e+10\n",
       "50%    1.701210e+12  37960.934730  7.424229e+11   1.982917e+10\n",
       "75%    1.701231e+12  38102.358547  7.449679e+11   2.224367e+10\n",
       "max    1.701253e+12  38350.518482  7.502382e+11   2.471740e+10"
      ]
     },
     "execution_count": 144,
     "metadata": {},
     "output_type": "execute_result"
    }
   ],
   "source": [
    "df.describe()"
   ]
  },
  {
   "cell_type": "code",
   "execution_count": 145,
   "metadata": {},
   "outputs": [
    {
     "name": "stdout",
     "output_type": "stream",
     "text": [
      "<class 'pandas.core.frame.DataFrame'>\n",
      "RangeIndex: 290 entries, 0 to 289\n",
      "Data columns (total 4 columns):\n",
      " #   Column         Non-Null Count  Dtype  \n",
      "---  ------         --------------  -----  \n",
      " 0   timestamp      290 non-null    int64  \n",
      " 1   prices         290 non-null    float64\n",
      " 2   market_caps    290 non-null    float64\n",
      " 3   total_volumes  290 non-null    float64\n",
      "dtypes: float64(3), int64(1)\n",
      "memory usage: 9.2 KB\n"
     ]
    }
   ],
   "source": [
    "df.info()"
   ]
  },
  {
   "cell_type": "code",
   "execution_count": 146,
   "metadata": {},
   "outputs": [
    {
     "data": {
      "text/plain": [
       "0     1970-01-01 00:28:21.166520838\n",
       "1     1970-01-01 00:28:21.166797375\n",
       "2     1970-01-01 00:28:21.167105745\n",
       "3     1970-01-01 00:28:21.167427498\n",
       "4     1970-01-01 00:28:21.167716570\n",
       "                   ...             \n",
       "285   1970-01-01 00:28:21.251713164\n",
       "286   1970-01-01 00:28:21.252007533\n",
       "287   1970-01-01 00:28:21.252318449\n",
       "288   1970-01-01 00:28:21.252617324\n",
       "289   1970-01-01 00:28:21.252875000\n",
       "Name: timestamp, Length: 290, dtype: datetime64[ns]"
      ]
     },
     "execution_count": 146,
     "metadata": {},
     "output_type": "execute_result"
    }
   ],
   "source": [
    "pd.to_datetime(df['timestamp'])"
   ]
  },
  {
   "cell_type": "code",
   "execution_count": 147,
   "metadata": {},
   "outputs": [
    {
     "data": {
      "text/plain": [
       "0     1970-01-01 00:28:21.166520838\n",
       "1     1970-01-01 00:28:21.166797375\n",
       "2     1970-01-01 00:28:21.167105745\n",
       "3     1970-01-01 00:28:21.167427498\n",
       "4     1970-01-01 00:28:21.167716570\n",
       "                   ...             \n",
       "285   1970-01-01 00:28:21.251713164\n",
       "286   1970-01-01 00:28:21.252007533\n",
       "287   1970-01-01 00:28:21.252318449\n",
       "288   1970-01-01 00:28:21.252617324\n",
       "289   1970-01-01 00:28:21.252875000\n",
       "Name: timestamp, Length: 290, dtype: datetime64[ns]"
      ]
     },
     "execution_count": 147,
     "metadata": {},
     "output_type": "execute_result"
    }
   ],
   "source": [
    "pd.to_datetime(df['timestamp'], unit='ns')"
   ]
  },
  {
   "cell_type": "code",
   "execution_count": 148,
   "metadata": {},
   "outputs": [
    {
     "data": {
      "text/plain": [
       "0     2023-11-28 10:15:20.838\n",
       "1     2023-11-28 10:19:57.375\n",
       "2     2023-11-28 10:25:05.745\n",
       "3     2023-11-28 10:30:27.498\n",
       "4     2023-11-28 10:35:16.570\n",
       "                ...          \n",
       "285   2023-11-29 09:55:13.164\n",
       "286   2023-11-29 10:00:07.533\n",
       "287   2023-11-29 10:05:18.449\n",
       "288   2023-11-29 10:10:17.324\n",
       "289   2023-11-29 10:14:35.000\n",
       "Name: timestamp, Length: 290, dtype: datetime64[ns]"
      ]
     },
     "execution_count": 148,
     "metadata": {},
     "output_type": "execute_result"
    }
   ],
   "source": [
    "# unit = (D, s, ms, us, ns)\n",
    "\n",
    "pd.to_datetime(df['timestamp'], unit='ms')"
   ]
  },
  {
   "cell_type": "code",
   "execution_count": 149,
   "metadata": {},
   "outputs": [],
   "source": [
    "df['timestamp'] = pd.to_datetime(df['timestamp'], unit='ms')"
   ]
  },
  {
   "cell_type": "code",
   "execution_count": 150,
   "metadata": {},
   "outputs": [
    {
     "name": "stdout",
     "output_type": "stream",
     "text": [
      "<class 'pandas.core.frame.DataFrame'>\n",
      "RangeIndex: 290 entries, 0 to 289\n",
      "Data columns (total 4 columns):\n",
      " #   Column         Non-Null Count  Dtype         \n",
      "---  ------         --------------  -----         \n",
      " 0   timestamp      290 non-null    datetime64[ns]\n",
      " 1   prices         290 non-null    float64       \n",
      " 2   market_caps    290 non-null    float64       \n",
      " 3   total_volumes  290 non-null    float64       \n",
      "dtypes: datetime64[ns](1), float64(3)\n",
      "memory usage: 9.2 KB\n"
     ]
    }
   ],
   "source": [
    "df.info()"
   ]
  },
  {
   "cell_type": "code",
   "execution_count": 151,
   "metadata": {},
   "outputs": [
    {
     "data": {
      "text/html": [
       "<div>\n",
       "<style scoped>\n",
       "    .dataframe tbody tr th:only-of-type {\n",
       "        vertical-align: middle;\n",
       "    }\n",
       "\n",
       "    .dataframe tbody tr th {\n",
       "        vertical-align: top;\n",
       "    }\n",
       "\n",
       "    .dataframe thead th {\n",
       "        text-align: right;\n",
       "    }\n",
       "</style>\n",
       "<table border=\"1\" class=\"dataframe\">\n",
       "  <thead>\n",
       "    <tr style=\"text-align: right;\">\n",
       "      <th></th>\n",
       "      <th>timestamp</th>\n",
       "      <th>prices</th>\n",
       "      <th>market_caps</th>\n",
       "      <th>total_volumes</th>\n",
       "    </tr>\n",
       "  </thead>\n",
       "  <tbody>\n",
       "    <tr>\n",
       "      <th>0</th>\n",
       "      <td>2023-11-28 10:15:20.838</td>\n",
       "      <td>37035.488462</td>\n",
       "      <td>7.243835e+11</td>\n",
       "      <td>1.612165e+10</td>\n",
       "    </tr>\n",
       "    <tr>\n",
       "      <th>1</th>\n",
       "      <td>2023-11-28 10:19:57.375</td>\n",
       "      <td>37075.295815</td>\n",
       "      <td>7.243835e+11</td>\n",
       "      <td>1.901708e+10</td>\n",
       "    </tr>\n",
       "    <tr>\n",
       "      <th>2</th>\n",
       "      <td>2023-11-28 10:25:05.745</td>\n",
       "      <td>37082.837241</td>\n",
       "      <td>7.253165e+11</td>\n",
       "      <td>1.527911e+10</td>\n",
       "    </tr>\n",
       "    <tr>\n",
       "      <th>3</th>\n",
       "      <td>2023-11-28 10:30:27.498</td>\n",
       "      <td>37009.015704</td>\n",
       "      <td>7.253165e+11</td>\n",
       "      <td>1.912875e+10</td>\n",
       "    </tr>\n",
       "    <tr>\n",
       "      <th>4</th>\n",
       "      <td>2023-11-28 10:35:16.570</td>\n",
       "      <td>37059.990996</td>\n",
       "      <td>7.237184e+11</td>\n",
       "      <td>1.904077e+10</td>\n",
       "    </tr>\n",
       "  </tbody>\n",
       "</table>\n",
       "</div>"
      ],
      "text/plain": [
       "                timestamp        prices   market_caps  total_volumes\n",
       "0 2023-11-28 10:15:20.838  37035.488462  7.243835e+11   1.612165e+10\n",
       "1 2023-11-28 10:19:57.375  37075.295815  7.243835e+11   1.901708e+10\n",
       "2 2023-11-28 10:25:05.745  37082.837241  7.253165e+11   1.527911e+10\n",
       "3 2023-11-28 10:30:27.498  37009.015704  7.253165e+11   1.912875e+10\n",
       "4 2023-11-28 10:35:16.570  37059.990996  7.237184e+11   1.904077e+10"
      ]
     },
     "execution_count": 151,
     "metadata": {},
     "output_type": "execute_result"
    }
   ],
   "source": [
    "df.head()"
   ]
  },
  {
   "cell_type": "code",
   "execution_count": 152,
   "metadata": {},
   "outputs": [
    {
     "data": {
      "text/plain": [
       "Timestamp('2023-11-29 10:14:35')"
      ]
     },
     "execution_count": 152,
     "metadata": {},
     "output_type": "execute_result"
    }
   ],
   "source": [
    "df['timestamp'].max()"
   ]
  },
  {
   "cell_type": "code",
   "execution_count": 153,
   "metadata": {},
   "outputs": [
    {
     "data": {
      "text/html": [
       "<div>\n",
       "<style scoped>\n",
       "    .dataframe tbody tr th:only-of-type {\n",
       "        vertical-align: middle;\n",
       "    }\n",
       "\n",
       "    .dataframe tbody tr th {\n",
       "        vertical-align: top;\n",
       "    }\n",
       "\n",
       "    .dataframe thead th {\n",
       "        text-align: right;\n",
       "    }\n",
       "</style>\n",
       "<table border=\"1\" class=\"dataframe\">\n",
       "  <thead>\n",
       "    <tr style=\"text-align: right;\">\n",
       "      <th></th>\n",
       "      <th>timestamp</th>\n",
       "      <th>prices</th>\n",
       "      <th>market_caps</th>\n",
       "      <th>total_volumes</th>\n",
       "    </tr>\n",
       "  </thead>\n",
       "  <tbody>\n",
       "    <tr>\n",
       "      <th>count</th>\n",
       "      <td>290</td>\n",
       "      <td>290.000000</td>\n",
       "      <td>2.900000e+02</td>\n",
       "      <td>2.900000e+02</td>\n",
       "    </tr>\n",
       "    <tr>\n",
       "      <th>mean</th>\n",
       "      <td>2023-11-28 22:16:02.233948416</td>\n",
       "      <td>37839.394662</td>\n",
       "      <td>7.398175e+11</td>\n",
       "      <td>1.941963e+10</td>\n",
       "    </tr>\n",
       "    <tr>\n",
       "      <th>min</th>\n",
       "      <td>2023-11-28 10:15:20.838000</td>\n",
       "      <td>37009.015704</td>\n",
       "      <td>7.237184e+11</td>\n",
       "      <td>4.150030e+09</td>\n",
       "    </tr>\n",
       "    <tr>\n",
       "      <th>25%</th>\n",
       "      <td>2023-11-28 16:16:41.737750016</td>\n",
       "      <td>37604.241750</td>\n",
       "      <td>7.352276e+11</td>\n",
       "      <td>1.699577e+10</td>\n",
       "    </tr>\n",
       "    <tr>\n",
       "      <th>50%</th>\n",
       "      <td>2023-11-28 22:18:14.772499968</td>\n",
       "      <td>37960.934730</td>\n",
       "      <td>7.424229e+11</td>\n",
       "      <td>1.982917e+10</td>\n",
       "    </tr>\n",
       "    <tr>\n",
       "      <th>75%</th>\n",
       "      <td>2023-11-29 04:14:41.134249984</td>\n",
       "      <td>38102.358547</td>\n",
       "      <td>7.449679e+11</td>\n",
       "      <td>2.224367e+10</td>\n",
       "    </tr>\n",
       "    <tr>\n",
       "      <th>max</th>\n",
       "      <td>2023-11-29 10:14:35</td>\n",
       "      <td>38350.518482</td>\n",
       "      <td>7.502382e+11</td>\n",
       "      <td>2.471740e+10</td>\n",
       "    </tr>\n",
       "    <tr>\n",
       "      <th>std</th>\n",
       "      <td>NaN</td>\n",
       "      <td>357.502846</td>\n",
       "      <td>7.056773e+09</td>\n",
       "      <td>3.220481e+09</td>\n",
       "    </tr>\n",
       "  </tbody>\n",
       "</table>\n",
       "</div>"
      ],
      "text/plain": [
       "                           timestamp        prices   market_caps  \\\n",
       "count                            290    290.000000  2.900000e+02   \n",
       "mean   2023-11-28 22:16:02.233948416  37839.394662  7.398175e+11   \n",
       "min       2023-11-28 10:15:20.838000  37009.015704  7.237184e+11   \n",
       "25%    2023-11-28 16:16:41.737750016  37604.241750  7.352276e+11   \n",
       "50%    2023-11-28 22:18:14.772499968  37960.934730  7.424229e+11   \n",
       "75%    2023-11-29 04:14:41.134249984  38102.358547  7.449679e+11   \n",
       "max              2023-11-29 10:14:35  38350.518482  7.502382e+11   \n",
       "std                              NaN    357.502846  7.056773e+09   \n",
       "\n",
       "       total_volumes  \n",
       "count   2.900000e+02  \n",
       "mean    1.941963e+10  \n",
       "min     4.150030e+09  \n",
       "25%     1.699577e+10  \n",
       "50%     1.982917e+10  \n",
       "75%     2.224367e+10  \n",
       "max     2.471740e+10  \n",
       "std     3.220481e+09  "
      ]
     },
     "execution_count": 153,
     "metadata": {},
     "output_type": "execute_result"
    }
   ],
   "source": [
    "df.describe()"
   ]
  },
  {
   "cell_type": "markdown",
   "metadata": {},
   "source": [
    "## **Visualizing the Trends**"
   ]
  },
  {
   "cell_type": "code",
   "execution_count": 154,
   "metadata": {},
   "outputs": [],
   "source": [
    "import matplotlib.pyplot as plt\n",
    "import seaborn as sns"
   ]
  },
  {
   "cell_type": "code",
   "execution_count": 157,
   "metadata": {},
   "outputs": [
    {
     "data": {
      "image/png": "[encoded data removed]",
      "text/plain": [
       "<Figure size 1200x300 with 1 Axes>"
      ]
     },
     "metadata": {},
     "output_type": "display_data"
    }
   ],
   "source": [
    "fig, ax = plt.subplots(figsize=(12,3))\n",
    "\n",
    "ax.set_title(\"Timeseries Plot\")\n",
    "sns.lineplot(data=df, x='timestamp', y='prices', ax=ax)\n",
    "\n",
    "plt.xticks(rotation = 45)\n",
    "plt.grid(True)\n",
    "\n",
    "plt.show()"
   ]
  }
 ],
 "metadata": {
  "kernelspec": {
   "display_name": "Python 3 (ipykernel)",
   "language": "python",
   "name": "python3"
  },
  "language_info": {
   "codemirror_mode": {
    "name": "ipython",
    "version": 3
   },
   "file_extension": ".py",
   "mimetype": "text/x-python",
   "name": "python",
   "nbconvert_exporter": "python",
   "pygments_lexer": "ipython3",
   "version": "3.11.3"
  },
  "toc": {
   "nav_menu": {},
   "number_sections": true,
   "sideBar": true,
   "skip_h1_title": false,
   "title_cell": "Table of Contents",
   "title_sidebar": "Contents",
   "toc_cell": false,
   "toc_position": {},
   "toc_section_display": true,
   "toc_window_display": false
  },
  "varInspector": {
   "cols": {
    "lenName": 16,
    "lenType": 16,
    "lenVar": 40
   },
   "kernels_config": {
    "python": {
     "delete_cmd_postfix": "",
     "delete_cmd_prefix": "del ",
     "library": "var_list.py",
     "varRefreshCmd": "print(var_dic_list())"
    },
    "r": {
     "delete_cmd_postfix": ") ",
     "delete_cmd_prefix": "rm(",
     "library": "var_list.r",
     "varRefreshCmd": "cat(var_dic_list()) "
    }
   },
   "types_to_exclude": [
    "module",
    "function",
    "builtin_function_or_method",
    "instance",
    "_Feature"
   ],
   "window_display": false
  }
 },
 "nbformat": 4,
 "nbformat_minor": 4
}
