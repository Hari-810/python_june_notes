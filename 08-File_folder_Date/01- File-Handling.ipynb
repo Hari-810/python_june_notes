{
  "cells": [
    {
      "cell_type": "markdown",
      "metadata": {
        "id": "b657qbKU6lHN"
      },
      "source": [
        "## Opening & Closing a File"
      ]
    },
    {
      "cell_type": "code",
      "execution_count": 4,
      "metadata": {
        "ExecuteTime": {
          "end_time": "2018-06-06T04:37:28.052812Z",
          "start_time": "2018-06-06T04:37:28.033261Z"
        },
        "id": "-1VcI07A6lHe"
      },
      "outputs": [
        {
          "data": {
            "text/plain": [
              "\"\\nopen('test.txt', 'w'): \\n  This function call opens a file named 'test.txt' in write mode ('w'). \\n  If the file doesn't exist, it will be created. If the file already exists, \\n  its contents will be overwritten. This function returns a file object representing \\n  the opened file.\\n\""
            ]
          },
          "execution_count": 4,
          "metadata": {},
          "output_type": "execute_result"
        }
      ],
      "source": [
        "f = open('test.txt','w') \n",
        "\n",
        "\"\"\"\n",
        "open('test.txt', 'w'): \n",
        "  This function call opens a file named 'test.txt' in write mode ('w'). \n",
        "  If the file doesn't exist, it will be created. If the file already exists, \n",
        "  its contents will be overwritten. This function returns a file object representing \n",
        "  the opened file.\n",
        "\"\"\""
      ]
    },
    {
      "cell_type": "code",
      "execution_count": 5,
      "metadata": {
        "ExecuteTime": {
          "end_time": "2018-06-06T04:25:29.032904Z",
          "start_time": "2018-06-06T04:25:29.030397Z"
        },
        "id": "s42uaGH36lHg"
      },
      "outputs": [
        {
          "data": {
            "text/plain": [
              "\"\\nf.close(): \\n  This method is called on the file object f to close the file once you're done\\n  working with it. It's important to close the file to release system resources and \\n  ensure that all data is written to the file.\\n\""
            ]
          },
          "execution_count": 5,
          "metadata": {},
          "output_type": "execute_result"
        }
      ],
      "source": [
        "f.close()\n",
        "\n",
        "\"\"\"\n",
        "f.close(): \n",
        "  This method is called on the file object f to close the file once you're done\n",
        "  working with it. It's important to close the file to release system resources and \n",
        "  ensure that all data is written to the file.\n",
        "\"\"\""
      ]
    },
    {
      "cell_type": "markdown",
      "metadata": {},
      "source": [
        "https://1.bp.blogspot.com/-iNi9iER_2QE/YC5ZiQ5nLGI/AAAAAAAABaY/GiLuu8RDz8IHfForgpnz4d7m6i9MYxKvgCLcBGAsYHQ/s883/modes.PNG"
      ]
    },
    {
      "cell_type": "markdown",
      "metadata": {
        "id": "UHHeGh1b6lHh"
      },
      "source": [
        "## File Object Properties"
      ]
    },
    {
      "cell_type": "code",
      "execution_count": 6,
      "metadata": {
        "ExecuteTime": {
          "end_time": "2018-06-06T04:29:39.179147Z",
          "start_time": "2018-06-06T04:29:39.171126Z"
        },
        "id": "f3oj9gSr6lHi",
        "outputId": "48d0d96a-cb2b-4842-936f-d07e01d403f6"
      },
      "outputs": [
        {
          "name": "stdout",
          "output_type": "stream",
          "text": [
            "File Name:  test.txt\n",
            "File Mode:  w\n",
            "Is file readable:  False\n",
            "Is file Writable:  True\n",
            "Is file closed:  False\n",
            "Is file closed:  True\n"
          ]
        }
      ],
      "source": [
        "# Open the file 'test.txt' in write mode ('w').\n",
        "f = open(\"test.txt\", 'w')\n",
        "\n",
        "# Print the name of the file.\n",
        "print('File Name: ', f.name)\n",
        "\n",
        "# Print the mode in which the file was opened.\n",
        "print('File Mode: ', f.mode)\n",
        "\n",
        "# Check if the file is readable. Since it's opened in write mode, it's not readable.\n",
        "print('Is file readable: ', f.readable())\n",
        "\n",
        "# Check if the file is writable. Since it's opened in write mode, it's writable.\n",
        "print('Is file Writable: ', f.writable())\n",
        "\n",
        "# Check if the file is closed. Since it's still open, it's not closed.\n",
        "print('Is file closed: ', f.closed)\n",
        "\n",
        "# Close the file.\n",
        "f.close()\n",
        "\n",
        "# Check if the file is closed after closing it. It should be closed now.\n",
        "print('Is file closed: ', f.closed)\n"
      ]
    },
    {
      "cell_type": "markdown",
      "metadata": {
        "id": "HN44y5oZ6lHl"
      },
      "source": [
        "## Read Data from text files"
      ]
    },
    {
      "cell_type": "markdown",
      "metadata": {},
      "source": [
        "You can use the with statement when opening files to ensure they are automatically closed after use, even if an error occurs."
      ]
    },
    {
      "cell_type": "code",
      "execution_count": 8,
      "metadata": {},
      "outputs": [
        {
          "name": "stdout",
          "output_type": "stream",
          "text": [
            "This method is called on the file object f to close the file once you're done\n",
            "working with it. It's important to close the file to release system resources and \n",
            "ensure that all data is written to the file.\n"
          ]
        }
      ],
      "source": [
        "# read() -> read all the data\n",
        "\n",
        "with open('test.txt','r') as f:\n",
        "    data = f.read()\n",
        "    print(data)"
      ]
    },
    {
      "cell_type": "code",
      "execution_count": 9,
      "metadata": {},
      "outputs": [
        {
          "name": "stdout",
          "output_type": "stream",
          "text": [
            "This metho\n"
          ]
        }
      ],
      "source": [
        "# read(n) -> read first n characters\n",
        "with open('test.txt','r') as f:\n",
        "    data = f.read(10)\n",
        "    print(data)"
      ]
    },
    {
      "cell_type": "markdown",
      "metadata": {},
      "source": [
        "In the read() and readline() methods, there's no need to close the file before reading; it can be closed afterward.\n",
        "\n",
        "You can use a loop to iterate through the lines when using readline(), instead of writing each line separately."
      ]
    },
    {
      "cell_type": "code",
      "execution_count": 11,
      "metadata": {},
      "outputs": [
        {
          "name": "stdout",
          "output_type": "stream",
          "text": [
            "<class 'list'>\n",
            "[\"This method is called on the file object f to close the file once you're done\\n\", \"working with it. It's important to close the file to release system resources and \\n\", 'ensure that all data is written to the file.']\n",
            "This method is called on the file object f to close the file once you're done\n",
            "working with it. It's important to close the file to release system resources and\n",
            "ensure that all data is written to the file.\n"
          ]
        }
      ],
      "source": [
        "\n",
        "# readlines() -> read all the lines into a list\n",
        "with open('test.txt', 'r') as f:\n",
        "    lines = f.readlines()\n",
        "    print(type(lines))\n",
        "    print(lines)\n",
        "    for line in lines:\n",
        "        print(line.strip())  # Use strip() to remove trailing newline characters"
      ]
    },
    {
      "cell_type": "markdown",
      "metadata": {},
      "source": [
        "Using readline() multiple times sequentially is fine, but there might be fewer lines in the file than expected. So, it's good to check whether the line is empty before printing."
      ]
    },
    {
      "cell_type": "markdown",
      "metadata": {
        "id": "XqJipAQS6lHq"
      },
      "source": [
        "## Write Data to text files"
      ]
    },
    {
      "cell_type": "code",
      "execution_count": 14,
      "metadata": {},
      "outputs": [],
      "source": [
        "# Writing Content to a Text File:\n",
        "\n",
        "content = \"This is some content to be written to a file.\"\n",
        "\n",
        "with open('output.txt', 'w') as f:\n",
        "    f.write(content)\n"
      ]
    },
    {
      "cell_type": "code",
      "execution_count": 13,
      "metadata": {},
      "outputs": [],
      "source": [
        "# Appending Content to an Existing Text File:\n",
        "\n",
        "additional_content = \"\\nThis is additional content.\"\n",
        "\n",
        "with open('output.txt', 'a') as f:  # 'a' mode appends to the file\n",
        "    f.write(additional_content)\n"
      ]
    },
    {
      "cell_type": "code",
      "execution_count": 15,
      "metadata": {},
      "outputs": [],
      "source": [
        "# Writing Multiple Lines to a Text File:\n",
        "\n",
        "lines = [\"First line.\\n\", \"Second line.\\n\", \"Third line.\\n\"]\n",
        "\n",
        "with open('output.txt', 'w') as f:\n",
        "    f.writelines(lines)\n"
      ]
    },
    {
      "cell_type": "code",
      "execution_count": 11,
      "metadata": {},
      "outputs": [],
      "source": [
        "# Using a Loop to Write Multiple Lines:\n",
        "\n",
        "lines = [\"Line 1\\n\", \"Line 2\\n\", \"Line 3\\n\"]\n",
        "\n",
        "with open('output.txt', 'w') as f:\n",
        "    for line in lines:\n",
        "        f.write(line)\n"
      ]
    },
    {
      "cell_type": "code",
      "execution_count": 12,
      "metadata": {},
      "outputs": [],
      "source": [
        "# Using print() Function to Write Content:\n",
        "\n",
        "content = \"Using print function to write to a file.\"\n",
        "\n",
        "with open('output.txt', 'w') as f:\n",
        "    print(content, file=f)\n"
      ]
    },
    {
      "cell_type": "markdown",
      "metadata": {
        "id": "-Z3UP9WX6lHw"
      },
      "source": [
        "## seek() and tell()"
      ]
    },
    {
      "cell_type": "markdown",
      "metadata": {},
      "source": [
        "The seek() and tell() functions are used in Python to control the current position within a file and to determine the current position, respectively."
      ]
    },
    {
      "cell_type": "code",
      "execution_count": 16,
      "metadata": {},
      "outputs": [
        {
          "name": "stdout",
          "output_type": "stream",
          "text": [
            "Current position: 0\n",
            "After reading 10 characters: 10\n",
            "After seeking back to the beginning: 0\n"
          ]
        }
      ],
      "source": [
        "# Using tell() to Get the Current Position:\n",
        "\n",
        "with open('example.txt', 'r') as file:\n",
        "    print(\"Current position:\", file.tell())  # Initial position\n",
        "    \n",
        "    data = file.read(10)  # Read the first 10 characters\n",
        "    print(\"After reading 10 characters:\", file.tell())  # Current position after reading\n",
        "    \n",
        "    # Move the file pointer back to the beginning\n",
        "    file.seek(0)\n",
        "    print(\"After seeking back to the beginning:\", file.tell())  # Current position after seeking\n"
      ]
    },
    {
      "cell_type": "code",
      "execution_count": 15,
      "metadata": {
        "ExecuteTime": {
          "end_time": "2018-06-06T05:20:13.017479Z",
          "start_time": "2018-06-06T05:20:13.002439Z"
        },
        "id": "gvdEfwCb6lHx",
        "outputId": "021c55ec-64a3-401e-a961-7a492993442c"
      },
      "outputs": [
        {
          "name": "stdout",
          "output_type": "stream",
          "text": [
            "Current position: 0\n",
            "After seeking to position 15: 15\n"
          ]
        }
      ],
      "source": [
        "# Using seek() to Move the File Pointer:\n",
        "\n",
        "with open('example.txt', 'r') as file:\n",
        "    print(\"Current position:\", file.tell())  # Initial position\n",
        "    \n",
        "    # Move the file pointer to a specific position (e.g., 15 bytes from the beginning)\n",
        "    file.seek(15)\n",
        "    print(\"After seeking to position 15:\", file.tell())  # Current position after seeking\n"
      ]
    },
    {
      "cell_type": "markdown",
      "metadata": {
        "id": "3elANROv6lHz"
      },
      "source": [
        "## Renaming & Deleting files"
      ]
    },
    {
      "cell_type": "code",
      "execution_count": null,
      "metadata": {
        "ExecuteTime": {
          "end_time": "2018-06-06T05:22:56.579668Z",
          "start_time": "2018-06-06T05:22:56.573653Z"
        },
        "id": "8HMhCPUa6lHz"
      },
      "outputs": [],
      "source": [
        "# import modules or import libraries\n",
        "\n",
        "import os  \n",
        "\n",
        "\n",
        "# Specify the current and new file names\n",
        "current_name = 'test.txt'\n",
        "new_name = 'new_file.txt'\n",
        "\n",
        "# Rename the file\n",
        "os.rename(current_name, new_name)\n",
        "\n",
        "# Remove the file\n",
        "os.remove('test-100.txt')\n"
      ]
    },
    {
      "cell_type": "markdown",
      "metadata": {},
      "source": [
        "## Checking existance "
      ]
    },
    {
      "cell_type": "code",
      "execution_count": 19,
      "metadata": {},
      "outputs": [
        {
          "name": "stdout",
          "output_type": "stream",
          "text": [
            "The file 'example.txt' exists.\n"
          ]
        }
      ],
      "source": [
        "# os.path.exists() to check if a file exists:\n",
        "\n",
        "import os\n",
        "\n",
        "file_path = 'example.txt'\n",
        "\n",
        "if os.path.exists(file_path):\n",
        "    print(f\"The file '{file_path}' exists.\")\n",
        "else:\n",
        "    print(f\"The file '{file_path}' does not exist.\")\n"
      ]
    }
  ],
  "metadata": {
    "colab": {
      "name": "Day_18_file_handling.ipynb",
      "provenance": []
    },
    "kernelspec": {
      "display_name": "Python 3.9.7 ('base')",
      "language": "python",
      "name": "python3"
    },
    "language_info": {
      "codemirror_mode": {
        "name": "ipython",
        "version": 3
      },
      "file_extension": ".py",
      "mimetype": "text/x-python",
      "name": "python",
      "nbconvert_exporter": "python",
      "pygments_lexer": "ipython3",
      "version": "3.11.3"
    },
    "toc": {
      "nav_menu": {},
      "number_sections": true,
      "sideBar": true,
      "skip_h1_title": false,
      "title_cell": "Table of Contents",
      "title_sidebar": "Contents",
      "toc_cell": false,
      "toc_position": {},
      "toc_section_display": true,
      "toc_window_display": false
    },
    "varInspector": {
      "cols": {
        "lenName": 16,
        "lenType": 16,
        "lenVar": 40
      },
      "kernels_config": {
        "python": {
          "delete_cmd_postfix": "",
          "delete_cmd_prefix": "del ",
          "library": "var_list.py",
          "varRefreshCmd": "print(var_dic_list())"
        },
        "r": {
          "delete_cmd_postfix": ") ",
          "delete_cmd_prefix": "rm(",
          "library": "var_list.r",
          "varRefreshCmd": "cat(var_dic_list()) "
        }
      },
      "types_to_exclude": [
        "module",
        "function",
        "builtin_function_or_method",
        "instance",
        "_Feature"
      ],
      "window_display": false
    },
    "vscode": {
      "interpreter": {
        "hash": "adbf8baac3fd83462ba4d3cf155237b9080954f140b6d8291bc95ec68b06c358"
      }
    }
  },
  "nbformat": 4,
  "nbformat_minor": 0
}
