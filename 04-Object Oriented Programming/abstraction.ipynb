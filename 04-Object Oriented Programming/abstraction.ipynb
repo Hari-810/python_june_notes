{
 "cells": [
  {
   "cell_type": "markdown",
   "metadata": {},
   "source": [
    "## Abstraction"
   ]
  },
  {
   "cell_type": "markdown",
   "metadata": {},
   "source": [
    "Abstraction in Python, as well as in object-oriented programming (OOP) in general, is a concept that allows you to create abstract classes and methods that define a common interface without providing implementation details. It enables you to focus on the essential features and behavior of an object or a system while hiding the unnecessary complexities."
   ]
  },
  {
   "cell_type": "markdown",
   "metadata": {},
   "source": [
    "In Python, abstraction is achieved through abstract classes and abstract methods. An abstract class is a class that cannot be instantiated directly and is meant to serve as a blueprint for other classes. It often contains one or more abstract methods, which are declared but do not provide an implementation in the abstract class itself. Instead, the subclasses derived from the abstract class must implement these abstract methods.\n",
    "\n",
    "Python provides a module called abc (Abstract Base Classes) that allows you to define abstract classes and abstract methods. Here's an example:"
   ]
  },
  {
   "cell_type": "code",
   "execution_count": 4,
   "metadata": {},
   "outputs": [
    {
     "name": "stdout",
     "output_type": "stream",
     "text": [
      "Woof!\n",
      "Meow!\n"
     ]
    },
    {
     "ename": "TypeError",
     "evalue": "Can't instantiate abstract class Horse with abstract method make_sound",
     "output_type": "error",
     "traceback": [
      "\u001b[1;31m---------------------------------------------------------------------------\u001b[0m",
      "\u001b[1;31mTypeError\u001b[0m                                 Traceback (most recent call last)",
      "Cell \u001b[1;32mIn[4], line 29\u001b[0m\n\u001b[0;32m     25\u001b[0m cat \u001b[39m=\u001b[39m Cat()\n\u001b[0;32m     26\u001b[0m cat\u001b[39m.\u001b[39mmake_sound()  \u001b[39m# Output: Meow!\u001b[39;00m\n\u001b[1;32m---> 29\u001b[0m horse \u001b[39m=\u001b[39m Horse()\n",
      "\u001b[1;31mTypeError\u001b[0m: Can't instantiate abstract class Horse with abstract method make_sound"
     ]
    }
   ],
   "source": [
    "from abc import ABC, abstractmethod\n",
    "\n",
    "class Animal(ABC):\n",
    "    @abstractmethod\n",
    "    def make_sound(self):\n",
    "        pass\n",
    "\n",
    "class Dog(Animal):\n",
    "    def make_sound(self):\n",
    "        print(\"Woof!\")\n",
    "\n",
    "class Cat(Animal):\n",
    "    def make_sound(self):\n",
    "        print(\"Meow!\")\n",
    "        \n",
    "class Horse(Animal):\n",
    "    pass\n",
    "\n",
    "# Cannot instantiate the abstract class directly\n",
    "# animal = Animal()  # Raises TypeError\n",
    "\n",
    "dog = Dog()\n",
    "dog.make_sound()  # Output: Woof!\n",
    "\n",
    "cat = Cat()\n",
    "cat.make_sound()  # Output: Meow!\n",
    "\n",
    "\n",
    "horse = Horse()"
   ]
  },
  {
   "cell_type": "markdown",
   "metadata": {},
   "source": [
    "First, the code imports the **ABC** (Abstract Base Classes) and abstractmethod from the abc module. The **ABC** is a helper class that allows you to define abstract classes, and the abstractmethod decorator is used to mark methods as abstract.\n",
    "\n",
    "Next, an abstract class called Animal is defined, which inherits from **ABC**. It contains a single abstract method called **make_sound()**, which is marked with the abstractmethod decorator. The **make_sound()** method does not have an implementation (the pass statement indicates that), and it serves as a placeholder that must be implemented by any class derived from Animal.\n",
    "\n",
    "Following the Animal class, there are three concrete subclasses: Dog, Cat, and Horse. Each of these classes inherits from Animal and provides an implementation for the **make_sound()** method.\n",
    "\n",
    "The **Dog** class overrides the **make_sound()** method and prints \"Woof!\" when called.\n",
    "\n",
    "The **Cat** class also overrides the **make_sound()** method and prints \"Meow!\" when called.\n",
    "\n",
    "The **Horse** class does not provide an implementation for the **make_sound()** method. It is allowed to do so because Horse is not marked as an abstract class itself. However, since Horse is a subclass of Animal, it inherits the requirement of implementing the **make_sound()** method. Therefore, an instance of Horse cannot be created directly.\n",
    "\n",
    "At the end of the code, instances of Dog and Cat are created, and their **make_sound()** methods are called, printing \"Woof!\" and \"Meow!\" respectively.\n",
    "\n",
    "However, when trying to create an instance of Horse and call its **make_sound()** method, it would raise a TypeError since the **make_sound()** method is not implemented in the Horse class."
   ]
  },
  {
   "cell_type": "markdown",
   "metadata": {},
   "source": []
  },
  {
   "cell_type": "markdown",
   "metadata": {},
   "source": [
    "# another example"
   ]
  },
  {
   "cell_type": "code",
   "execution_count": 5,
   "metadata": {},
   "outputs": [
    {
     "name": "stdout",
     "output_type": "stream",
     "text": [
      "Rectangle area: 24\n",
      "Rectangle perimeter: 20\n",
      "Circle area: 78.5\n",
      "Circle perimeter: 31.400000000000002\n"
     ]
    }
   ],
   "source": [
    "from abc import ABC, abstractmethod\n",
    "\n",
    "class Shape(ABC):\n",
    "    @abstractmethod\n",
    "    def area(self):\n",
    "        pass\n",
    "\n",
    "    @abstractmethod\n",
    "    def perimeter(self):\n",
    "        pass\n",
    "\n",
    "class Rectangle(Shape):\n",
    "    def __init__(self, length, width):\n",
    "        self.length = length\n",
    "        self.width = width\n",
    "\n",
    "    def area(self):\n",
    "        return self.length * self.width\n",
    "\n",
    "    def perimeter(self):\n",
    "        return 2 * (self.length + self.width)\n",
    "\n",
    "class Circle(Shape):\n",
    "    def __init__(self, radius):\n",
    "        self.radius = radius\n",
    "\n",
    "    def area(self):\n",
    "        return 3.14 * self.radius**2\n",
    "\n",
    "    def perimeter(self):\n",
    "        return 2 * 3.14 * self.radius\n",
    "\n",
    "# Cannot instantiate the abstract class directly\n",
    "# shape = Shape()  # Raises TypeError\n",
    "\n",
    "rectangle = Rectangle(4, 6)\n",
    "print(\"Rectangle area:\", rectangle.area())  # Output: 24\n",
    "print(\"Rectangle perimeter:\", rectangle.perimeter())  # Output: 20\n",
    "\n",
    "circle = Circle(5)\n",
    "print(\"Circle area:\", circle.area())  # Output: 78.5\n",
    "print(\"Circle perimeter:\", circle.perimeter())  # Output: 31.4\n"
   ]
  }
 ],
 "metadata": {
  "kernelspec": {
   "display_name": "base",
   "language": "python",
   "name": "python3"
  },
  "language_info": {
   "codemirror_mode": {
    "name": "ipython",
    "version": 3
   },
   "file_extension": ".py",
   "mimetype": "text/x-python",
   "name": "python",
   "nbconvert_exporter": "python",
   "pygments_lexer": "ipython3",
   "version": "3.10.9"
  },
  "orig_nbformat": 4
 },
 "nbformat": 4,
 "nbformat_minor": 2
}
