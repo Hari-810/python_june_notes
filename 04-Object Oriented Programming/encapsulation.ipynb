{
 "cells": [
  {
   "cell_type": "markdown",
   "metadata": {},
   "source": [
    "**Encapsulation** is a fundamental concept in **object-oriented programming (OOP)** that combines data and methods within a single unit called an **object**. It refers to the bundling of data and the methods that operate on that data, thereby hiding the internal details of an object from the outside world.\n",
    "\n",
    "Encapsulation provides several benefits, including:\n",
    "Data Protection: Encapsulation enables you to control the access to the internal data of an object. By making the data **private** or using **access modifiers** (such as **public**, **private**, or **protected**), you can restrict direct access to the data from outside the object. Instead, interactions with the data are performed through defined methods, which allows you to enforce proper validation, security, and consistency.\n",
    "\n",
    "**Abstraction**: Encapsulation helps in achieving **abstraction** by exposing only the necessary details and hiding the implementation complexities. Users of an object only need to know how to interact with it through its **public methods**, without being concerned about the inner workings or representation of the object.\n",
    "\n",
    "**Code Organization**: Encapsulation promotes **modular** and **organized code**. By encapsulating related data and methods within an object, you create self-contained units that are easier to understand, maintain, and reuse. Changes to the internal implementation of an object can be made without affecting other parts of the code that rely on the object's public interface.\n",
    "\n",
    "**Code Flexibility**: Encapsulation allows you to modify the internal implementation of an object without affecting the code that uses the object. As long as the **public interface** remains the same, you can make changes to improve performance, add new features, or fix issues without impacting the external code.\n",
    "\n",
    "In many object-oriented languages like **Python**, encapsulation is achieved through **access modifiers**. These modifiers determine the level of visibility and accessibility of class members (attributes and methods) from within and outside the class. Python has three access modifiers:\n",
    "\n",
    "**Public**: Public members are accessible from anywhere, both inside and outside the class.\n",
    "**Protected**: Protected members are accessible within the class and its subclasses.\n",
    "**Private**: Private members are only accessible within the class itself.\n",
    "In Python, the convention is to use a single underscore **(_)** prefix to indicate a protected member and a double underscore **(__)** prefix to indicate a private member. However, it's important to note that Python's access modifiers are more of a convention and not strictly enforced by the language itself.\n",
    "\n",
    "Encapsulation allows you to create well-defined and modular objects, providing better control over data access, promoting code reusability, and enhancing code organization and flexibility."
   ]
  },
  {
   "cell_type": "code",
   "execution_count": null,
   "metadata": {},
   "outputs": [],
   "source": [
    "class Person:\n",
    "    def __init__(self, name, age):\n",
    "        self._name = name  # Protected attribute\n",
    "        self.__age = age   # Private attribute\n",
    "\n",
    "    def display(self):\n",
    "        print(f\"Name: {self._name}\")\n",
    "        print(f\"Age: {self.__age}\")\n",
    "\n",
    "    def _increment_age(self):\n",
    "        self.__age += 1\n",
    "\n",
    "person = Person(\"Alice\", 25)\n",
    "person.display()\n",
    "# Output:\n",
    "# Name: Alice\n",
    "# Age: 25\n",
    "\n",
    "person._name = \"Bob\"  # Accessing protected attribute directly\n",
    "person._increment_age()  # Accessing protected method directly\n",
    "person.display()\n",
    "# Output:\n",
    "# Name: Bob\n",
    "# Age: 26\n"
   ]
  },
  {
   "cell_type": "code",
   "execution_count": 1,
   "metadata": {},
   "outputs": [
    {
     "name": "stdout",
     "output_type": "stream",
     "text": [
      "Account Number: 1234567890\n",
      "Balance: 1000\n",
      "Updated Balance: 1500\n",
      "Updated Balance: 1300\n",
      "Invalid amount for withdrawal or insufficient funds.\n"
     ]
    }
   ],
   "source": [
    "class BankAccount:\n",
    "    def __init__(self, account_number, initial_balance):\n",
    "        self.__account_number = account_number\n",
    "        self.__balance = initial_balance\n",
    "\n",
    "    def get_account_number(self):\n",
    "        return self.__account_number\n",
    "\n",
    "    def get_balance(self):\n",
    "        return self.__balance\n",
    "\n",
    "    def deposit(self, amount):\n",
    "        if amount > 0:\n",
    "            self.__balance += amount\n",
    "        else:\n",
    "            print(\"Invalid amount for deposit.\")\n",
    "\n",
    "    def withdraw(self, amount):\n",
    "        if amount > 0 and self.__balance >= amount:\n",
    "            self.__balance -= amount\n",
    "        else:\n",
    "            print(\"Invalid amount for withdrawal or insufficient funds.\")\n",
    "\n",
    "# Creating a BankAccount object\n",
    "account = BankAccount(\"1234567890\", 1000)\n",
    "\n",
    "# Accessing private attributes using getters\n",
    "print(\"Account Number:\", account.get_account_number())  # Output: 1234567890\n",
    "print(\"Balance:\", account.get_balance())  # Output: 1000\n",
    "\n",
    "# Deposit and withdraw funds\n",
    "account.deposit(500)\n",
    "print(\"Updated Balance:\", account.get_balance())  # Output: 1500\n",
    "\n",
    "account.withdraw(200)\n",
    "print(\"Updated Balance:\", account.get_balance())  # Output: 1300\n",
    "\n",
    "account.withdraw(2000)\n",
    "# Output:\n",
    "# Invalid amount for withdrawal or insufficient funds.\n",
    "# Updated Balance: 1300\n"
   ]
  },
  {
   "cell_type": "markdown",
   "metadata": {},
   "source": [
    "# Setters and getters"
   ]
  },
  {
   "cell_type": "markdown",
   "metadata": {},
   "source": [
    " getters and setters are commonly implemented using property decorators. The @property decorator is used to define a getter method, and the @<attribute_name>.setter decorator is used to define a setter method for a specific attribute. Here's an example:"
   ]
  },
  {
   "cell_type": "code",
   "execution_count": 1,
   "metadata": {},
   "outputs": [
    {
     "name": "stdout",
     "output_type": "stream",
     "text": [
      "Alice\n",
      "Bob\n",
      "Invalid name.\n"
     ]
    }
   ],
   "source": [
    "class Person:\n",
    "    def __init__(self, name):\n",
    "        self.__name = name\n",
    "\n",
    "    @property    # GETTER\n",
    "    def name(self):\n",
    "        return self.__name\n",
    "\n",
    "    @name.setter\n",
    "    def name(self, new_name):\n",
    "        if new_name:\n",
    "            self.__name = new_name\n",
    "        else:\n",
    "            print(\"Invalid name.\")\n",
    "\n",
    "person = Person(\"Alice\")\n",
    "print(person.name)  # Output: Alice\n",
    "\n",
    "person.name = \"Bob\"\n",
    "print(person.name)  # Output: Bob\n",
    "\n",
    "person.name = \"\"\n",
    "# Output:\n",
    "# Invalid name.\n",
    "# Bob\n"
   ]
  }
 ],
 "metadata": {
  "kernelspec": {
   "display_name": "base",
   "language": "python",
   "name": "python3"
  },
  "language_info": {
   "codemirror_mode": {
    "name": "ipython",
    "version": 3
   },
   "file_extension": ".py",
   "mimetype": "text/x-python",
   "name": "python",
   "nbconvert_exporter": "python",
   "pygments_lexer": "ipython3",
   "version": "3.10.9"
  },
  "orig_nbformat": 4
 },
 "nbformat": 4,
 "nbformat_minor": 2
}
