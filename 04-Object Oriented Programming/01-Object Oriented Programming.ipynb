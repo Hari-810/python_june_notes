{
 "cells": [
  {
   "attachments": {},
   "cell_type": "markdown",
   "metadata": {
    "collapsed": true
   },
   "source": [
    "# Object Oriented Programming\n",
    "\n",
    "Object Oriented Programming (OOP) tends to be one of the major obstacles for beginners \n",
    "\n",
    "* Objects\n",
    "* Using the *class* keyword\n",
    "* Creating class attributes\n",
    "* Creating methods in a class\n",
    "* Learning about Inheritance\n",
    "* Learning about Polymorphism\n",
    "* Learning about Special Methods for classes\n"
   ]
  },
  {
   "cell_type": "markdown",
   "metadata": {},
   "source": [
    "### **Object-Oriented Programming (OOP)**\n",
    "Object-Oriented Programming (OOP) is a programming paradigm based on the concept of **objects**, which are instances of **classes**. It allows developers to structure programs in a way that models real-world entities and their interactions.\n",
    "\n",
    "OOP organizes code into reusable blueprints (**classes**) that define properties (**attributes**) and behaviors (**methods**) of objects. Popular OOP languages include **Java, Python, C++, and C#**.\n",
    "\n",
    "### **Key Concepts of OOP**\n",
    "1. **Encapsulation** – Bundling data and methods together while restricting direct access to some details.\n",
    "2. **Abstraction** – Hiding complex implementation details and exposing only necessary parts.\n",
    "3. **Inheritance** – Allowing a class (child) to inherit attributes and methods from another class (parent).\n",
    "4. **Polymorphism** – Enabling one interface to be used for different underlying forms (e.g., method overriding and method overloading).\n",
    "\n",
    "### **Benefits of OOP**\n",
    "✔ **Code Reusability** – Classes and objects can be reused across different programs, reducing redundancy.  \n",
    "✔ **Modularity** – OOP promotes a modular structure, making code easier to maintain and debug.  \n",
    "✔ **Scalability** – The structured approach helps in expanding and modifying applications effortlessly.  \n",
    "✔ **Data Security** – Encapsulation protects data from unintended modification.  \n",
    "✔ **Easy Maintenance** – Changes in one part of the program can be made with minimal impact on others.  \n",
    "✔ **Real-World Modeling** – OOP mirrors real-world objects, making it intuitive for developers.\n"
   ]
  },
  {
   "attachments": {},
   "cell_type": "markdown",
   "metadata": {},
   "source": [
    "\n",
    "# Objects\n",
    "In Python, *everything is an object*. \n",
    "\n",
    "In object-oriented programming (OOP), an object is an instance of a class that encapsulates data (attributes) and behavior (methods). Objects are the building blocks of OOP, representing real-world entities or concepts. "
   ]
  },
  {
   "cell_type": "code",
   "execution_count": null,
   "metadata": {},
   "outputs": [
    {
     "name": "stdout",
     "output_type": "stream",
     "text": [
      "<class 'int'>\n",
      "<class 'list'>\n",
      "<class 'tuple'>\n",
      "<class 'dict'>\n"
     ]
    }
   ],
   "source": [
    "print(type(1))\n",
    "print(type([]))\n",
    "print(type(()))\n",
    "print(type({}))\n",
    "\n",
    "l = [1,2]   \n",
    "l.append(3)"
   ]
  },
  {
   "cell_type": "markdown",
   "metadata": {},
   "source": [
    "# Example"
   ]
  },
  {
   "cell_type": "code",
   "execution_count": 1,
   "metadata": {},
   "outputs": [
    {
     "name": "stdout",
     "output_type": "stream",
     "text": [
      "Hello  abc\n",
      "Hello  xyz\n"
     ]
    }
   ],
   "source": [
    "class Hello:\n",
    "    def greetings(self,name):\n",
    "        self.name = name\n",
    "        print(\"Hello \",self.name)\n",
    "\n",
    "obj_1 = Hello()\n",
    "obj_1.greetings(\"abc\")\n",
    "print (obj_1.name, \"Welcome\")\n",
    "\n",
    "obj_2 = Hello()\n",
    "obj_2.greetings(\"xyz\")"
   ]
  },
  {
   "attachments": {},
   "cell_type": "markdown",
   "metadata": {},
   "source": [
    "\n",
    "## Class\n",
    "User defined objects are created using the <code>class</code> keyword. The class is a blueprint that defines the nature of a future object. From classes we can construct instances. An instance is a specific object created from a particular class. \n"
   ]
  },
  {
   "cell_type": "code",
   "execution_count": 2,
   "metadata": {},
   "outputs": [
    {
     "name": "stdout",
     "output_type": "stream",
     "text": [
      "<class '__main__.Sample'>\n"
     ]
    }
   ],
   "source": [
    "# Create a new object type called Sample\n",
    "class Sample:\n",
    "    pass\n",
    "\n",
    "# Instance of Sample \n",
    "x = Sample() \n",
    "  \n",
    "print(type(x))"
   ]
  },
  {
   "cell_type": "markdown",
   "metadata": {},
   "source": [
    "By convention we give classes a name that starts with a capital letter. Note how <code>x</code> is now the reference to our new instance of a Sample class. In other words, we **instantiate** the Sample class.\n",
    "\n",
    "Inside of the class we currently just have pass. But we can define class attributes and methods.\n",
    "\n",
    "An **attribute** is a characteristic of an object.\n",
    "A **method** is an operation we can perform with the object.\n",
    "\n",
    "\n"
   ]
  },
  {
   "cell_type": "code",
   "execution_count": 3,
   "metadata": {},
   "outputs": [
    {
     "name": "stdout",
     "output_type": "stream",
     "text": [
      "<class '__main__.MyFirstClass'>\n"
     ]
    }
   ],
   "source": [
    "class MyFirstClass:\n",
    "    '''This is my First Class.'''\n",
    "\n",
    "    def __init__(self, name):\n",
    "        self.name = name\n",
    "\n",
    "    def greet(self):\n",
    "        '''Method to greet'''\n",
    "        print(\"Hello, I'm\", self.name)\n",
    "\n",
    "print(MyFirstClass)"
   ]
  },
  {
   "cell_type": "code",
   "execution_count": 4,
   "metadata": {},
   "outputs": [
    {
     "name": "stdout",
     "output_type": "stream",
     "text": [
      "This is my First Class.\n"
     ]
    }
   ],
   "source": [
    "print(MyFirstClass.__doc__)\n"
   ]
  },
  {
   "cell_type": "code",
   "execution_count": 5,
   "metadata": {},
   "outputs": [
    {
     "name": "stdout",
     "output_type": "stream",
     "text": [
      "Help on class MyFirstClass in module __main__:\n",
      "\n",
      "class MyFirstClass(builtins.object)\n",
      " |  MyFirstClass(name)\n",
      " |  \n",
      " |  This is my First Class.\n",
      " |  \n",
      " |  Methods defined here:\n",
      " |  \n",
      " |  __init__(self, name)\n",
      " |      Initialize self.  See help(type(self)) for accurate signature.\n",
      " |  \n",
      " |  greet(self)\n",
      " |      Method to greet\n",
      " |  \n",
      " |  ----------------------------------------------------------------------\n",
      " |  Data descriptors defined here:\n",
      " |  \n",
      " |  __dict__\n",
      " |      dictionary for instance variables (if defined)\n",
      " |  \n",
      " |  __weakref__\n",
      " |      list of weak references to the object (if defined)\n",
      "\n"
     ]
    }
   ],
   "source": [
    "help(MyFirstClass)"
   ]
  },
  {
   "attachments": {},
   "cell_type": "markdown",
   "metadata": {},
   "source": [
    "## Object Creation"
   ]
  },
  {
   "cell_type": "code",
   "execution_count": 7,
   "metadata": {},
   "outputs": [],
   "source": [
    "# creates an instance of the class MyFirstClass and assigns it to the variable my_ref_var\n",
    "my_ref_var = MyFirstClass(\"Python\") \n"
   ]
  },
  {
   "cell_type": "code",
   "execution_count": 8,
   "metadata": {},
   "outputs": [
    {
     "name": "stdout",
     "output_type": "stream",
     "text": [
      "Help on MyFirstClass in module __main__ object:\n",
      "\n",
      "class MyFirstClass(builtins.object)\n",
      " |  MyFirstClass(name)\n",
      " |  \n",
      " |  This is my First Class.\n",
      " |  \n",
      " |  Methods defined here:\n",
      " |  \n",
      " |  __init__(self, name)\n",
      " |      Initialize self.  See help(type(self)) for accurate signature.\n",
      " |  \n",
      " |  greet(self)\n",
      " |      Method to greet\n",
      " |  \n",
      " |  ----------------------------------------------------------------------\n",
      " |  Data descriptors defined here:\n",
      " |  \n",
      " |  __dict__\n",
      " |      dictionary for instance variables (if defined)\n",
      " |  \n",
      " |  __weakref__\n",
      " |      list of weak references to the object (if defined)\n",
      "\n"
     ]
    }
   ],
   "source": [
    "help(my_ref_var)"
   ]
  },
  {
   "cell_type": "markdown",
   "metadata": {},
   "source": [
    "# Methods\n",
    "\n",
    "Methods are functions defined inside the body of a class. They are used to perform operations with the attributes of our objects. Methods are a key concept of the OOP paradigm. They are essential to dividing responsibilities in programming, especially in large applications.\n",
    "\n",
    "You can basically think of methods as functions acting on an Object that take the Object itself into account through its *self* argument."
   ]
  },
  {
   "attachments": {},
   "cell_type": "markdown",
   "metadata": {},
   "source": [
    "### Accessing Methods of Class"
   ]
  },
  {
   "cell_type": "markdown",
   "metadata": {},
   "source": [
    "#### Instance Method"
   ]
  },
  {
   "cell_type": "markdown",
   "metadata": {},
   "source": [
    "Instance methods take self parameter that points to the object instance.\n",
    "\n",
    "It can be used to modify the instance state."
   ]
  },
  {
   "cell_type": "code",
   "execution_count": 30,
   "metadata": {},
   "outputs": [
    {
     "name": "stdout",
     "output_type": "stream",
     "text": [
      "Hello World :  3\n",
      "Hello World :  5\n"
     ]
    }
   ],
   "source": [
    "class HelloWorld:\n",
    "    '''This is my Hello World class'''\n",
    "    \n",
    "    def display(self,value):\n",
    "        # Method body\n",
    "        print('Hello World : ',value)\n",
    "        self.var = value\n",
    "\n",
    "\n",
    "'''\n",
    "INSTANCE variable should be used using 'self', \n",
    "whether inside constructor or method\n",
    "\n",
    "Method name: The name of the method,\n",
    "following the same rules as variable names.\n",
    "\n",
    "Parameters: Inputs that the method can accept. \n",
    "The first parameter is usually self, which refers to the instance of the class. \n",
    "Additional parameters can be included based on the method's requirements.\n",
    "\n",
    "Method body: The code block containing the operations or actions performed by the method.\n",
    "\n",
    "Optional return statement: If the method returns a value, \n",
    "it can include a return statement to specify the value to be returned. \n",
    "If no return statement is present, the method returns None by default.\n",
    "'''\n",
    "\n",
    "obj_1 = HelloWorld()\n",
    "obj_1.display(3)\n",
    "\n",
    "obj_2 = HelloWorld()\n",
    "obj_2.display(5)"
   ]
  },
  {
   "cell_type": "markdown",
   "metadata": {},
   "source": [
    "#### Static Method"
   ]
  },
  {
   "cell_type": "markdown",
   "metadata": {},
   "source": [
    "This type of method takes neither a self nor a cls parameter (but of course it’s free to accept an arbitrary number of other parameters).\n",
    "Therefore a static method can neither modify object state nor class state. \n",
    "\n",
    "Static methods are restricted in what data they can access - and they’re primarily a way to namespace your methods.\n",
    "\n",
    "Static methods in Python are defined using the @staticmethod decorator, which indicates that the method is not bound to the class instance and can be called directly from the class itself."
   ]
  },
  {
   "cell_type": "code",
   "execution_count": 1,
   "metadata": {},
   "outputs": [
    {
     "name": "stdout",
     "output_type": "stream",
     "text": [
      "This is a static method!\n"
     ]
    }
   ],
   "source": [
    "class Test:\n",
    "    @staticmethod\n",
    "    def static_method():\n",
    "        print(\"This is a static method!\")\n",
    "\n",
    "Test.static_method()"
   ]
  },
  {
   "cell_type": "markdown",
   "metadata": {},
   "source": [
    "#### Class Method"
   ]
  },
  {
   "cell_type": "markdown",
   "metadata": {},
   "source": [
    "A class method in Python is a method within a class that is bound to the class rather than to instances of the class. It is defined using the @classmethod decorator. Class methods take the class itself as the first argument, conventionally named cls, instead of the instance (self) as the first argument for regular instance methods."
   ]
  },
  {
   "cell_type": "code",
   "execution_count": 2,
   "metadata": {},
   "outputs": [
    {
     "name": "stdout",
     "output_type": "stream",
     "text": [
      "Class Variable\n",
      "Class Variable\n"
     ]
    }
   ],
   "source": [
    "class MyClass:\n",
    "    class_variable = \"Class Variable\"\n",
    "\n",
    "    def __init__(self, instance_variable):\n",
    "        self.instance_variable = instance_variable\n",
    "\n",
    "    @classmethod\n",
    "    def class_method(cls):\n",
    "        return cls.class_variable\n",
    "\n",
    "# Calling class method directly from the class\n",
    "print(MyClass.class_method())  # Output: \"Class Variable\"\n",
    "\n",
    "# Creating an instance and calling the class method from the instance\n",
    "my_instance = MyClass(\"Instance Variable\")\n",
    "print(my_instance.class_method())  # Output: \"Class Variable\"\n"
   ]
  },
  {
   "cell_type": "markdown",
   "metadata": {},
   "source": [
    "\n",
    "## Attributes\n",
    "The syntax for creating an attribute is:\n",
    "    \n",
    "    self.attribute = something\n",
    "    "
   ]
  },
  {
   "cell_type": "markdown",
   "metadata": {},
   "source": [
    "## Accessing Attributes of Class"
   ]
  },
  {
   "cell_type": "code",
   "execution_count": 23,
   "metadata": {},
   "outputs": [
    {
     "name": "stdout",
     "output_type": "stream",
     "text": [
      "object_01 var attribute value 3\n",
      "object_02 var attribute value 5\n"
     ]
    },
    {
     "data": {
      "text/plain": [
       "\"INSTANCE variable should be used using 'self', \\nwhether inside constructor or method\\n\""
      ]
     },
     "execution_count": 23,
     "metadata": {},
     "output_type": "execute_result"
    }
   ],
   "source": [
    "# we can able to use class attributes outside of the class as a object attributes\n",
    "print(\"object_01 var attribute value {}\".format(obj_1.var))\n",
    "\n",
    "print(\"object_02 var attribute value {}\".format(obj_2.var))\n",
    "\n"
   ]
  },
  {
   "cell_type": "markdown",
   "metadata": {},
   "source": [
    "Note how we don't have any parentheses after breed; this is because it is an attribute and doesn't take any arguments.\n"
   ]
  },
  {
   "cell_type": "markdown",
   "metadata": {},
   "source": [
    "In Python there are also *class object attributes*. These Class Object Attributes are the same for any instance of the class. \n"
   ]
  },
  {
   "cell_type": "markdown",
   "metadata": {},
   "source": [
    "For example, we could create the attribute *species* for the Dog class. Dogs, regardless of their breed, name, or other attributes, will always be mammals. We apply this logic in the following manner:"
   ]
  },
  {
   "cell_type": "code",
   "execution_count": 31,
   "metadata": {},
   "outputs": [],
   "source": [
    "class Dog:\n",
    "    \n",
    "    # Class Object Attribute\n",
    "    species = 'mammal'\n",
    "    \n",
    "    def __init__(self,breed,name):\n",
    "        self.breed = breed\n",
    "        print(\"Species: {}\".format(self.species))"
   ]
  },
  {
   "cell_type": "markdown",
   "metadata": {},
   "source": [
    "Note that the Class Object Attribute is defined outside of any methods in the class. Also by convention, we place them first before the init."
   ]
  },
  {
   "cell_type": "code",
   "execution_count": 32,
   "metadata": {},
   "outputs": [
    {
     "name": "stdout",
     "output_type": "stream",
     "text": [
      "Species: mammal\n"
     ]
    }
   ],
   "source": [
    "sam = Dog('Lab','Sam')"
   ]
  },
  {
   "cell_type": "code",
   "execution_count": 33,
   "metadata": {},
   "outputs": [
    {
     "name": "stdout",
     "output_type": "stream",
     "text": [
      "mammal\n"
     ]
    }
   ],
   "source": [
    "print(sam.species)"
   ]
  },
  {
   "attachments": {},
   "cell_type": "markdown",
   "metadata": {},
   "source": [
    "## Constructor"
   ]
  },
  {
   "attachments": {},
   "cell_type": "markdown",
   "metadata": {},
   "source": [
    "**Constructors** are generally used for instantiating an object. The task of constructors is to initialize(assign values) to the data members of the class when an object of class is created.\n",
    "\n",
    "In Python the __init__() method is called the constructor and is always called when an object is created.\n"
   ]
  },
  {
   "cell_type": "code",
   "execution_count": 18,
   "metadata": {},
   "outputs": [
    {
     "name": "stdout",
     "output_type": "stream",
     "text": [
      "Constructor is executed 10\n",
      "10\n"
     ]
    }
   ],
   "source": [
    "class Test:\n",
    "    def __init__(self, num1): \n",
    "        # Constructor method to initialize the instance with a value\n",
    "        self.num1 = num1  # Assigning the value passed to the instance variable num1\n",
    "        print('Constructor is executed', self.num1)  # Printing a message along with the value\n",
    "\n",
    "    def fun(self):\n",
    "        # Method to print the value of num1\n",
    "        print(self.num1)  # Printing the value of the instance variable num1\n",
    "\n",
    "t = Test(10)  # Creating an instance of the Test class with the value 10\n",
    "t.fun()  # Calling the fun() method on the instance t\n"
   ]
  },
  {
   "cell_type": "code",
   "execution_count": 22,
   "metadata": {},
   "outputs": [
    {
     "name": "stdout",
     "output_type": "stream",
     "text": [
      "Constructor is executed 10\n",
      "Function is executed\n",
      "25\n"
     ]
    }
   ],
   "source": [
    "class Test:\n",
    "    def __init__(self, num1): \n",
    "        # Constructor method to initialize the instance with a value\n",
    "        self.num1 = num1  # Assigning the value passed to the instance variable num1\n",
    "        print('Constructor is executed', self.num1)  # Printing a message along with the value\n",
    "\n",
    "    def fun(self, num2):\n",
    "        # Method to perform an operation, takes num2 as parameter\n",
    "        self.num2 = num2  # Assigning the value passed to the instance variable num2\n",
    "        print('Function is executed')  # Printing a message indicating the function execution\n",
    "\n",
    "    def add(self):\n",
    "        # Method to add num1 and num2 and print the result\n",
    "        sum = self.num1 + self.num2  # Adding num1 and num2\n",
    "        print(sum)  # Printing the sum\n",
    "\n",
    "t = Test(10)  # Creating an instance of the Test class with the value 10\n",
    "t.fun(15)  # Calling the fun() method on the instance t with the value 15\n",
    "t.add()   # Calling the add() method on the instance t \n"
   ]
  },
  {
   "attachments": {},
   "cell_type": "markdown",
   "metadata": {},
   "source": [
    "## Constructor With Multiple Parameters"
   ]
  },
  {
   "cell_type": "code",
   "execution_count": 25,
   "metadata": {},
   "outputs": [
    {
     "name": "stdout",
     "output_type": "stream",
     "text": [
      "Name: abc, RollNo: 1, Marks: 90\n",
      "Name: xyz, RollNo: 2, Marks: 80\n"
     ]
    }
   ],
   "source": [
    "class Student:\n",
    "    def __init__(self, name, rno, marks):\n",
    "        self.name = name\n",
    "        self.rno = rno\n",
    "        self.marks = marks\n",
    "    def display(self):\n",
    "        print('Name: {}, RollNo: {}, Marks: {}'.\\\n",
    "              format(self.name, self.rno, self.marks))\n",
    "\n",
    "    \n",
    "s1 = Student('abc', 1, 90)\n",
    "\n",
    "s1.display()\n",
    "\n",
    "s2 = Student('xyz', 2, 80)\n",
    "\n",
    "s2.display()\n"
   ]
  },
  {
   "cell_type": "markdown",
   "metadata": {},
   "source": [
    "# example "
   ]
  },
  {
   "cell_type": "code",
   "execution_count": 35,
   "metadata": {},
   "outputs": [
    {
     "name": "stdout",
     "output_type": "stream",
     "text": [
      "Radius is:  1\n",
      "Area is:  3.14\n",
      "Area is:  78.5\n",
      "Circumference is:  31.400000000000002\n",
      "Radius is:  2\n",
      "Area is:  12.56\n",
      "Circumference is:  12.56\n"
     ]
    }
   ],
   "source": [
    "class Circle:\n",
    "    # Class attribute for pi\n",
    "    pi = 3.14\n",
    "\n",
    "    # Circle gets instantiated with a radius (default is 1)\n",
    "    def __init__(self, radius=1):\n",
    "        # Instance attribute for radius\n",
    "        self.radius = radius \n",
    "        # Instance attribute for area\n",
    "        self.area = radius * radius * Circle.pi \n",
    "\n",
    "    # Method for resetting Radius\n",
    "    def setRadius(self, new_radius):\n",
    "        # Update the radius attribute\n",
    "        self.radius = new_radius\n",
    "        # Update the area attribute based on the new radius\n",
    "        self.area = new_radius * new_radius * self.pi\n",
    "\n",
    "    # Method for getting Circumference\n",
    "    def getCircumference(self):\n",
    "        # Calculate and return the circumference\n",
    "        return self.radius * self.pi * 2\n",
    "\n",
    "\n",
    "# Creating an instance of Circle with default radius\n",
    "c = Circle() \n",
    "\n",
    "# Printing initial radius and area\n",
    "print('Radius is: ', c.radius)\n",
    "print('Area is: ', c.area)\n",
    "\n",
    "# Setting a new radius and printing the updated area\n",
    "c.setRadius(5)\n",
    "print(\"Area is: \", c.area)\n",
    "\n",
    "# Printing the circumference\n",
    "print('Circumference is: ', c.getCircumference())\n",
    "\n",
    "# Setting another radius and printing the updated radius and area\n",
    "c.setRadius(2)\n",
    "print('Radius is: ', c.radius)\n",
    "print('Area is: ', c.area)\n",
    "\n",
    "# Printing the circumference\n",
    "print('Circumference is: ', c.getCircumference())\n"
   ]
  },
  {
   "cell_type": "markdown",
   "metadata": {},
   "source": [
    "let's walk through the program flow step by step"
   ]
  },
  {
   "cell_type": "markdown",
   "metadata": {},
   "source": [
    "1. **Class Definition**:\n",
    "   - Define a class `Circle`.\n",
    "   - Inside the class:\n",
    "     - `pi`: class attribute representing the value of pi (π).\n",
    "     - `__init__` method: constructor to initialize instance with a given radius (default radius is 1).\n",
    "     - `setRadius` method: to set a new radius for the circle.\n",
    "     - `getCircumference` method: to calculate and return the circumference of the circle.\n",
    "\n",
    "2. **Instance Creation**:\n",
    "   - Create an instance `c` of the `Circle` class without specifying a radius, default radius (1) is used.\n",
    "\n",
    "3. **Initial Print Statements**:\n",
    "   - Print the initial radius and area of the circle.\n",
    "\n",
    "4. **Radius Update**:\n",
    "   - Call the `setRadius` method with an argument of 5.\n",
    "   - Update the radius of the circle to 5 and recalculate the area based on the new radius.\n",
    "\n",
    "5. **Area Print**:\n",
    "   - Print the updated area of the circle after setting the new radius.\n",
    "\n",
    "6. **Circumference Calculation**:\n",
    "   - Call the `getCircumference` method to calculate and print the circumference of the circle.\n",
    "\n",
    "7. **Second Radius Update**:\n",
    "   - Call the `setRadius` method again, this time with an argument of 2.\n",
    "   - Update the radius of the circle to 2 and recalculate the area based on the new radius.\n",
    "\n",
    "8. **Second Area Print**:\n",
    "   - Print the updated area of the circle after setting the new radius.\n",
    "\n",
    "9. **Second Circumference Calculation**:\n",
    "   - Call the `getCircumference` method again to calculate and print the circumference of the circle.\n"
   ]
  },
  {
   "cell_type": "markdown",
   "metadata": {},
   "source": [
    "## Scenario 1: Student Management System"
   ]
  },
  {
   "cell_type": "code",
   "execution_count": 36,
   "metadata": {},
   "outputs": [
    {
     "name": "stdout",
     "output_type": "stream",
     "text": [
      "Name: Alice, Age: 15, Grade: 9\n",
      "Name: Bob, Age: 16, Grade: 10\n",
      "Alice has been promoted to grade 10\n",
      "Bob has been promoted to grade 11\n"
     ]
    }
   ],
   "source": [
    "class Student:\n",
    "    # Class attribute\n",
    "    school_name = \"XYZ High School\"\n",
    "\n",
    "    def __init__(self, name, age, grade):\n",
    "        # Instance attributes\n",
    "        self.name = name\n",
    "        self.age = age\n",
    "        self.grade = grade\n",
    "\n",
    "    def promote(self):\n",
    "        # Method to promote student to the next grade\n",
    "        self.grade += 1\n",
    "        print(f\"{self.name} has been promoted to grade {self.grade}\")\n",
    "\n",
    "    def display_info(self):\n",
    "        # Method to display student information\n",
    "        print(f\"Name: {self.name}, Age: {self.age}, Grade: {self.grade}\")\n",
    "\n",
    "# Creating instances of Student class\n",
    "student1 = Student(\"Alice\", 15, 9)\n",
    "student2 = Student(\"Bob\", 16, 10)\n",
    "\n",
    "# Calling methods on student objects\n",
    "student1.display_info()  # Output: Name: Alice, Age: 15, Grade: 9\n",
    "student2.display_info()  # Output: Name: Bob, Age: 16, Grade: 10\n",
    "\n",
    "student1.promote()  # Output: Alice has been promoted to grade 10\n",
    "student2.promote()  # Output: Bob has been promoted to grade 11\n"
   ]
  },
  {
   "cell_type": "markdown",
   "metadata": {},
   "source": [
    "## Scenario 2: Bank Account Management System"
   ]
  },
  {
   "cell_type": "code",
   "execution_count": 37,
   "metadata": {},
   "outputs": [
    {
     "name": "stdout",
     "output_type": "stream",
     "text": [
      "Deposited $500. Current balance: $1500\n",
      "Withdrew $200. Current balance: $300\n"
     ]
    }
   ],
   "source": [
    "class BankAccount:\n",
    "    # Class attribute\n",
    "    bank_name = \"ABC Bank\"\n",
    "\n",
    "    def __init__(self, account_number, balance):\n",
    "        # Instance attributes\n",
    "        self.account_number = account_number\n",
    "        self.balance = balance\n",
    "\n",
    "    def deposit(self, amount):\n",
    "        # Method to deposit money into the account\n",
    "        self.balance += amount\n",
    "        print(f\"Deposited ${amount}. Current balance: ${self.balance}\")\n",
    "\n",
    "    def withdraw(self, amount):\n",
    "        # Method to withdraw money from the account\n",
    "        if self.balance >= amount:\n",
    "            self.balance -= amount\n",
    "            print(f\"Withdrew ${amount}. Current balance: ${self.balance}\")\n",
    "        else:\n",
    "            print(\"Insufficient funds\")\n",
    "\n",
    "# Creating instances of BankAccount class\n",
    "account1 = BankAccount(\"123456\", 1000)\n",
    "account2 = BankAccount(\"789012\", 500)\n",
    "\n",
    "# Calling methods on account objects\n",
    "account1.deposit(500)  # Output: Deposited $500. Current balance: $1500\n",
    "account2.withdraw(200)  # Output: Withdrew $200. Current balance: $300\n"
   ]
  }
 ],
 "metadata": {
  "kernelspec": {
   "display_name": "Python 3",
   "language": "python",
   "name": "python3"
  },
  "language_info": {
   "codemirror_mode": {
    "name": "ipython",
    "version": 3
   },
   "file_extension": ".py",
   "mimetype": "text/x-python",
   "name": "python",
   "nbconvert_exporter": "python",
   "pygments_lexer": "ipython3",
   "version": "3.11.3"
  }
 },
 "nbformat": 4,
 "nbformat_minor": 1
}
