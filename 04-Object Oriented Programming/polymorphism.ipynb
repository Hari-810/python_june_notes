{
 "cells": [
  {
   "cell_type": "markdown",
   "metadata": {},
   "source": [
    "**What is Polymorphism?**\n",
    "\n",
    "**Polymorphism** is a concept in object-oriented programming (OOP) that allows objects of different classes to be treated as objects of a common superclass. It enables different classes to have different implementations of the same method, allowing for code reusability and flexibility."
   ]
  },
  {
   "cell_type": "markdown",
   "metadata": {},
   "source": [
    "Polymorphism is a powerful concept that enhances code flexibility, reusability, and maintainability in object-oriented programming. By leveraging method overriding, method overloading, inheritance, and duck typing, you can effectively apply polymorphism in your Python programs."
   ]
  },
  {
   "cell_type": "markdown",
   "metadata": {},
   "source": [
    "# Method Overloading (not applicable for python)"
   ]
  },
  {
   "cell_type": "markdown",
   "metadata": {},
   "source": [
    "**Method Overloading:**\n",
    "\n",
    "Method overloading refers to the ability to define multiple methods with the same name but with different parameters or argument types. In Python, method overloading is not directly supported as it is in some other languages. However, you can achieve similar behavior using default parameter values or by using variable-length argument lists."
   ]
  },
  {
   "cell_type": "code",
   "execution_count": null,
   "metadata": {},
   "outputs": [],
   "source": [
    "class Calculator:\n",
    "    def add(self, a, b):\n",
    "        return a + b\n",
    "\n",
    "    def add(self, a, b, c):\n",
    "        return a + b + c\n",
    "\n",
    "calc = Calculator()\n",
    "# print(calc.add(2, 3))       # throws error\n",
    "print(calc.add(2, 3, 4))    # Output: 9\n"
   ]
  },
  {
   "cell_type": "markdown",
   "metadata": {},
   "source": [
    "Python does not provide built-in method overloading, you can use techniques like checking the number or types of arguments within a method to achieve similar functionality."
   ]
  },
  {
   "cell_type": "markdown",
   "metadata": {},
   "source": [
    "# Method Overriding"
   ]
  },
  {
   "cell_type": "markdown",
   "metadata": {},
   "source": [
    "**Method overriding** is achieved by defining a method with the same name in the subclass as the one in the superclass. When an object of the subclass calls the overridden method, the implementation in the subclass is executed instead of the implementation in the superclass."
   ]
  },
  {
   "cell_type": "code",
   "execution_count": 2,
   "metadata": {},
   "outputs": [
    {
     "name": "stdout",
     "output_type": "stream",
     "text": [
      "Bark!\n",
      "Meow!\n"
     ]
    }
   ],
   "source": [
    "class Animal:\n",
    "    def make_sound(self):\n",
    "        print(\"Generic animal sound\")\n",
    "\n",
    "class Dog(Animal):\n",
    "    def make_sound(self):\n",
    "        print(\"Bark!\")\n",
    "\n",
    "class Cat(Animal):\n",
    "    def make_sound(self):\n",
    "        print(\"Meow!\")\n",
    "\n",
    "# Polymorphic behavior\n",
    "def animal_sound(animal):\n",
    "    animal.make_sound()\n",
    "\n",
    "dog = Dog()\n",
    "cat = Cat()\n",
    "\n",
    "animal_sound(dog)  # Output: \"Bark!\"\n",
    "animal_sound(cat)  # Output: \"Meow!\"\n"
   ]
  },
  {
   "cell_type": "markdown",
   "metadata": {},
   "source": [
    "This is an example of runtime polymorphism (method overriding). Even though both dog and cat are instances of different classes (Dog and Cat, respectively), the animal_sound function treats them as objects of the common superclass Animal. However, when the make_sound() method is called on these objects, their specific implementations from the subclasses are executed due to method overriding. This is the essence of polymorphism, allowing different objects to exhibit different behaviors while sharing a common interface (the make_sound() method).\n"
   ]
  },
  {
   "cell_type": "code",
   "execution_count": 3,
   "metadata": {},
   "outputs": [
    {
     "name": "stdout",
     "output_type": "stream",
     "text": [
      "50000\n",
      "40000\n"
     ]
    }
   ],
   "source": [
    "class Employee:\n",
    "    def calculate_salary(self):\n",
    "        return 0\n",
    "\n",
    "class Manager(Employee):\n",
    "    def calculate_salary(self):\n",
    "        return 50000\n",
    "\n",
    "class Developer(Employee):\n",
    "    def calculate_salary(self):\n",
    "        return 40000\n",
    "\n",
    "manager = Manager()\n",
    "developer = Developer()\n",
    "\n",
    "print(manager.calculate_salary())  # Output: 50000\n",
    "print(developer.calculate_salary())  # Output: 40000\n"
   ]
  },
  {
   "cell_type": "markdown",
   "metadata": {},
   "source": [
    "In this example, the Employee class has a method calculate_salary() that returns 0, but the Manager and Developer subclasses override this method to calculate and return specific salaries for each type of employee."
   ]
  },
  {
   "cell_type": "markdown",
   "metadata": {},
   "source": [
    "# Super()"
   ]
  },
  {
   "cell_type": "markdown",
   "metadata": {},
   "source": [
    "The super() keyword in Python is used to call a method from a superclass or parent class. It provides a way to access and invoke the methods and attributes of the superclass within a subclass.\n",
    "\n",
    "There are primarily two common use cases for super():"
   ]
  },
  {
   "cell_type": "markdown",
   "metadata": {},
   "source": [
    "**Method 1** \n",
    "\n",
    "Calling the superclass's **__init __** method:\n",
    "When defining the **__init __** method in a subclass, it's often necessary to initialize the attributes inherited from the superclass before adding any additional attributes specific to the subclass. In such cases, you can use super() to call the **__init __** method of the superclass."
   ]
  },
  {
   "cell_type": "code",
   "execution_count": 7,
   "metadata": {},
   "outputs": [
    {
     "name": "stdout",
     "output_type": "stream",
     "text": [
      "Toyota\n",
      "Red\n"
     ]
    }
   ],
   "source": [
    "class Vehicle:\n",
    "    def __init__(self, name):\n",
    "        self.name = name\n",
    "\n",
    "class Car(Vehicle):\n",
    "    def __init__(self, name, color):\n",
    "        super().__init__(name)  # Calling the superclass's __init__ method\n",
    "        self.color = color\n",
    "\n",
    "car = Car(\"Toyota\", \"Red\")\n",
    "print(car.name)   # Output: Toyota\n",
    "print(car.color)  # Output: Red\n"
   ]
  },
  {
   "cell_type": "markdown",
   "metadata": {},
   "source": [
    "In this example, the Car class inherits from the Vehicle class. The Car class has its own __init__ method that takes additional arguments (name and color). By using super().__init__(name), we call the __init__ method of the Vehicle class to initialize the name attribute inherited from the superclass."
   ]
  },
  {
   "cell_type": "markdown",
   "metadata": {},
   "source": [
    "**Method 2** \n",
    "\n",
    "Accessing superclass methods:\n",
    "\n",
    "\n",
    "In a subclass, you may want to extend or override a method from the superclass while still utilizing the implementation of the superclass method. super() allows you to access and invoke the superclass method from within the subclass."
   ]
  },
  {
   "cell_type": "code",
   "execution_count": 6,
   "metadata": {},
   "outputs": [
    {
     "name": "stdout",
     "output_type": "stream",
     "text": [
      "The animal makes a sound.\n",
      "Meow!\n"
     ]
    }
   ],
   "source": [
    "class Animal:\n",
    "    def make_sound(self):\n",
    "        print(\"The animal makes a sound.\")\n",
    "\n",
    "class Cat(Animal):\n",
    "    def make_sound(self):\n",
    "        super().make_sound()  # Calling the superclass method\n",
    "        print(\"Meow!\")\n",
    "\n",
    "cat = Cat()\n",
    "cat.make_sound()\n"
   ]
  },
  {
   "cell_type": "markdown",
   "metadata": {},
   "source": [
    "In this example, the Cat class inherits from the Animal class. The Cat class overrides the make_sound() method but still wants to include the behavior of the superclass method. By using super().make_sound(), we call the make_sound() method of the Animal class to print \"The animal makes a sound.\" before printing \"Meow!\" in the subclass.\n",
    "\n",
    "By using super(), you can ensure proper method resolution order and access the functionality provided by the superclass. It promotes code reusability and supports a more structured approach to inheritance."
   ]
  },
  {
   "cell_type": "markdown",
   "metadata": {},
   "source": [
    "# Polymorphism with Inheritance:"
   ]
  },
  {
   "cell_type": "markdown",
   "metadata": {},
   "source": [
    "**Polymorphism with Inheritance:**\n",
    "Polymorphism is often used in conjunction with inheritance. You can have a collection of objects of different subclasses, all derived from a common superclass. By treating them as objects of the superclass, you can invoke the overridden methods specific to each subclass."
   ]
  },
  {
   "cell_type": "code",
   "execution_count": 3,
   "metadata": {},
   "outputs": [
    {
     "name": "stdout",
     "output_type": "stream",
     "text": [
      "Driving a car.\n",
      "Riding a motorcycle.\n"
     ]
    }
   ],
   "source": [
    "class Vehicle:\n",
    "    def drive(self):\n",
    "        raise NotImplementedError(\"drive() method not implemented.\")\n",
    "\n",
    "class Car(Vehicle):\n",
    "    def drive(self):\n",
    "        print(\"Driving a car.\")\n",
    "\n",
    "class Motorcycle(Vehicle):\n",
    "    def drive(self):\n",
    "        print(\"Riding a motorcycle.\")\n",
    "\n",
    "# Create a list of different vehicles\n",
    "vehicles = [Car(), Motorcycle()]\n",
    "\n",
    "# Iterate through the list and invoke the drive() method\n",
    "for vehicle in vehicles:\n",
    "    vehicle.drive()\n"
   ]
  },
  {
   "cell_type": "code",
   "execution_count": null,
   "metadata": {},
   "outputs": [],
   "source": [
    "class Animal:\n",
    "    def sound(self):\n",
    "        print(\"The animal makes a sound.\")\n",
    "\n",
    "class Cat(Animal):\n",
    "    def sound(self):\n",
    "        print(\"Meow!\")\n",
    "\n",
    "class Dog(Animal):\n",
    "    def sound(self):\n",
    "        print(\"Woof!\")\n",
    "\n",
    "animals = [Animal(), Cat(), Dog()]\n",
    "for animal in animals:\n",
    "    animal.sound()\n"
   ]
  },
  {
   "cell_type": "markdown",
   "metadata": {},
   "source": [
    "# Duck Typing (Duck Polymorphism)"
   ]
  },
  {
   "cell_type": "markdown",
   "metadata": {},
   "source": [
    "Duck typing is a concept in Python where the type or the class of an object is determined by its behavior, specifically the presence of certain methods and properties rather than its actual type. If an object can perform the required operations, it is considered as an instance of that type, regardless of its explicit class or inheritance hierarchy."
   ]
  },
  {
   "cell_type": "code",
   "execution_count": 1,
   "metadata": {},
   "outputs": [
    {
     "name": "stdout",
     "output_type": "stream",
     "text": [
      "Driving a car\n",
      "Riding a bike\n"
     ]
    }
   ],
   "source": [
    "class Car:\n",
    "    def drive(self):\n",
    "        print(\"Driving a car\")\n",
    "\n",
    "class Bike:\n",
    "    def drive(self):\n",
    "        print(\"Riding a bike\")\n",
    "\n",
    "# Polymorphic behavior\n",
    "def drive_vehicle(vehicle):\n",
    "    vehicle.drive()\n",
    "\n",
    "car = Car()\n",
    "bike = Bike()\n",
    "\n",
    "drive_vehicle(car)  # Output: \"Driving a car\"\n",
    "drive_vehicle(bike)  # Output: \"Riding a bike\"\n"
   ]
  }
 ],
 "metadata": {
  "kernelspec": {
   "display_name": "base",
   "language": "python",
   "name": "python3"
  },
  "language_info": {
   "codemirror_mode": {
    "name": "ipython",
    "version": 3
   },
   "file_extension": ".py",
   "mimetype": "text/x-python",
   "name": "python",
   "nbconvert_exporter": "python",
   "pygments_lexer": "ipython3",
   "version": "3.10.9"
  },
  "orig_nbformat": 4
 },
 "nbformat": 4,
 "nbformat_minor": 2
}
