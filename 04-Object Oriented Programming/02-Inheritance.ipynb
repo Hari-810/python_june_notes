{
 "cells": [
  {
   "attachments": {},
   "cell_type": "markdown",
   "metadata": {},
   "source": [
    "**Inheritance** is a fundamental concept in object-oriented programming (OOP) that allows a class to inherit properties and methods from another class. The class that inherits is called the \"subclass\" or \"derived class,\" and the class from which it inherits is called the \"superclass\" or \"base class.\" In Python, inheritance is achieved using the syntax class Subclass(BaseClass):.\n",
    "\n",
    "By inheriting from a superclass, the subclass automatically gains access to all the attributes and methods defined in the superclass. This allows code reuse and promotes the concept of hierarchical relationships between classes."
   ]
  },
  {
   "attachments": {},
   "cell_type": "markdown",
   "metadata": {},
   "source": [
    "If inheritance concepts were not available in Python, you would need to implement the desired functionality without utilizing class inheritance. One way to achieve the same logic without inheritance is by using composition or creating separate classes that work together to achieve the desired behavior."
   ]
  },
  {
   "cell_type": "markdown",
   "metadata": {},
   "source": [
    "#### Parent Class:\n",
    "\n",
    "- **Also known as:** Superclass, Base Class, Ancestor Class\n",
    "- **Definition:** A class from which other classes (child classes) inherit properties and behaviors.\n",
    "- **Usage:** The parent class serves as a template or blueprint for the child classes. It defines common attributes and methods that are shared among multiple related classes.\n",
    "\n",
    "#### Child Class:\n",
    "\n",
    "- **Also known as:** Subclass, Derived Class, Inheriting Class\n",
    "- **Definition:** A class that inherits properties and behaviors from another class (the parent class).\n",
    "- **Usage:** The child class inherits all the attributes and methods of the parent class and can also define its own additional attributes and methods.\n",
    "\n",
    "#### Inheritance:\n",
    "\n",
    "- **Definition:** A mechanism in object-oriented programming where a class (the subclass) inherits properties and behaviors from another class (the superclass or base class).\n",
    "- **Usage:** Inheritance allows code reuse and promotes modularity by enabling the creation of new classes that extend or specialize the functionality of existing classes.\n"
   ]
  },
  {
   "cell_type": "code",
   "execution_count": null,
   "metadata": {},
   "outputs": [],
   "source": [
    "# A Python program to demonstrate Single inheritance\n",
    "class Person:\n",
    "\n",
    "    # Constructor\n",
    "    def __init__(self, name, id):\n",
    "        self.name = name\n",
    "        self.id = id\n",
    "\n",
    "    # To check if this person is an employee\n",
    "    def display(self):\n",
    "        print(self.name, self.id)\n",
    "\n",
    "class Emp(Person):\n",
    "\n",
    "    def emp_display(self):\n",
    "        print(\"Emp class called\")\n",
    "\t\n",
    " \n",
    " \n",
    "# Driver code // Base class\n",
    "emp = Person(\"Satyam\", 102) # An Object of Person\n",
    "emp.display()\n",
    "\n",
    "\n",
    "# Derivd code // Child class\n",
    "Emp_details = Emp(\"Mayank\", 103)\n",
    "# calling parent class function\n",
    "Emp_details.display()\n",
    "# Calling child class function\n",
    "Emp_details.emp_display()\n",
    "\n",
    "\n"
   ]
  },
  {
   "cell_type": "code",
   "execution_count": 1,
   "metadata": {},
   "outputs": [
    {
     "name": "stdout",
     "output_type": "stream",
     "text": [
      "DJ False\n",
      "Joe True\n"
     ]
    }
   ],
   "source": [
    "# another program to perform single inheritance\n",
    "class Person():\n",
    " \n",
    "    # Constructor\n",
    "    def __init__(self, name):\n",
    "        self.name = name\n",
    " \n",
    "    # To get name\n",
    "    def getName(self):\n",
    "        return self.name\n",
    " \n",
    "    # To check if this person is an employee\n",
    "    def isEmployee(self):\n",
    "        return False\n",
    " \n",
    " \n",
    "# Inherited or Subclass (Note Person in bracket)\n",
    "class Employee(Person):\n",
    " \n",
    "    # Here we return true\n",
    "    def isEmployee(self):\n",
    "        return True\n",
    " \n",
    " \n",
    "# Driver code\n",
    "emp = Person(\"DJ\")  # An Object of Person\n",
    "print(emp.getName(), emp.isEmployee())\n",
    " \n",
    "emp = Employee(\"Joe\")  # An Object of Employee\n",
    "print(emp.getName(), emp.isEmployee())"
   ]
  },
  {
   "cell_type": "code",
   "execution_count": null,
   "metadata": {},
   "outputs": [],
   "source": [
    "# A Python program to demonstrate Multiple inheritance\n",
    "\n",
    "class Grand_parent:\n",
    "    def grand_parent(self,gp):\n",
    "        self.gp = gp\n",
    "        print(\"Grand Parent method\")\n",
    "        \n",
    "class Parent:\n",
    "    def parent_method(self):\n",
    "        print(\"Parent method\")\n",
    "        \n",
    "class Child(Parent, Grand_parent):\n",
    "    def child_method(self):\n",
    "        print(\"Child Method\")\n",
    "        \n",
    "\n",
    "c = Child()\n",
    "c.parent_method()\n",
    "c.grand_parent(5)\n",
    "c.gp"
   ]
  },
  {
   "cell_type": "code",
   "execution_count": 2,
   "metadata": {},
   "outputs": [
    {
     "name": "stdout",
     "output_type": "stream",
     "text": [
      "Animal says: Some generic sound\n",
      "Dog says: Woof! Woof!\n",
      "Bulldog says: Bark! Bark! I'm a Bulldog!\n",
      "Bulldog special ability: I can be a great guard dog!\n"
     ]
    }
   ],
   "source": [
    "# A Python program to demonstrate Multilevel inheritance\n",
    "\n",
    "\n",
    "# Base class\n",
    "class Animal:\n",
    "    def __init__(self, name):\n",
    "        self.name = name\n",
    "\n",
    "    def make_sound(self):\n",
    "        return \"Some generic sound\"\n",
    "\n",
    "# Intermediate class inheriting from Animal\n",
    "class Dog(Animal):\n",
    "    def make_sound(self):\n",
    "        return \"Woof! Woof!\"\n",
    "\n",
    "# Derived class inheriting from Dog\n",
    "class Bulldog(Dog):\n",
    "    def make_sound(self):\n",
    "        return \"Bark! Bark! I'm a Bulldog!\"\n",
    "\n",
    "    def special_ability(self):\n",
    "        return \"I can be a great guard dog!\"\n",
    "\n",
    "# Create instances and demonstrate multilevel inheritance\n",
    "if __name__ == \"__main__\":\n",
    "    animal = Animal(\"Generic Animal\")\n",
    "    dog = Dog(\"Rex\")\n",
    "    bulldog = Bulldog(\"Rocky\")\n",
    "\n",
    "    print(\"Animal says:\", animal.make_sound())  # Output: Some generic sound\n",
    "    print(\"Dog says:\", dog.make_sound())        # Output: Woof! Woof!\n",
    "    print(\"Bulldog says:\", bulldog.make_sound())  # Output: Bark! Bark! I'm a Bulldog!\n",
    "\n",
    "    # Special ability of Bulldog\n",
    "    print(\"Bulldog special ability:\", bulldog.special_ability())  # Output: I can be a great guard dog!\n"
   ]
  },
  {
   "cell_type": "code",
   "execution_count": 1,
   "metadata": {},
   "outputs": [
    {
     "ename": "SyntaxError",
     "evalue": "incomplete input (2163864379.py, line 1)",
     "output_type": "error",
     "traceback": [
      "\u001b[1;36m  Cell \u001b[1;32mIn[1], line 1\u001b[1;36m\u001b[0m\n\u001b[1;33m    class A:\u001b[0m\n\u001b[1;37m            ^\u001b[0m\n\u001b[1;31mSyntaxError\u001b[0m\u001b[1;31m:\u001b[0m incomplete input\n"
     ]
    }
   ],
   "source": []
  },
  {
   "cell_type": "code",
   "execution_count": null,
   "metadata": {},
   "outputs": [],
   "source": []
  }
 ],
 "metadata": {
  "kernelspec": {
   "display_name": "base",
   "language": "python",
   "name": "python3"
  },
  "language_info": {
   "codemirror_mode": {
    "name": "ipython",
    "version": 3
   },
   "file_extension": ".py",
   "mimetype": "text/x-python",
   "name": "python",
   "nbconvert_exporter": "python",
   "pygments_lexer": "ipython3",
   "version": "3.11.3"
  },
  "orig_nbformat": 4
 },
 "nbformat": 4,
 "nbformat_minor": 2
}
