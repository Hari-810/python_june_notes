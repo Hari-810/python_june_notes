{
 "cells": [
  {
   "cell_type": "code",
   "execution_count": 9,
   "metadata": {},
   "outputs": [
    {
     "name": "stdout",
     "output_type": "stream",
     "text": [
      "Parent\n",
      "Parent\n",
      "Parent  m2\n",
      "child\n"
     ]
    }
   ],
   "source": [
    "class Overriding:\n",
    "    def __init__(self):\n",
    "        print(\"Parent\")\n",
    "    \n",
    "    def m2(self):\n",
    "        print(\"Parent  m2\")\n",
    "    \n",
    "class Children(Overriding):\n",
    "    def m1(self):\n",
    "        super().__init__()\n",
    "        super().m2()\n",
    "        print(\"child\")\n",
    "    \n",
    "obj = Children()\n",
    "obj.m1()  "
   ]
  },
  {
   "cell_type": "code",
   "execution_count": null,
   "metadata": {},
   "outputs": [],
   "source": []
  }
 ],
 "metadata": {
  "kernelspec": {
   "display_name": "base",
   "language": "python",
   "name": "python3"
  },
  "language_info": {
   "codemirror_mode": {
    "name": "ipython",
    "version": 3
   },
   "file_extension": ".py",
   "mimetype": "text/x-python",
   "name": "python",
   "nbconvert_exporter": "python",
   "pygments_lexer": "ipython3",
   "version": "3.10.9"
  },
  "orig_nbformat": 4
 },
 "nbformat": 4,
 "nbformat_minor": 2
}
