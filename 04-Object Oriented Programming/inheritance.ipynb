{
 "cells": [
  {
   "attachments": {},
   "cell_type": "markdown",
   "metadata": {},
   "source": [
    "**Inheritance** is a fundamental concept in object-oriented programming (OOP) that allows a class to inherit properties and methods from another class. The class that inherits is called the \"subclass\" or \"derived class,\" and the class from which it inherits is called the \"superclass\" or \"base class.\" In Python, inheritance is achieved using the syntax class Subclass(BaseClass):.\n",
    "\n",
    "By inheriting from a superclass, the subclass automatically gains access to all the attributes and methods defined in the superclass. This allows code reuse and promotes the concept of hierarchical relationships between classes."
   ]
  },
  {
   "cell_type": "code",
   "execution_count": 2,
   "metadata": {},
   "outputs": [
    {
     "name": "stdout",
     "output_type": "stream",
     "text": [
      "The Toyota engine has started.\n",
      "The Red Toyota car is driving with 4 wheels.\n",
      "The Toyota engine has stopped.\n"
     ]
    }
   ],
   "source": [
    "class Vehicle:\n",
    "    def __init__(self, brand, color):\n",
    "        self.brand = brand\n",
    "        self.color = color\n",
    "\n",
    "    def start_engine(self):\n",
    "        print(f\"The {self.brand} engine has started.\")\n",
    "\n",
    "    def stop_engine(self):\n",
    "        print(f\"The {self.brand} engine has stopped.\")\n",
    "\n",
    "\n",
    "class Car(Vehicle):\n",
    "    def __init__(self, brand, color, num_wheels):\n",
    "        Vehicle.__init__(self, brand, color)\n",
    "        self.num_wheels = num_wheels\n",
    "\n",
    "    def drive(self):\n",
    "        print(f\"The {self.color} {self.brand} car is driving with {self.num_wheels} wheels.\")\n",
    "\n",
    "\n",
    "car = Car(\"Toyota\", \"Red\", 4)\n",
    "car.start_engine()  # Output: The Toyota engine has started.\n",
    "car.drive()        # Output: The Red Toyota car is driving with 4 wheels.\n",
    "car.stop_engine()  # Output: The Toyota engine has stopped.\n"
   ]
  },
  {
   "attachments": {},
   "cell_type": "markdown",
   "metadata": {},
   "source": [
    "If inheritance concepts were not available in Python, you would need to implement the desired functionality without utilizing class inheritance. One way to achieve the same logic without inheritance is by using composition or creating separate classes that work together to achieve the desired behavior."
   ]
  },
  {
   "cell_type": "code",
   "execution_count": null,
   "metadata": {},
   "outputs": [],
   "source": [
    "class Vehicle:\n",
    "    def __init__(self, brand, color):\n",
    "        self.brand = brand\n",
    "        self.color = color\n",
    "\n",
    "    def start_engine(self):\n",
    "        print(f\"The {self.brand} engine has started.\")\n",
    "\n",
    "    def stop_engine(self):\n",
    "        print(f\"The {self.brand} engine has stopped.\")\n",
    "\n",
    "\n",
    "class Car:\n",
    "    def __init__(self, brand, color, num_wheels):\n",
    "        self.vehicle = Vehicle(brand, color)\n",
    "        self.num_wheels = num_wheels\n",
    "\n",
    "    def start_engine(self):\n",
    "        self.vehicle.start_engine()\n",
    "\n",
    "    def stop_engine(self):\n",
    "        self.vehicle.stop_engine()\n",
    "\n",
    "    def drive(self):\n",
    "        print(f\"The {self.vehicle.color} {self.vehicle.brand} car is driving with {self.num_wheels} wheels.\")\n",
    "\n",
    "\n",
    "car = Car(\"Toyota\", \"Red\", 4)\n",
    "car.start_engine()  # Output: The Toyota engine has started.\n",
    "car.drive()        # Output: The Red Toyota car is driving with 4 wheels.\n",
    "car.stop_engine()  # Output: The Toyota engine has stopped.\n"
   ]
  },
  {
   "attachments": {},
   "cell_type": "markdown",
   "metadata": {},
   "source": [
    "Other way "
   ]
  },
  {
   "cell_type": "code",
   "execution_count": 7,
   "metadata": {},
   "outputs": [
    {
     "name": "stdout",
     "output_type": "stream",
     "text": [
      "The  engine has started.\n",
      "The  engine has stopped.\n"
     ]
    }
   ],
   "source": [
    "class Vehicle:\n",
    "    def __init__(self, brand, color):\n",
    "        self.brand = brand\n",
    "        self.color = color\n",
    "\n",
    "    def start_engine(self):\n",
    "        print(f\"The engine has started.\")\n",
    "\n",
    "    def stop_engine(self):\n",
    "        print(f\"The engine has stopped.\")\n",
    "\n",
    "\n",
    "class Car:\n",
    "    def __init__(self, vehicle, num_wheels):\n",
    "        self.vehicle = vehicle\n",
    "        self.num_wheels = num_wheels\n",
    "\n",
    "    def start_engine(self):\n",
    "        print(f\"The  engine has started.\")\n",
    "\n",
    "    def stop_engine(self):\n",
    "        print(f\"The  engine has stopped.\")\n",
    "\n",
    "\n",
    "\n",
    "vehicle = Vehicle(\"Toyota\", \"Red\")\n",
    "car = Car(vehicle, 4)\n",
    "\n",
    "car.start_engine()  # Output: The Toyota engine has started.\n",
    "car.stop_engine()  # Output: The Toyota engine has stopped.\n"
   ]
  },
  {
   "cell_type": "code",
   "execution_count": null,
   "metadata": {},
   "outputs": [],
   "source": []
  }
 ],
 "metadata": {
  "kernelspec": {
   "display_name": "base",
   "language": "python",
   "name": "python3"
  },
  "language_info": {
   "codemirror_mode": {
    "name": "ipython",
    "version": 3
   },
   "file_extension": ".py",
   "mimetype": "text/x-python",
   "name": "python",
   "nbconvert_exporter": "python",
   "pygments_lexer": "ipython3",
   "version": "3.10.9"
  },
  "orig_nbformat": 4
 },
 "nbformat": 4,
 "nbformat_minor": 2
}
