{
  "cells": [
    {
      "attachments": {},
      "cell_type": "markdown",
      "metadata": {
        "id": "GxbNnyet5LmE"
      },
      "source": [
        "## SQLite Database"
      ]
    },
    {
      "cell_type": "code",
      "execution_count": 1,
      "metadata": {},
      "outputs": [],
      "source": [
        "#pip install db-sqlite3    "
      ]
    },
    {
      "cell_type": "code",
      "execution_count": 2,
      "metadata": {
        "ExecuteTime": {
          "end_time": "2018-09-05T14:34:44.266590Z",
          "start_time": "2018-09-05T14:34:44.257617Z"
        },
        "id": "I5SiEhp75LmU"
      },
      "outputs": [],
      "source": [
        "import sqlite3 "
      ]
    },
    {
      "attachments": {},
      "cell_type": "markdown",
      "metadata": {
        "id": "NoUsO8J25LmW"
      },
      "source": [
        "## How to connect with database in Python?"
      ]
    },
    {
      "attachments": {},
      "cell_type": "markdown",
      "metadata": {
        "id": "1OQJ-vBG5LmX"
      },
      "source": [
        "1. Import database module<br /><br />\n",
        "<code>import sqlite3</code><br /><br />\n",
        "\n",
        "2. Establish connection between python program and db<br /><br />\n",
        "<code>con = sqlite3.connect(database)</code><br /><br />\n",
        "\n",
        "3. To execute mysql query and hold result cursor is required<br /><br />\n",
        "<code>cursor = con.cursor()</code><br /><br />\n",
        "\n",
        "4. Execute MySql query with the help of cursor object<br /><br />\n",
        "<code>cursor.execute(query)</code><br /><br />\n",
        "<code>cursor.executemany()</code><br /><br />\n",
        "\n",
        "5. fetch the result from cursor object in case of select query<br /><br />\n",
        "<code>cursor.fetchone()</code><br /><br />\n",
        "<code>cursor.fetchall()</code><br /><br />\n",
        "<code>cursor.fetchmany(n)</code><br /><br />\n",
        "\n",
        "6. commit or rollback changes based on your requirement<br /><br />\n",
        "<code>con.commit()</code><br /><br />\n",
        "<code>con.rollback()</code><br /><br />\n",
        "\n",
        "7. close the resources and disconnect database<br /><br />\n",
        "<code>cursor.close()</code><br /><br />\n",
        "<code>con.close()</code><br /><br />"
      ]
    },
    {
      "attachments": {},
      "cell_type": "markdown",
      "metadata": {
        "id": "3C1QNYfA5LmZ"
      },
      "source": [
        "The main difference between the COMMIT and ROLLBACK statements of SQL is that the execution of COMMIT statement makes all the modification made by the current transaction become permanent. On the other hands, the execution of ROLLBACK erases all the modification made by the current transaction."
      ]
    },
    {
      "cell_type": "code",
      "execution_count": 3,
      "metadata": {
        "ExecuteTime": {
          "end_time": "2018-09-06T04:35:30.955307Z",
          "start_time": "2018-09-06T04:35:30.949322Z"
        },
        "id": "HKY5tEMO5Lma"
      },
      "outputs": [
        {
          "name": "stdout",
          "output_type": "stream",
          "text": [
            "Opened database successfully\n"
          ]
        }
      ],
      "source": [
        "import sqlite3\n",
        "\n",
        "con = sqlite3.connect('database_1.db') \n",
        "\n",
        "print(\"Opened database successfully\")\n",
        "\n",
        "con.close()"
      ]
    },
    {
      "cell_type": "code",
      "execution_count": 4,
      "metadata": {
        "ExecuteTime": {
          "end_time": "2018-09-06T03:41:31.951256Z",
          "start_time": "2018-09-06T03:41:31.945174Z"
        },
        "id": "0lCDRbtC5Lmd"
      },
      "outputs": [
        {
          "name": "stdout",
          "output_type": "stream",
          "text": [
            "<sqlite3.Connection object at 0x00000184820F2300>\n",
            "DONE\n"
          ]
        }
      ],
      "source": [
        "import sqlite3\n",
        "\n",
        "try:\n",
        "    con = sqlite3.connect('database.db')\n",
        "    print(con)\n",
        "    \n",
        "finally:\n",
        "    con.close()\n",
        "    print('DONE')"
      ]
    },
    {
      "attachments": {},
      "cell_type": "markdown",
      "metadata": {
        "id": "VlYKQiHO5Lme"
      },
      "source": [
        "## Creating Database Table"
      ]
    },
    {
      "cell_type": "code",
      "execution_count": 3,
      "metadata": {
        "ExecuteTime": {
          "end_time": "2018-09-06T04:50:12.071994Z",
          "start_time": "2018-09-06T04:50:11.866034Z"
        },
        "id": "j6mUOf8G5Lmf"
      },
      "outputs": [
        {
          "name": "stdout",
          "output_type": "stream",
          "text": [
            "Problem occured:  table employees_new already exists\n",
            "ok\n",
            "DONe\n"
          ]
        }
      ],
      "source": [
        "import sqlite3\n",
        "\n",
        "try:\n",
        "    con = sqlite3.connect('database.db')\n",
        "    \n",
        "    cursor = con.cursor()\n",
        "    \n",
        "    query = 'create table employees_new(eno int(5) primary key, \\\n",
        "    ename varchar(10), eage int(8)) '\n",
        "    \n",
        "    cursor.execute(query) \n",
        "    \n",
        "    print('Table created successfully!!')\n",
        "    con.commit()   \n",
        "\n",
        "except sqlite3.DatabaseError as e:\n",
        "    if con:\n",
        "        con.rollback()\n",
        "        print('Problem occured: ', e)\n",
        "    \n",
        "finally:\n",
        "    if cursor:\n",
        "        cursor.close()\n",
        "        print(\"ok\")\n",
        "    if con:\n",
        "        con.close()\n",
        "        print('DONe')\n",
        "    \n"
      ]
    },
    {
      "attachments": {},
      "cell_type": "markdown",
      "metadata": {
        "id": "1R4OMaFf5Lmg"
      },
      "source": [
        "## Adding new columns"
      ]
    },
    {
      "cell_type": "code",
      "execution_count": 7,
      "metadata": {
        "ExecuteTime": {
          "end_time": "2018-09-06T04:50:13.653707Z",
          "start_time": "2018-09-06T04:50:13.428264Z"
        },
        "id": "FYPgnbbh5Lmh"
      },
      "outputs": [
        {
          "name": "stdout",
          "output_type": "stream",
          "text": [
            "Column added Successfully!!\n",
            "DONE\n"
          ]
        }
      ],
      "source": [
        "import sqlite3\n",
        "\n",
        "try:\n",
        "    con = sqlite3.connect('database.db')\n",
        "    \n",
        "    cursor = con.cursor()\n",
        "    \n",
        "    query = 'alter table employees_new add column eincome int(8)'\n",
        "    \n",
        "    cursor.execute(query)\n",
        "    \n",
        "    print('Column added Successfully!!')\n",
        "    con.commit()\n",
        "    \n",
        "except sqlite3.DatabaseError as e:\n",
        "    if con:\n",
        "        con.rollback()\n",
        "        print('Problem occured: ', e)\n",
        "    \n",
        "finally:\n",
        "    if cursor:\n",
        "        cursor.close()\n",
        "    if con:\n",
        "        con.close()\n",
        "    print('DONE')"
      ]
    },
    {
      "attachments": {},
      "cell_type": "markdown",
      "metadata": {
        "id": "JzKDys1t5Lmi"
      },
      "source": [
        "## Insert Operation"
      ]
    },
    {
      "cell_type": "code",
      "execution_count": 1,
      "metadata": {
        "ExecuteTime": {
          "end_time": "2018-09-06T04:50:15.761693Z",
          "start_time": "2018-09-06T04:50:15.549264Z"
        },
        "id": "NIQE1YSG5Lmj"
      },
      "outputs": [
        {
          "name": "stdout",
          "output_type": "stream",
          "text": [
            "Problem occured:  no such table: employees_new\n",
            "DONE!!\n"
          ]
        }
      ],
      "source": [
        "import sqlite3\n",
        "\n",
        "try:\n",
        "    con = sqlite3.connect('database.db')\n",
        "    \n",
        "    cursor = con.cursor()\n",
        "    \n",
        "    query = \"insert into employees_new(eno, ename, eage, eincome) \\\n",
        "    values(1,'lmn',30,70000)\"\n",
        "    \n",
        "    cursor.execute(query)\n",
        "    \n",
        "    con.commit()\n",
        "    \n",
        "    print('Row inserted Successfully')\n",
        "    \n",
        "except sqlite3.DatabaseError as e:\n",
        "    if con:\n",
        "        con.rollback()\n",
        "        print('Problem occured: ', e)\n",
        "    \n",
        "finally:\n",
        "    if cursor:\n",
        "        cursor.close()\n",
        "        \n",
        "    if con:\n",
        "        con.close()\n",
        "    print('DONE!!')"
      ]
    },
    {
      "cell_type": "code",
      "execution_count": 9,
      "metadata": {
        "ExecuteTime": {
          "end_time": "2018-09-06T04:57:18.249821Z",
          "start_time": "2018-09-06T04:57:18.049364Z"
        },
        "id": "CvedHbzl5Lmk"
      },
      "outputs": [
        {
          "name": "stdout",
          "output_type": "stream",
          "text": [
            "DONE!!\n"
          ]
        }
      ],
      "source": [
        "import sqlite3\n",
        "\n",
        "try:\n",
        "    con = sqlite3.connect('database.db')\n",
        "    \n",
        "    cursor = con.cursor()\n",
        "    \n",
        "    query = \"insert into employees_new(eno, ename, eage, eincome) \\\n",
        "    values(?,?,?,?)\"\n",
        "    \n",
        "    records = [(3, 'xyz', 33, 40000),(4, 'abc', 23, 23000)]\n",
        "    \n",
        "    cursor.executemany(query, records)\n",
        "    \n",
        "    con.commit()\n",
        "    \n",
        "except sqlite3.DatabaseError as e:\n",
        "    if con:\n",
        "        con.rollback()\n",
        "        print('Problem occured: ', e)\n",
        "    \n",
        "finally:\n",
        "    if cursor:\n",
        "        cursor.close()\n",
        "    if con:\n",
        "        con.close()\n",
        "    print('DONE!!')"
      ]
    },
    {
      "attachments": {},
      "cell_type": "markdown",
      "metadata": {
        "id": "_LeEbXVP5Lmm"
      },
      "source": [
        "## Read Operation"
      ]
    },
    {
      "cell_type": "code",
      "execution_count": 10,
      "metadata": {
        "ExecuteTime": {
          "end_time": "2018-09-06T05:35:55.277742Z",
          "start_time": "2018-09-06T05:35:55.267745Z"
        },
        "id": "xXgIVZB-5Lmm"
      },
      "outputs": [
        {
          "name": "stdout",
          "output_type": "stream",
          "text": [
            "Eno: 1, Ename: lmn, Eage: 30, Esal: 70000\n",
            "Eno: 3, Ename: xyz, Eage: 33, Esal: 40000\n",
            "Eno: 4, Ename: abc, Eage: 23, Esal: 23000\n",
            "DONE!!\n"
          ]
        }
      ],
      "source": [
        "import sqlite3\n",
        "\n",
        "try:\n",
        "    con = sqlite3.connect('database.db')\n",
        "    \n",
        "    cursor = con.cursor()\n",
        "    \n",
        "    query = 'select * from employees_new'\n",
        "    \n",
        "    cursor.execute(query)\n",
        "    \n",
        "    data = cursor.fetchall()\n",
        "\n",
        "    for row in data:\n",
        "        print('Eno: {}, Ename: {}, Eage: {}, Esal: {}'\\\n",
        "             .format(row[0], row[1], row[2], row[3]))\n",
        "    \n",
        "except sqlite3.DatabaseError as e:\n",
        "    if con:\n",
        "        con.rollback()\n",
        "        print('Problem occured: ', e)\n",
        "    \n",
        "finally:\n",
        "    if cursor:\n",
        "        cursor.close()\n",
        "    if con:\n",
        "        con.close()\n",
        "    print('DONE!!')"
      ]
    },
    {
      "attachments": {},
      "cell_type": "markdown",
      "metadata": {
        "id": "Ct_QwojT5Lmo"
      },
      "source": [
        "## Update Operation"
      ]
    },
    {
      "attachments": {},
      "cell_type": "markdown",
      "metadata": {},
      "source": [
        "The COMMIT statement lets a user save any changes or alterations on the current transaction. These changes then remain permanent. The ROLLBACK statement lets a user undo all the alterations and changes that occurred on the current transaction after the last COMMIT."
      ]
    },
    {
      "cell_type": "code",
      "execution_count": 14,
      "metadata": {
        "ExecuteTime": {
          "end_time": "2018-09-06T05:34:47.856180Z",
          "start_time": "2018-09-06T05:34:47.650045Z"
        },
        "id": "Q4AVSzel5Lmp"
      },
      "outputs": [
        {
          "name": "stdout",
          "output_type": "stream",
          "text": [
            "Eno: 1, Ename: lmn, Eage: 30, Esal: 70000\n",
            "Eno: 3, Ename: xyz, Eage: 43, Esal: 40000\n",
            "Eno: 4, Ename: abc, Eage: 23, Esal: 23000\n",
            "DONE!!\n"
          ]
        }
      ],
      "source": [
        "import sqlite3\n",
        "\n",
        "try:\n",
        "    con = sqlite3.connect('database.db')\n",
        "    \n",
        "    cursor = con.cursor()\n",
        "    \n",
        "    query = \"update employees_new set eage=eage+10 where ename = 'xyz'\"\n",
        "    \n",
        "    cursor.execute(query)\n",
        "    \n",
        "    con.commit()\n",
        "    \n",
        "    query = 'select * from employees_new'\n",
        "    \n",
        "    cursor.execute(query)\n",
        "    \n",
        "    data = cursor.fetchall()\n",
        "    \n",
        "    for row in data:\n",
        "        print('Eno: {}, Ename: {}, Eage: {}, Esal: {}'\\\n",
        "             .format(row[0], row[1], row[2], row[3]))\n",
        "    \n",
        "    \n",
        "except sqlite3.DatabaseError as e:\n",
        "    if con:\n",
        "        con.rollback()\n",
        "        print('Problem occured: ', e)\n",
        "    \n",
        "finally:\n",
        "    if cursor:\n",
        "        cursor.close()\n",
        "    if con:\n",
        "        con.close()\n",
        "    print('DONE!!')"
      ]
    },
    {
      "attachments": {},
      "cell_type": "markdown",
      "metadata": {
        "id": "bWJw_nW05Lmq"
      },
      "source": [
        "## Delete Operation"
      ]
    },
    {
      "cell_type": "code",
      "execution_count": 15,
      "metadata": {
        "ExecuteTime": {
          "end_time": "2018-09-06T05:35:44.035123Z",
          "start_time": "2018-09-06T05:35:34.052718Z"
        },
        "id": "hl7Z0Fig5Lmr"
      },
      "outputs": [
        {
          "name": "stdout",
          "output_type": "stream",
          "text": [
            "DONE!!\n"
          ]
        }
      ],
      "source": [
        "import sqlite3\n",
        "\n",
        "try:\n",
        "    con = sqlite3.connect('database.db')\n",
        "    \n",
        "    cursor = con.cursor()\n",
        "    \n",
        "    age = input('Enter age: ')\n",
        "    \n",
        "    query = \"delete from employees_new where eage={}\".format(age)\n",
        "    \n",
        "    cursor.execute(query)\n",
        "    \n",
        "    con.commit()\n",
        "    \n",
        "except sqlite3.DatabaseError as e:\n",
        "    if con:\n",
        "        con.rollback()\n",
        "        print('Problem occured: ', e)\n",
        "    \n",
        "finally:\n",
        "    if cursor:\n",
        "        cursor.close()\n",
        "    if con:\n",
        "        con.close()\n",
        "    print('DONE!!')"
      ]
    },
    {
      "cell_type": "code",
      "execution_count": 16,
      "metadata": {},
      "outputs": [
        {
          "name": "stdout",
          "output_type": "stream",
          "text": [
            "Eno: 1, Ename: lmn, Eage: 30, Esal: 70000\n",
            "Eno: 4, Ename: abc, Eage: 23, Esal: 23000\n"
          ]
        }
      ],
      "source": [
        "con = sqlite3.connect('database.db')\n",
        "    \n",
        "cursor = con.cursor()\n",
        "    \n",
        "query = 'select * from employees_new'\n",
        "\n",
        "cursor.execute(query)\n",
        "\n",
        "data = cursor.fetchall()\n",
        "\n",
        "for row in data:\n",
        "    print('Eno: {}, Ename: {}, Eage: {}, Esal: {}'\\\n",
        "\n",
        "            .format(row[0], row[1], row[2], row[3]))"
      ]
    }
  ],
  "metadata": {
    "colab": {
      "name": "Day_17_sqlite.ipynb",
      "provenance": []
    },
    "kernelspec": {
      "display_name": "Python 3.9.7 ('base')",
      "language": "python",
      "name": "python3"
    },
    "language_info": {
      "codemirror_mode": {
        "name": "ipython",
        "version": 3
      },
      "file_extension": ".py",
      "mimetype": "text/x-python",
      "name": "python",
      "nbconvert_exporter": "python",
      "pygments_lexer": "ipython3",
      "version": "3.10.9"
    },
    "toc": {
      "nav_menu": {},
      "number_sections": true,
      "sideBar": true,
      "skip_h1_title": false,
      "title_cell": "Table of Contents",
      "title_sidebar": "Contents",
      "toc_cell": false,
      "toc_position": {},
      "toc_section_display": true,
      "toc_window_display": false
    },
    "varInspector": {
      "cols": {
        "lenName": 16,
        "lenType": 16,
        "lenVar": 40
      },
      "kernels_config": {
        "python": {
          "delete_cmd_postfix": "",
          "delete_cmd_prefix": "del ",
          "library": "var_list.py",
          "varRefreshCmd": "print(var_dic_list())"
        },
        "r": {
          "delete_cmd_postfix": ") ",
          "delete_cmd_prefix": "rm(",
          "library": "var_list.r",
          "varRefreshCmd": "cat(var_dic_list()) "
        }
      },
      "types_to_exclude": [
        "module",
        "function",
        "builtin_function_or_method",
        "instance",
        "_Feature"
      ],
      "window_display": false
    },
    "vscode": {
      "interpreter": {
        "hash": "adbf8baac3fd83462ba4d3cf155237b9080954f140b6d8291bc95ec68b06c358"
      }
    }
  },
  "nbformat": 4,
  "nbformat_minor": 0
}
