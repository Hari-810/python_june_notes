{
 "cells": [
  {
   "cell_type": "code",
   "execution_count": 2,
   "metadata": {},
   "outputs": [
    {
     "name": "stdout",
     "output_type": "stream",
     "text": [
      "Collecting pymongo\n",
      "  Downloading pymongo-4.7.2-cp311-cp311-win_amd64.whl (484 kB)\n",
      "     -------------------------------------- 484.6/484.6 kB 1.8 MB/s eta 0:00:00\n",
      "Collecting dnspython<3.0.0,>=1.16.0\n",
      "  Downloading dnspython-2.6.1-py3-none-any.whl (307 kB)\n",
      "     -------------------------------------- 307.7/307.7 kB 6.3 MB/s eta 0:00:00\n",
      "Installing collected packages: dnspython, pymongo\n",
      "Successfully installed dnspython-2.6.1 pymongo-4.7.2\n",
      "Note: you may need to restart the kernel to use updated packages.\n"
     ]
    },
    {
     "name": "stderr",
     "output_type": "stream",
     "text": [
      "\n",
      "[notice] A new release of pip available: 22.3.1 -> 24.0\n",
      "[notice] To update, run: python.exe -m pip install --upgrade pip\n"
     ]
    }
   ],
   "source": [
    "#pip install pymongo\n"
   ]
  },
  {
   "cell_type": "markdown",
   "metadata": {},
   "source": [
    "# Connection driver"
   ]
  },
  {
   "cell_type": "code",
   "execution_count": 3,
   "metadata": {},
   "outputs": [
    {
     "name": "stdout",
     "output_type": "stream",
     "text": [
      "Inserted document ID: 664b317fe1dc53370a460d1c\n",
      "Found document:\n",
      "{'_id': ObjectId('664b317fe1dc53370a460d1c'), 'name': 'John Doe', 'age': 29, 'email': 'john.doe@example.com'}\n"
     ]
    }
   ],
   "source": [
    "from pymongo import MongoClient\n",
    "\n",
    "# Connection URI\n",
    "uri = \"mongodb://localhost:27017\"\n",
    "\n",
    "# Create a MongoClient\n",
    "client = MongoClient(uri)\n",
    "\n",
    "# Specify the database\n",
    "db = client.my_database\n",
    "\n",
    "# Specify the collection\n",
    "collection = db.my_collection\n",
    "\n",
    "# Insert a document\n",
    "document = {\n",
    "    \"name\": \"John Doe\",\n",
    "    \"age\": 29,\n",
    "    \"email\": \"john.doe@example.com\"\n",
    "}\n",
    "insert_result = collection.insert_one(document)\n",
    "print(f\"Inserted document ID: {insert_result.inserted_id}\")\n",
    "\n",
    "# Query the collection\n",
    "query = {\"name\": \"John Doe\"}\n",
    "result = collection.find_one(query)\n",
    "\n",
    "# Print the result\n",
    "if result:\n",
    "    print(\"Found document:\")\n",
    "    print(result)\n",
    "else:\n",
    "    print(\"No document found with the given query\")\n",
    "\n",
    "# Close the connection\n",
    "client.close()\n"
   ]
  },
  {
   "cell_type": "markdown",
   "metadata": {},
   "source": [
    "**Explanation**:\n",
    "\n",
    "Import the MongoClient: The MongoClient class from the pymongo package is imported to create a connection to the MongoDB server.\n",
    "\n",
    "Connection URI: Define the connection URI. Here, it is set to connect to a MongoDB server running locally on the default port (27017).\n",
    "\n",
    "Create a MongoClient: A MongoClient object is created using the connection URI.\n",
    "\n",
    "Specify the Database: Access the database (my_database) using the client.\n",
    "\n",
    "Specify the Collection: Access the collection (my_collection) within the specified database.\n",
    "\n",
    "Insert a Document: A dictionary representing the document is created and inserted into the collection using insert_one.\n",
    "\n",
    "Query the Collection: A query dictionary is created, and find_one is used to find the first document matching the query.\n",
    "\n",
    "Print the Result: If a matching document is found, it is printed; otherwise, a message indicating no match is printed.\n",
    "\n",
    "Close the Connection: Finally, the connection to the MongoDB server is closed using client.close().\n",
    "\n"
   ]
  },
  {
   "cell_type": "markdown",
   "metadata": {},
   "source": []
  },
  {
   "cell_type": "markdown",
   "metadata": {},
   "source": [
    "# cursors"
   ]
  },
  {
   "cell_type": "markdown",
   "metadata": {},
   "source": [
    "In MongoDB, a cursor is a pointer to the result set of a query. When you execute a query using methods like find(), MongoDB returns a cursor that allows you to iterate over the documents in the result set."
   ]
  },
  {
   "cell_type": "markdown",
   "metadata": {},
   "source": [
    "Understanding Cursors in MongoDB:\n",
    "\n",
    "**Iterating Over Results**:\n",
    "\n",
    "Instead of returning all results at once, MongoDB uses a cursor to fetch the results in batches. This is efficient for handling large datasets as it allows you to process one document at a time.\n",
    "\n",
    "**Cursor Methods**:\n",
    "\n",
    "1. find(): Returns a cursor to the documents that match the query criteria.\n",
    "2. next(): Returns the next document in the cursor.\n",
    "3. forEach(): Applies a JavaScript function to each document in the cursor.\n",
    "4. toArray(): Returns all documents in the cursor as an array.\n",
    "5. limit(): Limits the number of documents returned.\n",
    "6. skip(): Skips a specified number of documents.\n",
    "7. sort(): Sorts the documents in the cursor.\n",
    "\n",
    "**Batch Size**:\n",
    "\n",
    "Cursors fetch documents in batches to improve efficiency. You can specify the batch size using the batchSize() method.\n",
    "\n",
    "**Lifespan**:\n",
    "\n",
    "Cursors have a limited lifespan. By default, they time out after 10 minutes of inactivity. This can be adjusted using the noCursorTimeout option if needed."
   ]
  },
  {
   "cell_type": "code",
   "execution_count": 4,
   "metadata": {},
   "outputs": [],
   "source": [
    "from pymongo import MongoClient\n",
    "\n",
    "# Connection URI\n",
    "uri = \"mongodb://localhost:27017\"\n",
    "\n",
    "# Create a MongoClient\n",
    "client = MongoClient(uri)\n",
    "\n",
    "# Specify the database\n",
    "db = client.my_database\n",
    "\n",
    "# Specify the collection\n",
    "collection = db.my_collection\n",
    "\n",
    "# Query to find all documents\n",
    "cursor = collection.find()\n",
    "\n"
   ]
  },
  {
   "cell_type": "code",
   "execution_count": 5,
   "metadata": {},
   "outputs": [
    {
     "name": "stdout",
     "output_type": "stream",
     "text": [
      "{'_id': ObjectId('664b317fe1dc53370a460d1c'), 'name': 'John Doe', 'age': 29, 'email': 'john.doe@example.com'}\n"
     ]
    }
   ],
   "source": [
    "# Iterate over the cursor\n",
    "for document in cursor:\n",
    "    print(document)\n"
   ]
  },
  {
   "cell_type": "code",
   "execution_count": 6,
   "metadata": {},
   "outputs": [
    {
     "name": "stdout",
     "output_type": "stream",
     "text": [
      "Limited result:\n",
      "{'_id': ObjectId('664b317fe1dc53370a460d1c'), 'name': 'John Doe', 'age': 29, 'email': 'john.doe@example.com'}\n"
     ]
    }
   ],
   "source": [
    "# Using other cursor methods\n",
    "# Limit the number of documents\n",
    "limited_cursor = collection.find().limit(5)\n",
    "print(\"Limited result:\")\n",
    "for doc in limited_cursor:\n",
    "    print(doc)\n",
    "\n",
    "#  limit(5): Limits the result set to 5 documents.   "
   ]
  },
  {
   "cell_type": "code",
   "execution_count": 7,
   "metadata": {},
   "outputs": [
    {
     "name": "stdout",
     "output_type": "stream",
     "text": [
      "Skipped result:\n"
     ]
    }
   ],
   "source": [
    "\n",
    "# Skip documents\n",
    "skipped_cursor = collection.find().skip(2)\n",
    "print(\"Skipped result:\")\n",
    "for doc in skipped_cursor:\n",
    "    print(doc)\n",
    "\n",
    "# skip(2): Skips the first 2 documents in the result set."
   ]
  },
  {
   "cell_type": "code",
   "execution_count": 8,
   "metadata": {},
   "outputs": [
    {
     "name": "stdout",
     "output_type": "stream",
     "text": [
      "Sorted result:\n",
      "{'_id': ObjectId('664b317fe1dc53370a460d1c'), 'name': 'John Doe', 'age': 29, 'email': 'john.doe@example.com'}\n"
     ]
    }
   ],
   "source": [
    "# Sort documents\n",
    "sorted_cursor = collection.find().sort(\"name\", 1)  # 1 for ascending, -1 for descending\n",
    "print(\"Sorted result:\")\n",
    "for doc in sorted_cursor:\n",
    "    print(doc)\n",
    "\n",
    "# sort(\"name\", 1): Sorts the documents by the \"name\" field in ascending order."
   ]
  },
  {
   "cell_type": "code",
   "execution_count": 10,
   "metadata": {},
   "outputs": [],
   "source": [
    "# Close the connection\n",
    "client.close()"
   ]
  }
 ],
 "metadata": {
  "kernelspec": {
   "display_name": "Python 3",
   "language": "python",
   "name": "python3"
  },
  "language_info": {
   "codemirror_mode": {
    "name": "ipython",
    "version": 3
   },
   "file_extension": ".py",
   "mimetype": "text/x-python",
   "name": "python",
   "nbconvert_exporter": "python",
   "pygments_lexer": "ipython3",
   "version": "3.11.3"
  }
 },
 "nbformat": 4,
 "nbformat_minor": 2
}
