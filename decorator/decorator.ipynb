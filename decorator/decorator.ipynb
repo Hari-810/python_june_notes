{
 "cells": [
  {
   "cell_type": "code",
   "execution_count": 2,
   "metadata": {},
   "outputs": [
    {
     "name": "stdout",
     "output_type": "stream",
     "text": [
      "2.0\n"
     ]
    }
   ],
   "source": [
    "# buitin function\n",
    "\n",
    "def div(a,b):\n",
    "    print(a/b)\n",
    "\n",
    "div(4,2)  "
   ]
  },
  {
   "cell_type": "code",
   "execution_count": 3,
   "metadata": {},
   "outputs": [
    {
     "name": "stdout",
     "output_type": "stream",
     "text": [
      "2.0\n"
     ]
    }
   ],
   "source": [
    "# modified buitin function\n",
    "\n",
    "def div(a,b):\n",
    "    if a<b:\n",
    "        a,b = b,a\n",
    "    print(a/b)\n",
    "\n",
    "div(2,4)"
   ]
  },
  {
   "cell_type": "code",
   "execution_count": 2,
   "metadata": {},
   "outputs": [
    {
     "name": "stdout",
     "output_type": "stream",
     "text": [
      "2.0\n"
     ]
    }
   ],
   "source": [
    "# def div(a,b):\n",
    "#     print(a/b)\n",
    "#\n",
    "# div(2,4)\n",
    "\n",
    "\n",
    "# def div(a,b):\n",
    "#     if a<b:\n",
    "#         a,b = b,a\n",
    "#     print(a/b)\n",
    "#\n",
    "# div(2,4)\n",
    "\n",
    "\n",
    "# builtin function\n",
    "def div(a,b):\n",
    "    print(a/b)\n",
    "    \n",
    "    \n",
    "# user defined function\n",
    "def smart_div(func):\n",
    "\n",
    "    def inner(a,b):\n",
    "\n",
    "        if a<b:\n",
    "            a,b = b,a\n",
    "        return func(a,b)\n",
    "\n",
    "    return inner\n",
    "\n",
    "div = smart_div(div)\n",
    "\n",
    "div(4,2)"
   ]
  },
  {
   "cell_type": "code",
   "execution_count": 6,
   "metadata": {},
   "outputs": [
    {
     "name": "stdout",
     "output_type": "stream",
     "text": [
      "2.0\n",
      "Error: Division by zero is not allowed.\n",
      "2.0\n",
      "2.0\n"
     ]
    }
   ],
   "source": [
    "def smart_div(func):\n",
    "    def inner(a, b):\n",
    "        if b == 0:\n",
    "            print(\"Error: Division by zero is not allowed.\")\n",
    "            return None\n",
    "        if a < b:\n",
    "            a, b = b, a\n",
    "        return func(a, b)\n",
    "    return inner\n",
    "\n",
    "@smart_div\n",
    "def div(a, b):\n",
    "    print(a / b)\n",
    "\n",
    "# Test cases\n",
    "div(4, 2)\n",
    "div(2, 0)\n",
    "div(6, 3)\n",
    "div(3, 6)\n"
   ]
  }
 ],
 "metadata": {
  "kernelspec": {
   "display_name": "base",
   "language": "python",
   "name": "python3"
  },
  "language_info": {
   "codemirror_mode": {
    "name": "ipython",
    "version": 3
   },
   "file_extension": ".py",
   "mimetype": "text/x-python",
   "name": "python",
   "nbconvert_exporter": "python",
   "pygments_lexer": "ipython3",
   "version": "3.10.9"
  },
  "orig_nbformat": 4
 },
 "nbformat": 4,
 "nbformat_minor": 2
}
