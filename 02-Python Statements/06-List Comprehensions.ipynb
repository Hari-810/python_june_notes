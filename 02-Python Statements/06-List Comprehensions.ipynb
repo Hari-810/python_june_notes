{
 "cells": [
  {
   "cell_type": "markdown",
   "metadata": {
    "collapsed": true
   },
   "source": [
    "# List Comprehensions\n",
    "\n",
    "In addition to sequence operations and list methods, Python includes a more advanced operation called a list comprehension.\n",
    "\n",
    "List comprehensions allow us to build out lists using a different notation. "
   ]
  },
  {
   "cell_type": "markdown",
   "metadata": {},
   "source": [
    "Basic Syntax:\n",
    "\n",
    "The basic syntax of a list comprehension is as follows"
   ]
  },
  {
   "cell_type": "markdown",
   "metadata": {},
   "source": [
    "           new_list = [expression for item in iterable if condition]"
   ]
  },
  {
   "cell_type": "markdown",
   "metadata": {},
   "source": [
    "\n",
    "\n",
    "expression: The operation or value to include in the new list.\n",
    "\n",
    "item: The variable representing the elements of the iterable (e.g., list, tuple, string).\n",
    "\n",
    "iterable: The original sequence of elements.\n",
    "\n",
    "condition (optional): An optional condition to filter elements."
   ]
  },
  {
   "cell_type": "markdown",
   "metadata": {},
   "source": [
    "# 1. Creating a list of squares:"
   ]
  },
  {
   "cell_type": "code",
   "execution_count": null,
   "metadata": {},
   "outputs": [],
   "source": [
    "squares = [x**2 for x in range(1, 6)]\n",
    "# Output: [1, 4, 9, 16, 25]\n"
   ]
  },
  {
   "cell_type": "markdown",
   "metadata": {},
   "source": [
    "2. Filtering even numbers:"
   ]
  },
  {
   "cell_type": "code",
   "execution_count": 2,
   "metadata": {},
   "outputs": [],
   "source": [
    "evens = [x for x in range(10) if x % 2 == 0]\n",
    "# Output: [0, 2, 4, 6, 8]\n"
   ]
  },
  {
   "cell_type": "markdown",
   "metadata": {},
   "source": [
    "3. Converting temperatures from Celsius to Fahrenheit:"
   ]
  },
  {
   "cell_type": "code",
   "execution_count": 3,
   "metadata": {},
   "outputs": [],
   "source": [
    "celsius_temps = [0, 10, 20, 30, 40]\n",
    "fahrenheit_temps = [(9/5) * temp + 32 for temp in celsius_temps]\n",
    "# Output: [32.0, 50.0, 68.0, 86.0, 104.0]\n"
   ]
  },
  {
   "cell_type": "markdown",
   "metadata": {},
   "source": [
    "4. Extracting odd-length words from a list of words:"
   ]
  },
  {
   "cell_type": "code",
   "execution_count": 4,
   "metadata": {},
   "outputs": [],
   "source": [
    "words = [\"apple\", \"banana\", \"grape\", \"kiwi\", \"orange\"]\n",
    "odd_length_words = [word for word in words if len(word) % 2 != 0]\n",
    "# Output: ['banana', 'kiwi', 'orange']\n"
   ]
  },
  {
   "cell_type": "markdown",
   "metadata": {},
   "source": [
    "5.  create a list where even numbers are doubled and odd numbers are halved from an existing list."
   ]
  },
  {
   "cell_type": "code",
   "execution_count": null,
   "metadata": {},
   "outputs": [],
   "source": [
    "original_list = [1, 2, 3, 4, 5, 6, 7, 8, 9, 10]\n",
    "modified_list = [x * 2 if x % 2 == 0 else x / 2 for x in original_list]\n",
    "print(modified_list)\n",
    "# Output: [0.5, 4, 1.5, 8, 2.5, 12, 3.5, 16, 4.5, 20]\n"
   ]
  },
  {
   "cell_type": "markdown",
   "metadata": {},
   "source": [
    "# Nested List Comprehensions"
   ]
  },
  {
   "cell_type": "markdown",
   "metadata": {},
   "source": [
    "List comprehensions can also be nested to create more complex structures."
   ]
  },
  {
   "cell_type": "markdown",
   "metadata": {},
   "source": [
    "Example: Creating a matrix:"
   ]
  },
  {
   "cell_type": "code",
   "execution_count": 5,
   "metadata": {},
   "outputs": [],
   "source": [
    "matrix = [[i for i in range(3)] for j in range(4)]\n",
    "# Output: [[0, 1, 2], [0, 1, 2], [0, 1, 2], [0, 1, 2]]\n"
   ]
  },
  {
   "cell_type": "markdown",
   "metadata": {},
   "source": [
    "Benefits of List Comprehensions\n",
    "\n",
    "Readability: List comprehensions offer a concise and readable way to create lists.\n",
    "\n",
    "Performance: In many cases, list comprehensions can be more efficient than equivalent for-loops."
   ]
  },
  {
   "cell_type": "markdown",
   "metadata": {},
   "source": [
    "Conclusion\n",
    "\n",
    "List comprehensions are a powerful and expressive feature in Python for creating lists. They provide a succinct syntax for generating lists and can enhance both code readability and performance.\n",
    "\n",
    "Remember to use list comprehensions judiciously, balancing conciseness with readability. They are a valuable tool in Python, especially for one-liners and simple transformations of data."
   ]
  }
 ],
 "metadata": {
  "kernelspec": {
   "display_name": "Python 3.9.0 64-bit",
   "language": "python",
   "name": "python3"
  },
  "language_info": {
   "codemirror_mode": {
    "name": "ipython",
    "version": 3
   },
   "file_extension": ".py",
   "mimetype": "text/x-python",
   "name": "python",
   "nbconvert_exporter": "python",
   "pygments_lexer": "ipython3",
   "version": "3.10.9"
  },
  "vscode": {
   "interpreter": {
    "hash": "898a32a18de38b8e8f8a4f70c1b651867488d5b078cf19a2942249b7e062bc27"
   }
  }
 },
 "nbformat": 4,
 "nbformat_minor": 1
}
