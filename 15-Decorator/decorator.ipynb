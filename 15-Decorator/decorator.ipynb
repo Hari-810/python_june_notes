{
 "cells": [
  {
   "cell_type": "markdown",
   "metadata": {},
   "source": [
    "In Python, a decorator is a design pattern that allows you to modify or extend the behavior of a callable object (functions, methods, or classes) without permanently modifying the object itself. Decorators are often used to add additional functionality to functions or methods without altering their core implementation."
   ]
  },
  {
   "cell_type": "markdown",
   "metadata": {},
   "source": [
    "Decorators are implemented using the \"@\" symbol followed by the decorator function or class name, placed before the definition of the function or method that you want to decorate."
   ]
  },
  {
   "cell_type": "markdown",
   "metadata": {},
   "source": [
    " Decorators enable you to easily add or modify behavior of functions or methods without altering their original implementation. This makes it convenient to extend the functionality of existing code without modifying its core logic."
   ]
  },
  {
   "cell_type": "code",
   "execution_count": 2,
   "metadata": {},
   "outputs": [
    {
     "name": "stdout",
     "output_type": "stream",
     "text": [
      "Something is happening before the function is called.\n",
      "Hello!\n",
      "Something is happening after the function is called.\n"
     ]
    }
   ],
   "source": [
    "# Define a decorator function called my_decorator, which takes a function 'func' as its argument\n",
    "def my_decorator(func):\n",
    "    # Define a nested function called wrapper, which will be returned as the modified function\n",
    "    def wrapper():\n",
    "        # Add some behavior before calling the original function\n",
    "        print(\"Something is happening before the function is called.\")\n",
    "        # Call the original function passed as 'func'\n",
    "        func()\n",
    "        # Add some behavior after calling the original function\n",
    "        print(\"Something is happening after the function is called.\")\n",
    "    # Return the wrapper function, which has the added behavior\n",
    "    return wrapper\n",
    "\n",
    "# Decorate the say_hello function by applying the my_decorator\n",
    "@my_decorator\n",
    "def say_hello():\n",
    "    # Define the original function say_hello\n",
    "    print(\"Hello!\")\n",
    "\n",
    "# Call the decorated say_hello function\n",
    "say_hello()\n"
   ]
  },
  {
   "cell_type": "markdown",
   "metadata": {},
   "source": [
    "In this example, `my_decorator` is a decorator function that takes another function (`func`) as its argument, and returns a new function (`wrapper`) that adds some behavior before and after calling `func`. By decorating `say_hello` with `@my_decorator`, the `say_hello` function's behavior is modified to include the additional functionality defined in `my_decorator`.\n"
   ]
  },
  {
   "cell_type": "markdown",
   "metadata": {},
   "source": [
    "# example\n"
   ]
  },
  {
   "cell_type": "code",
   "execution_count": 3,
   "metadata": {},
   "outputs": [
    {
     "name": "stdout",
     "output_type": "stream",
     "text": [
      "2.0\n"
     ]
    }
   ],
   "source": [
    "# def div(a,b):\n",
    "#     print(a/b)\n",
    "#\n",
    "# div(2,4)\n",
    "\n",
    "\n",
    "# def smart_div(a,b):\n",
    "#     if a<b:\n",
    "#         a,b = b,a\n",
    "#     print(a/b)\n",
    "#\n",
    "# div(2,4)\n",
    "\n",
    "\n",
    "# (Assuming)Define a built-in function named div, which takes two arguments 'a' and 'b' and prints the result of dividing 'a' by 'b'\n",
    "def div(a, b):\n",
    "    print(a / b)\n",
    "\n",
    "# Define a user-defined function named smart_div, which takes a function 'func' as its argument\n",
    "def smart_div(func):\n",
    "    # Define a nested function named inner, which takes two arguments 'a' and 'b'\n",
    "    def inner(a, b):\n",
    "        # Check if 'a' is less than 'b'\n",
    "        if a < b:\n",
    "            # Swap 'a' and 'b' if 'a' is less than 'b'\n",
    "            a, b = b, a\n",
    "        # Call the original function 'func' with the modified arguments\n",
    "        return func(a, b)\n",
    "    # Return the inner function\n",
    "    return inner\n",
    "\n",
    "# Decorate the div function by applying the smart_div decorator\n",
    "div = smart_div(div)\n",
    "\n",
    "# Call the decorated div function with arguments 4 and 2\n",
    "div(4, 2)\n"
   ]
  },
  {
   "cell_type": "markdown",
   "metadata": {},
   "source": [
    "Explanation\n",
    "\n",
    "1. **`div` Function Definition:** \n",
    "    - Define a built-in function named `div` that takes two arguments 'a' and 'b' and prints the result of dividing 'a' by 'b'.\n",
    "\n",
    "2. **`smart_div` Function Definition (Decorator):**\n",
    "    - Define a user-defined function named `smart_div` that takes a function `func` as its argument.\n",
    "\n",
    "3. **Inner Function `inner`:**\n",
    "    - Define a nested function named `inner`, which takes two arguments 'a' and 'b'.\n",
    "    - Check if 'a' is less than 'b'.\n",
    "    - If 'a' is less than 'b', swap 'a' and 'b'.\n",
    "    - Call the original function `func` with the modified arguments.\n",
    "    - Return the result.\n",
    "\n",
    "4. **Decorating the `div` Function:**\n",
    "    - Decorate the `div` function by applying the `smart_div` decorator, modifying its behavior.\n",
    "\n",
    "5. **Calling the Decorated `div` Function:**\n",
    "    - Call the decorated `div` function with arguments 4 and 2.\n",
    "\n"
   ]
  },
  {
   "cell_type": "code",
   "execution_count": 4,
   "metadata": {},
   "outputs": [
    {
     "name": "stdout",
     "output_type": "stream",
     "text": [
      "2.0\n",
      "Error: Division by zero is not allowed.\n",
      "2.0\n",
      "2.0\n"
     ]
    }
   ],
   "source": [
    "# Define a decorator function named smart_div that takes a function func as its argument\n",
    "def smart_div(func):\n",
    "    # Define a nested function named inner, which takes two arguments 'a' and 'b'\n",
    "    def inner(a, b):\n",
    "        # Check if 'b' is equal to 0, if so, print an error message and return None\n",
    "        if b == 0:\n",
    "            print(\"Error: Division by zero is not allowed.\")\n",
    "            return None\n",
    "        # Check if 'a' is less than 'b', if true, swap 'a' and 'b'\n",
    "        if a < b:\n",
    "            a, b = b, a\n",
    "        # Call the original function func with the modified arguments and return the result\n",
    "        return func(a, b)\n",
    "    # Return the inner function\n",
    "    return inner\n",
    "\n",
    "# Decorate the div function by applying the smart_div decorator\n",
    "@smart_div\n",
    "def div(a, b):\n",
    "    # Define the original function div, which prints the result of dividing 'a' by 'b'\n",
    "    print(a / b)\n",
    "\n",
    "# Test cases\n",
    "# Call the decorated div function with various arguments to test its behavior\n",
    "div(4, 2)  # Output: 2.0 (4 divided by 2)\n",
    "div(2, 0)  # Output: Error: Division by zero is not allowed. (attempt to divide by zero)\n",
    "div(6, 3)  # Output: 2.0 (6 divided by 3)\n",
    "div(3, 6)  # Output: 0.5 (3 divided by 6 after swapping arguments)\n"
   ]
  },
  {
   "cell_type": "markdown",
   "metadata": {},
   "source": [
    "Explanation\n",
    "\n",
    "1. **`smart_div` Function Definition (Decorator):**\n",
    "    - Define a decorator function named `smart_div` that takes a function `func` as its argument.\n",
    "\n",
    "2. **Inner Function `inner`:**\n",
    "    - Define a nested function named `inner`, which takes two arguments 'a' and 'b'.\n",
    "    - Check if 'b' is equal to 0. If so, print an error message for division by zero and return None.\n",
    "    - Check if 'a' is less than 'b'. If true, swap 'a' and 'b'.\n",
    "    - Call the original function `func` with the modified arguments.\n",
    "    - Return the result.\n",
    "\n",
    "3. **Decorating the `div` Function:**\n",
    "    - Decorate the `div` function by applying the `smart_div` decorator, modifying its behavior.\n",
    "\n",
    "4. **Test Cases:**\n",
    "    - Call the decorated `div` function with various arguments to test its behavior:\n",
    "        - `div(4, 2)`: 4 divided by 2, should result in 2.\n",
    "        - `div(2, 0)`: Attempt to divide by zero, which triggers the division by zero error message.\n",
    "        - `div(6, 3)`: 6 divided by 3, should result in 2.\n",
    "        - `div(3, 6)`: 3 divided by 6, arguments are swapped due to the condition, should result in 0.5.\n",
    "\n"
   ]
  },
  {
   "cell_type": "markdown",
   "metadata": {},
   "source": []
  }
 ],
 "metadata": {
  "kernelspec": {
   "display_name": "base",
   "language": "python",
   "name": "python3"
  },
  "language_info": {
   "codemirror_mode": {
    "name": "ipython",
    "version": 3
   },
   "file_extension": ".py",
   "mimetype": "text/x-python",
   "name": "python",
   "nbconvert_exporter": "python",
   "pygments_lexer": "ipython3",
   "version": "3.10.9"
  },
  "orig_nbformat": 4
 },
 "nbformat": 4,
 "nbformat_minor": 2
}
